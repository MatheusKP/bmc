{
 "cells": [
  {
   "cell_type": "markdown",
   "metadata": {},
   "source": [
    "# Task 13 - Knee angle"
   ]
  },
  {
   "cell_type": "markdown",
   "metadata": {},
   "source": [
    "Implement the knee angle changes for isometric contraction, using the model of Nigg and Herzog (2003)"
   ]
  },
  {
   "cell_type": "markdown",
   "metadata": {},
   "source": [
    "## Simulation - Series"
   ]
  },
  {
   "cell_type": "code",
   "execution_count": 1,
   "metadata": {},
   "outputs": [],
   "source": [
    "def TendonForce (Lnorm_see,Lslack, Lce_o):\n",
    "    '''\n",
    "    Compute tendon force\n",
    "\n",
    "    Inputs:\n",
    "        Lnorm_see = normalized tendon length\n",
    "        Lslack = slack length of the tendon (non-normalized)\n",
    "        Lce_o = optimal length of the fiber\n",
    "    \n",
    "    Output:\n",
    "        Fnorm_tendon = normalized tendon force\n",
    "        \n",
    "    '''\n",
    "    Umax = .04\n",
    "    \n",
    "    if Lnorm_see<Lslack/Lce_o: \n",
    "        Fnorm_tendon = 0\n",
    "    else: \n",
    "        Fnorm_tendon = ((Lnorm_see-Lslack/Lce_o)/(Umax*Lslack/Lce_o))**2\n",
    "        \n",
    "    return Fnorm_tendon"
   ]
  },
  {
   "cell_type": "code",
   "execution_count": 2,
   "metadata": {},
   "outputs": [],
   "source": [
    "def ParallelElementForce (Lnorm_ce):\n",
    "    '''\n",
    "    Compute parallel element force\n",
    "    \n",
    "    Inputs:\n",
    "        Lnorm_ce = normalized contractile element length\n",
    "    \n",
    "    Output:\n",
    "        Fnorm_kpe = normalized parallel element force\n",
    "\n",
    "    '''\n",
    "    Umax = 1\n",
    "    \n",
    "    if Lnorm_ce< 1: \n",
    "        Fnorm_kpe = 0\n",
    "    else: \n",
    "        Fnorm_kpe = ((Lnorm_ce-1)/(Umax*1))**2 \n",
    "        \n",
    "    return Fnorm_kpe"
   ]
  },
  {
   "cell_type": "code",
   "execution_count": 3,
   "metadata": {},
   "outputs": [],
   "source": [
    "def ForceLengthCurve (Lnorm_ce,width):\n",
    "    F0 = max([0, (1-((Lnorm_ce-1)/width)**2)])\n",
    "    return F0"
   ]
  },
  {
   "cell_type": "code",
   "execution_count": 4,
   "metadata": {},
   "outputs": [],
   "source": [
    "def ContractileElementDot(F0, Fnorm_CE, a):\n",
    "    \n",
    "    '''\n",
    "    Compute Contractile Element Derivative\n",
    "\n",
    "    Inputs:\n",
    "        F0 = Force-Length Curve\n",
    "        Fce = Contractile element force\n",
    "    \n",
    "    Output:\n",
    "        Lnorm_cedot = normalized contractile element length derivative\n",
    "\n",
    "    '''\n",
    "    \n",
    "    FMlen = 1.4 # young adults\n",
    "    Vmax = 10  # young adults\n",
    "    Af = 0.25  #force-velocity shape factor\n",
    "    \n",
    "    Fnorm_CE = min(FMlen*a*F0 - 0.001, Fnorm_CE)\n",
    "    \n",
    "    if  Fnorm_CE > a*F0:\n",
    "        \n",
    "        b = ((2 + 2/Af)*(a*F0*FMlen - Fnorm_CE))/(FMlen-1)\n",
    "        \n",
    "    elif Fnorm_CE <= a*F0:\n",
    "        \n",
    "        b = a*F0 + Fnorm_CE/Af\n",
    "    \n",
    "    Lnorm_cedot = (.25 + .75*a)*Vmax*((Fnorm_CE - a*F0)/b)\n",
    "    \n",
    "    return Lnorm_cedot"
   ]
  },
  {
   "cell_type": "code",
   "execution_count": 5,
   "metadata": {},
   "outputs": [],
   "source": [
    "def ContractileElementForce(Fnorm_tendon,Fnorm_kpe, alpha):\n",
    "    '''\n",
    "    Compute Contractile Element force\n",
    "\n",
    "    Inputs:\n",
    "        Fnorm_tendon = normalized tendon force\n",
    "        Fnorm_kpe = normalized parallel element force\n",
    "    \n",
    "    Output:\n",
    "        Fnorm_CE = normalized contractile element force\n",
    "    '''\n",
    "    Fnorm_CE = Fnorm_tendon/np.cos(alpha) - Fnorm_kpe\n",
    "    return Fnorm_CE"
   ]
  },
  {
   "cell_type": "code",
   "execution_count": 6,
   "metadata": {},
   "outputs": [],
   "source": [
    "def tendonLength(Lm,Lce_o,Lnorm_ce, alpha):\n",
    "    '''\n",
    "    Compute tendon length\n",
    "    \n",
    "    Inputs:\n",
    "        Lm = \n",
    "        Lce_o = optimal length of the fiber\n",
    "        Lnorm_ce = normalized contractile element length\n",
    "    \n",
    "    Output:\n",
    "        Lnorm_see = normalized tendon length   \n",
    "    '''\n",
    "    Lnorm_see = Lm/Lce_o - Lnorm_ce*np.cos(alpha)\n",
    "    \n",
    "    return Lnorm_see"
   ]
  },
  {
   "cell_type": "code",
   "execution_count": 7,
   "metadata": {},
   "outputs": [],
   "source": [
    "def activation(a,u,dt):\n",
    "    '''\n",
    "    Compute activation\n",
    "    \n",
    "    Inputs:\n",
    "        u = idealized muscle excitation signal, 0 <= u <= 1\n",
    "        a = muscular activation\n",
    "        dt = time step\n",
    "    \n",
    "    Output:\n",
    "        a = muscular activation  \n",
    "    '''\n",
    "    \n",
    "    tau_deact = 50e-3 #young adults\n",
    "    tau_act = 15e-3\n",
    "    \n",
    "    if u>a:\n",
    "        tau_a = tau_act*(0.5+1.5*a)\n",
    "    elif u <=a:\n",
    "        tau_a = tau_deact/(0.5+1.5*a)\n",
    "    \n",
    "    #-------\n",
    "    dadt = (u-a)/tau_a # euler\n",
    "    \n",
    "    a += dadt*dt\n",
    "    #-------\n",
    "    return a"
   ]
  },
  {
   "cell_type": "code",
   "execution_count": 8,
   "metadata": {},
   "outputs": [],
   "source": [
    "def TotalMomentKneeJoint(Rf, Fnorm_tendon, Fmax, m, g, Rcm, phi):\n",
    "    M = Rf * Fnorm_tendon * Fmax - m*g * Rcm * np.sin(phi - np.pi/2)\n",
    "    return M"
   ]
  },
  {
   "cell_type": "markdown",
   "metadata": {},
   "source": [
    "## Simulation - Parallel"
   ]
  },
  {
   "cell_type": "code",
   "execution_count": 9,
   "metadata": {},
   "outputs": [],
   "source": [
    "import numpy as np\n",
    "import matplotlib.pyplot as plt\n",
    "import math\n",
    "\n",
    "\n",
    "%matplotlib inline"
   ]
  },
  {
   "cell_type": "code",
   "execution_count": 10,
   "metadata": {},
   "outputs": [],
   "source": [
    "# Muscle properties\n",
    "Lslack = .223\n",
    "Umax = .04\n",
    "Lce_o = .093 #optmal l\n",
    "width = .63*Lce_o\n",
    "Fmax = 7400\n",
    "a = 0\n",
    "u = 1\n",
    "#b = .25*10#*Lce_o \n",
    "\n",
    "# Parameters for the equation of motion\n",
    "m = 10; g = 9.81;\n",
    "Rcm = 0.264;\n",
    "I = 0.1832;\n",
    "Rf = 0.033;\n",
    "\n",
    "# Initial conditions\n",
    "Lnorm_ce = .087/Lce_o #norm\n",
    "t0 = 0\n",
    "tf = 0.2\n",
    "h = 5e-6;\n",
    "phi = np.pi/2; phid = 0.0;\n",
    "\n",
    "# Initialization\n",
    "t = np.arange(t0,tf,h)\n",
    "F = np.empty(t.shape)\n",
    "Fkpe = np.empty(t.shape)\n",
    "FiberLen = np.empty(t.shape)\n",
    "TendonLen = np.empty(t.shape)\n",
    "a_dynamics = np.empty(t.shape)\n",
    "Phi = np.empty(t.shape)"
   ]
  },
  {
   "cell_type": "code",
   "execution_count": 11,
   "metadata": {},
   "outputs": [],
   "source": [
    "phi = np.pi/2; phid = 0.0;\n",
    "\n",
    "#Normalizing\n",
    "alpha = 0*np.pi/180\n",
    "\n",
    "\n",
    "for i in range (len(t)):\n",
    "    \n",
    "    Lm = .31 - (phi-np.pi/2)*Rf;\n",
    "    #shortening at 4cm/s\n",
    "    u = 1#0.7 + 0.2*np.sin(np.pi*t[i])\n",
    "    \n",
    "    Lnorm_see = tendonLength(Lm,Lce_o,Lnorm_ce, alpha)\n",
    "\n",
    "    Fnorm_tendon = TendonForce (Lnorm_see,Lslack, Lce_o) \n",
    "    \n",
    "    Fnorm_kpe = ParallelElementForce (Lnorm_ce)     \n",
    "        \n",
    "    #isometric force at Lce from CE force length relationship\n",
    "    F0 = ForceLengthCurve (Lnorm_ce,width)\n",
    "    \n",
    "    Fnorm_CE = ContractileElementForce(Fnorm_tendon,Fnorm_kpe, alpha) #Fnorm_CE = ~Fm\n",
    "    \n",
    "    \n",
    "    \n",
    "    #computing activation\n",
    "    a = activation(a,u,h)\n",
    "    \n",
    "    #calculate CE velocity from Hill's equation    \n",
    "    Lnorm_cedot = ContractileElementDot(F0, Fnorm_CE,a)\n",
    "    \n",
    "    M = TotalMomentKneeJoint(Rf, Fnorm_tendon, Fmax, m, g, Rcm, phi) # total moment with respect to knee joint\n",
    "    phidd = M/I; # angular acceleration\n",
    "    \n",
    "    # --- Euler integration step\n",
    "    Lnorm_ce = Lnorm_ce + h*Lnorm_cedot\n",
    "    \n",
    "    phid = phid + phidd * h\n",
    "    \n",
    "    phi = phi + phid * h\n",
    "    \n",
    "    \n",
    "\n",
    "    \n",
    "    F[i] = Fnorm_tendon*Fmax\n",
    "    Fkpe[i] = Fnorm_kpe*Fmax\n",
    "    FiberLen[i] = Lnorm_ce*Lce_o\n",
    "    TendonLen[i] = Lnorm_see*Lce_o\n",
    "    a_dynamics[i] = a\n",
    "    \n",
    "    Phi[i] = phi\n",
    "    "
   ]
  },
  {
   "cell_type": "markdown",
   "metadata": {},
   "source": [
    "## Plots "
   ]
  },
  {
   "cell_type": "code",
   "execution_count": 12,
   "metadata": {
    "scrolled": false
   },
   "outputs": [
    {
     "data": {
      "text/plain": [
       "Text(0,0.5,'Knee Angle [degrees]')"
      ]
     },
     "execution_count": 12,
     "metadata": {},
     "output_type": "execute_result"
    },
    {
     "data": {
      "image/png": "[encoded data removed]",
      "text/plain": [
       "<Figure size 432x432 with 1 Axes>"
      ]
     },
     "metadata": {},
     "output_type": "display_data"
    }
   ],
   "source": [
    "fig, ax = plt.subplots(1, 1, figsize=(6,6), sharex=True)\n",
    "\n",
    "ax.plot(t,Phi*180/np.pi,c='magenta')\n",
    "plt.grid()\n",
    "plt.xlabel('time [s]')\n",
    "plt.ylabel('Knee Angle [degrees]')\n",
    "\n"
   ]
  },
  {
   "cell_type": "code",
   "execution_count": 13,
   "metadata": {},
   "outputs": [
    {
     "data": {
      "text/plain": [
       "Text(0,0.5,'Force (N)')"
      ]
     },
     "execution_count": 13,
     "metadata": {},
     "output_type": "execute_result"
    },
    {
     "data": {
      "image/png": "[encoded data removed]",
      "text/plain": [
       "<Figure size 432x432 with 1 Axes>"
      ]
     },
     "metadata": {},
     "output_type": "display_data"
    }
   ],
   "source": [
    "fig, ax = plt.subplots(1, 1, figsize=(6,6), sharex=True)\n",
    "\n",
    "ax.plot(t,F,c='red')\n",
    "plt.grid()\n",
    "plt.xlabel('time (s)')\n",
    "plt.ylabel('Force (N)')"
   ]
  },
  {
   "cell_type": "code",
   "execution_count": 14,
   "metadata": {
    "scrolled": false
   },
   "outputs": [
    {
     "data": {
      "text/plain": [
       "Text(0,0.5,'Length (m)')"
      ]
     },
     "execution_count": 14,
     "metadata": {},
     "output_type": "execute_result"
    },
    {
     "data": {
      "image/png": "[encoded data removed]",
      "text/plain": [
       "<Figure size 432x432 with 1 Axes>"
      ]
     },
     "metadata": {},
     "output_type": "display_data"
    },
    {
     "data": {
      "image/png": "[encoded data removed]",
      "text/plain": [
       "<Figure size 864x288 with 3 Axes>"
      ]
     },
     "metadata": {},
     "output_type": "display_data"
    }
   ],
   "source": [
    "fig, ax = plt.subplots(1, 1, figsize=(6,6), sharex=True)\n",
    "\n",
    "ax.plot(t,FiberLen, label = 'fiber')\n",
    "ax.plot(t,TendonLen, label = 'tendon')\n",
    "plt.grid()\n",
    "plt.xlabel('time (s)')\n",
    "plt.ylabel('Length (m)')\n",
    "ax.legend(loc='best')\n",
    "\n",
    "\n",
    "fig, ax = plt.subplots(1, 3, figsize=(12,4), sharex=True, sharey=True)\n",
    "ax[0].plot(t,FiberLen, label = 'fiber')\n",
    "plt.grid()\n",
    "ax[1].plot(t,TendonLen, label = 'tendon')\n",
    "plt.grid()\n",
    "ax[2].plot(t,FiberLen + TendonLen, label = 'muscle (tendon + fiber)')\n",
    "plt.grid()\n",
    "\n",
    "ax[1].set_xlabel('time (s)')\n",
    "ax[0].set_ylabel('Length (m)')\n"
   ]
  },
  {
   "cell_type": "code",
   "execution_count": null,
   "metadata": {},
   "outputs": [],
   "source": []
  }
 ],
 "metadata": {
  "kernelspec": {
   "display_name": "Python 3",
   "language": "python",
   "name": "python3"
  },
  "language_info": {
   "codemirror_mode": {
    "name": "ipython",
    "version": 3
   },
   "file_extension": ".py",
   "mimetype": "text/x-python",
   "name": "python",
   "nbconvert_exporter": "python",
   "pygments_lexer": "ipython3",
   "version": "3.6.5"
  },
  "latex_envs": {
   "LaTeX_envs_menu_present": true,
   "autoclose": false,
   "autocomplete": true,
   "bibliofile": "biblio.bib",
   "cite_by": "apalike",
   "current_citInitial": 1,
   "eqLabelWithNumbers": true,
   "eqNumInitial": 1,
   "hotkeys": {
    "equation": "Ctrl-E",
    "itemize": "Ctrl-I"
   },
   "labels_anchors": false,
   "latex_user_defs": false,
   "report_style_numbering": false,
   "user_envs_cfg": false
  },
  "nbTranslate": {
   "displayLangs": [
    "*"
   ],
   "hotkey": "alt-t",
   "langInMainMenu": true,
   "sourceLang": "en",
   "targetLang": "fr",
   "useGoogleTranslate": true
  }
 },
 "nbformat": 4,
 "nbformat_minor": 2
}
