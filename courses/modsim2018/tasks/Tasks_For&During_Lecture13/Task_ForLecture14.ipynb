{
 "cells": [
  {
   "cell_type": "code",
   "execution_count": 1,
   "metadata": {},
   "outputs": [],
   "source": [
    "import numpy as np\n",
    "import pandas as pd\n",
    "import matplotlib.pyplot as plt\n",
    "import math\n",
    "\n",
    "%matplotlib notebook"
   ]
  },
  {
   "cell_type": "markdown",
   "metadata": {},
   "source": [
    "### Functions"
   ]
  },
  {
   "cell_type": "code",
   "execution_count": 2,
   "metadata": {},
   "outputs": [],
   "source": [
    "def TendonForce (Lnorm_see,Lslack, Lce_o):\n",
    "    '''\n",
    "    Compute tendon force\n",
    "\n",
    "    Inputs:\n",
    "        Lnorm_see = normalized tendon length\n",
    "        Lslack = slack length of the tendon (non-normalized)\n",
    "        Lce_o = optimal length of the fiber\n",
    "    \n",
    "    Output:\n",
    "        Fnorm_tendon = normalized tendon force\n",
    "        \n",
    "    '''\n",
    "    Umax = .04\n",
    "    \n",
    "    if Lnorm_see<Lslack/Lce_o: \n",
    "        Fnorm_tendon = 0\n",
    "    else: \n",
    "        Fnorm_tendon = ((Lnorm_see-Lslack/Lce_o)/(Umax*Lslack/Lce_o))**2\n",
    "        \n",
    "    return Fnorm_tendon"
   ]
  },
  {
   "cell_type": "code",
   "execution_count": 3,
   "metadata": {},
   "outputs": [],
   "source": [
    "def ParallelElementForce (Lnorm_ce):\n",
    "    '''\n",
    "    Compute parallel element force\n",
    "    \n",
    "    Inputs:\n",
    "        Lnorm_ce = normalized contractile element length\n",
    "    \n",
    "    Output:\n",
    "        Fnorm_kpe = normalized parallel element force\n",
    "\n",
    "    '''\n",
    "    Umax = 1\n",
    "    \n",
    "    if Lnorm_ce< 1: \n",
    "        Fnorm_kpe = 0\n",
    "    else: \n",
    "        Fnorm_kpe = ((Lnorm_ce-1)/(Umax*1))**2 \n",
    "        \n",
    "    return Fnorm_kpe"
   ]
  },
  {
   "cell_type": "code",
   "execution_count": 4,
   "metadata": {},
   "outputs": [],
   "source": [
    "def ForceLengthCurve (Lnorm_ce,width):\n",
    "    \n",
    "    F0 = max([0, (1-((Lnorm_ce-1)/width)**2)])\n",
    "    \n",
    "    return F0"
   ]
  },
  {
   "cell_type": "code",
   "execution_count": 5,
   "metadata": {},
   "outputs": [],
   "source": [
    "def ContractileElementDot(F0, Fnorm_CE, a):\n",
    "    \n",
    "    '''\n",
    "    Compute Contractile Element Derivative\n",
    "\n",
    "    Inputs:\n",
    "        F0 = Force-Length Curve\n",
    "        Fce = Contractile element force\n",
    "    \n",
    "    Output:\n",
    "        Lnorm_cedot = normalized contractile element length derivative\n",
    "\n",
    "    '''\n",
    "    \n",
    "    FMlen = 1.4 # young adults\n",
    "    Vmax = 10  # young adults\n",
    "    Af = 0.25  #force-velocity shape factor\n",
    "    \n",
    "    Fnorm_CE = min(FMlen*a*F0 - 0.001, Fnorm_CE)\n",
    "    \n",
    "    if  Fnorm_CE > a*F0:\n",
    "        \n",
    "        b = ((2 + 2/Af)*(a*F0*FMlen - Fnorm_CE))/(FMlen-1)\n",
    "        \n",
    "    elif Fnorm_CE <= a*F0:\n",
    "        \n",
    "        b = a*F0 + Fnorm_CE/Af\n",
    "    \n",
    "    Lnorm_cedot = (.25 + .75*a)*Vmax*((Fnorm_CE - a*F0)/b)\n",
    "    \n",
    "    return Lnorm_cedot"
   ]
  },
  {
   "cell_type": "code",
   "execution_count": 6,
   "metadata": {},
   "outputs": [],
   "source": [
    "def ContractileElementForce(Fnorm_tendon,Fnorm_kpe, alpha):\n",
    "    '''\n",
    "    Compute Contractile Element force\n",
    "\n",
    "    Inputs:\n",
    "        Fnorm_tendon = normalized tendon force\n",
    "        Fnorm_kpe = normalized parallel element force\n",
    "    \n",
    "    Output:\n",
    "        Fnorm_CE = normalized contractile element force\n",
    "    '''\n",
    "    Fnorm_CE = Fnorm_tendon/np.cos(alpha) - Fnorm_kpe\n",
    "    return Fnorm_CE"
   ]
  },
  {
   "cell_type": "code",
   "execution_count": 7,
   "metadata": {},
   "outputs": [],
   "source": [
    "def tendonLength(Lm,Lce_o,Lnorm_ce, alpha):\n",
    "    '''\n",
    "    Compute tendon length\n",
    "    \n",
    "    Inputs:\n",
    "        Lm = \n",
    "        Lce_o = optimal length of the fiber\n",
    "        Lnorm_ce = normalized contractile element length\n",
    "    \n",
    "    Output:\n",
    "        Lnorm_see = normalized tendon length   \n",
    "    '''\n",
    "    Lnorm_see = Lm/Lce_o - Lnorm_ce*np.cos(alpha)\n",
    "    \n",
    "    return Lnorm_see"
   ]
  },
  {
   "cell_type": "code",
   "execution_count": 8,
   "metadata": {},
   "outputs": [],
   "source": [
    "def activation(a,u,dt):\n",
    "    '''\n",
    "    Compute activation\n",
    "    \n",
    "    Inputs:\n",
    "        u = idealized muscle excitation signal, 0 <= u <= 1\n",
    "        a = muscular activation\n",
    "        dt = time step\n",
    "    \n",
    "    Output:\n",
    "        a = muscular activation  \n",
    "    '''\n",
    "    \n",
    "    tau_deact = 50e-3 #young adults\n",
    "    tau_act = 15e-3\n",
    "    \n",
    "    if u>a:\n",
    "        tau_a = tau_act*(0.5+1.5*a)\n",
    "    elif u <=a:\n",
    "        tau_a = tau_deact/(0.5+1.5*a)\n",
    "    \n",
    "    #-------\n",
    "    dadt = (u-a)/tau_a # euler\n",
    "    \n",
    "    a = a + dadt*dt\n",
    "    #-------\n",
    "    return a"
   ]
  },
  {
   "cell_type": "code",
   "execution_count": 9,
   "metadata": {},
   "outputs": [],
   "source": [
    "def ComputeTotalLenghtSize(theta, As):\n",
    "    # theta = ankle angle\n",
    "    # As - coeficients for the polinomio\n",
    "    \n",
    "    auxAmultp = As;\n",
    "    \n",
    "    for i in range (len(As)):\n",
    "        auxAmultp[i] = As[i] * (theta**i)\n",
    "    \n",
    "    Lm = sum(auxAmultp)\n",
    "    \n",
    "    return Lm"
   ]
  },
  {
   "cell_type": "code",
   "execution_count": 10,
   "metadata": {},
   "outputs": [],
   "source": [
    "def ComputeMomentJoint(Rf,Fnorm_tendon,Fmax,theta, theta_leg, m,g, Rcm):\n",
    "    '''\n",
    "    Inputs:\n",
    "        RF = Moment arm\n",
    "        Fnorm_tendon = Normalized tendon force\n",
    "        m = Segment Mass\n",
    "        g = Acelleration of gravity\n",
    "        Fmax= maximal isometric force\n",
    "    Output:\n",
    "        M = Total moment with respect to joint\n",
    "    '''\n",
    "    MG = m*g*Rcm*np.sin(theta_leg - theta)\n",
    "    \n",
    "    Tm = Rf*Fnorm_tendon*Fmax\n",
    "    \n",
    "    M = Tm - MG\n",
    "    \n",
    "    return M"
   ]
  },
  {
   "cell_type": "code",
   "execution_count": 11,
   "metadata": {},
   "outputs": [],
   "source": [
    "def ComputeAngularAcelerationJoint(M,I):\n",
    "    '''\n",
    "    Inputs:\n",
    "        M = Total moment with respect to joint\n",
    "        I = Moment of Inertia\n",
    "    Output:\n",
    "        thetadd= angular aceleration of the joint\n",
    "    '''\n",
    "    thetadd = M/I\n",
    "    return thetadd"
   ]
  },
  {
   "cell_type": "code",
   "execution_count": 12,
   "metadata": {},
   "outputs": [],
   "source": [
    "def computeMomentArmAnkle(theta, Bs):\n",
    "    # theta - ankle angle\n",
    "    # Bs - coeficients for the polinomio\n",
    "    \n",
    "    auxBmultp = Bs;\n",
    "    for i in range (len(Bs)):\n",
    "        auxBmultp[i] = Bs[i] * (theta**i)\n",
    "        \n",
    "    mx = sum(auxBmultp)\n",
    "    \n",
    "    return mx   "
   ]
  },
  {
   "cell_type": "markdown",
   "metadata": {},
   "source": [
    "### General Purpose\n",
    "\n",
    "For dorsiflexors muscle, obtain the ankle angle  \n",
    "$\\theta_{perna} - \\theta$  \n",
    "\n",
    "### Lembretes  \n",
    "\n",
    "Para comprimento do músculo+tendão, usar o polinômio de 4ª ordem em que entram os A's de um artigo lá\n",
    "\n",
    "Tomar cuidado que há coisas na tabela que estão em graus mas nos cálculos usamos radianos  \n",
    "\n",
    "*Rf* é mx no artigo que ele mencionou  \n",
    ". $B_{x}$ retirar de uma tabela que tem no artigo  \n",
    "\n",
    "$L_{ce} = L_{0}^{M}$  \n",
    "\n",
    "$L_{slack} = L_{s}^{T} \\cdot L_{0}^{M} $\n",
    "\n",
    "  \n",
    "$M = T_{M} - M_{G}$  \n",
    "\n",
    "tal que $T_{M} = F_{M} \\cdot R_{f}$\n",
    "\n",
    "$R_{CM} = $  \n",
    "\n",
    "$R_{f}(\\theta)$ é um polinômio de 4ª ordem que no artigo é chamado de $m_{x}$\n",
    "\n",
    "\n",
    "$\\theta_{A}$ é o ângulo do tornozelo\n",
    "\n",
    "$T_{A}$ é o torque resultante no tornozelo"
   ]
  },
  {
   "cell_type": "code",
   "execution_count": 13,
   "metadata": {},
   "outputs": [],
   "source": [
    "g = 9.81# acceleration of gravity"
   ]
  },
  {
   "cell_type": "code",
   "execution_count": 14,
   "metadata": {},
   "outputs": [],
   "source": [
    "Lfoot = 0.26 # [m]\n",
    "m = 75 # [kg]\n",
    "\n",
    "mtable = 0.0145\n",
    "mfoot = mtable * m\n",
    "\n",
    "Rcmtable = 0.5\n",
    "Rcmfoot = Rcmtable * Lfoot\n",
    "\n",
    "Rcm = Rcmfoot\n",
    "\n",
    "Rgirotable = 0.69\n",
    "Rgirofoot = Rgirotable * Lfoot\n",
    "\n",
    "Ifoot = mfoot * (Rgirofoot**2)\n",
    "\n",
    "I = Ifoot"
   ]
  },
  {
   "cell_type": "code",
   "execution_count": 15,
   "metadata": {},
   "outputs": [],
   "source": [
    "Umax = .04 # SEE strain at Fmax\n",
    "\n",
    "Lce_o = .090 #optmal L_{0}^{M} M é o \n",
    "\n",
    "Lslack = 2.4 * Lce_o # sack length of SEE\n",
    "\n",
    "width = .63#*Lce_o\n",
    "\n",
    "Fmax = 1400 #maximal isometric force for dorsiflexors\n",
    "\n",
    "a = 0.01 #inital conditional for ativation\n",
    "\n",
    "u = 1 #Initial conditional for Brain's activation\n",
    "\n",
    "#b = .25*10#*Lce_o\n",
    "\n",
    "alpha = 7*np.pi/180 # penation angle\n"
   ]
  },
  {
   "cell_type": "code",
   "execution_count": 16,
   "metadata": {},
   "outputs": [],
   "source": [
    "# Coefs for total muscle+tendon length\n",
    "\n",
    "As = np.array([30.6, -7.44e-2, -1.41e-4, 2.42e-6, 1.5e-8]) / 100   # at [m] instead of [cm]\n",
    "\n",
    "\n",
    "# Coefs for moment arm for ankle angle\n",
    "\n",
    "Bs = np.array([4.3, 1.66e-2, -3.89e-4, -4.45e-6, -4.34e-8]) / 100  # at [m] instead of [cm]\n"
   ]
  },
  {
   "cell_type": "markdown",
   "metadata": {},
   "source": [
    "### Initial conditions"
   ]
  },
  {
   "cell_type": "code",
   "execution_count": 17,
   "metadata": {},
   "outputs": [],
   "source": [
    "theta = 0# start as 0 degree of flexion\n",
    "\n",
    "thetad = 0 #zero velocity\n",
    "\n",
    "theta_leg = np.pi/2; # the leg angle in relation to the ground\n",
    "\n",
    "Lm0 = 0.306 #initial total lenght of the muscle  -- isso é o TA de um dos artigos que eles mostraram\n",
    "Lm = 0.31 #initial total lenght of the muscle\n",
    "\n",
    "Lnorm_ce = .087/Lce_o #norm\n",
    "\n",
    "t0 = 0 #Initial time\n",
    "tf = 1 #Final Time\n",
    "\n",
    "h = 5e-4 #integration step size and step counter"
   ]
  },
  {
   "cell_type": "code",
   "execution_count": 18,
   "metadata": {},
   "outputs": [],
   "source": [
    "t = np.arange(t0,tf,h)\n",
    "F = np.empty(t.shape)\n",
    "thetavec=np.empty(t.shape)\n",
    "Fkpe = np.empty(t.shape)\n",
    "FiberLen = np.empty(t.shape)\n",
    "TendonLen = np.empty(t.shape)\n",
    "a_dynamics = np.empty(t.shape)\n",
    "FiberVelocity = np.empty(t.shape)"
   ]
  },
  {
   "cell_type": "code",
   "execution_count": 19,
   "metadata": {},
   "outputs": [],
   "source": [
    "#Normalizing\n",
    "\n",
    "for i in range (len(t)):\n",
    "    \n",
    "    # Compute tendo+muscle length\n",
    "    Lm =  ComputeTotalLenghtSize(theta*180/math.pi, As)\n",
    "    \n",
    "    # Compute the tendon length\n",
    "    Lnorm_see = tendonLength(Lm,Lce_o,Lnorm_ce, alpha)\n",
    "    \n",
    "    # compute the force in the tendon\n",
    "    Fnorm_tendon = TendonForce (Lnorm_see,Lslack, Lce_o) \n",
    "    \n",
    "    # compute the force in the parallel element\n",
    "    Fnorm_kpe = ParallelElementForce (Lnorm_ce)     \n",
    "        \n",
    "    #isometric force at Lce from CE force length relationship\n",
    "    F0 = ForceLengthCurve (Lnorm_ce, width)\n",
    "    \n",
    "    Fnorm_CE = ContractileElementForce(Fnorm_tendon, Fnorm_kpe, alpha) #Fnorm_CE = ~Fm\n",
    "    \n",
    "    #computing activation\n",
    "    a = activation(a,u,h)\n",
    "    \n",
    "    #calculate CE velocity from Hill's equation    \n",
    "    Lnorm_cedot = ContractileElementDot(F0, Fnorm_CE, a)\n",
    "    \n",
    "    #Compute MomentJoint\n",
    "    mx = computeMomentArmAnkle(theta*180/math.pi, Bs)\n",
    "    Rf = mx \n",
    "    M = ComputeMomentJoint(Rf, Fnorm_tendon, Fmax, theta, theta_leg, m, g, Rcm)\n",
    "    \n",
    "    #Compute Angular Aceleration Joint\n",
    "    thetadd = ComputeAngularAcelerationJoint (M,I)\n",
    "    \n",
    "    # Euler integration steps\n",
    "    Lnorm_ce = Lnorm_ce + h*Lnorm_cedot\n",
    "    \n",
    "    thetad = thetad + h*thetadd\n",
    "    theta  = theta  + h*thetad\n",
    "\n",
    "\n",
    "    # # STORE variables in vectors\n",
    "    F[i] = Fnorm_tendon * Fmax\n",
    "    \n",
    "    Fkpe[i] = Fnorm_kpe * Fmax\n",
    "    \n",
    "    FiberLen[i] = Lnorm_ce * Lce_o\n",
    "    \n",
    "    TendonLen[i] = Lnorm_see*Lce_o\n",
    "    \n",
    "    a_dynamics[i] = a\n",
    "    \n",
    "    thetavec[i] = theta\n",
    "    \n",
    "    FiberVelocity[i] = Lnorm_cedot * Lce_o\n",
    "    "
   ]
  },
  {
   "cell_type": "code",
   "execution_count": 20,
   "metadata": {},
   "outputs": [
    {
     "data": {
      "text/plain": [
       "Text(0,0.5,'a-values during the simulation')"
      ]
     },
     "execution_count": 20,
     "metadata": {},
     "output_type": "execute_result"
    },
    {
     "data": {
      "text/plain": [
       "<Figure size 432x288 with 0 Axes>"
      ]
     },
     "metadata": {},
     "output_type": "display_data"
    },
    {
     "data": {
      "image/png": "[encoded data removed]",
      "text/plain": [
       "<Figure size 432x432 with 1 Axes>"
      ]
     },
     "metadata": {},
     "output_type": "display_data"
    }
   ],
   "source": [
    "plt.figure()\n",
    "fig, ax = plt.subplots(1,1, figsize = (6,6),sharex=True)\n",
    "\n",
    "ax.plot(t,a_dynamics,c='red')\n",
    "ax.set_title('Values of a during the simulation')\n",
    "plt.grid()\n",
    "plt.xlabel('time [s]')\n",
    "plt.ylabel('a-values during the simulation')"
   ]
  },
  {
   "cell_type": "code",
   "execution_count": 21,
   "metadata": {},
   "outputs": [
    {
     "data": {
      "text/plain": [
       "Text(0,0.5,'Force (N)')"
      ]
     },
     "execution_count": 21,
     "metadata": {},
     "output_type": "execute_result"
    },
    {
     "data": {
      "image/png": "[encoded data removed]",
      "text/plain": [
       "<Figure size 432x432 with 1 Axes>"
      ]
     },
     "metadata": {},
     "output_type": "display_data"
    }
   ],
   "source": [
    "fig, ax = plt.subplots(1, 1, figsize=(6,6), sharex=True)\n",
    "\n",
    "ax.plot(t,F,c='red')\n",
    "plt.grid()\n",
    "plt.xlabel('time (s)')\n",
    "plt.ylabel('Force (N)')"
   ]
  },
  {
   "cell_type": "code",
   "execution_count": 22,
   "metadata": {},
   "outputs": [
    {
     "data": {
      "text/plain": [
       "Text(0,0.5,'Anklt Joint Angle (°)')"
      ]
     },
     "execution_count": 22,
     "metadata": {},
     "output_type": "execute_result"
    },
    {
     "data": {
      "image/png": "[encoded data removed]",
      "text/plain": [
       "<Figure size 432x432 with 1 Axes>"
      ]
     },
     "metadata": {},
     "output_type": "display_data"
    }
   ],
   "source": [
    "fig, ax = plt.subplots(1, 1, figsize=(6,6), sharex=True)\n",
    "\n",
    "ax.plot(t,thetavec,c='red')\n",
    "plt.grid()\n",
    "plt.xlabel('time (s)')\n",
    "plt.ylabel('Anklt Joint Angle (°)')"
   ]
  },
  {
   "cell_type": "code",
   "execution_count": 23,
   "metadata": {},
   "outputs": [
    {
     "data": {
      "text/plain": [
       "Text(0,0.5,'Velocity of fiber')"
      ]
     },
     "execution_count": 23,
     "metadata": {},
     "output_type": "execute_result"
    },
    {
     "data": {
      "image/png": "[encoded data removed]",
      "text/plain": [
       "<Figure size 432x432 with 1 Axes>"
      ]
     },
     "metadata": {},
     "output_type": "display_data"
    }
   ],
   "source": [
    "fig, ax = plt.subplots(1, 1, figsize=(6,6), sharex=True)\n",
    "\n",
    "ax.plot(t,FiberVelocity,c='red')\n",
    "plt.grid()\n",
    "plt.xlabel('time (s)')\n",
    "plt.ylabel('Velocity of fiber')"
   ]
  },
  {
   "cell_type": "code",
   "execution_count": 26,
   "metadata": {},
   "outputs": [
    {
     "data": {
      "text/plain": [
       "Text(0,0.5,'Length [m]')"
      ]
     },
     "execution_count": 26,
     "metadata": {},
     "output_type": "execute_result"
    },
    {
     "data": {
      "image/png": "[encoded data removed]",
      "text/plain": [
       "<Figure size 720x432 with 1 Axes>"
      ]
     },
     "metadata": {},
     "output_type": "display_data"
    }
   ],
   "source": [
    "fig, ax = plt.subplots(1,1,figsize=(10,6),sharex=True)\n",
    "\n",
    "ax.plot(t, FiberLen, label = 'Fiber')\n",
    "ax.plot(t, TendonLen, label = 'Tendon')\n",
    "plt.grid()\n",
    "plt.legend(loc = 'best')\n",
    "plt.xlabel('time [s]')\n",
    "plt.ylabel('Length [m]')"
   ]
  },
  {
   "cell_type": "code",
   "execution_count": null,
   "metadata": {},
   "outputs": [],
   "source": []
  }
 ],
 "metadata": {
  "kernelspec": {
   "display_name": "Python 3",
   "language": "python",
   "name": "python3"
  },
  "language_info": {
   "codemirror_mode": {
    "name": "ipython",
    "version": 3
   },
   "file_extension": ".py",
   "mimetype": "text/x-python",
   "name": "python",
   "nbconvert_exporter": "python",
   "pygments_lexer": "ipython3",
   "version": "3.6.5"
  }
 },
 "nbformat": 4,
 "nbformat_minor": 2
}
