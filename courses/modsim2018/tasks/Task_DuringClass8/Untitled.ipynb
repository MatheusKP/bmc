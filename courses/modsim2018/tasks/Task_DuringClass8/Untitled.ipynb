{
 "cells": [
  {
   "cell_type": "code",
   "execution_count": null,
   "metadata": {},
   "outputs": [],
   "source": [
    "import numpy as np\n",
    "import matplotlib.pyplot as plt\n",
    "%matplotlib inline"
   ]
  },
  {
   "cell_type": "code",
   "execution_count": null,
   "metadata": {},
   "outputs": [],
   "source": [
    "ks = 100\n",
    "b = 6\n",
    "Ls0 = 0.2\n",
    "L = 0.3\n",
    "x1 = 0 - ks*L\n",
    "dt = 0.001\n",
    "t = np.arange(0,5,dt)\n",
    "\n",
    "F = np.empty_like (t)\n",
    "F[0] = 0"
   ]
  },
  {
   "cell_type": "code",
   "execution_count": null,
   "metadata": {},
   "outputs": [],
   "source": [
    "for i in range (1,len(t)):\n",
    "    if t[i]>=2:\n",
    "        L = 0.35\n",
    "    dx1dt = -ks/b*x1 - ((ks**2)/b)*L\n",
    "    x1 = x1 + dt*dx1dt\n",
    "    F[i] = x1+ ks*L"
   ]
  },
  {
   "cell_type": "code",
   "execution_count": null,
   "metadata": {},
   "outputs": [],
   "source": [
    "plt.plot (t,F)\n",
    "plt.show()"
   ]
  }
 ],
 "metadata": {
  "kernelspec": {
   "display_name": "Python 3",
   "language": "python",
   "name": "python3"
  },
  "language_info": {
   "codemirror_mode": {
    "name": "ipython",
    "version": 3
   },
   "file_extension": ".py",
   "mimetype": "text/x-python",
   "name": "python",
   "nbconvert_exporter": "python",
   "pygments_lexer": "ipython3",
   "version": "3.6.5"
  }
 },
 "nbformat": 4,
 "nbformat_minor": 2
}
