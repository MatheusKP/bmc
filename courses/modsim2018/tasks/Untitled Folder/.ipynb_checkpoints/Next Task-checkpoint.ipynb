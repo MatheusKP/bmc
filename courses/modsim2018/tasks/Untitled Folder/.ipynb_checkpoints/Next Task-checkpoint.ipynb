{
 "cells": [
  {
   "cell_type": "markdown",
   "metadata": {},
   "source": [
    "# Para a próxima aula\n",
    "### Modelar o que tem no artigo do Teleman"
   ]
  },
  {
   "cell_type": "markdown",
   "metadata": {},
   "source": [
    "V^{M} é a derivada do Lm?\n",
    "'M' vem de muscular (mûscou)\n",
    "\n",
    "FCE é o F^{M}\n",
    "\n",
    "\n",
    "a.fl = FLNorm\n",
    "F^{M} = FCENorm\n",
    "\n",
    "F0 era para a curva Força Comprimento"
   ]
  },
  {
   "cell_type": "code",
   "execution_count": null,
   "metadata": {},
   "outputs": [],
   "source": []
  }
 ],
 "metadata": {
  "kernelspec": {
   "display_name": "Python 3",
   "language": "python",
   "name": "python3"
  },
  "language_info": {
   "codemirror_mode": {
    "name": "ipython",
    "version": 3
   },
   "file_extension": ".py",
   "mimetype": "text/x-python",
   "name": "python",
   "nbconvert_exporter": "python",
   "pygments_lexer": "ipython3",
   "version": "3.6.5"
  }
 },
 "nbformat": 4,
 "nbformat_minor": 2
}
