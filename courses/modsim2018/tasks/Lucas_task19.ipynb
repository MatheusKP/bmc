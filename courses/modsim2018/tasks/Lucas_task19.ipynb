{
 "cells": [
  {
   "cell_type": "markdown",
   "metadata": {},
   "source": [
    "# Lucas_task 19 - Motor Control\n",
    "### Introduction to modeling and simulation of human movement\n",
    "https://github.com/BMClab/bmc/blob/master/courses/ModSim2018.md"
   ]
  },
  {
   "cell_type": "markdown",
   "metadata": {},
   "source": [
    "### 1) Find the extrema in the function f(x)=x3−7.5x2+18x−10 analytically and determine if they are minimum or maximum."
   ]
  },
  {
   "cell_type": "markdown",
   "metadata": {},
   "source": [
    "Import Python libraries"
   ]
  },
  {
   "cell_type": "code",
   "execution_count": 1,
   "metadata": {},
   "outputs": [],
   "source": [
    "import numpy as np\n",
    "%matplotlib inline\n",
    "import matplotlib\n",
    "import matplotlib.pyplot as plt\n",
    "import sympy as sym\n",
    "from sympy.plotting import plot\n",
    "import pandas as pd\n",
    "from IPython.display import display\n",
    "from IPython.core.display import Math"
   ]
  },
  {
   "cell_type": "markdown",
   "metadata": {},
   "source": [
    "Finding the roots"
   ]
  },
  {
   "cell_type": "code",
   "execution_count": 2,
   "metadata": {},
   "outputs": [
    {
     "data": {
      "text/latex": [
       "$$Roots:\\left [ 2.0, \\quad 3.0\\right ]$$"
      ],
      "text/plain": [
       "<IPython.core.display.Math object>"
      ]
     },
     "metadata": {},
     "output_type": "display_data"
    }
   ],
   "source": [
    "x = sym.symbols('x')\n",
    "F = x**3 - 7.5*x**2 + 18*x - 10\n",
    "Fdiff = sym.expand(sym.diff(F, x))\n",
    "roots = sym.solve(Fdiff, x)\n",
    "display(Math(sym.latex('Roots:') + sym.latex(roots)))"
   ]
  },
  {
   "cell_type": "markdown",
   "metadata": {},
   "source": [
    "Finding the minimum and maximum"
   ]
  },
  {
   "cell_type": "code",
   "execution_count": 3,
   "metadata": {},
   "outputs": [
    {
     "name": "stdout",
     "output_type": "stream",
     "text": [
      "F(x1):  4.0\n",
      "\n",
      "F(x2):  3.5\n"
     ]
    }
   ],
   "source": [
    "x1 = 2\n",
    "x2 = 3\n",
    "F1 = x1**3 - 7.5*x1**2 + 18*x1 - 10\n",
    "F2 = x2**3 - 7.5*x2**2 + 18*x2 - 10\n",
    "\n",
    "print(\"F(x1): \", F1)\n",
    "print(\"\\nF(x2): \", F2)\n",
    "\n"
   ]
  },
  {
   "cell_type": "code",
   "execution_count": 4,
   "metadata": {},
   "outputs": [
    {
     "name": "stdout",
     "output_type": "stream",
     "text": [
      "Minimim: 3 \n",
      "Maximum: 2\n"
     ]
    }
   ],
   "source": [
    "print(\"Minimim:\", x2,\"\\nMaximum:\", x1)\n"
   ]
  },
  {
   "cell_type": "markdown",
   "metadata": {},
   "source": [
    "### 2) Find the minimum in the f(x)=x3−7.5x2+18x−10 using the gradient descent algorithm."
   ]
  },
  {
   "cell_type": "code",
   "execution_count": 5,
   "metadata": {},
   "outputs": [
    {
     "name": "stdout",
     "output_type": "stream",
     "text": [
      "True local minimum at 2.25 with function value 3.921875.\n",
      "Local minimum by gradient descent at 3.000323195755751 with function value 3.5000001567170003.\n"
     ]
    }
   ],
   "source": [
    "cur_x = 6               # The algorithm starts at x=6\n",
    "gamma = 0.01            # step size multiplier\n",
    "precision = 0.00001\n",
    "step_size = 1           # initial step size\n",
    "max_iters = 10000       # maximum number of iterations\n",
    "iters = 0               # iteration counter\n",
    "\n",
    "f  = lambda x: x**3 - 7.5*x**2 + 18*x - 10  # lambda function for f(x)\n",
    "df = lambda x: 3*x**2 - 15*x  + 18   # lambda function for the gradient of f(x)\n",
    "\n",
    "while (step_size > precision) & (iters < max_iters):\n",
    "    prev_x = cur_x\n",
    "    cur_x -= gamma*df(prev_x)\n",
    "    step_size = abs(cur_x - prev_x)\n",
    "    iters+=1\n",
    "\n",
    "print('True local minimum at {} with function value {}.'.format(9/4, f(9/4)))\n",
    "print('Local minimum by gradient descent at {} with function value {}.'.format(cur_x, f(cur_x)))"
   ]
  },
  {
   "cell_type": "code",
   "execution_count": null,
   "metadata": {},
   "outputs": [],
   "source": []
  }
 ],
 "metadata": {
  "kernelspec": {
   "display_name": "Python 3",
   "language": "python",
   "name": "python3"
  },
  "language_info": {
   "codemirror_mode": {
    "name": "ipython",
    "version": 3
   },
   "file_extension": ".py",
   "mimetype": "text/x-python",
   "name": "python",
   "nbconvert_exporter": "python",
   "pygments_lexer": "ipython3",
   "version": "3.6.3"
  }
 },
 "nbformat": 4,
 "nbformat_minor": 2
}
