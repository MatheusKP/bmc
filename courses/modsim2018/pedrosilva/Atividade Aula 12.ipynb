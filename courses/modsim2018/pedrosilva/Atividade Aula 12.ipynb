{
 "cells": [
  {
   "cell_type": "code",
   "execution_count": 1,
   "metadata": {},
   "outputs": [],
   "source": [
    "import numpy as np\n",
    "import matplotlib.pyplot as plt\n",
    "%matplotlib inline"
   ]
  },
  {
   "cell_type": "markdown",
   "metadata": {},
   "source": [
    "## Model\n",
    "<figure><img src=\"../../../images/modelo_musculo2.png\\\" width=400 />\n"
   ]
  },
  {
   "cell_type": "markdown",
   "metadata": {},
   "source": [
    "## Deduction\n",
    "\n",
    "   $ F_{SEE} = \\left\\{\\begin{array}{l}\n",
    "   0\\ \\ , \\ \\ L_T < L_{SL}\\\\\n",
    "   K(L - L_{SL})^2 \\ \\ , \\ \\ L_T \\geq L_{SL}\\\\\n",
    "   \\end{array}\n",
    "   \\right.$\n",
    "   \n",
    "   $F_{KPE} = \\left\\{\\begin{array}{l}\n",
    "   0\\ \\ , \\ \\ L_{CE} < L_{op}\\\\\n",
    "   K(L - L_{op})^2 \\ \\ , \\ \\ L_{CE} \\geq L_{op}\\\\\n",
    "   \\end{array}\n",
    "   \\right.$\n",
    "     \n",
    "  \n",
    "   $F = F_{SEE} - F_{KPE} = F_{CE} $\n",
    "     \n",
    "   $\\dot L_{CE} = (0.25 + 0.75a)V_{max}\\frac{F_{CE}-aF_L}{b} $\n",
    "   \n",
    "   $ b = \\left\\{\\begin{array}{l}\n",
    "   aF_L + F_{CE}/A_f\\ \\ , \\ \\ F_{CE} < F_L\\\\\n",
    "   \\frac{(2 + 2/A_f)(aF_L\\overline{F}^M_{len} - F_{CE})}{\\overline{F}^M_{len} - 1}   \\ \\ , \\ \\ F_{CE} \\geq F_L\\\\\n",
    "   \\end{array}\n",
    "   \\right.$\n",
    "   \n",
    "   $\\frac{da}{dt} = \\frac{u - a}{\\tau_a(u,a)}$\n",
    "   \n",
    "   $\\tau_a(a,u) = \\left\\{\\begin{array}{l}\n",
    "   \\tau_{act}(0.5 + 1.5a)\\ \\ , \\ \\ u > a\\\\\n",
    "   \\frac{\\tau_{dact}}{(0.5 + 1.5a)}\\ \\ , \\ \\ u \\leq a\\\\\n",
    "   \\end{array}\n",
    "   \\right.$\n",
    "   \n",
    "   $L_{SEE} = L_m - L_{CE}$"
   ]
  },
  {
   "cell_type": "markdown",
   "metadata": {},
   "source": [
    "## Parameters"
   ]
  },
  {
   "cell_type": "code",
   "execution_count": 2,
   "metadata": {},
   "outputs": [],
   "source": [
    "## Propriedades\n",
    "\n",
    "L_SL = 0.223\n",
    "#Umax = 0.04\n",
    "#width = 0.63\n",
    "#a = 0.25\n",
    "#b = 0.25*10\n",
    "\n",
    "## Condições Iniciais\n",
    "L_CEOPT = 0.093\n",
    "L_CE_norm = 0.087/L_CEOPT\n",
    "Fmax = 3000\n",
    "\n",
    "L_SL_norm = L_SL/L_CEOPT\n",
    "dt = 0.001\n",
    "t = np.arange(0,3,dt)\n",
    "a =  np.empty_like(t)\n",
    "F_tendon_norm = np.empty_like(t)\n",
    "F_kpe_norm = np.empty_like(t)\n",
    "F_CE_norm = np.empty_like(t)\n",
    "F_tot = np.empty_like(t)\n",
    "fiber_length = np.empty_like(t)\n",
    "tendon_length = np.empty_like(t)"
   ]
  },
  {
   "cell_type": "markdown",
   "metadata": {},
   "source": [
    "## Functions"
   ]
  },
  {
   "cell_type": "code",
   "execution_count": 3,
   "metadata": {},
   "outputs": [],
   "source": [
    "def computeTendonForce (L_SEE_norm,L_SL_norm):\n",
    "    \"\"\"\n",
    "    ComputeTendonForce\n",
    "    \n",
    "    Inputs:\n",
    "    \n",
    "        L_SEE_norm - Normalized tendon length\n",
    "    \n",
    "        L_SL_norm - Normalized slack length of the tendon\n",
    "    \n",
    "        L_CEOPT = Optimal length of the fiber\n",
    "        \n",
    "    Output:\n",
    "        F_tendon_norm - Normalized tendon force\n",
    "    \n",
    "    \"\"\"\n",
    "    Umax = 0.04\n",
    "    \n",
    "    if L_SEE_norm < L_SL_norm:\n",
    "        F_tendon_norm[i] = 0\n",
    "    else:\n",
    "        F_tendon_norm =  ((L_SEE_norm - L_SL_norm)/(Umax*L_SL_norm))**2\n",
    "        \n",
    "    return F_tendon_norm"
   ]
  },
  {
   "cell_type": "code",
   "execution_count": 4,
   "metadata": {},
   "outputs": [],
   "source": [
    "def computeParalelElementForce (L_CE_norm,L_SL_norm):\n",
    "    \"\"\"\n",
    "    Compute Paralel Elemento Force\n",
    "    \n",
    "    Inputs:\n",
    "    \n",
    "        L_CE_norm - Normalized Contract Element length\n",
    "    \n",
    "        L_SL_norm - Normalized slack length of the tendom\n",
    "    \n",
    "        L_CEOPT = Optimal length of the fiber\n",
    "        \n",
    "    Output:\n",
    "        F_kpe_norm - Normalized paralel element force\n",
    "    \n",
    "    \"\"\"\n",
    "    \n",
    "    Umax = 0.04\n",
    "    \n",
    "    if L_CE_norm < 1:\n",
    "        F_kpe_norm = 0\n",
    "    else:\n",
    "        F_kpe_norm = ((L_CE_norm - 1)/(Umax*L_SL_norm))**2\n",
    "        \n",
    "    return F_kpe_norm"
   ]
  },
  {
   "cell_type": "code",
   "execution_count": 5,
   "metadata": {},
   "outputs": [],
   "source": [
    "def computeForceLengthCurve (L_CE_norm):\n",
    "    \"\"\"\n",
    "    Compute Force Length Curve\n",
    "    \n",
    "    Inputs:\n",
    "    \n",
    "        L_CE_norm - Normalized Contract Element length\n",
    "        \n",
    "    Output:\n",
    "        F_Lnorm - Normalized Force Length Element\n",
    "    \n",
    "    \"\"\"\n",
    "    width = 0.63\n",
    "    \n",
    "    F_Lnorm = max(0,(1-((L_CE_norm-1)/width)**2))\n",
    "        \n",
    "    return F_Lnorm"
   ]
  },
  {
   "cell_type": "code",
   "execution_count": 6,
   "metadata": {},
   "outputs": [],
   "source": [
    "def computeForceContract (F_tendon_norm,F_kpe_norm ):\n",
    "    \"\"\"\"\n",
    "    Incremental Contract Element's length\n",
    "    \n",
    "    Inputs:\n",
    "    \n",
    "        F_tendon_norm - Normalized tendon force\n",
    "        \n",
    "        F_CE_norm - Normalized Contract Element Force\n",
    "        \n",
    "    Output:\n",
    "        F_kpe_norm - Normalized paralel element force\n",
    "      \n",
    "    \"\"\"\n",
    "    \n",
    "    F_CE_norm = F_tendon_norm - F_kpe_norm\n",
    "        \n",
    "    return F_CE_norm"
   ]
  },
  {
   "cell_type": "code",
   "execution_count": 7,
   "metadata": {},
   "outputs": [],
   "source": [
    "def computeActivation (a,u,dt):\n",
    "    \"\"\"\n",
    "    Compute Activation parameter\n",
    "    \n",
    "    Inputs:\n",
    "    \n",
    "        a - Muscle activation parameter\n",
    "        \n",
    "        u - Muscle excitation signal\n",
    "        \n",
    "        dt - time step\n",
    "        \n",
    "    Output:\n",
    "        a - Muscle activation parameter\n",
    "    \n",
    "    \"\"\"\n",
    "    tal_dact = 0.050 #young #ms\n",
    "    #tal_dact = 0.060 #old #ms\n",
    "    tal_act = 0.015 #ms\n",
    "    \n",
    "    if u > a:\n",
    "        tal_a = tal_act*(0.5 + 1.5*a)\n",
    "    else:\n",
    "        tal_a = tal_dact/(0.5 + 1.5*a)\n",
    "    \n",
    "    \n",
    "    a = a + dt*(u-a)/tal_a    \n",
    "    \n",
    "    return a"
   ]
  },
  {
   "cell_type": "code",
   "execution_count": 8,
   "metadata": {},
   "outputs": [],
   "source": [
    "def dLCEdt (F_Lnorm, F_CE_norm,a):\n",
    "    \"\"\"\"\n",
    "    Incremental Contract Element's length\n",
    "    \n",
    "    Inputs:\n",
    "    \n",
    "        F_Lnorm - Normalized Force Length Element\n",
    "        \n",
    "        F_kpe_norm - Normalized paralel element force\n",
    "        \n",
    "    Output:\n",
    "        L_CE_dot - Incremental Contract Element's length\n",
    "             \n",
    "    \"\"\"\n",
    "    A = 0.25\n",
    "    F_m_len = 1.4 #young\n",
    "    #F_m_len = 1.8 #old\n",
    "    v_max = 10 #young\n",
    "    #v_max = 8 #old\n",
    "    \n",
    "    if F_CE_norm <= a*F_Lnorm:\n",
    "        b = a*F_Lnorm + F_CE_norm/A\n",
    "        \n",
    "    else:\n",
    "        b = (2 + 2/A)*(a*F_Lnorm*F_m_len - F_CE_norm)/(F_m_len - 1)\n",
    "        \n",
    "    L_CE_dot = (0.25 + 0.75*a)*v_max*(F_CE_norm - a*F_Lnorm)/b\n",
    "\n",
    "    return L_CE_dot"
   ]
  },
  {
   "cell_type": "markdown",
   "metadata": {},
   "source": [
    "## Muscle Model"
   ]
  },
  {
   "cell_type": "code",
   "execution_count": 9,
   "metadata": {},
   "outputs": [],
   "source": [
    "for i in range(1,len(t)):\n",
    "    #inputs\n",
    "    if t[i] <= 1:\n",
    "        L_m = 0.31\n",
    "    elif (t[i]>1 and t[i] < 2):\n",
    "        L_m = 0.31 - 0.04 * (t[i] - 1)\n",
    "    \n",
    "    u = 1\n",
    "        \n",
    "    #################################################################################################################\n",
    "        \n",
    "    L_SEE_norm = L_m/L_CEOPT - L_CE_norm\n",
    "    \n",
    "    F_tendon_norm[i] = computeTendonForce(L_SEE_norm,L_SL_norm)\n",
    "        \n",
    "    F_kpe_norm[i] = computeParalelElementForce(L_CE_norm,L_SL_norm)\n",
    "        \n",
    "    F_Lnorm = computeForceLengthCurve(L_CE_norm)\n",
    "    \n",
    "    F_CE_norm[i] = computeForceContract(F_tendon_norm[i],F_kpe_norm[i])\n",
    "    \n",
    "    a[i] = computeActivation(a[i-1],u,dt)\n",
    "        \n",
    "    L_CE_norm = L_CE_norm + dt*dLCEdt (F_Lnorm,F_CE_norm[i],a[i])\n",
    "    \n",
    "    #################################################################################################################\n",
    "    F_tot[i] = F_tendon_norm[i]*Fmax\n",
    "    fiber_length[i] = L_CE_norm*L_CEOPT\n",
    "    tendon_length[i] = L_SEE_norm*L_CEOPT\n",
    "    \n",
    "\n",
    "    "
   ]
  },
  {
   "cell_type": "markdown",
   "metadata": {},
   "source": [
    "## Normalizade Tendon Force"
   ]
  },
  {
   "cell_type": "code",
   "execution_count": 10,
   "metadata": {},
   "outputs": [
    {
     "data": {
      "text/plain": [
       "Text(0,0.5,'Force [N]')"
      ]
     },
     "execution_count": 10,
     "metadata": {},
     "output_type": "execute_result"
    },
    {
     "data": {
      "image/png": "[encoded data removed]",
      "text/plain": [
       "<Figure size 432x288 with 1 Axes>"
      ]
     },
     "metadata": {},
     "output_type": "display_data"
    }
   ],
   "source": [
    "plt.plot(t,F_tendon_norm, c = 'red')\n",
    "plt.grid()\n",
    "plt.xlabel ('time [s]')\n",
    "plt.ylabel ('Force [N]')"
   ]
  },
  {
   "cell_type": "markdown",
   "metadata": {},
   "source": [
    "## Tendon Force"
   ]
  },
  {
   "cell_type": "code",
   "execution_count": 11,
   "metadata": {},
   "outputs": [
    {
     "data": {
      "text/plain": [
       "Text(0,0.5,'Force [N]')"
      ]
     },
     "execution_count": 11,
     "metadata": {},
     "output_type": "execute_result"
    },
    {
     "data": {
      "image/png": "[encoded data removed]",
      "text/plain": [
       "<Figure size 432x288 with 1 Axes>"
      ]
     },
     "metadata": {},
     "output_type": "display_data"
    }
   ],
   "source": [
    "plt.plot(t,F_tot, c = 'blue')\n",
    "plt.grid()\n",
    "plt.xlabel ('time [s]')\n",
    "plt.ylabel ('Force [N]')"
   ]
  },
  {
   "cell_type": "markdown",
   "metadata": {},
   "source": [
    "## Length"
   ]
  },
  {
   "cell_type": "code",
   "execution_count": 15,
   "metadata": {},
   "outputs": [
    {
     "data": {
      "image/png": "[encoded data removed]",
      "text/plain": [
       "<Figure size 864x360 with 3 Axes>"
      ]
     },
     "metadata": {},
     "output_type": "display_data"
    }
   ],
   "source": [
    "fig,  ax  =  plt.subplots(1, 3, figsize=(12, 5), sharex=True)\n",
    "\n",
    "ax[0].plot(t, fiber_length, label = 'Fiber')\n",
    "ax[0].set_title('Fiber')\n",
    "ax[0].grid()\n",
    "ax[1].plot(t, tendon_length, label = 'Tendon')\n",
    "ax[1].set_title('Tendon')\n",
    "ax[1].grid()\n",
    "ax[2].plot(t, fiber_length+tendon_length, label = 'Fiber+Tendon')\n",
    "ax[2].set_title('Fiber+Tendon')\n",
    "ax[2].grid()\n",
    "plt.xlabel('time (s)')\n",
    "plt.ylabel('Length [m]')\n",
    "plt.tight_layout()\n"
   ]
  },
  {
   "cell_type": "markdown",
   "metadata": {},
   "source": [
    "## Activation"
   ]
  },
  {
   "cell_type": "code",
   "execution_count": 13,
   "metadata": {},
   "outputs": [
    {
     "data": {
      "image/png": "[encoded data removed]",
      "text/plain": [
       "<Figure size 1080x360 with 2 Axes>"
      ]
     },
     "metadata": {},
     "output_type": "display_data"
    }
   ],
   "source": [
    "fig,  ax  =  plt.subplots(1, 2, figsize=(15, 5), sharex=True)\n",
    "\n",
    "ax[0].plot(t, a, c = 'green')\n",
    "ax[0].set_title('Activation')\n",
    "ax[0].grid()\n",
    "ax[1].plot(t, F_tot, c = 'blue')\n",
    "ax[1].set_title('Tendon Force')\n",
    "ax[1].grid()"
   ]
  },
  {
   "cell_type": "markdown",
   "metadata": {},
   "source": [
    "## Tendon Force with Activation always 1\n",
    "\n",
    "<figure><img src=\"../../../images/activation equals 1.png\\\" width=600 />"
   ]
  },
  {
   "cell_type": "code",
   "execution_count": null,
   "metadata": {},
   "outputs": [],
   "source": []
  }
 ],
 "metadata": {
  "kernelspec": {
   "display_name": "Python 3",
   "language": "python",
   "name": "python3"
  },
  "language_info": {
   "codemirror_mode": {
    "name": "ipython",
    "version": 3
   },
   "file_extension": ".py",
   "mimetype": "text/x-python",
   "name": "python",
   "nbconvert_exporter": "python",
   "pygments_lexer": "ipython3",
   "version": "3.6.5"
  }
 },
 "nbformat": 4,
 "nbformat_minor": 2
}
