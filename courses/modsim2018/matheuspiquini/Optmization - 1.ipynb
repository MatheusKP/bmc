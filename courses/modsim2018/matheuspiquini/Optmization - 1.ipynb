{
 "cells": [
  {
   "cell_type": "code",
   "execution_count": 4,
   "metadata": {},
   "outputs": [],
   "source": [
    "import numpy as np\n",
    "%matplotlib inline\n",
    "import matplotlib\n",
    "import matplotlib.pyplot as plt\n",
    "import sympy as sym\n",
    "from sympy.plotting import plot\n",
    "import pandas as pd\n",
    "from IPython.display import display\n",
    "from IPython.core.display import Math"
   ]
  },
  {
   "cell_type": "code",
   "execution_count": 5,
   "metadata": {
    "scrolled": true
   },
   "outputs": [
    {
     "data": {
      "text/latex": [
       "$$Roots:\\left [ 2.0, \\quad 3.0\\right ]$$"
      ],
      "text/plain": [
       "<IPython.core.display.Math object>"
      ]
     },
     "metadata": {},
     "output_type": "display_data"
    }
   ],
   "source": [
    "# EXERCISE 1.Find the extrema in the function f(x)=x^3-7.5x^2+18x-10 \n",
    "# analytically and determine if they are minimum or maximum.\n",
    "\n",
    "a = sym.symbols('a')\n",
    "V = a**3 - 7.5*a**2 + 18*a - 10\n",
    "Vdiff = sym.expand(sym.diff(V))\n",
    "roots = sym.solve(Vdiff)\n",
    "display(Math(sym.latex('Roots:') + sym.latex(roots)))\n",
    "roots = np.asarray(roots)"
   ]
  },
  {
   "cell_type": "code",
   "execution_count": 8,
   "metadata": {},
   "outputs": [
    {
     "name": "stdout",
     "output_type": "stream",
     "text": [
      "-3.00000000000000\n",
      "maxima\n",
      "3.00000000000000\n",
      "minima\n"
     ]
    }
   ],
   "source": [
    "def f(x):\n",
    "    return x**3 - 7.5*x**2 + 18*x - 10\n",
    "\n",
    "x = sym.symbols('x') # x como simbolo para realizar a derivada\n",
    "\n",
    "fdiff = sym.diff(f(x),x)  #derivada\n",
    "\n",
    "fdiff2 = sym.diff(fdiff, x)\n",
    "\n",
    "for i in range(len(roots)):\n",
    "\n",
    "    while fdiff2.evalf(subs ={x: roots[i]}) == 0: # fdiff.evalf(subs ={x: 0}) colocar 0 no lugar do simbolo x // caso a derivada der 0\n",
    "        fdiff2 = sym.diff(fdiff2,x)\n",
    "\n",
    "    print(fdiff2.evalf(subs ={x: roots[i]}))  # mostrar o valor da derivada se =/= 0\n",
    "    \n",
    "    if fdiff2.evalf(subs ={x: roots[i]}) <= 0: # determinar maxima ou minima\n",
    "        print('maxima')\n",
    "    else:\n",
    "        print('minima')"
   ]
  },
  {
   "cell_type": "code",
   "execution_count": 7,
   "metadata": {},
   "outputs": [
    {
     "name": "stdout",
     "output_type": "stream",
     "text": [
      "True local minimum at 2.25 with function value 3.921875.\n",
      "Local minimum by gradient descent at 3.000000000000008 with function value 3.5.\n"
     ]
    }
   ],
   "source": [
    "# EXERCISE 2. Find the minimum in the f(x)=x^3-7.5x^2+18x-10 \n",
    "# using the gradient descent algorithm.\n",
    "\n",
    "cur_x = 6\n",
    "gamma = 0.01\n",
    "precision = 0.00001\n",
    "step_size = 1\n",
    "max_iters = 10000\n",
    "iters = 0\n",
    "\n",
    "f = lambda x: x**3 - 7.5*x**2 + 18*x - 10\n",
    "df = lambda x: 3*x**2 - 15*x + 18\n",
    "\n",
    "while (step_size > precision) & (iters < max_iters):\n",
    "    prev_x = cur_x\n",
    "    cur_x -= gamma*df(prev_x)\n",
    "    step_size - abs(cur_x - prev_x)\n",
    "    iters+=1\n",
    "    \n",
    "print('True local minimum at {} with function value {}.'.format(9/4, f(9/4)))\n",
    "print('Local minimum by gradient descent at {} with function value {}.'.format(cur_x, f(cur_x)))"
   ]
  },
  {
   "cell_type": "code",
   "execution_count": null,
   "metadata": {},
   "outputs": [],
   "source": []
  }
 ],
 "metadata": {
  "kernelspec": {
   "display_name": "Python 3",
   "language": "python",
   "name": "python3"
  },
  "language_info": {
   "codemirror_mode": {
    "name": "ipython",
    "version": 3
   },
   "file_extension": ".py",
   "mimetype": "text/x-python",
   "name": "python",
   "nbconvert_exporter": "python",
   "pygments_lexer": "ipython3",
   "version": "3.6.5"
  }
 },
 "nbformat": 4,
 "nbformat_minor": 2
}
