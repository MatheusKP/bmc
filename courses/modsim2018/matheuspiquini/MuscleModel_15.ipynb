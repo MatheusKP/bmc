{
 "cells": [
  {
   "cell_type": "markdown",
   "metadata": {},
   "source": [
    "# Task 12 - Motor Control\n",
    "### Introduction to modeling and simulation of human movement\n",
    "https://github.com/BMClab/bmc/blob/master/courses/ModSim2018.md"
   ]
  },
  {
   "cell_type": "markdown",
   "metadata": {},
   "source": [
    "Desiree Miraldo  \n",
    "Renato Watanabe\n",
    "Caio Lima\n",
    "\n",
    "* Based on task for Lecture 12 (+ ModelJoint):\n",
    "\n",
    "The new function must compute the derivative according to the article from Nigg B, Herzog W, (Biomechanics of the Musculo-skeletal System) (Knee.m):\n",
    "\n",
    "Nigg B, Herzog W; Biomechanics of the Musculo-skeletal System (1999)"
   ]
  },
  {
   "cell_type": "code",
   "execution_count": 1,
   "metadata": {},
   "outputs": [],
   "source": [
    "import numpy as np\n",
    "import pandas as pd\n",
    "import matplotlib.pyplot as plt\n",
    "import math\n",
    "\n",
    "%matplotlib notebook"
   ]
  },
  {
   "cell_type": "code",
   "execution_count": 2,
   "metadata": {},
   "outputs": [],
   "source": [
    "class Muscle:\n",
    "    \n",
    "    def __init__(self, Lslack, Lce_o, Fmax, alpha):\n",
    "        \n",
    "        self.Lslack = Lslack\n",
    "        self.Lce_o = Lce_o\n",
    "        self.Fmax = Fmax\n",
    "        self.alpha = alpha\n",
    "        self.Umax = 0.04\n",
    "        self.width = 0.63\n",
    "        self.a = 1\n",
    "    \n",
    "    def TendonForce(self, Lnorm_see):\n",
    "        '''\n",
    "        Compute tendon force\n",
    "        \n",
    "        Inputs:\n",
    "            Lnorm_see = normalized tendon length\n",
    "            Lslack = slack length of the tendon (non-normalized)\n",
    "            Lce_o = optimal length of the fiber\n",
    "        \n",
    "        Output:\n",
    "            Fnorm_tendon = normalized tendon force\n",
    "            \n",
    "        '''\n",
    "    \n",
    "        if Lnorm_see<self.Lslack/self.Lce_o: \n",
    "            Fnorm_tendon = 0\n",
    "        else: \n",
    "            Fnorm_tendon = ((Lnorm_see-self.Lslack/self.Lce_o)/(self.Umax*self.Lslack/self.Lce_o))**2\n",
    "            \n",
    "        return Fnorm_tendon\n",
    "    \n",
    "    def tendonLength(self, Lm, Lnorm_ce):\n",
    "        '''\n",
    "        Compute tendon length\n",
    "        \n",
    "        Inputs:\n",
    "            Lm = \n",
    "            Lce_o = optimal length of the fiber\n",
    "            Lnorm_ce = normalized contractile element length\n",
    "        \n",
    "        Output:\n",
    "            Lnorm_see = normalized tendon length   \n",
    "        '''\n",
    "        Lnorm_see = Lm/self.Lce_o - Lnorm_ce*np.cos(self.alpha)\n",
    "        \n",
    "        return Lnorm_see\n",
    "    \n",
    "    def ForceLengthCurve(self, Lnorm_ce):\n",
    "        \n",
    "        F0 = max([0, (1-((Lnorm_ce-1)/self.width)**2)])\n",
    "        \n",
    "        return F0\n",
    "    \n",
    "    def ParallelElementForce(self, Lnorm_ce):\n",
    "        '''\n",
    "        Compute parallel element force\n",
    "        \n",
    "        Inputs:\n",
    "            Lnorm_ce = normalized contractile element length\n",
    "        \n",
    "        Output:\n",
    "            Fnorm_kpe = normalized parallel element force\n",
    "    \n",
    "        '''\n",
    "    \n",
    "        if Lnorm_ce< 1: \n",
    "            Fnorm_kpe = 0\n",
    "        else: \n",
    "            Fnorm_kpe = ((Lnorm_ce-1)/(self.Umax*1))**2 \n",
    "            \n",
    "        return Fnorm_kpe\n",
    "    \n",
    "    def ContractileElementDot(self, F0, Fnorm_CE):\n",
    "        \n",
    "        '''\n",
    "        Compute Contractile Element Derivative\n",
    "        \n",
    "        Inputs:\n",
    "            F0 = Force-Length Curve\n",
    "            Fce = Contractile element force\n",
    "            \n",
    "        Output:\n",
    "            Lnorm_cedot = normalized contractile element length derivative\n",
    "            \n",
    "        '''\n",
    "        \n",
    "        FMlen = 1.4 # young adults\n",
    "        Vmax = 10  # young adults\n",
    "        Af = 0.25  #force-velocity shape factor\n",
    "        \n",
    "        Fnorm_CE = min(FMlen*self.a*F0 - 0.001, Fnorm_CE)\n",
    "        \n",
    "        if  Fnorm_CE > self.a*F0:\n",
    "            \n",
    "            b = ((2 + 2/Af)*(self.a*F0*FMlen - Fnorm_CE))/(FMlen-1)\n",
    "            \n",
    "        elif Fnorm_CE <= self.a*F0:\n",
    "            \n",
    "            b = self.a*F0 + Fnorm_CE/Af\n",
    "        \n",
    "        Lnorm_cedot = (.25 + .75*self.a)*Vmax*((Fnorm_CE - self.a*F0)/b)\n",
    "        \n",
    "        return Lnorm_cedot\n",
    "    \n",
    "    def ContractileElementForce(self, Fnorm_tendon,Fnorm_kpe):\n",
    "        '''\n",
    "        Compute Contractile Element force\n",
    "        \n",
    "        Inputs:\n",
    "            Fnorm_tendon = normalized tendon force\n",
    "            Fnorm_kpe = normalized parallel element force\n",
    "        \n",
    "        Output:\n",
    "            Fnorm_CE = normalized contractile element force\n",
    "        '''\n",
    "        \n",
    "        Fnorm_CE = Fnorm_tendon/np.cos(self.alpha) - Fnorm_kpe\n",
    "        \n",
    "        return Fnorm_CE\n",
    "    \n",
    "    def activation(self, a, u, dt):\n",
    "        '''\n",
    "        Compute activation\n",
    "        \n",
    "        Inputs:\n",
    "            u = idealized muscle excitation signal, 0 <= u <= 1\n",
    "            a = muscular activation\n",
    "            dt = time step\n",
    "            \n",
    "        Output:\n",
    "            a = muscular activation  \n",
    "        '''\n",
    "        \n",
    "        tau_deact = 50e-3 #young adults\n",
    "        tau_act = 15e-3\n",
    "        \n",
    "        if u>a:\n",
    "            tau_a = tau_act*(0.5+1.5*a)\n",
    "        elif u <=self.a:\n",
    "            tau_a = tau_deact/(0.5+1.5*a)\n",
    "        \n",
    "        #-------\n",
    "        dadt = (u-a)/tau_a # euler\n",
    "        \n",
    "        a = a + dadt*dt\n",
    "        #-------\n",
    "        return a"
   ]
  },
  {
   "cell_type": "code",
   "execution_count": 3,
   "metadata": {},
   "outputs": [],
   "source": [
    "Lslack = 2.4*0.09 # sack length of SEE\n",
    "Lce_o = 0.09 #optmal l\n",
    "Fmax = 1400 #maximal isometric force\n",
    "alpha = 7*np.pi/180 #DF muscle fiber pennation angle"
   ]
  },
  {
   "cell_type": "code",
   "execution_count": 4,
   "metadata": {},
   "outputs": [],
   "source": [
    "dorsiflexor = Muscle(Lslack = Lslack, Lce_o = Lce_o, Fmax = Fmax, alpha = alpha)"
   ]
  },
  {
   "cell_type": "markdown",
   "metadata": {},
   "source": [
    "### Muscle properties"
   ]
  },
  {
   "cell_type": "code",
   "execution_count": 5,
   "metadata": {},
   "outputs": [],
   "source": [
    "a = 1 #inital conditional for ativation\n",
    "u = 1 #Initial conditional for Brain's activation\n",
    "#b = .25*10#*Lce_o "
   ]
  },
  {
   "cell_type": "code",
   "execution_count": 6,
   "metadata": {},
   "outputs": [],
   "source": [
    "### Joint Properties"
   ]
  },
  {
   "cell_type": "code",
   "execution_count": 7,
   "metadata": {},
   "outputs": [],
   "source": [
    "m = 0.0145*75; #Segment Mass\n",
    "g = 9.81# acceleration of gravity\n",
    "Rcm = 0.5*0.26 # distance knee joint to center of mass\n",
    "I = 0.0145*75*(0.69*0.26)**2# moment of inertia"
   ]
  },
  {
   "cell_type": "markdown",
   "metadata": {},
   "source": [
    "### Initial conditions"
   ]
  },
  {
   "cell_type": "code",
   "execution_count": 8,
   "metadata": {},
   "outputs": [],
   "source": [
    "phi = math.pi/2 #leg angle\n",
    "phid = 0 #zero velocity\n",
    "Lm0 = 0.306 #initial total lenght of the muscle\n",
    "Lm = 0.31 #initial total lenght of the muscle\n",
    "Lnorm_ce = .087/Lce_o #norm\n",
    "t0 = 0 #Initial time\n",
    "tf = 0.5 #Final Time\n",
    "h = 5e-4 #integration step size and step counter\n",
    "theta = 0.01 #ankle angle"
   ]
  },
  {
   "cell_type": "code",
   "execution_count": 9,
   "metadata": {},
   "outputs": [],
   "source": [
    "t = np.arange(t0,tf,h)\n",
    "F = np.empty(t.shape)\n",
    "phivec=np.empty(t.shape)\n",
    "Fkpe = np.empty(t.shape)\n",
    "FiberLen = np.empty(t.shape)\n",
    "TendonLen = np.empty(t.shape)\n",
    "a_dynamics = np.empty(t.shape)\n",
    "angle = np.empty(t.shape)"
   ]
  },
  {
   "cell_type": "markdown",
   "metadata": {},
   "source": [
    "## Simulation - Series"
   ]
  },
  {
   "cell_type": "markdown",
   "metadata": {},
   "source": [
    "for i in range (len(t)):\n",
    "    #ramp\n",
    "    if t[i]<=1:\n",
    "        Lm = 0.31\n",
    "    elif t[i]>1 and t[i]<2:\n",
    "        Lm = .31 + .1*(t[i]-1)\n",
    "        #print(Lm)\n",
    "    \n",
    "    #shortening at 4cm/s\n",
    "    Lsee = Lm - Lce\n",
    "    \n",
    "    if Lsee<Lslack: \n",
    "        F[i] = 0\n",
    "    else: \n",
    "        F[i] = Fmax*((Lsee-Lslack)/(Umax*Lslack))**2\n",
    "        \n",
    "        \n",
    "    #isometric force at Lce from CE force length relationship\n",
    "    F0 = max([0, Fmax*(1-((Lce-Lce_o)/width)**2)])\n",
    "    \n",
    "    #calculate CE velocity from Hill's equation\n",
    "    if  F[i]>F0: print('Error: cannot do eccentric contractions')\n",
    "    \n",
    "    Lcedot = -b*(F0-F[i])/(F[i]+a) #vel is negative for shortening\n",
    "    \n",
    "    # --- Euler integration step\n",
    "    Lce += h*Lcedot\n",
    "\n",
    "    "
   ]
  },
  {
   "cell_type": "code",
   "execution_count": 10,
   "metadata": {},
   "outputs": [],
   "source": [
    "def computeArmLength(theta):\n",
    "    c= 180/np.pi\n",
    "    B0 = 4.30/100\n",
    "    B1 = (1.66E-2/100)*(c)\n",
    "    B2 = (-3.89E-4/100)*(c**2)\n",
    "    B3 = (-4.45E-6/100)*(c**3)\n",
    "    B4 = (-4.34E-8/100)*(c**4)\n",
    "    \n",
    "    Rf = B0+(B1*(theta**1))+(B2*(theta**2))+(B3*(theta**3))+(B4*(theta**4))\n",
    "    \n",
    "    return Rf"
   ]
  },
  {
   "cell_type": "code",
   "execution_count": 11,
   "metadata": {},
   "outputs": [],
   "source": [
    "def ComputeTotalLenghtSize(theta):\n",
    "    '''\n",
    "    Inputs:\n",
    "        Lm0 = initial lenght of the muscle\n",
    "        Phi = degree flexion of the joint\n",
    "        RF = Moment arm\n",
    "        Lce_o = optimal size of the muscle\n",
    "    Output:\n",
    "        Lm = total muscle lenght\n",
    "    '''\n",
    "    c= 180/np.pi\n",
    "    A0 = (30.6/100)\n",
    "    A1 = (-7.44E-2/100)*(c)\n",
    "    A2 = (-1.41E-4/100)*(c**2)\n",
    "    A3 = (2.42E-6/100)*(c**3)\n",
    "    A4 = (1.50E-8/100)*(c**4)\n",
    "    \n",
    "    Lm = A0+(A1*(theta**1))+(A2*(theta**2))+(A3*(theta**3))+(A4*(theta**4))\n",
    "    return Lm"
   ]
  },
  {
   "cell_type": "code",
   "execution_count": 12,
   "metadata": {},
   "outputs": [],
   "source": [
    "def ComputeMomentJoint(Rf,Fnorm_tendon,Fmax,m,g):\n",
    "    '''\n",
    "    Inputs:\n",
    "        RF = Moment arm\n",
    "        Fnorm_tendon = Normalized tendon force\n",
    "        m = Segment Mass\n",
    "        g = Acelleration of gravity\n",
    "        Fmax= maximal isometric force\n",
    "    Output:\n",
    "        M = Total moment with respect to joint\n",
    "    '''\n",
    "    M=Rf*Fnorm_tendon*Fmax - m*g*Rcm*np.sin(phi-theta)\n",
    "    return M"
   ]
  },
  {
   "cell_type": "code",
   "execution_count": 13,
   "metadata": {},
   "outputs": [],
   "source": [
    "def ComputeAngularAcelerationJoint (M,I):\n",
    "    '''\n",
    "    Inputs:\n",
    "        M = Total moment with respect to joint\n",
    "        I = Moment of Inertia\n",
    "    Output:\n",
    "        phidd= angular aceleration of the joint\n",
    "    '''\n",
    "    phidd = M/I\n",
    "    return phidd"
   ]
  },
  {
   "cell_type": "markdown",
   "metadata": {},
   "source": [
    "## Simulation - Parallel"
   ]
  },
  {
   "cell_type": "code",
   "execution_count": 14,
   "metadata": {},
   "outputs": [],
   "source": [
    "for i in range (len(t)):\n",
    "    #ramp\n",
    "    #if t[i]<=1:\n",
    "        #Lm = 0.31\n",
    "    #elif t[i]>1 and t[i]<2:\n",
    "        #Lm = .31 - .04*(t[i]-1)\n",
    "        #print(Lm)\n",
    "        \n",
    "   \n",
    "    #shortening at 4cm/s\n",
    "    #u = 0.7 + 0.2*np.sin(np.pi*t[i])\n",
    "    \n",
    "    Rf = computeArmLength(theta)\n",
    "    \n",
    "    Lm =  ComputeTotalLenghtSize(theta)\n",
    "    \n",
    "    Lnorm_see = dorsiflexor.tendonLength(Lm, Lnorm_ce)\n",
    "\n",
    "    Fnorm_tendon = dorsiflexor.TendonForce (Lnorm_see) \n",
    "    \n",
    "    Fnorm_kpe = dorsiflexor.ParallelElementForce (Lnorm_ce)     \n",
    "        \n",
    "    #isometric force at Lce from CE force length relationship\n",
    "    F0 = dorsiflexor.ForceLengthCurve (Lnorm_ce)\n",
    "    \n",
    "    Fnorm_CE = dorsiflexor.ContractileElementForce(Fnorm_tendon,Fnorm_kpe) #Fnorm_CE = ~Fm\n",
    "    \n",
    "    #computing activation\n",
    "    a = dorsiflexor.activation(a,u,h)\n",
    "    \n",
    "    #calculate CE velocity from Hill's equation    \n",
    "    Lnorm_cedot = dorsiflexor.ContractileElementDot(F0, Fnorm_CE)\n",
    "    \n",
    "    #Compute MomentJoint\n",
    "    M = ComputeMomentJoint(Rf,Fnorm_tendon,Fmax,m,g)\n",
    "    \n",
    "    #Compute Angular Aceleration Joint\n",
    "    phidd = ComputeAngularAcelerationJoint(M,I)\n",
    "    \n",
    "    # Euler integration steps\n",
    "    Lnorm_ce = Lnorm_ce + h*Lnorm_cedot\n",
    "    phid= phid + h*phidd\n",
    "    theta = (theta + h*phid)\n",
    "    phideg= (theta*180)/np.pi #convert joint angle from radians to degree\n",
    "\n",
    "    # Store variables in vectors\n",
    "    F[i] = Fnorm_tendon*Fmax\n",
    "    Fkpe[i] = Fnorm_kpe*Fmax\n",
    "    FiberLen[i] = Lnorm_ce*Lce_o\n",
    "    TendonLen[i] = Lnorm_see*Lce_o\n",
    "    a_dynamics[i] = a\n",
    "    phivec[i] = phideg\n",
    "    angle[i] = M"
   ]
  },
  {
   "cell_type": "markdown",
   "metadata": {},
   "source": [
    "## Plots "
   ]
  },
  {
   "cell_type": "code",
   "execution_count": 15,
   "metadata": {
    "scrolled": false
   },
   "outputs": [
    {
     "name": "stderr",
     "output_type": "stream",
     "text": [
      "No handles with labels found to put in legend.\n"
     ]
    },
    {
     "data": {
      "text/plain": [
       "<matplotlib.legend.Legend at 0x2017952a0f0>"
      ]
     },
     "execution_count": 15,
     "metadata": {},
     "output_type": "execute_result"
    },
    {
     "data": {
      "image/png": "[encoded data removed]",
      "text/plain": [
       "<Figure size 432x432 with 1 Axes>"
      ]
     },
     "metadata": {},
     "output_type": "display_data"
    }
   ],
   "source": [
    "fig, ax = plt.subplots(1, 1, figsize=(6,6), sharex=True)\n",
    "\n",
    "ax.plot(t,a_dynamics,c='magenta')\n",
    "plt.grid()\n",
    "plt.xlabel('time (s)')\n",
    "plt.ylabel('Activation dynamics')\n",
    "\n",
    "\n",
    "ax.legend()"
   ]
  },
  {
   "cell_type": "code",
   "execution_count": 16,
   "metadata": {
    "scrolled": false
   },
   "outputs": [
    {
     "name": "stderr",
     "output_type": "stream",
     "text": [
      "No handles with labels found to put in legend.\n"
     ]
    },
    {
     "data": {
      "text/plain": [
       "<matplotlib.legend.Legend at 0x20179793b70>"
      ]
     },
     "execution_count": 16,
     "metadata": {},
     "output_type": "execute_result"
    },
    {
     "data": {
      "image/png": "[encoded data removed]",
      "text/plain": [
       "<Figure size 432x432 with 1 Axes>"
      ]
     },
     "metadata": {},
     "output_type": "display_data"
    }
   ],
   "source": [
    "fig, ax = plt.subplots(1, 1, figsize=(6,6), sharex=True)\n",
    "\n",
    "ax.plot(t,F,c='red')\n",
    "plt.grid()\n",
    "plt.xlabel('time (s)')\n",
    "plt.ylabel('Force (N)')\n",
    "\n",
    "\n",
    "ax.legend()"
   ]
  },
  {
   "cell_type": "code",
   "execution_count": 17,
   "metadata": {},
   "outputs": [
    {
     "name": "stderr",
     "output_type": "stream",
     "text": [
      "No handles with labels found to put in legend.\n"
     ]
    },
    {
     "data": {
      "text/plain": [
       "<matplotlib.legend.Legend at 0x201797ffef0>"
      ]
     },
     "execution_count": 17,
     "metadata": {},
     "output_type": "execute_result"
    },
    {
     "data": {
      "image/png": "[encoded data removed]",
      "text/plain": [
       "<Figure size 432x432 with 1 Axes>"
      ]
     },
     "metadata": {},
     "output_type": "display_data"
    }
   ],
   "source": [
    "fig, ax = plt.subplots(1, 1, figsize=(6,6), sharex=True)\n",
    "\n",
    "ax.plot(t,phivec,c='red')\n",
    "plt.grid()\n",
    "plt.xlabel('time (s)')\n",
    "plt.ylabel('Joint angle (deg)')\n",
    "\n",
    "\n",
    "ax.legend()"
   ]
  },
  {
   "cell_type": "code",
   "execution_count": 18,
   "metadata": {
    "scrolled": false
   },
   "outputs": [
    {
     "data": {
      "text/plain": [
       "Text(0,0.5,'Length (m)')"
      ]
     },
     "execution_count": 18,
     "metadata": {},
     "output_type": "execute_result"
    },
    {
     "data": {
      "image/png": "[encoded data removed]",
      "text/plain": [
       "<Figure size 432x432 with 1 Axes>"
      ]
     },
     "metadata": {},
     "output_type": "display_data"
    },
    {
     "data": {
      "image/png": "[encoded data removed]",
      "text/plain": [
       "<Figure size 864x288 with 3 Axes>"
      ]
     },
     "metadata": {},
     "output_type": "display_data"
    }
   ],
   "source": [
    "fig, ax = plt.subplots(1, 1, figsize=(6,6), sharex=True)\n",
    "\n",
    "ax.plot(t,FiberLen, label = 'fiber')\n",
    "ax.plot(t,TendonLen, label = 'tendon')\n",
    "plt.grid()\n",
    "plt.xlabel('time (s)')\n",
    "plt.ylabel('Length (m)')\n",
    "ax.legend(loc='best')\n",
    "\n",
    "\n",
    "fig, ax = plt.subplots(1, 3, figsize=(12,4), sharex=True, sharey=True)\n",
    "ax[0].plot(t,FiberLen, label = 'fiber')\n",
    "ax[1].plot(t,TendonLen, label = 'tendon')\n",
    "ax[2].plot(t,FiberLen + TendonLen, label = 'muscle (tendon + fiber)')\n",
    "\n",
    "ax[1].set_xlabel('time (s)')\n",
    "ax[0].set_ylabel('Length (m)')\n",
    "#plt.legend(loc='best')"
   ]
  },
  {
   "cell_type": "code",
   "execution_count": 19,
   "metadata": {},
   "outputs": [
    {
     "name": "stderr",
     "output_type": "stream",
     "text": [
      "No handles with labels found to put in legend.\n"
     ]
    },
    {
     "data": {
      "text/plain": [
       "<matplotlib.legend.Legend at 0x201799d94e0>"
      ]
     },
     "execution_count": 19,
     "metadata": {},
     "output_type": "execute_result"
    },
    {
     "data": {
      "image/png": "[encoded data removed]",
      "text/plain": [
       "<Figure size 432x432 with 1 Axes>"
      ]
     },
     "metadata": {},
     "output_type": "display_data"
    }
   ],
   "source": [
    "fig, ax = plt.subplots(1, 1, figsize=(6,6), sharex=True)\n",
    "\n",
    "ax.plot(t,angle,c='red')\n",
    "plt.grid()\n",
    "plt.xlabel('time (s)')\n",
    "plt.ylabel('Joint moment')\n",
    "\n",
    "\n",
    "ax.legend()"
   ]
  }
 ],
 "metadata": {
  "kernelspec": {
   "display_name": "Python 3",
   "language": "python",
   "name": "python3"
  },
  "language_info": {
   "codemirror_mode": {
    "name": "ipython",
    "version": 3
   },
   "file_extension": ".py",
   "mimetype": "text/x-python",
   "name": "python",
   "nbconvert_exporter": "python",
   "pygments_lexer": "ipython3",
   "version": "3.6.5"
  },
  "latex_envs": {
   "LaTeX_envs_menu_present": true,
   "autoclose": false,
   "autocomplete": true,
   "bibliofile": "biblio.bib",
   "cite_by": "apalike",
   "current_citInitial": 1,
   "eqLabelWithNumbers": true,
   "eqNumInitial": 1,
   "hotkeys": {
    "equation": "Ctrl-E",
    "itemize": "Ctrl-I"
   },
   "labels_anchors": false,
   "latex_user_defs": false,
   "report_style_numbering": false,
   "user_envs_cfg": false
  },
  "nbTranslate": {
   "displayLangs": [
    "*"
   ],
   "hotkey": "alt-t",
   "langInMainMenu": true,
   "sourceLang": "en",
   "targetLang": "fr",
   "useGoogleTranslate": true
  }
 },
 "nbformat": 4,
 "nbformat_minor": 2
}
