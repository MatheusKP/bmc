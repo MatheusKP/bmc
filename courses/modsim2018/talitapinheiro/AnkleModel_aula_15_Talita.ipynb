{
 "cells": [
  {
   "cell_type": "markdown",
   "metadata": {},
   "source": [
    "# Task 14 - Motor Control\n",
    "### Introduction to modeling and simulation of human movement\n",
    "https://github.com/BMClab/bmc/blob/master/courses/ModSim2018.md"
   ]
  },
  {
   "cell_type": "markdown",
   "metadata": {},
   "source": [
    "Implement a simulation of the ankle joint model using the parameters from Thelen (2003) and Elias (2014)"
   ]
  },
  {
   "cell_type": "code",
   "execution_count": null,
   "metadata": {},
   "outputs": [],
   "source": [
    "import numpy as np\n",
    "import pandas as pd\n",
    "%matplotlib notebook\n",
    "import matplotlib.pyplot as plt\n",
    "import math"
   ]
  },
  {
   "cell_type": "code",
   "execution_count": null,
   "metadata": {},
   "outputs": [],
   "source": [
    "class Muscle:\n",
    "    \n",
    "    def __init__(self, Lslack, Lce_o, Fmax, alpha):\n",
    "        \n",
    "        self.Lslack = Lslack # tendon slack length\n",
    "        self.Lce_o  = Lce_o # optimal muscle fiber length\n",
    "        self.Fmax   = Fmax #maximal isometric DF force\n",
    "        self.alpha  = alpha # DF muscle fiber pennation angle\n",
    "        self.width = 0.63\n",
    "        self.UmaxTendon = 0.04\n",
    "        \n",
    "        self.tau_deact = 50e-3 #young adults\n",
    "        self tau_act = 15e-3\n",
    "        self.FMlen = 1.4 #young adults\n",
    "        self.Vmax = 10 #young adults\n",
    "        self.Af = 0.25 #force-velocity shape factor\n",
    "        \n",
    "    def tendonLength(self, Lm, Lnorm_ce):\n",
    "        '''\n",
    "        Compute tendon length\n",
    "\n",
    "        Inputs:\n",
    "            Lm = \n",
    "            Lce_o = optimal length of the fiber\n",
    "            Lnorm_ce = normalized contractile element length\n",
    "\n",
    "        Output:\n",
    "            Lnorm_see = normalized tendon length   \n",
    "        '''\n",
    "        Lnorm_see = Lm/self.Lce_o - Lnorm_ce*np.cos(self.alpha)\n",
    "\n",
    "        return Lnorm_see\n",
    "    \n",
    "    def TendonForce(self, Lnorm_see):\n",
    "        '''\n",
    "        Compute tendon force\n",
    "\n",
    "        Inputs:\n",
    "            Lnorm_see = normalized tendon length\n",
    "            Lslack = slack length of the tendon (non-normalized)\n",
    "            Lce_o = optimal length of the fiber\n",
    "\n",
    "        Output:\n",
    "            Fnorm_tendon = normalized tendon force\n",
    "\n",
    "        '''\n",
    "        \n",
    "\n",
    "        if Lnorm_see<self.Lslack/self.Lce_o: \n",
    "            Fnorm_tendon = 0\n",
    "        else: \n",
    "            Fnorm_tendon = ((Lnorm_see-self.Lslack/self.Lce_o)/\n",
    "                            (self.UmaxTendon*self.Lslack/self.Lce_o))**2\n",
    "\n",
    "        return Fnorm_tendon\n",
    "    \n",
    "    def ParallelElementForce(self,Lnorm_ce):\n",
    "        '''\n",
    "        Compute parallel element force\n",
    "    \n",
    "        Inputs:\n",
    "            Lnorm_ce = normalized contractile element length\n",
    "    \n",
    "        Output:\n",
    "            Fnorm_kpe = normalized parallel element force\n",
    "\n",
    "        '''\n",
    "        Umax = 1\n",
    "    \n",
    "        if Lnorm_ce< 1: \n",
    "            Fnorm_kpe = 0\n",
    "        else: \n",
    "            Fnorm_kpe = ((Lnorm_ce-1)/(self.Umax*1))**2 \n",
    "        \n",
    "        return Fnorm_kpe\n",
    "    \n",
    "    def ForceLengthCurve(self,Lnorm_ce):\n",
    "        F0 = max([0, (1-((Lnorm_ce-1)/self.width)**2)])\n",
    "        return F0\n",
    "    \n",
    "    def ContractileElementDot(self,F0, Fnorm_CE, a):\n",
    "    \n",
    "        '''\n",
    "        Compute Contractile Element Derivative\n",
    "\n",
    "        Inputs:\n",
    "            F0 = Force-Length Curve\n",
    "            Fce = Contractile element force\n",
    "    \n",
    "        Output:\n",
    "            Lnorm_cedot = normalized contractile element length derivative\n",
    "\n",
    "        '''\n",
    "    \n",
    "        Fnorm_CE = min(self.FMlen*a*F0 - 0.001, Fnorm_CE)\n",
    "    \n",
    "        if Fnorm_CE > a*F0:\n",
    "        \n",
    "            b = ((2 + 2/self.Af)*(a*F0*self.FMlen - Fnorm_CE))/(self.FMlen-1)\n",
    "        \n",
    "        elif Fnorm_CE <= a*F0:\n",
    "        \n",
    "            b = a*F0 + Fnorm_CE/self.Af\n",
    "    \n",
    "        Lnorm_cedot = (.25 + .75*a)*self.Vmax*((Fnorm_CE - a*F0)/b)\n",
    "    \n",
    "        return Lnorm_cedot\n",
    "    \n",
    "    def ContractileElementForce(self,Fnorm_tendon, Fnorm_kpe):\n",
    "        '''\n",
    "        Compute Contractile Element force\n",
    "\n",
    "        Inputs:\n",
    "            Fnorm_tendon = normalized tendon force\n",
    "            Fnorm_kpe = normalized parallel element force\n",
    "    \n",
    "        Output:\n",
    "            Fnorm_CE = normalized contractile element force\n",
    "        '''\n",
    "        Fnorm_CE = Fnorm_tendon/np.cos(self.alpha) - Fnorm_kpe\n",
    "        return Fnorm_CE\n",
    "    \n",
    "    def activation(self, a, u, dt):\n",
    "        '''\n",
    "        Compute activation\n",
    "    \n",
    "        Inputs:\n",
    "            u = idealized muscle excitation signal, 0 <= u <= 1\n",
    "            a = muscular activation\n",
    "            dt = time step\n",
    "    \n",
    "        Output:\n",
    "            a = muscular activation  \n",
    "        '''\n",
    "    \n",
    "        if u>a:\n",
    "            tau_a = self.tau_act*(0.5+1.5*a)\n",
    "        elif u <=a:\n",
    "            tau_a = self.tau_deact/(0.5+1.5*a)\n",
    "    \n",
    "        #-------\n",
    "        dadt = (u-a)/tau_a # euler\n",
    "    \n",
    "        a = a + dadt*dt\n",
    "        #-------\n",
    "        return a\n"
   ]
  },
  {
   "cell_type": "code",
   "execution_count": null,
   "metadata": {},
   "outputs": [],
   "source": [
    "Lslack = 2.4*0.09 # tendon slack length\n",
    "Lce_o  = 0.09 # optimal muscle fiber length\n",
    "Fmax   = 1400 #maximal isometric DF force\n",
    "alpha  = 7*math.pi/180 # DF muscle fiber pennation angle"
   ]
  },
  {
   "cell_type": "code",
   "execution_count": null,
   "metadata": {},
   "outputs": [],
   "source": [
    "dorsiflexor = Muscle(Lce_o=Lce_o, Fmax=Fmax, Lslack=Lslack, alpha=alpha)\n",
    "soleus = Muscle(Lce_o=0.05, Fmax=3500, Lslack=0.25, alpha=25*np.pi/180)"
   ]
  },
  {
   "cell_type": "code",
   "execution_count": null,
   "metadata": {},
   "outputs": [],
   "source": [
    "soleus.Fmax"
   ]
  },
  {
   "cell_type": "markdown",
   "metadata": {},
   "source": [
    "### Muscle properties\n",
    "Parameters obtained from Table 2 of Thelen (2003)."
   ]
  },
  {
   "cell_type": "code",
   "execution_count": null,
   "metadata": {},
   "outputs": [],
   "source": [
    "Lslack = 2.4*0.09 # tendon slack length\n",
    "Lce_o  = 0.09 # optimal muscle fiber length\n",
    "Fmax   = 1400 #maximal isometric DF force\n",
    "alpha  = 7*math.pi/180 # DF muscle fiber pennation angle"
   ]
  },
  {
   "cell_type": "markdown",
   "metadata": {},
   "source": [
    "Parameters from Nigg & Herzog (2006)."
   ]
  },
  {
   "cell_type": "markdown",
   "metadata": {},
   "source": [
    "Activation dynamics parameters"
   ]
  },
  {
   "cell_type": "code",
   "execution_count": null,
   "metadata": {},
   "outputs": [],
   "source": [
    "a = 1 #inital conditional for ativation\n",
    "u = 1 #Initial conditional for Brain's activation\n",
    "#b = .25*10#*Lce_o "
   ]
  },
  {
   "cell_type": "markdown",
   "metadata": {},
   "source": [
    "## Subject's anthropometrics\n",
    "Parameters obtained experimentally or from Winter's book."
   ]
  },
  {
   "cell_type": "code",
   "execution_count": null,
   "metadata": {},
   "outputs": [],
   "source": [
    "M      = 75 #total body mass (kg)\n",
    "Lseg   = 0.26 #segment length (m)\n",
    "m      = 0.0145*M #foot mass (kg)\n",
    "g      = 9.81 #acceleration of gravity (m/s2)\n",
    "Rcm    = Lseg*0.5 #distance from ankle joint to center of mass (m)\n",
    "I      = m*(0.69*Lseg)**2 #moment of inertia\n",
    "legAng = math.pi/2 #angle of the leg with horizontal (90 deg)"
   ]
  },
  {
   "cell_type": "markdown",
   "metadata": {},
   "source": [
    "### Initial conditions"
   ]
  },
  {
   "cell_type": "code",
   "execution_count": null,
   "metadata": {},
   "outputs": [],
   "source": [
    "phi  = 0 #start as neutral ankle angle (0 degrees)\n",
    "phid = 0 #zero velocity\n",
    "Lm0  = 0.31 #initial total lenght of the muscle\n",
    "Lnorm_ce = .087/Lce_o #norm\n",
    "t0 = 0 #Initial time\n",
    "tf = 0.5 #Final Time\n",
    "h  = 1e-4 #integration step size and step counter"
   ]
  },
  {
   "cell_type": "code",
   "execution_count": null,
   "metadata": {},
   "outputs": [],
   "source": [
    "t = np.arange(t0,tf,h) # time array\n",
    "# preallocating\n",
    "F          = np.empty(t.shape)\n",
    "phivec     = np.empty(t.shape)\n",
    "Fkpe       = np.empty(t.shape)\n",
    "FiberLen   = np.empty(t.shape)\n",
    "TendonLen  = np.empty(t.shape)\n",
    "a_dynamics = np.empty(t.shape)\n",
    "Moment     = np.empty(t.shape)"
   ]
  },
  {
   "cell_type": "markdown",
   "metadata": {},
   "source": [
    "## Simulation - Series"
   ]
  },
  {
   "cell_type": "code",
   "execution_count": null,
   "metadata": {},
   "outputs": [],
   "source": [
    "def momentArmDF(phi):\n",
    "    '''\n",
    "    Calculate the tibialis anterior moment arm according to Elias et al (2014)\n",
    "    Input: \n",
    "    phi: Ankle joint angle in radians\n",
    "    Output:\n",
    "    Rarm: TA moment arm\n",
    "    '''\n",
    "    # Consider neutral ankle position as zero degrees\n",
    "    phi = phi*180/np.pi # converting to degrees\n",
    "    Rf = 4.3 + 1.66E-2*phi + -3.89E-4*phi**2 + -4.45E-6*phi**3 + -4.34E-8*phi**4\n",
    "    Rf = Rf/100 # converting to meters\n",
    "    return Rf"
   ]
  },
  {
   "cell_type": "code",
   "execution_count": null,
   "metadata": {},
   "outputs": [],
   "source": [
    "def ComputeTotalLengthSizeTA(phi):\n",
    "    '''\n",
    "    Calculate TA MTU length size according to Elias et al (2014)\n",
    "    Input: \n",
    "    phi: ankle angle\n",
    "    '''\n",
    "    phi = phi*180/math.pi # converting to degrees\n",
    "    Lm = 30.6 + -7.44E-2*phi + -1.41E-4*phi**2 + 2.42E-6*phi**3 + 1.5E-8*phi**4\n",
    "    Lm = Lm/100\n",
    "    return Lm"
   ]
  },
  {
   "cell_type": "code",
   "execution_count": null,
   "metadata": {},
   "outputs": [],
   "source": [
    "def ComputeMomentJoint(Rf, Fnorm_tendon, Fmax, m, g, phi):\n",
    "    '''\n",
    "    Inputs:\n",
    "        RF = Moment arm\n",
    "        Fnorm_tendon = Normalized tendon force\n",
    "        m = Segment Mass\n",
    "        g = Acelleration of gravity\n",
    "        Fmax= maximal isometric force\n",
    "    Output:\n",
    "        M = Total moment with respect to joint\n",
    "    '''\n",
    "    M = Rf*Fnorm_tendon*Fmax - m*g*Rcm*np.sin(legAng - phi)\n",
    "    return M"
   ]
  },
  {
   "cell_type": "code",
   "execution_count": null,
   "metadata": {},
   "outputs": [],
   "source": [
    "def ComputeAngularAcelerationJoint(M, I):\n",
    "    '''\n",
    "    Inputs:\n",
    "        M = Total moment with respect to joint\n",
    "        I = Moment of Inertia\n",
    "    Output:\n",
    "        phidd= angular aceleration of the joint\n",
    "    '''\n",
    "    phidd = M/I\n",
    "    return phidd"
   ]
  },
  {
   "cell_type": "markdown",
   "metadata": {},
   "source": [
    "Checar os parâmetros se estão ok aqui!"
   ]
  },
  {
   "cell_type": "code",
   "execution_count": null,
   "metadata": {},
   "outputs": [],
   "source": [
    "#Normalizing\n",
    "\n",
    "\n",
    "for i in range (len(t)):\n",
    "    #ramp\n",
    "    #if t[i]<=1:\n",
    "        #Lm = 0.31\n",
    "    #elif t[i]>1 and t[i]<2:\n",
    "        #Lm = .31 - .04*(t[i]-1)\n",
    "        #print(Lm)\n",
    "        \n",
    "   \n",
    "    #shortening at 4cm/s\n",
    "    #u = 0.7 + 0.2*np.sin(np.pi*t[i])\n",
    "    \n",
    "    Lm = ComputeTotalLengthSizeTA(phi)\n",
    "    \n",
    "    Rf = momentArmDF(phi)\n",
    "    ##############################################################\n",
    "    Lnorm_see = dorsiflexor.tendonLength(Lm,Lnorm_ce)\n",
    "\n",
    "    Fnorm_tendon = dorsiflexor.TendonForce(Lnorm_see) \n",
    "    \n",
    "    Fnorm_kpe = dorsiflexor.ParallelElementForce (Lnorm_ce)     \n",
    "        \n",
    "    #isometric force at Lce from CE force length relationship\n",
    "    F0 = dorsiflexor.ForceLengthCurve (Lnorm_ce)\n",
    "    \n",
    "    Fnorm_CE = dorsiflexor.ContractileElementForce(Fnorm_tendon,Fnorm_kpe) #Fnorm_CE = ~Fm\n",
    "    \n",
    "    #computing activation\n",
    "    a = dorsiflexor.activation(a,u,h)\n",
    "    \n",
    "    #calculate CE velocity from Hill's equation    \n",
    "    Lnorm_cedot = dorsiflexor.ContractileElementDot(F0, Fnorm_CE,a)\n",
    "    \n",
    "    Lnorm_ce = Lnorm_ce + h*Lnorm_cedot\n",
    "\n",
    "    #####################################################################    \n",
    "    \n",
    "    \n",
    "    #Compute MomentJoint\n",
    "    M = ComputeMomentJoint(Rf,Fnorm_tendon,Fmax,m,g,phi)\n",
    "    \n",
    "    #Compute Angular Aceleration Joint\n",
    "    phidd = ComputeAngularAcelerationJoint (M,I)\n",
    "    \n",
    "    # Euler integration steps\n",
    "    phid= phid + h*phidd\n",
    "    phi  = phi  + h*phid\n",
    "    phideg= (phi*180)/math.pi #convert joint angle from radians to degree\n",
    "    # Store variables in vectors\n",
    "    F[i] = Fnorm_tendon*Fmax\n",
    "    Fkpe[i] = Fnorm_kpe*Fmax\n",
    "    FiberLen[i] = Lnorm_ce*Lce_o\n",
    "    TendonLen[i] = Lnorm_see*Lce_o\n",
    "    a_dynamics[i] = a\n",
    "    phivec[i] = phideg\n",
    "    Moment[i] = M"
   ]
  },
  {
   "cell_type": "markdown",
   "metadata": {},
   "source": [
    "## Plots "
   ]
  },
  {
   "cell_type": "code",
   "execution_count": null,
   "metadata": {
    "scrolled": false
   },
   "outputs": [],
   "source": [
    "fig, ax = plt.subplots(1, 1, figsize=(6,4))\n",
    "\n",
    "ax.plot(t,a_dynamics,c='magenta')\n",
    "plt.grid()\n",
    "plt.xlabel('time (s)')\n",
    "plt.ylabel('Activation dynamics')\n",
    "plt.show()"
   ]
  },
  {
   "cell_type": "code",
   "execution_count": null,
   "metadata": {},
   "outputs": [],
   "source": [
    "fig, ax = plt.subplots(1, 1, figsize=(6,4))\n",
    "\n",
    "ax.plot(t, Moment)\n",
    "plt.grid()\n",
    "plt.xlabel('time (s)')\n",
    "plt.ylabel('joint moment')\n",
    "plt.show()"
   ]
  },
  {
   "cell_type": "code",
   "execution_count": null,
   "metadata": {
    "scrolled": false
   },
   "outputs": [],
   "source": [
    "fig, ax = plt.subplots(1, 1, figsize=(6,4))\n",
    "\n",
    "ax.plot(t, F, c='red')\n",
    "plt.grid()\n",
    "plt.xlabel('time (s)')\n",
    "plt.ylabel('Force (N)')\n",
    "plt.show()"
   ]
  },
  {
   "cell_type": "code",
   "execution_count": null,
   "metadata": {},
   "outputs": [],
   "source": [
    "fig, ax = plt.subplots(1, 1, figsize=(6,4))\n",
    "\n",
    "ax.plot(t,phivec,c='red')\n",
    "plt.grid()\n",
    "plt.xlabel('time (s)')\n",
    "plt.ylabel('Joint angle (deg)')\n",
    "plt.show()"
   ]
  },
  {
   "cell_type": "code",
   "execution_count": null,
   "metadata": {
    "scrolled": false
   },
   "outputs": [],
   "source": [
    "fig, ax = plt.subplots(1, 1, figsize=(6,4))\n",
    "\n",
    "ax.plot(t,FiberLen, label = 'fiber')\n",
    "ax.plot(t,TendonLen, label = 'tendon')\n",
    "plt.grid()\n",
    "plt.xlabel('time (s)')\n",
    "plt.ylabel('Length (m)')\n",
    "ax.legend(loc='best')\n",
    "\n",
    "\n",
    "fig, ax = plt.subplots(1, 3, figsize=(9,4), sharex=True, sharey=True)\n",
    "ax[0].plot(t,FiberLen, label = 'fiber')\n",
    "ax[1].plot(t,TendonLen, label = 'tendon')\n",
    "ax[2].plot(t,FiberLen + TendonLen, label = 'muscle (tendon + fiber)')\n",
    "\n",
    "ax[1].set_xlabel('time (s)')\n",
    "ax[0].set_ylabel('Length (m)')\n",
    "ax[0].legend(loc='best')\n",
    "ax[1].legend(loc='best')\n",
    "ax[2].legend(loc='best')\n",
    "plt.show()"
   ]
  }
 ],
 "metadata": {
  "kernelspec": {
   "display_name": "Python 3",
   "language": "python",
   "name": "python3"
  },
  "language_info": {
   "codemirror_mode": {
    "name": "ipython",
    "version": 3
   },
   "file_extension": ".py",
   "mimetype": "text/x-python",
   "name": "python",
   "nbconvert_exporter": "python",
   "pygments_lexer": "ipython3",
   "version": "3.6.4"
  },
  "latex_envs": {
   "LaTeX_envs_menu_present": true,
   "autoclose": false,
   "autocomplete": true,
   "bibliofile": "biblio.bib",
   "cite_by": "apalike",
   "current_citInitial": 1,
   "eqLabelWithNumbers": true,
   "eqNumInitial": 1,
   "hotkeys": {
    "equation": "Ctrl-E",
    "itemize": "Ctrl-I"
   },
   "labels_anchors": false,
   "latex_user_defs": false,
   "report_style_numbering": false,
   "user_envs_cfg": false
  },
  "nbTranslate": {
   "displayLangs": [
    "*"
   ],
   "hotkey": "alt-t",
   "langInMainMenu": true,
   "sourceLang": "en",
   "targetLang": "fr",
   "useGoogleTranslate": true
  },
  "varInspector": {
   "cols": {
    "lenName": 16,
    "lenType": 16,
    "lenVar": 40
   },
   "kernels_config": {
    "python": {
     "delete_cmd_postfix": "",
     "delete_cmd_prefix": "del ",
     "library": "var_list.py",
     "varRefreshCmd": "print(var_dic_list())"
    },
    "r": {
     "delete_cmd_postfix": ") ",
     "delete_cmd_prefix": "rm(",
     "library": "var_list.r",
     "varRefreshCmd": "cat(var_dic_list()) "
    }
   },
   "types_to_exclude": [
    "module",
    "function",
    "builtin_function_or_method",
    "instance",
    "_Feature"
   ],
   "window_display": false
  }
 },
 "nbformat": 4,
 "nbformat_minor": 2
}
