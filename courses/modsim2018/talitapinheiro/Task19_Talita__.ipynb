{
 "cells": [
  {
   "cell_type": "markdown",
   "metadata": {},
   "source": [
    "Numerical simulation of direct dynamics"
   ]
  },
  {
   "cell_type": "code",
   "execution_count": 8,
   "metadata": {},
   "outputs": [
    {
     "ename": "ModuleNotFoundError",
     "evalue": "No module named 'minjerk'",
     "output_type": "error",
     "traceback": [
      "\u001b[0;31m---------------------------------------------------------------------------\u001b[0m",
      "\u001b[0;31mModuleNotFoundError\u001b[0m                       Traceback (most recent call last)",
      "\u001b[0;32m<ipython-input-8-4fc9a3940bc1>\u001b[0m in \u001b[0;36m<module>\u001b[0;34m()\u001b[0m\n\u001b[1;32m     10\u001b[0m                                    '&=&' + mlatex(rhs) + r'\\end{array}'))\n\u001b[1;32m     11\u001b[0m \u001b[0;34m\u001b[0m\u001b[0m\n\u001b[0;32m---> 12\u001b[0;31m \u001b[0;32mfrom\u001b[0m \u001b[0mminjerk\u001b[0m \u001b[0;32mimport\u001b[0m \u001b[0mminjerk\u001b[0m\u001b[0;34m\u001b[0m\u001b[0m\n\u001b[0m\u001b[1;32m     13\u001b[0m \u001b[0;32mfrom\u001b[0m \u001b[0minvkin2_2d\u001b[0m \u001b[0;32mimport\u001b[0m \u001b[0minvkin\u001b[0m\u001b[0;34m\u001b[0m\u001b[0m\n",
      "\u001b[0;31mModuleNotFoundError\u001b[0m: No module named 'minjerk'"
     ]
    }
   ],
   "source": [
    "import sympy as sym\n",
    "from sympy import Symbol, symbols, cos, sin, Matrix, simplify\n",
    "from sympy.vector import CoordSys3D\n",
    "from sympy.physics.mechanics import dynamicsymbols, mlatex, init_vprinting\n",
    "init_vprinting()\n",
    "from IPython.display import display, Math\n",
    "\n",
    "eq = lambda lhs, rhs: display(Math(lhs + '=' + mlatex(rhs)))\n",
    "eq = lambda lhs, rhs: display(Math(r'\\begin{array}{l l}' + lhs +\n",
    "                                   '&=&' + mlatex(rhs) + r'\\end{array}'))\n",
    "\n",
    "from minjerk import minjerk\n",
    "from invkin2_2d import invkin\n"
   ]
  },
  {
   "cell_type": "markdown",
   "metadata": {},
   "source": [
    "$$\n",
    "\\ddot{q} \\quad=\\quad M(q)^{-1} \\left[\\tau - C(q,\\dot{q}) - G(q) - E(q,\\dot{q}) \\right]\n",
    "\\label{}\n",
    "$$\n",
    "\n",
    "\n",
    "$$\n",
    "\\left\\{\n",
    "\\begin{array}{l l}\n",
    "\\dfrac{\\mathrm{d} q}{\\mathrm{d}t} &amp;=&amp; \\dot{q}, \\quad &amp;q(t_0) = q_0\n",
    "\\\\\n",
    "\\dfrac{\\mathrm{d} \\dot{q}}{\\mathrm{d}t} &amp;=&amp; M(q)^{-1} \\left[\\tau - C(q,\\dot{q}) - G(q) - E(q,\\dot{q}) \\right], \\quad &amp;\\dot{q}(t_0) = \\dot{q}_0\n",
    "\\end{array}\n",
    "\\right.\n",
    "\\label{}\n",
    "$$"
   ]
  },
  {
   "cell_type": "code",
   "execution_count": 9,
   "metadata": {},
   "outputs": [],
   "source": [
    "height, mass = 1.70,               70  # m, kg\n",
    "L1n, L2n     = 0.188*height,       0.253*height\n",
    "d1n, d2n     = 0.436*L1n,          0.682*L2n\n",
    "m1n, m2n     = 0.0280*mass,        0.0220*mass\n",
    "rg1n, rg2n   = 0.322,              0.468\n",
    "I1n, I2n     = m1n*(rg1n*L1n)**2,  m2n*(rg2n*L2n)**2\n",
    "T1a = 72\n",
    "T2a = 30\n",
    "\n",
    "duration = 4\n",
    "\n",
    "xi, yi = 0, -L1n-L2n\n",
    "xf, yf = L1n, L2n\n",
    "gn = 9.81  # gravity acceleration m/s2"
   ]
  },
  {
   "cell_type": "code",
   "execution_count": 10,
   "metadata": {},
   "outputs": [
    {
     "ename": "NameError",
     "evalue": "name 'minjerk' is not defined",
     "output_type": "error",
     "traceback": [
      "\u001b[0;31m---------------------------------------------------------------------------\u001b[0m",
      "\u001b[0;31mNameError\u001b[0m                                 Traceback (most recent call last)",
      "\u001b[0;32m<ipython-input-10-5918f81130ac>\u001b[0m in \u001b[0;36m<module>\u001b[0;34m()\u001b[0m\n\u001b[1;32m      1\u001b[0m \u001b[0;34m\u001b[0m\u001b[0m\n\u001b[0;32m----> 2\u001b[0;31m \u001b[0mtime\u001b[0m\u001b[0;34m,\u001b[0m \u001b[0mrlin\u001b[0m\u001b[0;34m,\u001b[0m \u001b[0mvlin\u001b[0m\u001b[0;34m,\u001b[0m \u001b[0malin\u001b[0m\u001b[0;34m,\u001b[0m \u001b[0mjlin\u001b[0m \u001b[0;34m=\u001b[0m \u001b[0mminjerk\u001b[0m\u001b[0;34m(\u001b[0m\u001b[0;34m[\u001b[0m\u001b[0mxi\u001b[0m\u001b[0;34m,\u001b[0m \u001b[0myi\u001b[0m\u001b[0;34m]\u001b[0m\u001b[0;34m,\u001b[0m \u001b[0;34m[\u001b[0m\u001b[0mxf\u001b[0m\u001b[0;34m,\u001b[0m \u001b[0myf\u001b[0m\u001b[0;34m]\u001b[0m\u001b[0;34m,\u001b[0m \u001b[0mduration\u001b[0m\u001b[0;34m=\u001b[0m\u001b[0mduration\u001b[0m\u001b[0;34m)\u001b[0m\u001b[0;34m\u001b[0m\u001b[0m\n\u001b[0m\u001b[1;32m      3\u001b[0m \u001b[0;34m\u001b[0m\u001b[0m\n\u001b[1;32m      4\u001b[0m \u001b[0mrang\u001b[0m \u001b[0;34m=\u001b[0m \u001b[0minvkin\u001b[0m\u001b[0;34m(\u001b[0m\u001b[0mtime\u001b[0m\u001b[0;34m,\u001b[0m \u001b[0mrlin\u001b[0m\u001b[0;34m,\u001b[0m \u001b[0mL1\u001b[0m\u001b[0;34m=\u001b[0m\u001b[0mL1n\u001b[0m\u001b[0;34m,\u001b[0m \u001b[0mL2\u001b[0m\u001b[0;34m=\u001b[0m\u001b[0mL2n\u001b[0m\u001b[0;34m)\u001b[0m\u001b[0;34m\u001b[0m\u001b[0m\n",
      "\u001b[0;31mNameError\u001b[0m: name 'minjerk' is not defined"
     ]
    }
   ],
   "source": [
    "\n",
    "time, rlin, vlin, alin, jlin = minjerk([xi, yi], [xf, yf], duration=duration)\n",
    "\n",
    "rang = invkin(time, rlin, L1=L1n, L2=L2n)"
   ]
  },
  {
   "cell_type": "code",
   "execution_count": 13,
   "metadata": {},
   "outputs": [
    {
     "ename": "NameError",
     "evalue": "name 'rang' is not defined",
     "output_type": "error",
     "traceback": [
      "\u001b[0;31m---------------------------------------------------------------------------\u001b[0m",
      "\u001b[0;31mNameError\u001b[0m                                 Traceback (most recent call last)",
      "\u001b[0;32m<ipython-input-13-44c743168c60>\u001b[0m in \u001b[0;36m<module>\u001b[0;34m()\u001b[0m\n\u001b[1;32m     10\u001b[0m     \u001b[0;32mreturn\u001b[0m \u001b[0mvang\u001b[0m\u001b[0;34m\u001b[0m\u001b[0m\n\u001b[1;32m     11\u001b[0m \u001b[0;34m\u001b[0m\u001b[0m\n\u001b[0;32m---> 12\u001b[0;31m \u001b[0mvang\u001b[0m \u001b[0;34m=\u001b[0m \u001b[0mdiff_c\u001b[0m\u001b[0;34m(\u001b[0m\u001b[0mrang\u001b[0m\u001b[0;34m,\u001b[0m \u001b[0mduration\u001b[0m\u001b[0;34m)\u001b[0m\u001b[0;34m\u001b[0m\u001b[0m\n\u001b[0m",
      "\u001b[0;31mNameError\u001b[0m: name 'rang' is not defined"
     ]
    }
   ],
   "source": [
    "def diff_c(rang, duration):\n",
    "    \"\"\"Numerical differentiations using the central difference for the angular data.\n",
    "    \"\"\"\n",
    "    # central difference (f(x+h)-f(x-h))/(2*h)\n",
    "    dt = duration/(ang.shape[0]-1)\n",
    "    vang = np.empty_like(rang)\n",
    "    vang[:, 0] = np.gradient(rang[:, 0], dt)\n",
    "    vang[:, 1] = np.gradient(rang[:, 1], dt)\n",
    "      \n",
    "    return vang\n",
    "\n",
    "vang = diff_c(rang, duration)"
   ]
  },
  {
   "cell_type": "code",
   "execution_count": 16,
   "metadata": {},
   "outputs": [],
   "source": [
    "def dyna(time, L1n, L2n, d1n, d2n, m1n, m2n, gn, I1n, I2n, q1, q2, rang, vang, Fexn, Feyn, M, C, G, E):\n",
    "    \"\"\"Numerical calculation and plot for the torques of a planar two-link system.\n",
    "    \"\"\"\n",
    "    from sympy import lambdify, symbols\n",
    "    \n",
    "    Mfun  = lambdify((I1, I2, L1, L2, d1, d2, m1, m2, q1, q2), M, 'numpy')\n",
    "    Mn    = Mfun(I1n, I2n, L1n, L2n, d1n, d2n, m1n, m2n, rang[:, 0], rang[:, 1])\n",
    "    M00   = Mn[0, 0]\n",
    "    M01   = Mn[0, 1]\n",
    "    M10   = Mn[1, 0]\n",
    "    M11   = Mn[1, 1]\n",
    "    Q1d, Q2d = symbols('Q1d Q2d')\n",
    "    dicti = {q1.diff(t, 1):Q1d, q2.diff(t, 1):Q2d}\n",
    "    C0fun = lambdify((L1, d2, m2, q2, Q1d, Q2d), C[0].subs(dicti), 'numpy')\n",
    "    C0    = C0fun(L1n, d2n, m2n, rang[:, 1], vang[:, 0], vang[:, 1])\n",
    "    C1fun = lambdify((L1, d2, m2, q2, Q1d, Q2d), C[1].subs(dicti), 'numpy')\n",
    "    C1    = C1fun(L1n, d2n, m2n, rang[:, 1], vang[:, 0], vang[:, 1])\n",
    "    G0fun = lambdify((L1, d1, d2, m1, m2, g, q1, q2), G[0], 'numpy')\n",
    "    G0    = G0fun(L1n, d1n, d2n, m1n, m2n, gn, rang[:, 0], rang[:, 1])\n",
    "    G1fun = lambdify((L1, d1, d2, m1, m2, g, q1, q2), G[1], 'numpy')\n",
    "    G1    = G1fun(L1n, d1n, d2n, m1n, m2n, gn, rang[:, 0], rang[:, 1])\n",
    "    E0fun = lambdify((L1, L2, q1, q2, Fex, Fey), E[0], 'numpy')\n",
    "    E0    = E0fun(L1n, L2n, rang[:, 0], rang[:, 1], 0, 0)\n",
    "    E1fun = lambdify((L1, L2, q1, q2, Fex, Fey), E[1], 'numpy')\n",
    "    E1    = E1fun(L1n, L2n, rang[:, 0], rang[:, 1], Fexn, Feyn)\n",
    "          \n",
    "    return M00, M01, M10, M11, C0, C1, G0, G1, E0, E1\n"
   ]
  },
  {
   "cell_type": "code",
   "execution_count": 17,
   "metadata": {},
   "outputs": [
    {
     "ename": "NameError",
     "evalue": "name 'time' is not defined",
     "output_type": "error",
     "traceback": [
      "\u001b[0;31m---------------------------------------------------------------------------\u001b[0m",
      "\u001b[0;31mNameError\u001b[0m                                 Traceback (most recent call last)",
      "\u001b[0;32m<ipython-input-17-b81dc1ad429b>\u001b[0m in \u001b[0;36m<module>\u001b[0;34m()\u001b[0m\n\u001b[1;32m      1\u001b[0m \u001b[0mFexn\u001b[0m\u001b[0;34m,\u001b[0m \u001b[0mFeyn\u001b[0m \u001b[0;34m=\u001b[0m \u001b[0;36m0\u001b[0m\u001b[0;34m,\u001b[0m \u001b[0;36m0\u001b[0m\u001b[0;34m\u001b[0m\u001b[0m\n\u001b[0;32m----> 2\u001b[0;31m M00, M01, M10, M11, C0, C1, G0, G1, E0, E1 = dyna(time, L1n, L2n, d1n, d2n, m1n, m2n, gn, I1n, I2n,\n\u001b[0m\u001b[1;32m      3\u001b[0m                                                   q1, q2, rang, vang, Fexn, Feyn, M, C, G, E)\n\u001b[1;32m      4\u001b[0m \u001b[0macc1\u001b[0m \u001b[0;34m=\u001b[0m \u001b[0;34m(\u001b[0m\u001b[0mT1a\u001b[0m\u001b[0;34m-\u001b[0m\u001b[0mC0\u001b[0m\u001b[0;34m-\u001b[0m\u001b[0mG0\u001b[0m\u001b[0;34m-\u001b[0m\u001b[0mE0\u001b[0m\u001b[0;34m)\u001b[0m\u001b[0;34m/\u001b[0m\u001b[0;34m(\u001b[0m\u001b[0mM00\u001b[0m\u001b[0;34m+\u001b[0m\u001b[0mM01\u001b[0m\u001b[0;34m)\u001b[0m\u001b[0;34m\u001b[0m\u001b[0m\n\u001b[1;32m      5\u001b[0m \u001b[0macc2\u001b[0m \u001b[0;34m=\u001b[0m \u001b[0;34m(\u001b[0m\u001b[0mT2a\u001b[0m\u001b[0;34m-\u001b[0m\u001b[0mC1\u001b[0m\u001b[0;34m-\u001b[0m\u001b[0mG1\u001b[0m\u001b[0;34m-\u001b[0m\u001b[0mE1\u001b[0m\u001b[0;34m)\u001b[0m\u001b[0;34m/\u001b[0m\u001b[0;34m(\u001b[0m\u001b[0mM10\u001b[0m\u001b[0;34m+\u001b[0m\u001b[0mM11\u001b[0m\u001b[0;34m)\u001b[0m\u001b[0;34m\u001b[0m\u001b[0m\n",
      "\u001b[0;31mNameError\u001b[0m: name 'time' is not defined"
     ]
    }
   ],
   "source": [
    "Fexn, Feyn = 0, 0\n",
    "M00, M01, M10, M11, C0, C1, G0, G1, E0, E1 = dyna(time, L1n, L2n, d1n, d2n, m1n, m2n, gn, I1n, I2n,\n",
    "                                                  q1, q2, rang, vang, Fexn, Feyn, M, C, G, E)\n",
    "acc1 = (T1a-C0-G0-E0)/(M00+M01)\n",
    "acc2 = (T2a-C1-G1-E1)/(M10+M11)"
   ]
  },
  {
   "cell_type": "code",
   "execution_count": null,
   "metadata": {},
   "outputs": [],
   "source": []
  }
 ],
 "metadata": {
  "kernelspec": {
   "display_name": "Python 3",
   "language": "python",
   "name": "python3"
  },
  "language_info": {
   "codemirror_mode": {
    "name": "ipython",
    "version": 3
   },
   "file_extension": ".py",
   "mimetype": "text/x-python",
   "name": "python",
   "nbconvert_exporter": "python",
   "pygments_lexer": "ipython3",
   "version": "3.6.5"
  }
 },
 "nbformat": 4,
 "nbformat_minor": 2
}
