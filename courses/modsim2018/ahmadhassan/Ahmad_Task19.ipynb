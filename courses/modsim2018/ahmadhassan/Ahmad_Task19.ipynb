{
 "cells": [
  {
   "cell_type": "code",
   "execution_count": 1,
   "metadata": {
    "collapsed": true
   },
   "outputs": [],
   "source": [
    "f(x) = x**3 - 7.5*x**2 + 18*x - 10\n",
    "\n",
    "    f´(x) = 3*x**2 - 15*x + 18 = 0\n",
    "    \n",
    "        delta = 15**2 - 4*3*18 = 9\n",
    "        raiz(delta) = 3\n",
    "        \n",
    "        x1 = (-(-15)+3)/2*3 = 3\n",
    "        x2 = (15-3)/6 = 2\n",
    "        \n",
    "        Assim, x1 e x2 são extremos de f(x). Agora veremos se são máximos ou mínimos.\n",
    "        \n",
    "    f´´(x) = 6*x - 15\n",
    "    \n",
    "    Portanto x1=3 ponto de mínimo e x2=2 ponto de máximo.     "
   ]
  },
  {
   "cell_type": "code",
   "execution_count": 14,
   "metadata": {
    "collapsed": false
   },
   "outputs": [
    {
     "name": "stdout",
     "output_type": "stream",
     "text": [
      "Local minimum by gradient descent at 3.000323195755751 with function value 3.5000001567170003.\n"
     ]
    }
   ],
   "source": [
    "cur_x = 6               # The algorithm starts at x=6\n",
    "gamma = 0.01            # step size multiplier\n",
    "precision = 0.00001\n",
    "step_size = 1           # initial step size\n",
    "max_iters = 10000       # maximum number of iterations\n",
    "iters = 0               # iteration counter\n",
    "\n",
    "f  = lambda x: x**3 - 7.5*x**2 + 18*x - 10  # lambda function for f(x)\n",
    "df = lambda x: 3*x**2 - 15*x + 18    # lambda function for the gradient of f(x)\n",
    "\n",
    "while (step_size > precision) & (iters < max_iters):\n",
    "    prev_x = cur_x\n",
    "    cur_x -= gamma*df(prev_x)\n",
    "    step_size = abs(cur_x - prev_x)\n",
    "    iters+=1\n",
    "\n",
    "print('Local minimum by gradient descent at {} with function value {}.'.format(cur_x, f(cur_x)))"
   ]
  }
 ],
 "metadata": {
  "kernelspec": {
   "display_name": "Python 3",
   "language": "python",
   "name": "python3"
  },
  "language_info": {
   "codemirror_mode": {
    "name": "ipython",
    "version": 3
   },
   "file_extension": ".py",
   "mimetype": "text/x-python",
   "name": "python",
   "nbconvert_exporter": "python",
   "pygments_lexer": "ipython3",
   "version": "3.5.1"
  }
 },
 "nbformat": 4,
 "nbformat_minor": 0
}
