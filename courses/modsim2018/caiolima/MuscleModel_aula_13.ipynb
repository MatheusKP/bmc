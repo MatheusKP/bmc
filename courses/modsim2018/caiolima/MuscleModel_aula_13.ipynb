{
 "cells": [
  {
   "cell_type": "markdown",
   "metadata": {},
   "source": [
    "# Task 12 - Motor Control\n",
    "### Introduction to modeling and simulation of human movement\n",
    "https://github.com/BMClab/bmc/blob/master/courses/ModSim2018.md"
   ]
  },
  {
   "cell_type": "markdown",
   "metadata": {},
   "source": [
    "Desiree Miraldo  \n",
    "Renato Watanabe\n",
    "Caio Lima\n",
    "\n",
    "* Based on task for Lecture 12 (+ ModelJoint):\n",
    "\n",
    "The new function must compute the derivative according to the article from Nigg B, Herzog W, (Biomechanics of the Musculo-skeletal System) (Knee.m):\n",
    "\n",
    "Nigg B, Herzog W; Biomechanics of the Musculo-skeletal System (1999)"
   ]
  },
  {
   "cell_type": "code",
   "execution_count": 1,
   "metadata": {},
   "outputs": [],
   "source": [
    "import numpy as np\n",
    "import pandas as pd\n",
    "import matplotlib.pyplot as plt\n",
    "import math\n",
    "\n",
    "%matplotlib notebook"
   ]
  },
  {
   "cell_type": "markdown",
   "metadata": {},
   "source": [
    "### Muscle properties"
   ]
  },
  {
   "cell_type": "code",
   "execution_count": 2,
   "metadata": {},
   "outputs": [],
   "source": [
    "Lslack = .223 # sack length of SEE\n",
    "Umax = .04 # SEE strain at Fmax\n",
    "Lce_o = .093 #optmal l\n",
    "width = .63#*Lce_o\n",
    "Fmax = 7400 #maximal isometric force\n",
    "a = 1 #inital conditional for ativation\n",
    "u = 1 #Initial conditional for Brain's activation\n",
    "#b = .25*10#*Lce_o "
   ]
  },
  {
   "cell_type": "code",
   "execution_count": 3,
   "metadata": {},
   "outputs": [],
   "source": [
    "### Joint Properties"
   ]
  },
  {
   "cell_type": "code",
   "execution_count": 4,
   "metadata": {},
   "outputs": [],
   "source": [
    "m = 10; #Segment Mass\n",
    "g = 9.81# acceleration of gravity\n",
    "Rcm = 0.264 # distance knee joint to center of mass\n",
    "I = 0.1832# moment of inertia\n",
    "Rf = 0.033# moment arm of quadriceps"
   ]
  },
  {
   "cell_type": "markdown",
   "metadata": {},
   "source": [
    "### Initial conditions"
   ]
  },
  {
   "cell_type": "code",
   "execution_count": 5,
   "metadata": {},
   "outputs": [],
   "source": [
    "phi = math.pi/2 #start as 90 degree flexion\n",
    "phid = 0 #zero velocity\n",
    "Lm0 = 0.31 #initial total lenght of the muscle\n",
    "Lm = 0.31 #initial total lenght of the muscle\n",
    "Lnorm_ce = .087/Lce_o #norm\n",
    "t0 = 0 #Initial time\n",
    "tf = 0.15 #Final Time\n",
    "h = 5e-4 #integration step size and step counter"
   ]
  },
  {
   "cell_type": "code",
   "execution_count": 6,
   "metadata": {},
   "outputs": [],
   "source": [
    "t = np.arange(t0,tf,h)\n",
    "F = np.empty(t.shape)\n",
    "phivec=np.empty(t.shape)\n",
    "Fkpe = np.empty(t.shape)\n",
    "FiberLen = np.empty(t.shape)\n",
    "TendonLen = np.empty(t.shape)\n",
    "a_dynamics = np.empty(t.shape)"
   ]
  },
  {
   "cell_type": "markdown",
   "metadata": {},
   "source": [
    "## Simulation - Series"
   ]
  },
  {
   "cell_type": "markdown",
   "metadata": {},
   "source": [
    "for i in range (len(t)):\n",
    "    #ramp\n",
    "    if t[i]<=1:\n",
    "        Lm = 0.31\n",
    "    elif t[i]>1 and t[i]<2:\n",
    "        Lm = .31 + .1*(t[i]-1)\n",
    "        #print(Lm)\n",
    "    \n",
    "    #shortening at 4cm/s\n",
    "    Lsee = Lm - Lce\n",
    "    \n",
    "    if Lsee<Lslack: \n",
    "        F[i] = 0\n",
    "    else: \n",
    "        F[i] = Fmax*((Lsee-Lslack)/(Umax*Lslack))**2\n",
    "        \n",
    "        \n",
    "    #isometric force at Lce from CE force length relationship\n",
    "    F0 = max([0, Fmax*(1-((Lce-Lce_o)/width)**2)])\n",
    "    \n",
    "    #calculate CE velocity from Hill's equation\n",
    "    if  F[i]>F0: print('Error: cannot do eccentric contractions')\n",
    "    \n",
    "    Lcedot = -b*(F0-F[i])/(F[i]+a) #vel is negative for shortening\n",
    "    \n",
    "    # --- Euler integration step\n",
    "    Lce += h*Lcedot\n",
    "\n",
    "    "
   ]
  },
  {
   "cell_type": "code",
   "execution_count": 7,
   "metadata": {},
   "outputs": [],
   "source": [
    "def TendonForce (Lnorm_see,Lslack, Lce_o):\n",
    "    '''\n",
    "    Compute tendon force\n",
    "\n",
    "    Inputs:\n",
    "        Lnorm_see = normalized tendon length\n",
    "        Lslack = slack length of the tendon (non-normalized)\n",
    "        Lce_o = optimal length of the fiber\n",
    "    \n",
    "    Output:\n",
    "        Fnorm_tendon = normalized tendon force\n",
    "        \n",
    "    '''\n",
    "    Umax = .04\n",
    "    \n",
    "    if Lnorm_see<Lslack/Lce_o: \n",
    "        Fnorm_tendon = 0\n",
    "    else: \n",
    "        Fnorm_tendon = ((Lnorm_see-Lslack/Lce_o)/(Umax*Lslack/Lce_o))**2\n",
    "        \n",
    "    return Fnorm_tendon"
   ]
  },
  {
   "cell_type": "code",
   "execution_count": 8,
   "metadata": {},
   "outputs": [],
   "source": [
    "def ParallelElementForce (Lnorm_ce):\n",
    "    '''\n",
    "    Compute parallel element force\n",
    "    \n",
    "    Inputs:\n",
    "        Lnorm_ce = normalized contractile element length\n",
    "    \n",
    "    Output:\n",
    "        Fnorm_kpe = normalized parallel element force\n",
    "\n",
    "    '''\n",
    "    Umax = 1\n",
    "    \n",
    "    if Lnorm_ce< 1: \n",
    "        Fnorm_kpe = 0\n",
    "    else: \n",
    "        Fnorm_kpe = ((Lnorm_ce-1)/(Umax*1))**2 \n",
    "        \n",
    "    return Fnorm_kpe"
   ]
  },
  {
   "cell_type": "code",
   "execution_count": 9,
   "metadata": {},
   "outputs": [],
   "source": [
    "def ForceLengthCurve (Lnorm_ce,width):\n",
    "    F0 = max([0, (1-((Lnorm_ce-1)/width)**2)])\n",
    "    return F0"
   ]
  },
  {
   "cell_type": "code",
   "execution_count": 10,
   "metadata": {},
   "outputs": [],
   "source": [
    "def ContractileElementDot(F0, Fnorm_CE, a):\n",
    "    \n",
    "    '''\n",
    "    Compute Contractile Element Derivative\n",
    "\n",
    "    Inputs:\n",
    "        F0 = Force-Length Curve\n",
    "        Fce = Contractile element force\n",
    "    \n",
    "    Output:\n",
    "        Lnorm_cedot = normalized contractile element length derivative\n",
    "\n",
    "    '''\n",
    "    \n",
    "    FMlen = 1.4 # young adults\n",
    "    Vmax = 10  # young adults\n",
    "    Af = 0.25  #force-velocity shape factor\n",
    "    \n",
    "    Fnorm_CE = min(FMlen*a*F0 - 0.001, Fnorm_CE)\n",
    "    \n",
    "    if  Fnorm_CE > a*F0:\n",
    "        \n",
    "        b = ((2 + 2/Af)*(a*F0*FMlen - Fnorm_CE))/(FMlen-1)\n",
    "        \n",
    "    elif Fnorm_CE <= a*F0:\n",
    "        \n",
    "        b = a*F0 + Fnorm_CE/Af\n",
    "    \n",
    "    Lnorm_cedot = (.25 + .75*a)*Vmax*((Fnorm_CE - a*F0)/b)\n",
    "    \n",
    "    return Lnorm_cedot"
   ]
  },
  {
   "cell_type": "code",
   "execution_count": 11,
   "metadata": {},
   "outputs": [],
   "source": [
    "def ContractileElementForce(Fnorm_tendon,Fnorm_kpe, alpha):\n",
    "    '''\n",
    "    Compute Contractile Element force\n",
    "\n",
    "    Inputs:\n",
    "        Fnorm_tendon = normalized tendon force\n",
    "        Fnorm_kpe = normalized parallel element force\n",
    "    \n",
    "    Output:\n",
    "        Fnorm_CE = normalized contractile element force\n",
    "    '''\n",
    "    Fnorm_CE = Fnorm_tendon/np.cos(alpha) - Fnorm_kpe\n",
    "    return Fnorm_CE"
   ]
  },
  {
   "cell_type": "code",
   "execution_count": 12,
   "metadata": {},
   "outputs": [],
   "source": [
    "def tendonLength(Lm,Lce_o,Lnorm_ce, alpha):\n",
    "    '''\n",
    "    Compute tendon length\n",
    "    \n",
    "    Inputs:\n",
    "        Lm = \n",
    "        Lce_o = optimal length of the fiber\n",
    "        Lnorm_ce = normalized contractile element length\n",
    "    \n",
    "    Output:\n",
    "        Lnorm_see = normalized tendon length   \n",
    "    '''\n",
    "    Lnorm_see = Lm/Lce_o - Lnorm_ce*np.cos(alpha)\n",
    "    \n",
    "    return Lnorm_see"
   ]
  },
  {
   "cell_type": "code",
   "execution_count": 13,
   "metadata": {},
   "outputs": [],
   "source": [
    "def activation(a,u,dt):\n",
    "    '''\n",
    "    Compute activation\n",
    "    \n",
    "    Inputs:\n",
    "        u = idealized muscle excitation signal, 0 <= u <= 1\n",
    "        a = muscular activation\n",
    "        dt = time step\n",
    "    \n",
    "    Output:\n",
    "        a = muscular activation  \n",
    "    '''\n",
    "    \n",
    "    tau_deact = 50e-3 #young adults\n",
    "    tau_act = 15e-3\n",
    "    \n",
    "    if u>a:\n",
    "        tau_a = tau_act*(0.5+1.5*a)\n",
    "    elif u <=a:\n",
    "        tau_a = tau_deact/(0.5+1.5*a)\n",
    "    \n",
    "    #-------\n",
    "    dadt = (u-a)/tau_a # euler\n",
    "    \n",
    "    a = a + dadt*dt\n",
    "    #-------\n",
    "    return a"
   ]
  },
  {
   "cell_type": "code",
   "execution_count": 14,
   "metadata": {},
   "outputs": [],
   "source": [
    "def ComputeTotalLenghtSize(Lm0,phi,Rf,Rcm):\n",
    "    '''\n",
    "    Inputs:\n",
    "        Lm0 = initial lenght of the muscle\n",
    "        Phi = degree flexion of the joint\n",
    "        RF = Moment arm\n",
    "        Lce_o = optimal size of the muscle\n",
    "    Output:\n",
    "        Lm = total muscle lenght\n",
    "    '''\n",
    "    Lm = Lm0 - (phi-(math.pi/2))*Rf #total muscle-tendon length from joint angle\n",
    "    return Lm"
   ]
  },
  {
   "cell_type": "code",
   "execution_count": 15,
   "metadata": {},
   "outputs": [],
   "source": [
    "def ComputeMomentJoint(Rf,Fnorm_tendon,Fmax,m,g):\n",
    "    '''\n",
    "    Inputs:\n",
    "        RF = Moment arm\n",
    "        Fnorm_tendon = Normalized tendon force\n",
    "        m = Segment Mass\n",
    "        g = Acelleration of gravity\n",
    "        Fmax= maximal isometric force\n",
    "    Output:\n",
    "        M = Total moment with respect to joint\n",
    "    '''\n",
    "    M=Rf*Fnorm_tendon*Fmax - m*g*Rcm*np.sin(phi-(math.pi/2))\n",
    "    return M"
   ]
  },
  {
   "cell_type": "code",
   "execution_count": 16,
   "metadata": {},
   "outputs": [],
   "source": [
    "def ComputeAngularAcelerationJoint (M,I):\n",
    "    '''\n",
    "    Inputs:\n",
    "        M = Total moment with respect to joint\n",
    "        I = Moment of Inertia\n",
    "    Output:\n",
    "        phidd= angular aceleration of the joint\n",
    "    '''\n",
    "    phidd = M/I\n",
    "    return phidd"
   ]
  },
  {
   "cell_type": "markdown",
   "metadata": {},
   "source": [
    "## Simulation - Parallel"
   ]
  },
  {
   "cell_type": "code",
   "execution_count": 17,
   "metadata": {},
   "outputs": [],
   "source": [
    "#Normalizing\n",
    "alpha = 0*np.pi/180\n",
    "\n",
    "for i in range (len(t)):\n",
    "    #ramp\n",
    "    #if t[i]<=1:\n",
    "        #Lm = 0.31\n",
    "    #elif t[i]>1 and t[i]<2:\n",
    "        #Lm = .31 - .04*(t[i]-1)\n",
    "        #print(Lm)\n",
    "        \n",
    "   \n",
    "    #shortening at 4cm/s\n",
    "    #u = 0.7 + 0.2*np.sin(np.pi*t[i])\n",
    "    \n",
    "    Lm =  ComputeTotalLenghtSize(Lm0,phi,Rf,Rcm)\n",
    "    \n",
    "    Lnorm_see = tendonLength(Lm,Lce_o,Lnorm_ce, alpha)\n",
    "\n",
    "    Fnorm_tendon = TendonForce (Lnorm_see,Lslack, Lce_o) \n",
    "    \n",
    "    Fnorm_kpe = ParallelElementForce (Lnorm_ce)     \n",
    "        \n",
    "    #isometric force at Lce from CE force length relationship\n",
    "    F0 = ForceLengthCurve (Lnorm_ce,width)\n",
    "    \n",
    "    Fnorm_CE = ContractileElementForce(Fnorm_tendon,Fnorm_kpe, alpha) #Fnorm_CE = ~Fm\n",
    "    \n",
    "    #computing activation\n",
    "    a = activation(a,u,h)\n",
    "    \n",
    "    #calculate CE velocity from Hill's equation    \n",
    "    Lnorm_cedot = ContractileElementDot(F0, Fnorm_CE,a)\n",
    "    \n",
    "    #Compute MomentJoint\n",
    "    M = ComputeMomentJoint(Rf,Fnorm_tendon,Fmax,m,g)\n",
    "    \n",
    "    #Compute Angular Aceleration Joint\n",
    "    phidd = ComputeAngularAcelerationJoint (M,I)\n",
    "    \n",
    "    # Euler integration steps\n",
    "    Lnorm_ce = Lnorm_ce + h*Lnorm_cedot\n",
    "    phid= phid + h*phidd\n",
    "    phi  = phi  +h*phid\n",
    "    phideg= (phi*180)/math.pi #convert joint angle from radians to degree\n",
    "\n",
    "\n",
    "    # Store variables in vectors\n",
    "    F[i] = Fnorm_tendon*Fmax\n",
    "    Fkpe[i] = Fnorm_kpe*Fmax\n",
    "    FiberLen[i] = Lnorm_ce*Lce_o\n",
    "    TendonLen[i] = Lnorm_see*Lce_o\n",
    "    a_dynamics[i] = a\n",
    "    phivec[i] = phideg"
   ]
  },
  {
   "cell_type": "markdown",
   "metadata": {},
   "source": [
    "## Plots "
   ]
  },
  {
   "cell_type": "code",
   "execution_count": 18,
   "metadata": {
    "scrolled": false
   },
   "outputs": [
    {
     "name": "stderr",
     "output_type": "stream",
     "text": [
      "No handles with labels found to put in legend.\n"
     ]
    },
    {
     "data": {
      "text/plain": [
       "<matplotlib.legend.Legend at 0x21d7d542908>"
      ]
     },
     "execution_count": 18,
     "metadata": {},
     "output_type": "execute_result"
    },
    {
     "data": {
      "image/png": "[encoded data removed]",
      "text/plain": [
       "<Figure size 432x432 with 1 Axes>"
      ]
     },
     "metadata": {},
     "output_type": "display_data"
    }
   ],
   "source": [
    "fig, ax = plt.subplots(1, 1, figsize=(6,6), sharex=True)\n",
    "\n",
    "ax.plot(t,a_dynamics,c='magenta')\n",
    "plt.grid()\n",
    "plt.xlabel('time (s)')\n",
    "plt.ylabel('Activation dynamics')\n",
    "\n",
    "\n",
    "ax.legend()"
   ]
  },
  {
   "cell_type": "code",
   "execution_count": 19,
   "metadata": {
    "scrolled": false
   },
   "outputs": [
    {
     "name": "stderr",
     "output_type": "stream",
     "text": [
      "No handles with labels found to put in legend.\n"
     ]
    },
    {
     "data": {
      "text/plain": [
       "<matplotlib.legend.Legend at 0x21d7d5f3240>"
      ]
     },
     "execution_count": 19,
     "metadata": {},
     "output_type": "execute_result"
    },
    {
     "data": {
      "image/png": "[encoded data removed]",
      "text/plain": [
       "<Figure size 432x432 with 1 Axes>"
      ]
     },
     "metadata": {},
     "output_type": "display_data"
    }
   ],
   "source": [
    "fig, ax = plt.subplots(1, 1, figsize=(6,6), sharex=True)\n",
    "\n",
    "ax.plot(t,F,c='red')\n",
    "plt.grid()\n",
    "plt.xlabel('time (s)')\n",
    "plt.ylabel('Force (N)')\n",
    "\n",
    "\n",
    "ax.legend()"
   ]
  },
  {
   "cell_type": "code",
   "execution_count": 20,
   "metadata": {},
   "outputs": [
    {
     "name": "stderr",
     "output_type": "stream",
     "text": [
      "No handles with labels found to put in legend.\n"
     ]
    },
    {
     "data": {
      "text/plain": [
       "<matplotlib.legend.Legend at 0x21d7d65de48>"
      ]
     },
     "execution_count": 20,
     "metadata": {},
     "output_type": "execute_result"
    },
    {
     "data": {
      "image/png": "[encoded data removed]",
      "text/plain": [
       "<Figure size 432x432 with 1 Axes>"
      ]
     },
     "metadata": {},
     "output_type": "display_data"
    }
   ],
   "source": [
    "fig, ax = plt.subplots(1, 1, figsize=(6,6), sharex=True)\n",
    "\n",
    "ax.plot(t,phivec,c='red')\n",
    "plt.grid()\n",
    "plt.xlabel('time (s)')\n",
    "plt.ylabel('Joint angle (deg)')\n",
    "\n",
    "\n",
    "ax.legend()"
   ]
  },
  {
   "cell_type": "code",
   "execution_count": 21,
   "metadata": {
    "scrolled": false
   },
   "outputs": [
    {
     "data": {
      "text/plain": [
       "Text(0,0.5,'Length (m)')"
      ]
     },
     "execution_count": 21,
     "metadata": {},
     "output_type": "execute_result"
    },
    {
     "data": {
      "image/png": "[encoded data removed]",
      "text/plain": [
       "<Figure size 432x432 with 1 Axes>"
      ]
     },
     "metadata": {},
     "output_type": "display_data"
    },
    {
     "data": {
      "image/png": "[encoded data removed]",
      "text/plain": [
       "<Figure size 864x288 with 3 Axes>"
      ]
     },
     "metadata": {},
     "output_type": "display_data"
    }
   ],
   "source": [
    "fig, ax = plt.subplots(1, 1, figsize=(6,6), sharex=True)\n",
    "\n",
    "ax.plot(t,FiberLen, label = 'fiber')\n",
    "ax.plot(t,TendonLen, label = 'tendon')\n",
    "plt.grid()\n",
    "plt.xlabel('time (s)')\n",
    "plt.ylabel('Length (m)')\n",
    "ax.legend(loc='best')\n",
    "\n",
    "\n",
    "fig, ax = plt.subplots(1, 3, figsize=(12,4), sharex=True, sharey=True)\n",
    "ax[0].plot(t,FiberLen, label = 'fiber')\n",
    "ax[1].plot(t,TendonLen, label = 'tendon')\n",
    "ax[2].plot(t,FiberLen + TendonLen, label = 'muscle (tendon + fiber)')\n",
    "\n",
    "ax[1].set_xlabel('time (s)')\n",
    "ax[0].set_ylabel('Length (m)')\n",
    "#plt.legend(loc='best')"
   ]
  }
 ],
 "metadata": {
  "kernelspec": {
   "display_name": "Python 3",
   "language": "python",
   "name": "python3"
  },
  "language_info": {
   "codemirror_mode": {
    "name": "ipython",
    "version": 3
   },
   "file_extension": ".py",
   "mimetype": "text/x-python",
   "name": "python",
   "nbconvert_exporter": "python",
   "pygments_lexer": "ipython3",
   "version": "3.6.5"
  },
  "latex_envs": {
   "LaTeX_envs_menu_present": true,
   "autoclose": false,
   "autocomplete": true,
   "bibliofile": "biblio.bib",
   "cite_by": "apalike",
   "current_citInitial": 1,
   "eqLabelWithNumbers": true,
   "eqNumInitial": 1,
   "hotkeys": {
    "equation": "Ctrl-E",
    "itemize": "Ctrl-I"
   },
   "labels_anchors": false,
   "latex_user_defs": false,
   "report_style_numbering": false,
   "user_envs_cfg": false
  },
  "nbTranslate": {
   "displayLangs": [
    "*"
   ],
   "hotkey": "alt-t",
   "langInMainMenu": true,
   "sourceLang": "en",
   "targetLang": "fr",
   "useGoogleTranslate": true
  }
 },
 "nbformat": 4,
 "nbformat_minor": 2
}
