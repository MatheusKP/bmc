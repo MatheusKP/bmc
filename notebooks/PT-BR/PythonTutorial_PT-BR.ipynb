{
 "cells": [
  {
   "cell_type": "markdown",
   "metadata": {
    "colab_type": "text",
    "id": "Zuy3YlLDXEuX",
    "lang": "pt"
   },
   "source": [
    "# Tutorial em Python para computação científica\n",
    "\n",
    "> Marcos Duarte\n",
    "\n",
    "> Renato Naville Watanabe\n",
    "\n",
    "> Laboratório de Biomecânica e Controle Motor ([pesquisa.ufabc.edu.br/bmclab](http://pesquisa.ufabc.edu.br/bmclab))\n",
    "\n",
    "> Universidade Federal do ABC, Brasil"
   ]
  },
  {
   "cell_type": "markdown",
   "metadata": {
    "colab_type": "text",
    "id": "4C40w0i5XEuZ",
    "lang": "pt"
   },
   "source": [
    "Este será um breve tutorial sobre o Python.\n",
    "Para um tutorial completo (e muito melhor) sobre o Python, veja [A Whirlwind Tour of Python](https://github.com/jakevdp/WhirlwindTourOfPython) e [Python Data Science Handbook](https://jakevdp.github.io/PythonDataScienceHandbook/) para um tutorial específico sobre Python para computação científica.\n",
    "\n",
    "Para usar o Python para computação científica, precisamos do próprio programa Python com seus módulos principais e pacotes específicos para computação científica. [Veja este caderno sobre como instalar o Python para computação científica](http://nbviewer.ipython.org/github/demotu/BMC/blob/master/notebooks/PythonInstallation.ipynb).\n",
    "Depois de obter o Python e os pacotes necessários para a computação científica, existem diferentes maneiras de executar o Python, os principais são:\n",
    "\n",
    "- abra uma janela de terminal em seu computador e digite `python` ou` ipython` que o interpretador Python iniciará\n",
    "- rode o `Jupyter notebook` e comece a trabalhar com o Python em um navegador\n",
    "- execute `Spyder`, um ambiente de desenvolvimento interativo (IDE)\n",
    "- execute o `Jupyter qtconsole`, um terminal mais elaborado\n",
    "- execute o Python on-line em um site como o [https://www.pythonanywhere.com/](https://www.pythonanywhere.com/) ou [Colaboratory](https://colab.research.google.com/notebooks/welcome.ipynb)\n",
    "- execute o Python usando qualquer outro editor Python ou IDE\n",
    " \n",
    "Usaremos o Notebook Jupyter para este tutorial, mas você pode executar quase todas as coisas que veremos aqui usando os outros formulários listados acima."
   ]
  },
  {
   "cell_type": "markdown",
   "metadata": {
    "colab_type": "text",
    "id": "mBNV8syLXEub",
    "lang": "pt"
   },
   "source": [
    "## Python como uma calculadora\n",
    "\n",
    "Uma vez no notebook Jupyter, se você digitar uma expressão matemática simples e pressionar `Shift + Enter`, ela fornecerá o resultado da expressão:"
   ]
  },
  {
   "cell_type": "code",
   "execution_count": 0,
   "metadata": {
    "colab": {},
    "colab_type": "code",
    "id": "STIxuA7lXEub",
    "outputId": "3de521d4-c9d2-4f86-db4d-2bf488df6404"
   },
   "outputs": [
    {
     "data": {
      "text/plain": [
       "-22"
      ]
     },
     "execution_count": 2,
     "metadata": {
      "tags": []
     },
     "output_type": "execute_result"
    }
   ],
   "source": [
    "1 + 2 - 25"
   ]
  },
  {
   "cell_type": "code",
   "execution_count": 0,
   "metadata": {
    "colab": {},
    "colab_type": "code",
    "id": "9BABya76XEui",
    "outputId": "64b70e76-bbb8-4056-f8d2-ea0905feec3d"
   },
   "outputs": [
    {
     "data": {
      "text/plain": [
       "0.5714285714285714"
      ]
     },
     "execution_count": 3,
     "metadata": {
      "tags": []
     },
     "output_type": "execute_result"
    }
   ],
   "source": [
    "4/7"
   ]
  },
  {
   "cell_type": "markdown",
   "metadata": {
    "colab_type": "text",
    "id": "VW0VPpAIXEum",
    "lang": "pt"
   },
   "source": [
    "Usando a função `print`, vamos explorar as operações matemáticas disponíveis no Python:"
   ]
  },
  {
   "cell_type": "code",
   "execution_count": 0,
   "metadata": {
    "colab": {},
    "colab_type": "code",
    "id": "K4xinq_BXEun",
    "outputId": "26e0395b-d5cb-4ebc-d834-f8ea16658cce"
   },
   "outputs": [
    {
     "name": "stdout",
     "output_type": "stream",
     "text": [
      "1+2 = 3\n",
      "4*5 = 20\n",
      "6/7 = 0.8571428571428571\n",
      "8**2 = 64\n"
     ]
    }
   ],
   "source": [
    "print('1+2 = ', 1+2, '\\n', '4*5 = ', 4*5, '\\n', '6/7 = ', 6/7, '\\n', '8**2 = ', 8**2, sep='')"
   ]
  },
  {
   "cell_type": "markdown",
   "metadata": {
    "colab_type": "text",
    "id": "O_jjY9lPXEus",
    "lang": "pt"
   },
   "source": [
    "E se quisermos a raiz quadrada de um número:"
   ]
  },
  {
   "cell_type": "code",
   "execution_count": 0,
   "metadata": {
    "colab": {},
    "colab_type": "code",
    "id": "xMNnaHUqXEus",
    "outputId": "2484e5df-f606-4d14-cc4b-b3341f676146"
   },
   "outputs": [
    {
     "ename": "NameError",
     "evalue": "name 'sqrt' is not defined",
     "output_type": "error",
     "traceback": [
      "\u001b[1;31m---------------------------------------------------------------------------\u001b[0m",
      "\u001b[1;31mNameError\u001b[0m                                 Traceback (most recent call last)",
      "\u001b[1;32m<ipython-input-4-c836dfef5db4>\u001b[0m in \u001b[0;36m<module>\u001b[1;34m()\u001b[0m\n\u001b[1;32m----> 1\u001b[1;33m \u001b[0msqrt\u001b[0m\u001b[1;33m(\u001b[0m\u001b[1;36m9\u001b[0m\u001b[1;33m)\u001b[0m\u001b[1;33m\u001b[0m\u001b[0m\n\u001b[0m",
      "\u001b[1;31mNameError\u001b[0m: name 'sqrt' is not defined"
     ]
    }
   ],
   "source": [
    "sqrt(9)"
   ]
  },
  {
   "cell_type": "markdown",
   "metadata": {
    "colab_type": "text",
    "id": "6BR39hQOXEux",
    "lang": "pt"
   },
   "source": [
    "Recebemos uma mensagem de erro dizendo que a função `sqrt` não está definida. Isto é porque o `sqrt` e outras funções matemáticas estão disponíveis com o módulo` math`:"
   ]
  },
  {
   "cell_type": "code",
   "execution_count": 0,
   "metadata": {
    "colab": {},
    "colab_type": "code",
    "id": "RGDNrZRAXEuy"
   },
   "outputs": [],
   "source": [
    "import math"
   ]
  },
  {
   "cell_type": "code",
   "execution_count": 0,
   "metadata": {
    "colab": {},
    "colab_type": "code",
    "id": "-3YdgOZXXEu1",
    "outputId": "56d06eb4-e676-49cf-9e70-14473243ccac"
   },
   "outputs": [
    {
     "data": {
      "text/plain": [
       "3.0"
      ]
     },
     "execution_count": 5,
     "metadata": {
      "tags": []
     },
     "output_type": "execute_result"
    }
   ],
   "source": [
    "math.sqrt(9)"
   ]
  },
  {
   "cell_type": "code",
   "execution_count": 0,
   "metadata": {
    "colab": {},
    "colab_type": "code",
    "id": "PnPa4_czXEu4"
   },
   "outputs": [],
   "source": [
    "from math import sqrt"
   ]
  },
  {
   "cell_type": "code",
   "execution_count": 0,
   "metadata": {
    "colab": {},
    "colab_type": "code",
    "id": "xD_x9NNBXEu8",
    "outputId": "3595aade-6a37-4eed-8071-097745507d5e"
   },
   "outputs": [
    {
     "data": {
      "text/plain": [
       "3.0"
      ]
     },
     "execution_count": 7,
     "metadata": {
      "tags": []
     },
     "output_type": "execute_result"
    }
   ],
   "source": [
    "sqrt(9)"
   ]
  },
  {
   "cell_type": "markdown",
   "metadata": {
    "colab_type": "text",
    "id": "x-LaV1wTXEvC",
    "lang": "pt"
   },
   "source": [
    "## A função import\n",
    "\n",
    "Nós usamos o comando '`import`' para poder chamar certas funções. Em Python, as funções são organizadas em módulos e pacotes e precisam ser importadas para serem usadas.\n",
    "\n",
    "Um módulo é um arquivo que contém definições do Python (por exemplo, funções) e instruções. Os pacotes são uma maneira de estruturar o namespace do módulo do Python usando \"nomes de módulos pontilhados\". Por exemplo, o nome do módulo A.B designa um sub-módulo chamado B em um pacote chamado A. Para ser usado, módulos e pacotes precisam ser importados em Python com a função de importação.\n",
    "\n",
    "Namespace é um container para um conjunto de identificadores (nomes) e permite a desambiguação de identificadores homônimos residentes em diferentes namespaces. Por exemplo, com o comando import math, teremos todas as funções e instruções definidas neste módulo no namespace '`math`', por exemplo, '` math.pi`' é a constante π e '`math.cos() `', a função cosseno."
   ]
  },
  {
   "cell_type": "markdown",
   "metadata": {
    "colab_type": "text",
    "id": "ZDQulYntXEvD",
    "lang": "pt"
   },
   "source": [
    "A propósito, para saber qual versão do Python você está executando, podemos usar um dos seguintes módulos:"
   ]
  },
  {
   "cell_type": "code",
   "execution_count": 0,
   "metadata": {
    "colab": {},
    "colab_type": "code",
    "id": "GTklYbwzXEvE",
    "outputId": "d741f316-c995-4edf-8613-27a8663681c8"
   },
   "outputs": [
    {
     "data": {
      "text/plain": [
       "'3.6.8 |Anaconda, Inc.| (default, Dec 30 2018, 01:22:34) \\n[GCC 7.3.0]'"
      ]
     },
     "execution_count": 1,
     "metadata": {
      "tags": []
     },
     "output_type": "execute_result"
    }
   ],
   "source": [
    "import sys\n",
    "sys.version"
   ]
  },
  {
   "cell_type": "markdown",
   "metadata": {
    "colab_type": "text",
    "id": "jlMK2fUgXEvJ",
    "lang": "pt"
   },
   "source": [
    "E se você estiver em uma sessão do IPython:"
   ]
  },
  {
   "cell_type": "code",
   "execution_count": 0,
   "metadata": {
    "colab": {},
    "colab_type": "code",
    "id": "fJOpw2LcXEvK",
    "outputId": "aeb34686-ce91-45f2-bcd7-872f228e6bcc"
   },
   "outputs": [
    {
     "name": "stdout",
     "output_type": "stream",
     "text": [
      "{'commit_hash': '8c47bbcb3',\n",
      " 'commit_source': 'installation',\n",
      " 'default_encoding': 'UTF-8',\n",
      " 'ipython_path': '/home/rnwatanabe/miniconda3/lib/python3.6/site-packages/IPython',\n",
      " 'ipython_version': '7.5.0',\n",
      " 'os_name': 'posix',\n",
      " 'platform': 'Linux-4.15.0-48-generic-x86_64-with-debian-buster-sid',\n",
      " 'sys_executable': '/home/rnwatanabe/miniconda3/bin/python',\n",
      " 'sys_platform': 'linux',\n",
      " 'sys_version': '3.6.8 |Anaconda, Inc.| (default, Dec 30 2018, 01:22:34) \\n'\n",
      "                '[GCC 7.3.0]'}\n"
     ]
    }
   ],
   "source": [
    "from IPython import sys_info\n",
    "print(sys_info())"
   ]
  },
  {
   "cell_type": "markdown",
   "metadata": {
    "colab_type": "text",
    "id": "0T8c-Qo8XEvO",
    "lang": "pt"
   },
   "source": [
    "A primeira opção fornece informações sobre a versão do Python; o último também inclui a versão do IPython, sistema operacional, etc."
   ]
  },
  {
   "cell_type": "markdown",
   "metadata": {
    "colab_type": "text",
    "id": "_KhMg4mEXEvP",
    "lang": "pt"
   },
   "source": [
    "## Programação orientada a objetos\n",
    "\n",
    "O Python é projetado como uma linguagem de programação orientada a objetos (OOP). OOP é um paradigma que representa conceitos como \"objetos\" que possuem campos de dados (atributos que descrevem o objeto) e procedimentos associados conhecidos como métodos.\n",
    "\n",
    "Isso significa que todos os elementos no Python são objetos e possuem atributos que podem ser acessados ​​com o operador dot (.) Após o nome do objeto. Nós já experimentamos isso quando importamos o módulo `sys`, ele se tornou um objeto, e nós acessamos um de seus atributos:` sys.version`.\n",
    "\n",
    "OOP como paradigma é muito mais do que definir objetos, atributos e métodos, mas por enquanto isso é suficiente para continuar com o Python."
   ]
  },
  {
   "cell_type": "markdown",
   "metadata": {
    "colab_type": "text",
    "id": "cHAtR7jBXEvP",
    "lang": "pt"
   },
   "source": [
    "## Python e IPython help\n",
    "\n",
    "Para obter ajuda sobre qualquer comando do Python, use `help()`:"
   ]
  },
  {
   "cell_type": "code",
   "execution_count": 0,
   "metadata": {
    "colab": {},
    "colab_type": "code",
    "id": "cICcQ-W-XEvQ",
    "outputId": "b5dfc18f-2ff6-47ac-dc4d-328bcf73748c"
   },
   "outputs": [
    {
     "name": "stdout",
     "output_type": "stream",
     "text": [
      "Help on built-in function degrees in module math:\n",
      "\n",
      "degrees(...)\n",
      "    degrees(x)\n",
      "    \n",
      "    Convert angle x from radians to degrees.\n",
      "\n"
     ]
    }
   ],
   "source": [
    "help(math.degrees)"
   ]
  },
  {
   "cell_type": "markdown",
   "metadata": {
    "colab_type": "text",
    "id": "rExUnGKLXEvU",
    "lang": "pt"
   },
   "source": [
    "Ou, se você estiver no ambiente IPython ou Jupyter, basta adicionar '?' para a função que uma janela será aberta na parte inferior do seu navegador com o mesmo conteúdo de ajuda:"
   ]
  },
  {
   "cell_type": "code",
   "execution_count": 0,
   "metadata": {
    "colab": {},
    "colab_type": "code",
    "id": "WscG8D9FXEvV"
   },
   "outputs": [],
   "source": [
    "math.degrees?"
   ]
  },
  {
   "cell_type": "markdown",
   "metadata": {
    "colab_type": "text",
    "id": "g9OPfJW4XEvZ",
    "lang": "pt"
   },
   "source": [
    "E se você adicionar um segundo '? para a instrução você obtém acesso ao arquivo de script original da função (uma vantagem de uma linguagem de código aberto), a menos que essa função seja uma função interna que não tenha um arquivo de script, que é o caso dos módulos padrão em Python (mas você pode acessar o código fonte do Python se quiser; ele simplesmente não vem com o programa padrão para instalação).\n",
    "\n",
    "Então, vamos ver esse recurso com outra função:"
   ]
  },
  {
   "cell_type": "code",
   "execution_count": 0,
   "metadata": {
    "colab": {},
    "colab_type": "code",
    "id": "WT7I62GbXEva"
   },
   "outputs": [],
   "source": [
    "import scipy.fftpack\n",
    "scipy.fftpack.fft??"
   ]
  },
  {
   "cell_type": "markdown",
   "metadata": {
    "colab_type": "text",
    "id": "4SQ2J-o9XEvd",
    "lang": "pt"
   },
   "source": [
    "Para saber todos os atributos de um objeto, por exemplo todas as funções disponíveis em `math`, podemos usar a função` dir`:"
   ]
  },
  {
   "cell_type": "code",
   "execution_count": 0,
   "metadata": {
    "colab": {},
    "colab_type": "code",
    "id": "6-txv_avXEve",
    "outputId": "b5ec2336-e4b8-4bf0-8a87-9f716f387e79"
   },
   "outputs": [
    {
     "name": "stdout",
     "output_type": "stream",
     "text": [
      "['__doc__', '__file__', '__loader__', '__name__', '__package__', '__spec__', 'acos', 'acosh', 'asin', 'asinh', 'atan', 'atan2', 'atanh', 'ceil', 'copysign', 'cos', 'cosh', 'degrees', 'e', 'erf', 'erfc', 'exp', 'expm1', 'fabs', 'factorial', 'floor', 'fmod', 'frexp', 'fsum', 'gamma', 'gcd', 'hypot', 'inf', 'isclose', 'isfinite', 'isinf', 'isnan', 'ldexp', 'lgamma', 'log', 'log10', 'log1p', 'log2', 'modf', 'nan', 'pi', 'pow', 'radians', 'sin', 'sinh', 'sqrt', 'tan', 'tanh', 'tau', 'trunc']\n"
     ]
    }
   ],
   "source": [
    "print(dir(math))"
   ]
  },
  {
   "cell_type": "markdown",
   "metadata": {
    "colab_type": "text",
    "id": "mhszrqygXEvi",
    "lang": "pt"
   },
   "source": [
    "### Conclusão da tabulação no IPython\n",
    "\n",
    "O IPython e o Jupyter possuem tabulação completa: comece digitando o nome do comando (objeto) e pressione `tab` para ver os nomes dos objetos disponíveis com estas letras iniciais. Quando o nome do objeto é digitado seguido por um ponto (`math`), pressionar` tab` mostrará todos os atributos disponíveis, role para baixo até o atributo desejado e pressione `Enter` para selecioná-lo."
   ]
  },
  {
   "cell_type": "markdown",
   "metadata": {
    "colab_type": "text",
    "id": "dmJKVBDxXEvi",
    "lang": "pt"
   },
   "source": [
    "### Os quatro comandos mais úteis no IPython\n",
    "\n",
    "Estes são os comandos mais úteis no IPython (do [tutorial do IPython](http://ipython.org/ipython-doc/dev/interactive/tutorial.html)):\n",
    "\n",
    " - `?`: Introdução e visão geral dos recursos do IPython.\n",
    " - `% quickref`: Referência rápida.\n",
    " - `help`: sistema de ajuda do próprio Python.\n",
    " - \"object?\": detalhes sobre \"object\", use \"object??\" para obter detalhes adicionais."
   ]
  },
  {
   "cell_type": "markdown",
   "metadata": {
    "colab_type": "text",
    "id": "Hl-W4SpoXEvk",
    "lang": "pt"
   },
   "source": [
    "### Comentários\n",
    "\n",
    "Comentários em Python começam com o caractere hash, # e se estendem até o final da linha física:"
   ]
  },
  {
   "cell_type": "code",
   "execution_count": 0,
   "metadata": {
    "colab": {},
    "colab_type": "code",
    "id": "LSVNxgpIXEvk",
    "outputId": "4f633e2b-8d5c-49bb-fb3d-48acab5b1561"
   },
   "outputs": [
    {
     "data": {
      "text/plain": [
       "3.141592653589793"
      ]
     },
     "execution_count": 12,
     "metadata": {
      "tags": []
     },
     "output_type": "execute_result"
    }
   ],
   "source": [
    "# Import the math library to access more math stuff\n",
    "import math\n",
    "math.pi  # this is the pi constant; a useless comment since this is obvious"
   ]
  },
  {
   "cell_type": "markdown",
   "metadata": {
    "colab_type": "text",
    "id": "b12rthXPXEvo",
    "lang": "pt"
   },
   "source": [
    "Para inserir comentários abrangendo mais de uma linha, use uma string de várias linhas com um par de aspas triplas: `\"\"\" `ou` '''`(veremos o tipo de dados da string mais tarde). Um uso típico de  um comentário de várias linhas é para a documentação de uma função ou script e destina-se a qualquer pessoa que leia o código:"
   ]
  },
  {
   "cell_type": "code",
   "execution_count": 0,
   "metadata": {
    "colab": {},
    "colab_type": "code",
    "id": "5W_W_VHHXEvo",
    "outputId": "bda4ae3b-8f79-4347-fa27-7bff99b2d012"
   },
   "outputs": [
    {
     "data": {
      "text/plain": [
       "'Documentation strings are typically written like that.\\n\\nA docstring is a string literal that occurs as the first statement\\nin a module, function, class, or method definition.\\n\\n'"
      ]
     },
     "execution_count": 13,
     "metadata": {
      "tags": []
     },
     "output_type": "execute_result"
    }
   ],
   "source": [
    "\"\"\"Documentation strings are typically written like that.\n",
    "\n",
    "A docstring is a string literal that occurs as the first statement\n",
    "in a module, function, class, or method definition.\n",
    "\n",
    "\"\"\""
   ]
  },
  {
   "cell_type": "markdown",
   "metadata": {
    "colab_type": "text",
    "id": "6mRrHHxBXEvr",
    "lang": "pt"
   },
   "source": [
    "Um \"docstring\" como o acima é inútil e sua saída como uma instrução independente parece feia no Jupyter Notebook, mas você verá sua real importância ao ler e escrever códigos.\n",
    "\n",
    "Comentar um código de programação é um passo importante para tornar o código mais legível, o que o Python se importa muito.\n",
    "\n",
    "Existe um guia de estilo para escrever código Python ([PEP 8](https://www.python.org/dev/peps/pep-0008/)) com uma sessão sobre [como escrever comentários](https://www.python.org/dev/peps/pep-0008/#comments)."
   ]
  },
  {
   "cell_type": "markdown",
   "metadata": {
    "colab_type": "text",
    "id": "6w66u6y4XEvs",
    "lang": "pt"
   },
   "source": [
    "### Funções magic\n",
    "\n",
    "O Jupyter tem um conjunto de 'funções mágicas' predefinidas que você pode chamar com uma sintaxe de estilo de linha de comando.\n",
    "Existem dois tipos de funções magic: orientadas a linha e orientadas a célula.\n",
    "As funções magic de linha são prefixadas com o caractere% e funcionam muito como as chamadas de linha de comando do sistema operacional: elas recebem como argumento o restante da linha, em que os argumentos são passados sem parênteses ou citações.\n",
    "As funções magic de célula são prefixadas com um %% duplo e são funções que recebem como argumento não apenas o resto da linha, mas também as linhas abaixo dela em um argumento separado."
   ]
  },
  {
   "cell_type": "markdown",
   "metadata": {
    "colab_type": "text",
    "id": "TLeUKt4yXEvt",
    "lang": "pt"
   },
   "source": [
    "## Atribuição e expressões\n",
    "\n",
    "O sinal de igual ('=') é usado para atribuir um valor a uma variável. Depois disso, nenhum resultado é exibido antes do próximo prompt interativo:"
   ]
  },
  {
   "cell_type": "code",
   "execution_count": 0,
   "metadata": {
    "colab": {},
    "colab_type": "code",
    "id": "u1OUpV0tXEvu"
   },
   "outputs": [],
   "source": [
    "x = 1"
   ]
  },
  {
   "cell_type": "markdown",
   "metadata": {
    "colab_type": "text",
    "id": "1BTWvJzUXEvx",
    "lang": "pt"
   },
   "source": [
    "Os espaços entre as declarações são opcionais, mas ajudam na legibilidade.\n",
    "\n",
    "Para ver o valor da variável, chame novamente a variável ou use a função **print**:"
   ]
  },
  {
   "cell_type": "code",
   "execution_count": 0,
   "metadata": {
    "colab": {},
    "colab_type": "code",
    "id": "94CE2AtuXEvx",
    "outputId": "2866b7f6-9760-4d0b-d626-52efc71326a4"
   },
   "outputs": [
    {
     "data": {
      "text/plain": [
       "1"
      ]
     },
     "execution_count": 16,
     "metadata": {
      "tags": []
     },
     "output_type": "execute_result"
    }
   ],
   "source": [
    "x"
   ]
  },
  {
   "cell_type": "code",
   "execution_count": 0,
   "metadata": {
    "colab": {},
    "colab_type": "code",
    "id": "VvK9GtAjXEv0",
    "outputId": "d4879536-72e4-4802-a9d2-a9f7f14b650a"
   },
   "outputs": [
    {
     "name": "stdout",
     "output_type": "stream",
     "text": [
      "1\n"
     ]
    }
   ],
   "source": [
    "print(x)"
   ]
  },
  {
   "cell_type": "markdown",
   "metadata": {
    "colab_type": "text",
    "id": "xC_88VxzXEv2",
    "lang": "pt"
   },
   "source": [
    "Naturalmente, a última chamada é a que vale:"
   ]
  },
  {
   "cell_type": "code",
   "execution_count": 0,
   "metadata": {
    "colab": {},
    "colab_type": "code",
    "id": "wq9ZG--TXEv4",
    "outputId": "f5a677a6-ffcc-4437-fea6-2e029453fa6e"
   },
   "outputs": [
    {
     "data": {
      "text/plain": [
       "3"
      ]
     },
     "execution_count": 18,
     "metadata": {
      "tags": []
     },
     "output_type": "execute_result"
    }
   ],
   "source": [
    "x = 2\n",
    "x = 3\n",
    "x"
   ]
  },
  {
   "cell_type": "markdown",
   "metadata": {
    "colab_type": "text",
    "id": "j-Yp2JCiXEv8",
    "lang": "pt"
   },
   "source": [
    "Em matemática '=' é o símbolo da identidade, mas na programação de computadores '=' é usado para designação.  Isso significa que a parte direita da expressão é atribuída à sua parte esquerda.\n",
    "Por exemplo, 'x = x + 1' não faz sentido na matemática, mas na programação de computadores sim:"
   ]
  },
  {
   "cell_type": "code",
   "execution_count": 0,
   "metadata": {
    "colab": {},
    "colab_type": "code",
    "id": "pdBMl7ORXEv9",
    "outputId": "a3c1ea28-3eb1-47a5-e3b2-f462f88c9a03"
   },
   "outputs": [
    {
     "name": "stdout",
     "output_type": "stream",
     "text": [
      "4\n"
     ]
    }
   ],
   "source": [
    "x = x + 1\n",
    "print(x)"
   ]
  },
  {
   "cell_type": "markdown",
   "metadata": {
    "colab_type": "text",
    "id": "HwuJCcEGXEwA",
    "lang": "pt"
   },
   "source": [
    "Um valor pode ser atribuído a várias variáveis ​​simultaneamente:"
   ]
  },
  {
   "cell_type": "code",
   "execution_count": 0,
   "metadata": {
    "colab": {},
    "colab_type": "code",
    "id": "VsIRWwU9XEwB",
    "outputId": "7b3c4d89-f56d-4456-e925-88add9fc7531"
   },
   "outputs": [
    {
     "name": "stdout",
     "output_type": "stream",
     "text": [
      "4\n",
      "4\n"
     ]
    }
   ],
   "source": [
    "x = y = 4\n",
    "print(x)\n",
    "print(y)"
   ]
  },
  {
   "cell_type": "markdown",
   "metadata": {
    "colab_type": "text",
    "id": "be8YFP8OXEwD",
    "lang": "pt"
   },
   "source": [
    "Vários valores podem ser atribuídos a várias variáveis ​​de uma só vez:"
   ]
  },
  {
   "cell_type": "code",
   "execution_count": 0,
   "metadata": {
    "colab": {},
    "colab_type": "code",
    "id": "6GxO0FrbXEwE",
    "outputId": "2436e364-9130-4f3e-e2d4-df301ff1d8c4"
   },
   "outputs": [
    {
     "name": "stdout",
     "output_type": "stream",
     "text": [
      "5\n",
      "6\n"
     ]
    }
   ],
   "source": [
    "x, y = 5, 6\n",
    "print(x)\n",
    "print(y)"
   ]
  },
  {
   "cell_type": "markdown",
   "metadata": {
    "colab_type": "text",
    "id": "dLBeGZATXEwH",
    "lang": "pt"
   },
   "source": [
    "E com isso, você pode fazer:"
   ]
  },
  {
   "cell_type": "code",
   "execution_count": 0,
   "metadata": {
    "colab": {},
    "colab_type": "code",
    "id": "PeB_vn_eXEwH",
    "outputId": "3337b49f-15fd-408f-e0c2-405f31a05ed2"
   },
   "outputs": [
    {
     "name": "stdout",
     "output_type": "stream",
     "text": [
      "6\n",
      "5\n"
     ]
    }
   ],
   "source": [
    "x, y = y, x\n",
    "print(x)\n",
    "print(y)"
   ]
  },
  {
   "cell_type": "markdown",
   "metadata": {
    "colab_type": "text",
    "id": "7bFh_9vDXEwK",
    "lang": "pt"
   },
   "source": [
    "As variáveis ​​devem ser \"definidas\" (atribuídas a um valor) antes de poderem ser usadas ou ocorrerá um erro:"
   ]
  },
  {
   "cell_type": "code",
   "execution_count": 0,
   "metadata": {
    "colab": {},
    "colab_type": "code",
    "id": "mFKgKs7CXEwK",
    "outputId": "ad2ca21a-53bc-4893-dfeb-1320d4768603"
   },
   "outputs": [
    {
     "ename": "NameError",
     "evalue": "name 'z' is not defined",
     "output_type": "error",
     "traceback": [
      "\u001b[0;31m---------------------------------------------------------------------------\u001b[0m",
      "\u001b[0;31mNameError\u001b[0m                                 Traceback (most recent call last)",
      "\u001b[0;32m<ipython-input-23-a6b8c9506156>\u001b[0m in \u001b[0;36m<module>\u001b[0;34m\u001b[0m\n\u001b[0;32m----> 1\u001b[0;31m \u001b[0mx\u001b[0m \u001b[0;34m=\u001b[0m \u001b[0mz\u001b[0m\u001b[0;34m\u001b[0m\u001b[0;34m\u001b[0m\u001b[0m\n\u001b[0m",
      "\u001b[0;31mNameError\u001b[0m: name 'z' is not defined"
     ]
    }
   ],
   "source": [
    "x = z"
   ]
  },
  {
   "cell_type": "markdown",
   "metadata": {
    "colab_type": "text",
    "id": "q6haXV-MXEwM",
    "lang": "pt"
   },
   "source": [
    "## Variáveis ​​e tipos\n",
    "\n",
    "Existem diferentes tipos de objetos internos no Python (e lembre-se de que tudo no Python é um objeto):"
   ]
  },
  {
   "cell_type": "code",
   "execution_count": 0,
   "metadata": {
    "colab": {},
    "colab_type": "code",
    "id": "Zno2wufVXEwN",
    "outputId": "b8900173-2a34-4a37-a77f-f71e5245ec88"
   },
   "outputs": [
    {
     "name": "stdout",
     "output_type": "stream",
     "text": [
      "['AsyncGeneratorType', 'BuiltinFunctionType', 'BuiltinMethodType', 'CodeType', 'CoroutineType', 'DynamicClassAttribute', 'FrameType', 'FunctionType', 'GeneratorType', 'GetSetDescriptorType', 'LambdaType', 'MappingProxyType', 'MemberDescriptorType', 'MethodType', 'ModuleType', 'SimpleNamespace', 'TracebackType', '_GeneratorWrapper', '__all__', '__builtins__', '__cached__', '__doc__', '__file__', '__loader__', '__name__', '__package__', '__spec__', '_ag', '_calculate_meta', '_collections_abc', '_functools', 'coroutine', 'new_class', 'prepare_class']\n"
     ]
    }
   ],
   "source": [
    "import types\n",
    "print(dir(types))"
   ]
  },
  {
   "cell_type": "markdown",
   "metadata": {
    "colab_type": "text",
    "id": "gXIcNz1cXEwR",
    "lang": "pt"
   },
   "source": [
    "Vamos ver alguns deles agora."
   ]
  },
  {
   "cell_type": "markdown",
   "metadata": {
    "colab_type": "text",
    "id": "BRilj9fMXEwR",
    "lang": "pt"
   },
   "source": [
    "### Números: int, float, complex\n",
    "\n",
    "Os números podem  ser um inteiro (**int**), ponto flutuante (**float**) e complexo (**complex**) (com parte imaginária).\n",
    "Vamos usar a função `type` para mostrar o tipo de número (e depois para qualquer outro objeto):"
   ]
  },
  {
   "cell_type": "code",
   "execution_count": 0,
   "metadata": {
    "colab": {},
    "colab_type": "code",
    "id": "KvpBE-rHXEwR",
    "outputId": "b63cfea8-b89c-4d30-aa94-c781c86aeff3"
   },
   "outputs": [
    {
     "data": {
      "text/plain": [
       "int"
      ]
     },
     "execution_count": 25,
     "metadata": {
      "tags": []
     },
     "output_type": "execute_result"
    }
   ],
   "source": [
    "type(6)"
   ]
  },
  {
   "cell_type": "markdown",
   "metadata": {
    "colab_type": "text",
    "id": "16NPN99wXEwU",
    "lang": "pt"
   },
   "source": [
    "Um float é um número não inteiro:"
   ]
  },
  {
   "cell_type": "code",
   "execution_count": 0,
   "metadata": {
    "colab": {},
    "colab_type": "code",
    "id": "tRKONJGYXEwW",
    "outputId": "fe4a2e74-f92f-4593-e2df-b28a873d65ec"
   },
   "outputs": [
    {
     "data": {
      "text/plain": [
       "3.141592653589793"
      ]
     },
     "execution_count": 26,
     "metadata": {
      "tags": []
     },
     "output_type": "execute_result"
    }
   ],
   "source": [
    "math.pi"
   ]
  },
  {
   "cell_type": "code",
   "execution_count": 0,
   "metadata": {
    "colab": {},
    "colab_type": "code",
    "id": "sCNXpOEGXEwd",
    "outputId": "5c3c00e6-0e71-42fe-db7a-8d6b80431eec"
   },
   "outputs": [
    {
     "data": {
      "text/plain": [
       "float"
      ]
     },
     "execution_count": 27,
     "metadata": {
      "tags": []
     },
     "output_type": "execute_result"
    }
   ],
   "source": [
    "type(math.pi)"
   ]
  },
  {
   "cell_type": "markdown",
   "metadata": {
    "colab_type": "text",
    "id": "1CmLwxU6XEwf",
    "lang": "pt"
   },
   "source": [
    "O Python está mostrando `math.pi` com apenas 15 casas decimais, mas internamente um float é representado com maior precisão.\n",
    "Os números de ponto flutuante no Python são implementados usando uma palavra dupla (oito bytes); a pré-representação e a representação interna dos números de ponto flutuante são específicas da máquina e estão disponíveis em:"
   ]
  },
  {
   "cell_type": "code",
   "execution_count": 0,
   "metadata": {
    "colab": {},
    "colab_type": "code",
    "id": "gtKoBpRbXEwh",
    "outputId": "1265a684-b53e-45cf-93b0-70820ce261c4"
   },
   "outputs": [
    {
     "data": {
      "text/plain": [
       "sys.float_info(max=1.7976931348623157e+308, max_exp=1024, max_10_exp=308, min=2.2250738585072014e-308, min_exp=-1021, min_10_exp=-307, dig=15, mant_dig=53, epsilon=2.220446049250313e-16, radix=2, rounds=1)"
      ]
     },
     "execution_count": 28,
     "metadata": {
      "tags": []
     },
     "output_type": "execute_result"
    }
   ],
   "source": [
    "sys.float_info"
   ]
  },
  {
   "cell_type": "markdown",
   "metadata": {
    "colab_type": "text",
    "id": "U-r2q_F_XEwj"
   },
   "source": [
    "Esteja ciente de que os números de ponto flutuante nos computadores podem ter comportamentos estranhos:"
   ]
  },
  {
   "cell_type": "code",
   "execution_count": 0,
   "metadata": {
    "colab": {},
    "colab_type": "code",
    "id": "ww-vGZfDXEwk",
    "outputId": "492fa94a-87bf-41b2-9346-1d560ca82586"
   },
   "outputs": [
    {
     "data": {
      "text/plain": [
       "0.30000000000000004"
      ]
     },
     "execution_count": 29,
     "metadata": {
      "tags": []
     },
     "output_type": "execute_result"
    }
   ],
   "source": [
    "0.1 + 0.2"
   ]
  },
  {
   "cell_type": "code",
   "execution_count": 0,
   "metadata": {
    "colab": {},
    "colab_type": "code",
    "id": "lEhT-2ewXEwo",
    "outputId": "43c34e58-45a4-450d-f827-1f15e1bd4196"
   },
   "outputs": [
    {
     "data": {
      "text/plain": [
       "5.551115123125783e-17"
      ]
     },
     "execution_count": 30,
     "metadata": {
      "tags": []
     },
     "output_type": "execute_result"
    }
   ],
   "source": [
    "0.1 + 0.2 - 0.3"
   ]
  },
  {
   "cell_type": "markdown",
   "metadata": {
    "colab_type": "text",
    "id": "_y1GsoOUXEws",
    "lang": "pt"
   },
   "source": [
    "Esses resultados não estão corretos (e o problema não é devido ao Python). O erro surge do fato de que números de ponto flutuante são representados no hardware do computador como frações de base 2 (binária) e a maioria das frações decimais não pode ser representada exatamente como frações binárias. Como consequência, os números de ponto flutuante decimal são aproximados apenas pelos números binários de ponto flutuante realmente armazenados na máquina. [Veja aqui mais sobre esta questão](http://docs.python.org/2/tutorial/floatingpoint.html)."
   ]
  },
  {
   "cell_type": "markdown",
   "metadata": {
    "colab_type": "text",
    "id": "P0RLeyTEXEwt",
    "lang": "pt"
   },
   "source": [
    "Um número complexo tem partes reais e imaginárias:"
   ]
  },
  {
   "cell_type": "code",
   "execution_count": 0,
   "metadata": {
    "colab": {},
    "colab_type": "code",
    "id": "4yS_p3BQXEwu",
    "outputId": "33ba4c28-4f6d-4f4d-f8a4-eab6cb3b9540"
   },
   "outputs": [
    {
     "data": {
      "text/plain": [
       "(1+2j)"
      ]
     },
     "execution_count": 31,
     "metadata": {
      "tags": []
     },
     "output_type": "execute_result"
    }
   ],
   "source": [
    "1+2j"
   ]
  },
  {
   "cell_type": "code",
   "execution_count": 0,
   "metadata": {
    "colab": {},
    "colab_type": "code",
    "id": "saeK01cEXEwx",
    "outputId": "ef319052-5067-44e7-884e-9f294fff97d0"
   },
   "outputs": [
    {
     "name": "stdout",
     "output_type": "stream",
     "text": [
      "<class 'complex'>\n"
     ]
    }
   ],
   "source": [
    "print(type(1+2j))"
   ]
  },
  {
   "cell_type": "markdown",
   "metadata": {
    "colab_type": "text",
    "id": "WCOnvT4OXEw1",
    "lang": "pt"
   },
   "source": [
    "Cada parte de um número complexo é representada como um número de ponto flutuante. Podemos vê-los usando os atributos `.real` e` .imag`:"
   ]
  },
  {
   "cell_type": "code",
   "execution_count": 0,
   "metadata": {
    "colab": {},
    "colab_type": "code",
    "id": "PjHLDKxFXEw2",
    "outputId": "601b7b8b-7962-4fc7-a5b4-29d80f45e275"
   },
   "outputs": [
    {
     "name": "stdout",
     "output_type": "stream",
     "text": [
      "1.0\n",
      "2.0\n"
     ]
    }
   ],
   "source": [
    "print((1+2j).real)\n",
    "print((1+2j).imag)"
   ]
  },
  {
   "cell_type": "markdown",
   "metadata": {
    "colab_type": "text",
    "id": "Fr8zz5JwXEw4",
    "lang": "pt"
   },
   "source": [
    "### Strings\n",
    "\n",
    "As strings podem ser colocadas entre aspas simples ou aspas duplas:"
   ]
  },
  {
   "cell_type": "code",
   "execution_count": 0,
   "metadata": {
    "colab": {},
    "colab_type": "code",
    "id": "WLGrvtHVXEw4",
    "outputId": "4e7c1e46-c520-48c5-dfaa-6b79f604ce18"
   },
   "outputs": [
    {
     "data": {
      "text/plain": [
       "'string (str) is a built-in type in Python'"
      ]
     },
     "execution_count": 34,
     "metadata": {
      "tags": []
     },
     "output_type": "execute_result"
    }
   ],
   "source": [
    "s = 'string (str) is a built-in type in Python'\n",
    "s"
   ]
  },
  {
   "cell_type": "code",
   "execution_count": 0,
   "metadata": {
    "colab": {},
    "colab_type": "code",
    "id": "7Z0yZQWEXEw7",
    "outputId": "0fb62d1a-f7f0-4d2b-9a61-79df01d09cdc"
   },
   "outputs": [
    {
     "data": {
      "text/plain": [
       "str"
      ]
     },
     "execution_count": 35,
     "metadata": {
      "tags": []
     },
     "output_type": "execute_result"
    }
   ],
   "source": [
    "type(s)"
   ]
  },
  {
   "cell_type": "markdown",
   "metadata": {
    "colab_type": "text",
    "id": "7BnemycQXExB",
    "lang": "pt"
   },
   "source": [
    "String entre aspas simples e duplas são iguais, mas pode ser mais fácil usar uma em vez da outra:"
   ]
  },
  {
   "cell_type": "code",
   "execution_count": 0,
   "metadata": {
    "colab": {},
    "colab_type": "code",
    "id": "9qf5mcVHXExC",
    "outputId": "1189a79a-1f0b-4b6f-fbc3-ca5e3eb417aa"
   },
   "outputs": [
    {
     "ename": "SyntaxError",
     "evalue": "invalid syntax (<ipython-input-36-bedc6bfaf081>, line 1)",
     "output_type": "error",
     "traceback": [
      "\u001b[0;36m  File \u001b[0;32m\"<ipython-input-36-bedc6bfaf081>\"\u001b[0;36m, line \u001b[0;32m1\u001b[0m\n\u001b[0;31m    'string (str) is a Python's built-in type'\u001b[0m\n\u001b[0m                              ^\u001b[0m\n\u001b[0;31mSyntaxError\u001b[0m\u001b[0;31m:\u001b[0m invalid syntax\n"
     ]
    }
   ],
   "source": [
    "'string (str) is a Python's built-in type'"
   ]
  },
  {
   "cell_type": "code",
   "execution_count": 0,
   "metadata": {
    "colab": {},
    "colab_type": "code",
    "id": "ftkNpciWXExF",
    "outputId": "47c5f97a-0217-4a39-c4b3-2c062cb20ac4"
   },
   "outputs": [
    {
     "data": {
      "text/plain": [
       "\"string (str) is a Python's built-in type\""
      ]
     },
     "execution_count": 37,
     "metadata": {
      "tags": []
     },
     "output_type": "execute_result"
    }
   ],
   "source": [
    "\"string (str) is a Python's built-in type\""
   ]
  },
  {
   "cell_type": "markdown",
   "metadata": {
    "colab_type": "text",
    "id": "uq4kPOOkXExI",
    "lang": "pt"
   },
   "source": [
    "Mas você poderia ter feito isso usando o caractere de escape do Python '\\\\':"
   ]
  },
  {
   "cell_type": "code",
   "execution_count": 0,
   "metadata": {
    "colab": {},
    "colab_type": "code",
    "id": "M0fLkuWOXExI",
    "outputId": "87338c69-b698-4d9e-d69c-e0c23fa0a57c"
   },
   "outputs": [
    {
     "data": {
      "text/plain": [
       "\"string (str) is a Python's built-in type\""
      ]
     },
     "execution_count": 38,
     "metadata": {
      "tags": []
     },
     "output_type": "execute_result"
    }
   ],
   "source": [
    "'string (str) is a Python\\'s built-in type'"
   ]
  },
  {
   "cell_type": "markdown",
   "metadata": {
    "colab_type": "text",
    "id": "uXjYzqZbXExK",
    "lang": "pt"
   },
   "source": [
    "As strings podem ser concatenadas (coladas) com o operador + e repetidas com *:"
   ]
  },
  {
   "cell_type": "code",
   "execution_count": 0,
   "metadata": {
    "colab": {},
    "colab_type": "code",
    "id": "8C4GxNxVXExM",
    "outputId": "19465676-cc52-4188-98e7-b75b84e35d53"
   },
   "outputs": [
    {
     "name": "stdout",
     "output_type": "stream",
     "text": [
      "Python\n",
      "PythonPythonPythonPythonPython\n"
     ]
    }
   ],
   "source": [
    "s = 'P' + 'y' + 't' + 'h' + 'o' + 'n'\n",
    "print(s)\n",
    "print(s*5)"
   ]
  },
  {
   "cell_type": "markdown",
   "metadata": {
    "colab_type": "text",
    "id": "Blc8MPBdXExN",
    "lang": "pt"
   },
   "source": [
    "Strings podem ser subscritas (indexadas). Como em C, o primeiro caractere de uma string tem subscrito (index) 0:"
   ]
  },
  {
   "cell_type": "code",
   "execution_count": 0,
   "metadata": {
    "colab": {},
    "colab_type": "code",
    "id": "FxXI3_5NXExN",
    "outputId": "658a3c02-ac4b-41b8-e27d-a0c31f81f6a5"
   },
   "outputs": [
    {
     "name": "stdout",
     "output_type": "stream",
     "text": [
      "s[0] =  P   (s[index], start at 0)\n",
      "s[5] =  n\n",
      "s[-1] =  n   (last element)\n",
      "s[:] =  Python   (all elements)\n",
      "s[1:] =  ython   (from this index (inclusive) till the last (inclusive))\n",
      "s[2:4] =  th   (from first index (inclusive) till second index (exclusive))\n",
      "s[:2] =  Py   (till this index, exclusive)\n",
      "s[:10] =  Python   (Python handles the index if it is larger than the string length)\n",
      "s[-10:] =  Python\n",
      "s[0:5:2] =  Pto   (s[ini:end:step])\n",
      "s[::2] =  Pto   (s[::step], initial and final indexes can be omitted)\n",
      "s[0:5:-1] =  nohtyP   (s[::-step] reverses the string)\n",
      "s[:2] + s[2:] =  Python   (because of Python indexing, this sounds natural)\n"
     ]
    }
   ],
   "source": [
    "print('s[0] = ', s[0], '  (s[index], start at 0)')\n",
    "print('s[5] = ', s[5])\n",
    "print('s[-1] = ', s[-1], '  (last element)')\n",
    "print('s[:] = ', s[:], '  (all elements)')\n",
    "print('s[1:] = ', s[1:], '  (from this index (inclusive) till the last (inclusive))')\n",
    "print('s[2:4] = ', s[2:4], '  (from first index (inclusive) till second index (exclusive))')\n",
    "print('s[:2] = ', s[:2], '  (till this index, exclusive)')\n",
    "print('s[:10] = ', s[:10], '  (Python handles the index if it is larger than the string length)')\n",
    "print('s[-10:] = ', s[-10:])\n",
    "print('s[0:5:2] = ', s[0:5:2], '  (s[ini:end:step])')\n",
    "print('s[::2] = ', s[::2], '  (s[::step], initial and final indexes can be omitted)')\n",
    "print('s[0:5:-1] = ', s[::-1], '  (s[::-step] reverses the string)')\n",
    "print('s[:2] + s[2:] = ', s[:2] + s[2:], '  (because of Python indexing, this sounds natural)')"
   ]
  },
  {
   "cell_type": "markdown",
   "metadata": {
    "colab_type": "text",
    "id": "t6BmwINSXExQ",
    "lang": "pt"
   },
   "source": [
    "### len()\n",
    "\n",
    "O Python possui uma função interna para obter o número de itens de uma sequência:"
   ]
  },
  {
   "cell_type": "code",
   "execution_count": 0,
   "metadata": {
    "colab": {},
    "colab_type": "code",
    "id": "7hA_Iy0HXExQ",
    "outputId": "4d8afc81-f352-4e54-e84a-380addf58af1"
   },
   "outputs": [
    {
     "name": "stdout",
     "output_type": "stream",
     "text": [
      "Help on built-in function len in module builtins:\n",
      "\n",
      "len(obj, /)\n",
      "    Return the number of items in a container.\n",
      "\n"
     ]
    }
   ],
   "source": [
    "help(len)"
   ]
  },
  {
   "cell_type": "code",
   "execution_count": 0,
   "metadata": {
    "colab": {},
    "colab_type": "code",
    "id": "rmWocX2cXExS",
    "outputId": "65280579-3a33-4bfe-868e-6914105495f7"
   },
   "outputs": [
    {
     "data": {
      "text/plain": [
       "6"
      ]
     },
     "execution_count": 42,
     "metadata": {
      "tags": []
     },
     "output_type": "execute_result"
    }
   ],
   "source": [
    "s = 'Python'\n",
    "len(s)"
   ]
  },
  {
   "cell_type": "markdown",
   "metadata": {
    "colab_type": "text",
    "id": "uvy-fjTYXExU",
    "lang": "pt"
   },
   "source": [
    "A função len() ajuda a entender como a indexação reversa funciona no Python.\n",
    "O índice s[-i] deve ser entendido como s[len (s) - i] ao invés de acessar diretamente o i-ésimo elemento de trás para frente. É por isso que o último elemento de uma string é s[-1]:"
   ]
  },
  {
   "cell_type": "code",
   "execution_count": 0,
   "metadata": {
    "colab": {},
    "colab_type": "code",
    "id": "p7gi-Ec1XExU",
    "outputId": "e0fb97c7-bb7e-4939-afe3-ec0ee1137f13"
   },
   "outputs": [
    {
     "name": "stdout",
     "output_type": "stream",
     "text": [
      "s =  Python\n",
      "len(s) =  6\n",
      "len(s)-1 =  5\n",
      "s[-1] =  n\n",
      "s[len(s) - 1] =  n\n"
     ]
    }
   ],
   "source": [
    "print('s = ', s)\n",
    "print('len(s) = ', len(s))\n",
    "print('len(s)-1 = ',len(s) - 1)\n",
    "print('s[-1] = ', s[-1])\n",
    "print('s[len(s) - 1] = ', s[len(s) - 1])"
   ]
  },
  {
   "cell_type": "markdown",
   "metadata": {
    "colab_type": "text",
    "id": "0voJq7voXExZ",
    "lang": "pt"
   },
   "source": [
    "### Listas\n",
    "\n",
    "Os valores podem ser agrupados usando tipos diferentes, um deles é **list**, que pode ser escrito como uma lista de valores separados por vírgula entre colchetes. Itens de lista não precisam ter todos o mesmo tipo:"
   ]
  },
  {
   "cell_type": "code",
   "execution_count": 0,
   "metadata": {
    "colab": {},
    "colab_type": "code",
    "id": "65vrKP3mXExZ",
    "outputId": "43f1f72d-ff32-4301-dd71-ca7e33393a21"
   },
   "outputs": [
    {
     "data": {
      "text/plain": [
       "['spam', 'eggs', 100, 1234]"
      ]
     },
     "execution_count": 44,
     "metadata": {
      "tags": []
     },
     "output_type": "execute_result"
    }
   ],
   "source": [
    "x = ['spam', 'eggs', 100, 1234]\n",
    "x"
   ]
  },
  {
   "cell_type": "markdown",
   "metadata": {
    "colab_type": "text",
    "id": "jtZXtdqJXExb",
    "lang": "pt"
   },
   "source": [
    "As listas podem ser indexadas e as mesmas regras de indexação que vimos para strings são aplicadas:"
   ]
  },
  {
   "cell_type": "code",
   "execution_count": 0,
   "metadata": {
    "colab": {},
    "colab_type": "code",
    "id": "T5N2JoJNXExc",
    "outputId": "9ee4009a-001d-4485-996b-8123a13f3654"
   },
   "outputs": [
    {
     "data": {
      "text/plain": [
       "'spam'"
      ]
     },
     "execution_count": 45,
     "metadata": {
      "tags": []
     },
     "output_type": "execute_result"
    }
   ],
   "source": [
    "x[0]"
   ]
  },
  {
   "cell_type": "markdown",
   "metadata": {
    "colab_type": "text",
    "id": "FOGyM8mKXExe",
    "lang": "pt"
   },
   "source": [
    "A função len() funciona para listas:"
   ]
  },
  {
   "cell_type": "code",
   "execution_count": 0,
   "metadata": {
    "colab": {},
    "colab_type": "code",
    "id": "EnqVNd6jXExf",
    "outputId": "ad22f4d1-e6ba-4cd2-bfa9-37e137ec7e20"
   },
   "outputs": [
    {
     "data": {
      "text/plain": [
       "4"
      ]
     },
     "execution_count": 46,
     "metadata": {
      "tags": []
     },
     "output_type": "execute_result"
    }
   ],
   "source": [
    "len(x)"
   ]
  },
  {
   "cell_type": "markdown",
   "metadata": {
    "colab_type": "text",
    "id": "FwS8ErmqXExh",
    "lang": "pt"
   },
   "source": [
    "### Tuplas\n",
    "\n",
    "Uma tupla consiste em um número de valores separados por vírgulas, por exemplo:"
   ]
  },
  {
   "cell_type": "code",
   "execution_count": 0,
   "metadata": {
    "colab": {},
    "colab_type": "code",
    "id": "va8pZOw8XExh",
    "outputId": "e3c119a7-7306-4664-bc19-68e99931b528"
   },
   "outputs": [
    {
     "data": {
      "text/plain": [
       "('spam', 'eggs', 100, 1234)"
      ]
     },
     "execution_count": 50,
     "metadata": {
      "tags": []
     },
     "output_type": "execute_result"
    }
   ],
   "source": [
    "t = ('spam', 'eggs', 100, 1234)\n",
    "t"
   ]
  },
  {
   "cell_type": "markdown",
   "metadata": {
    "colab_type": "text",
    "id": "PhANXIXSXExl",
    "lang": "pt"
   },
   "source": [
    "O tipo de tupla é o por que de várias atribuições em uma única linha funcionar. Elementos separados por vírgulas (com ou sem parênteses circundantes) são uma tupla e em uma expressão com um '=', a tupla do lado direito é atribuída à tupla do lado esquerdo:"
   ]
  },
  {
   "cell_type": "code",
   "execution_count": 0,
   "metadata": {
    "colab": {},
    "colab_type": "code",
    "id": "6QrjcK1TXExm",
    "outputId": "83d35d10-d872-4be6-9ded-e165589530b8"
   },
   "outputs": [
    {
     "name": "stdout",
     "output_type": "stream",
     "text": [
      "a =  1 \n",
      "b =  2\n"
     ]
    }
   ],
   "source": [
    "a, b = 1, 2\n",
    "print('a = ', a, '\\nb = ', b)"
   ]
  },
  {
   "cell_type": "markdown",
   "metadata": {
    "colab_type": "text",
    "id": "J_ZjZ8frXExo",
    "lang": "pt"
   },
   "source": [
    "É o mesmo que:"
   ]
  },
  {
   "cell_type": "code",
   "execution_count": 0,
   "metadata": {
    "colab": {},
    "colab_type": "code",
    "id": "QN7Bg3btXExo",
    "outputId": "c354c2e6-7c0e-439a-ef02-9b6dae10c900"
   },
   "outputs": [
    {
     "name": "stdout",
     "output_type": "stream",
     "text": [
      "a =  1 \n",
      "b =  2\n"
     ]
    }
   ],
   "source": [
    "(a, b) = (1, 2)\n",
    "print('a = ', a, '\\nb = ', b)"
   ]
  },
  {
   "cell_type": "markdown",
   "metadata": {
    "colab_type": "text",
    "id": "UuYvDSK8XExr",
    "lang": "pt"
   },
   "source": [
    "### Conjuntos\n",
    "\n",
    "O Python também inclui um tipo de dados para conjuntos (**sets**). Um conjunto é uma coleção não ordenada sem elementos duplicados."
   ]
  },
  {
   "cell_type": "code",
   "execution_count": 0,
   "metadata": {
    "colab": {},
    "colab_type": "code",
    "id": "CJxh7RiCXExs",
    "outputId": "46e5287a-4f72-4ebc-ffc0-bf66d365c0f4"
   },
   "outputs": [
    {
     "data": {
      "text/plain": [
       "{'apple', 'banana', 'orange', 'pear'}"
      ]
     },
     "execution_count": 49,
     "metadata": {
      "tags": []
     },
     "output_type": "execute_result"
    }
   ],
   "source": [
    "basket = ['apple', 'orange', 'apple', 'pear', 'orange', 'banana']\n",
    "fruit = set(basket)  # create a set without duplicates\n",
    "fruit"
   ]
  },
  {
   "cell_type": "markdown",
   "metadata": {
    "colab_type": "text",
    "id": "sixqFvJrXExv",
    "lang": "pt"
   },
   "source": [
    "Como set é uma coleção não ordenada, não pode ser indexada como listas e tuplas."
   ]
  },
  {
   "cell_type": "code",
   "execution_count": 0,
   "metadata": {
    "colab": {},
    "colab_type": "code",
    "id": "M7YGq4nbXExw",
    "outputId": "df34a521-dc2f-4e28-9e69-b9887d19c243"
   },
   "outputs": [
    {
     "data": {
      "text/plain": [
       "True"
      ]
     },
     "execution_count": 50,
     "metadata": {
      "tags": []
     },
     "output_type": "execute_result"
    }
   ],
   "source": [
    "set(['orange', 'pear', 'apple', 'banana'])\n",
    "'orange' in fruit  # fast membership testing"
   ]
  },
  {
   "cell_type": "markdown",
   "metadata": {
    "colab_type": "text",
    "id": "dZqSMPYZXExy",
    "lang": "pt"
   },
   "source": [
    "### Dicionários\n",
    "\n",
    "Dicionário (**dict**) é uma coleção de elementos organizados chaves e valores. Ao contrário das listas e tuplas, que são indexadas por um intervalo de números, os dicionários são indexados por suas chaves:"
   ]
  },
  {
   "cell_type": "code",
   "execution_count": 0,
   "metadata": {
    "colab": {},
    "colab_type": "code",
    "id": "kvtIePQ8XExz",
    "outputId": "ed4f51a7-d8b9-47c8-9be4-1c08d5db5bde"
   },
   "outputs": [
    {
     "data": {
      "text/plain": [
       "{'jack': 4098, 'sape': 4139}"
      ]
     },
     "execution_count": 51,
     "metadata": {
      "tags": []
     },
     "output_type": "execute_result"
    }
   ],
   "source": [
    "tel = {'jack': 4098, 'sape': 4139}\n",
    "tel"
   ]
  },
  {
   "cell_type": "code",
   "execution_count": 0,
   "metadata": {
    "colab": {},
    "colab_type": "code",
    "id": "3fKNgw4AXEx1",
    "outputId": "bddfa76f-b265-4952-d5e0-37ea69ad2457"
   },
   "outputs": [
    {
     "data": {
      "text/plain": [
       "{'jack': 4098, 'sape': 4139, 'guido': 4127}"
      ]
     },
     "execution_count": 52,
     "metadata": {
      "tags": []
     },
     "output_type": "execute_result"
    }
   ],
   "source": [
    "tel['guido'] = 4127\n",
    "tel"
   ]
  },
  {
   "cell_type": "code",
   "execution_count": 0,
   "metadata": {
    "colab": {},
    "colab_type": "code",
    "id": "FNjW5zYwXEx7",
    "outputId": "8af687a5-69c7-4f85-c8bd-a322cb02053d"
   },
   "outputs": [
    {
     "data": {
      "text/plain": [
       "4098"
      ]
     },
     "execution_count": 53,
     "metadata": {
      "tags": []
     },
     "output_type": "execute_result"
    }
   ],
   "source": [
    "tel['jack']"
   ]
  },
  {
   "cell_type": "code",
   "execution_count": 0,
   "metadata": {
    "colab": {},
    "colab_type": "code",
    "id": "q6Ol4TDVXEx_",
    "outputId": "c9500574-d08d-4049-9925-22db8e730c7f"
   },
   "outputs": [
    {
     "data": {
      "text/plain": [
       "{'jack': 4098, 'guido': 4127, 'irv': 4127}"
      ]
     },
     "execution_count": 54,
     "metadata": {
      "tags": []
     },
     "output_type": "execute_result"
    }
   ],
   "source": [
    "del tel['sape']\n",
    "tel['irv'] = 4127\n",
    "tel"
   ]
  },
  {
   "cell_type": "code",
   "execution_count": 0,
   "metadata": {
    "colab": {},
    "colab_type": "code",
    "id": "7Z9cT1BYXEyC",
    "outputId": "d5944a80-b030-450d-8797-8bf792791cb1"
   },
   "outputs": [
    {
     "data": {
      "text/plain": [
       "dict_keys(['jack', 'guido', 'irv'])"
      ]
     },
     "execution_count": 55,
     "metadata": {
      "tags": []
     },
     "output_type": "execute_result"
    }
   ],
   "source": [
    "tel.keys()"
   ]
  },
  {
   "cell_type": "code",
   "execution_count": 0,
   "metadata": {
    "colab": {},
    "colab_type": "code",
    "id": "vydNykCCXEyE",
    "outputId": "47b74fcc-dcce-42fa-d8b6-817f6096053e"
   },
   "outputs": [
    {
     "data": {
      "text/plain": [
       "True"
      ]
     },
     "execution_count": 56,
     "metadata": {
      "tags": []
     },
     "output_type": "execute_result"
    }
   ],
   "source": [
    "'guido' in tel"
   ]
  },
  {
   "cell_type": "markdown",
   "metadata": {
    "colab_type": "text",
    "id": "iVgK0cZCXEyG",
    "lang": "pt"
   },
   "source": [
    "O construtor dict() constrói dicionários diretamente de sequências de pares de valores-chave:"
   ]
  },
  {
   "cell_type": "code",
   "execution_count": 0,
   "metadata": {
    "colab": {},
    "colab_type": "code",
    "id": "DWo3R-jaXEyH",
    "outputId": "3c1acf3a-a34f-41ec-9d7a-15efbc310f97"
   },
   "outputs": [
    {
     "data": {
      "text/plain": [
       "{'guido': 4127, 'jack': 4098, 'sape': 4139}"
      ]
     },
     "execution_count": 61,
     "metadata": {
      "tags": []
     },
     "output_type": "execute_result"
    }
   ],
   "source": [
    "tel = dict([('sape', 4139), ('guido', 4127), ('jack', 4098)])\n",
    "tel"
   ]
  },
  {
   "cell_type": "markdown",
   "metadata": {
    "colab_type": "text",
    "id": "wLo4NXSaXEyJ",
    "lang": "pt"
   },
   "source": [
    "## Constantes internas\n",
    "\n",
    "- **False**: valor falso do tipo bool\n",
    "- **True**: valor verdadeiro do tipo bool\n",
    "- **None**: valor único de types.NoneType. None é freqüentemente usado para representar a ausência de um valor."
   ]
  },
  {
   "cell_type": "markdown",
   "metadata": {
    "colab_type": "text",
    "id": "NMzmBeiAXEyJ",
    "lang": "pt"
   },
   "source": [
    "Na ciência da computação, o tipo de dados booleano ou lógico é composto por dois valores, verdadeiro e falso (**True** e **False**), destinados a representar os valores da lógica e da álgebra booleana. No Python, 1 e 0 também podem ser usados ​​na maioria das situações como equivalentes aos valores booleanos."
   ]
  },
  {
   "cell_type": "markdown",
   "metadata": {
    "colab_type": "text",
    "id": "pP4Q9BhmXEyK",
    "lang": "pt"
   },
   "source": [
    "## Operadores lógicos (booleanos)"
   ]
  },
  {
   "cell_type": "markdown",
   "metadata": {
    "colab_type": "text",
    "id": "EbCs5CSOXEyK"
   },
   "source": [
    "### and, or, not"
   ]
  },
  {
   "cell_type": "markdown",
   "metadata": {
    "colab_type": "text",
    "id": "hnv9pdaLXEyK",
    "lang": "pt"
   },
   "source": [
    "- **and**: operador lógico AND. Se ambos os operandos forem verdadeiros, a condição se tornará verdadeira.\n",
    "- **or**: Operador OR lógico. Se algum dos dois operandos for diferente de zero, a condição se tornará verdadeira. \n",
    "- **not**: Operador NOT lógico. Reverte o estado lógico de seu operando. Se uma condição for verdadeira, então o operador NOT lógico o tornará falso."
   ]
  },
  {
   "cell_type": "markdown",
   "metadata": {
    "colab_type": "text",
    "id": "wSL1PIeeXEyK",
    "lang": "pt"
   },
   "source": [
    "### Comparações\n",
    "\n",
    "As seguintes operações de comparação são suportadas por objetos no Python:\n",
    "\n",
    "- **==**: igual\n",
    "- **! =**: diferente\n",
    "- **<**\t: menor que\n",
    "- **<=** : menor ou igual\n",
    "- **\\>**: estritamente maior que\n",
    "- **\\>=**: maior ou igual\n",
    "- **is**: identidade do objeto\n",
    "- **not is**: identidade de objeto negada"
   ]
  },
  {
   "cell_type": "code",
   "execution_count": 0,
   "metadata": {
    "colab": {},
    "colab_type": "code",
    "id": "88S3KFrgXEyL",
    "outputId": "11466c05-ac48-454d-dea8-21633e753e2e"
   },
   "outputs": [
    {
     "data": {
      "text/plain": [
       "False"
      ]
     },
     "execution_count": 101,
     "metadata": {
      "tags": []
     },
     "output_type": "execute_result"
    }
   ],
   "source": [
    "True == False"
   ]
  },
  {
   "cell_type": "code",
   "execution_count": 0,
   "metadata": {
    "colab": {},
    "colab_type": "code",
    "id": "tgZ4LUNqXEyN",
    "outputId": "ecd701ac-3253-4766-db6c-e8e84d82e3e2"
   },
   "outputs": [
    {
     "data": {
      "text/plain": [
       "True"
      ]
     },
     "execution_count": 102,
     "metadata": {
      "tags": []
     },
     "output_type": "execute_result"
    }
   ],
   "source": [
    "not True == False"
   ]
  },
  {
   "cell_type": "code",
   "execution_count": 0,
   "metadata": {
    "colab": {},
    "colab_type": "code",
    "id": "V6s5tpC-XEyO",
    "outputId": "001bd187-fe1d-4610-86fe-0f0d81134720"
   },
   "outputs": [
    {
     "data": {
      "text/plain": [
       "True"
      ]
     },
     "execution_count": 103,
     "metadata": {
      "tags": []
     },
     "output_type": "execute_result"
    }
   ],
   "source": [
    "1 < 2 > 1"
   ]
  },
  {
   "cell_type": "code",
   "execution_count": 0,
   "metadata": {
    "colab": {},
    "colab_type": "code",
    "id": "R4zQiAmlXEyQ",
    "outputId": "457246b2-01f4-48f2-d6e9-5d5cb4acdb6a"
   },
   "outputs": [
    {
     "data": {
      "text/plain": [
       "False"
      ]
     },
     "execution_count": 104,
     "metadata": {
      "tags": []
     },
     "output_type": "execute_result"
    }
   ],
   "source": [
    "True != (False or True)"
   ]
  },
  {
   "cell_type": "code",
   "execution_count": 0,
   "metadata": {
    "colab": {},
    "colab_type": "code",
    "id": "ivXRVDRuXEyS",
    "outputId": "e361ced6-b339-4184-f06c-8d2bb788e486"
   },
   "outputs": [
    {
     "data": {
      "text/plain": [
       "True"
      ]
     },
     "execution_count": 105,
     "metadata": {
      "tags": []
     },
     "output_type": "execute_result"
    }
   ],
   "source": [
    "True != False or True"
   ]
  },
  {
   "cell_type": "markdown",
   "metadata": {
    "colab_type": "text",
    "id": "kLBwJdshXEyU",
    "lang": "pt"
   },
   "source": [
    "## Indentação e espaço em branco\n",
    "\n",
    "No Python, o agrupamento de instruções é feito por indentação (isso é obrigatório), o que é feito inserindo-se espaços em branco. A indentação também é recomendada para o alinhamento de chamadas de função que abrangem mais de uma linha para melhor clareza.\n"
   ]
  },
  {
   "cell_type": "markdown",
   "metadata": {
    "colab_type": "text",
    "id": "bfNaEXdQXEyV",
    "lang": "pt"
   },
   "source": [
    "## Controle de fluxo\n",
    "\n",
    "### `if` ...` elif` ... `else`\n",
    "\n",
    "As declarações condicionais (para executar algo se outra coisa for Verdadeira ou Falsa) podem ser implementadas usando a declaração `if`:\n",
    "`` `\n",
    "if expressão:\n",
    "   declaração\n",
    "elif:\n",
    "   declaração\n",
    "else:\n",
    "   declaração\n",
    "`` `\n",
    "`elif` (um ou mais) e` else` são opcionais.\n",
    "O recuo é obrigatório.\n",
    "Por exemplo:"
   ]
  },
  {
   "cell_type": "code",
   "execution_count": 0,
   "metadata": {
    "colab": {},
    "colab_type": "code",
    "id": "kEg5EQ1eXEyV"
   },
   "outputs": [],
   "source": [
    "if True:\n",
    "    pass"
   ]
  },
  {
   "cell_type": "markdown",
   "metadata": {
    "colab_type": "text",
    "id": "AyhN_6SQXEyW",
    "lang": "pt"
   },
   "source": [
    "O que não faz nada útil.\n",
    "\n",
    "Vamos usar as declarações `if` ...` elif` ... `else` para categorizar o [índice de massa corporal](http://en.wikipedia.org/wiki/Body_mass_index) de uma pessoa:"
   ]
  },
  {
   "cell_type": "code",
   "execution_count": 0,
   "metadata": {
    "colab": {},
    "colab_type": "code",
    "id": "eBpcVZ0XXEyW"
   },
   "outputs": [],
   "source": [
    "# body mass index\n",
    "weight = 100  # kg\n",
    "height = 1.70  # m\n",
    "bmi = weight / height**2"
   ]
  },
  {
   "cell_type": "code",
   "execution_count": 0,
   "metadata": {
    "colab": {},
    "colab_type": "code",
    "id": "kc6XvFcmXEyY",
    "outputId": "96933368-88a5-4334-a781-efdb76b9f283"
   },
   "outputs": [
    {
     "name": "stdout",
     "output_type": "stream",
     "text": [
      "For a weight of 100.0 kg and a height of 1.70 m,\n",
      "the body mass index (bmi) is 34.6 kg/m2,\n",
      "which is considered moderately obese.\n"
     ]
    }
   ],
   "source": [
    "if bmi < 15:\n",
    "    c = 'very severely underweight'\n",
    "elif 15 <= bmi < 16:\n",
    "    c = 'severely underweight'\n",
    "elif 16 <= bmi < 18.5:\n",
    "    c = 'underweight'\n",
    "elif 18.5 <= bmi < 25:\n",
    "    c = 'normal'\n",
    "elif 25 <= bmi < 30:\n",
    "    c = 'overweight'\n",
    "elif 30 <= bmi < 35:\n",
    "    c = 'moderately obese'\n",
    "elif 35 <= bmi < 40:\n",
    "    c = 'severely obese'\n",
    "else:\n",
    "    c = 'very severely obese'\n",
    "    \n",
    "print('For a weight of {0:.1f} kg and a height of {1:.2f} m,\\n\\\n",
    "the body mass index (bmi) is {2:.1f} kg/m2,\\nwhich is considered {3:s}.'\\\n",
    "      .format(weight, height, bmi, c))"
   ]
  },
  {
   "cell_type": "markdown",
   "metadata": {
    "colab_type": "text",
    "id": "BcZzYMFSXEya",
    "lang": "pt"
   },
   "source": [
    "### for\n",
    "\n",
    "A instrução `for` itera sobre uma sequência para executar operações (um evento de loop).\n",
    "`` `\n",
    "for iterating_var in sequência:\n",
    "    declarações\n",
    "`` `"
   ]
  },
  {
   "cell_type": "code",
   "execution_count": 0,
   "metadata": {
    "colab": {},
    "colab_type": "code",
    "id": "4reE0v36XEya",
    "outputId": "47e33415-2aea-4c89-b5e7-2b5e92459908"
   },
   "outputs": [
    {
     "name": "stdout",
     "output_type": "stream",
     "text": [
      "3, 2, 1, go!, "
     ]
    }
   ],
   "source": [
    "for i in [3, 2, 1, 'go!']:\n",
    "    print(i, end=', ')"
   ]
  },
  {
   "cell_type": "code",
   "execution_count": 0,
   "metadata": {
    "colab": {},
    "colab_type": "code",
    "id": "Tp_klngcXEyb",
    "outputId": "e43cca04-55da-4b92-bca9-d373c748e24a"
   },
   "outputs": [
    {
     "name": "stdout",
     "output_type": "stream",
     "text": [
      "P\n",
      "y\n",
      "t\n",
      "h\n",
      "o\n",
      "n\n"
     ]
    }
   ],
   "source": [
    "for letter in 'Python':\n",
    "    print(letter),"
   ]
  },
  {
   "cell_type": "markdown",
   "metadata": {
    "colab_type": "text",
    "id": "BBbZbZz6XEyd",
    "lang": "pt"
   },
   "source": [
    "#### A função `range()`\n",
    "\n",
    "A função range() é útil se precisarmos criar uma sequência de números, por exemplo, para iterar sobre essa lista. Ele gera listas contendo progressões aritméticas:"
   ]
  },
  {
   "cell_type": "code",
   "execution_count": 0,
   "metadata": {
    "colab": {},
    "colab_type": "code",
    "id": "4_kj0dQKXEyd",
    "outputId": "9a3f2527-50f3-46f8-bf89-397edde7cadb"
   },
   "outputs": [
    {
     "name": "stdout",
     "output_type": "stream",
     "text": [
      "Help on class range in module builtins:\n",
      "\n",
      "class range(object)\n",
      " |  range(stop) -> range object\n",
      " |  range(start, stop[, step]) -> range object\n",
      " |  \n",
      " |  Return an object that produces a sequence of integers from start (inclusive)\n",
      " |  to stop (exclusive) by step.  range(i, j) produces i, i+1, i+2, ..., j-1.\n",
      " |  start defaults to 0, and stop is omitted!  range(4) produces 0, 1, 2, 3.\n",
      " |  These are exactly the valid indices for a list of 4 elements.\n",
      " |  When step is given, it specifies the increment (or decrement).\n",
      " |  \n",
      " |  Methods defined here:\n",
      " |  \n",
      " |  __bool__(self, /)\n",
      " |      self != 0\n",
      " |  \n",
      " |  __contains__(self, key, /)\n",
      " |      Return key in self.\n",
      " |  \n",
      " |  __eq__(self, value, /)\n",
      " |      Return self==value.\n",
      " |  \n",
      " |  __ge__(self, value, /)\n",
      " |      Return self>=value.\n",
      " |  \n",
      " |  __getattribute__(self, name, /)\n",
      " |      Return getattr(self, name).\n",
      " |  \n",
      " |  __getitem__(self, key, /)\n",
      " |      Return self[key].\n",
      " |  \n",
      " |  __gt__(self, value, /)\n",
      " |      Return self>value.\n",
      " |  \n",
      " |  __hash__(self, /)\n",
      " |      Return hash(self).\n",
      " |  \n",
      " |  __iter__(self, /)\n",
      " |      Implement iter(self).\n",
      " |  \n",
      " |  __le__(self, value, /)\n",
      " |      Return self<=value.\n",
      " |  \n",
      " |  __len__(self, /)\n",
      " |      Return len(self).\n",
      " |  \n",
      " |  __lt__(self, value, /)\n",
      " |      Return self<value.\n",
      " |  \n",
      " |  __ne__(self, value, /)\n",
      " |      Return self!=value.\n",
      " |  \n",
      " |  __new__(*args, **kwargs) from builtins.type\n",
      " |      Create and return a new object.  See help(type) for accurate signature.\n",
      " |  \n",
      " |  __reduce__(...)\n",
      " |      helper for pickle\n",
      " |  \n",
      " |  __repr__(self, /)\n",
      " |      Return repr(self).\n",
      " |  \n",
      " |  __reversed__(...)\n",
      " |      Return a reverse iterator.\n",
      " |  \n",
      " |  count(...)\n",
      " |      rangeobject.count(value) -> integer -- return number of occurrences of value\n",
      " |  \n",
      " |  index(...)\n",
      " |      rangeobject.index(value, [start, [stop]]) -> integer -- return index of value.\n",
      " |      Raise ValueError if the value is not present.\n",
      " |  \n",
      " |  ----------------------------------------------------------------------\n",
      " |  Data descriptors defined here:\n",
      " |  \n",
      " |  start\n",
      " |  \n",
      " |  step\n",
      " |  \n",
      " |  stop\n",
      "\n"
     ]
    }
   ],
   "source": [
    "help(range)"
   ]
  },
  {
   "cell_type": "code",
   "execution_count": 0,
   "metadata": {
    "colab": {},
    "colab_type": "code",
    "id": "SFnm1d9xXEyf",
    "outputId": "61e320ec-dedb-49ee-d377-b3ea755207d8"
   },
   "outputs": [
    {
     "data": {
      "text/plain": [
       "range(0, 10)"
      ]
     },
     "execution_count": 112,
     "metadata": {
      "tags": []
     },
     "output_type": "execute_result"
    }
   ],
   "source": [
    "range(10)"
   ]
  },
  {
   "cell_type": "code",
   "execution_count": 0,
   "metadata": {
    "colab": {},
    "colab_type": "code",
    "id": "8hS3nX_UXEyh",
    "outputId": "f8fdbcd3-bc02-496e-c281-b84ef03cbf06"
   },
   "outputs": [
    {
     "data": {
      "text/plain": [
       "range(1, 10, 2)"
      ]
     },
     "execution_count": 113,
     "metadata": {
      "tags": []
     },
     "output_type": "execute_result"
    }
   ],
   "source": [
    "range(1, 10, 2)"
   ]
  },
  {
   "cell_type": "code",
   "execution_count": 0,
   "metadata": {
    "colab": {},
    "colab_type": "code",
    "id": "5Hd2uRaNXEyj",
    "outputId": "863b4eef-0408-4825-9f7d-88d43fd3c18a"
   },
   "outputs": [
    {
     "name": "stdout",
     "output_type": "stream",
     "text": [
      "0\n",
      "1\n",
      "4\n",
      "9\n",
      "16\n",
      "25\n",
      "36\n",
      "49\n",
      "64\n",
      "81\n"
     ]
    }
   ],
   "source": [
    "for i in range(10):\n",
    "    n2 = i**2\n",
    "    print(n2),"
   ]
  },
  {
   "cell_type": "markdown",
   "metadata": {
    "colab_type": "text",
    "id": "qxs7gsjHXEyl",
    "lang": "pt"
   },
   "source": [
    "### while\n",
    "\n",
    "A instrução `while` é usada para repetir seções de código em um loop até que uma condição seja atendida (isto é diferente da instrução` for` que é executada n vezes):\n",
    "`` `\n",
    "while expressão:\n",
    "    declaração\n",
    "`` `\n",
    "Vamos gerar a série Fibonacci usando um loop `while`:"
   ]
  },
  {
   "cell_type": "code",
   "execution_count": 0,
   "metadata": {
    "colab": {},
    "colab_type": "code",
    "id": "1d4dLLJ5XEym",
    "outputId": "fddd3cad-c7e5-4de0-ccd4-b7bb699afaa0"
   },
   "outputs": [
    {
     "name": "stdout",
     "output_type": "stream",
     "text": [
      "1   1   2   3   5   8   13   21   34   55   89   144   233   377   610   987   "
     ]
    }
   ],
   "source": [
    "# Fibonacci series: the sum of two elements defines the next\n",
    "a, b = 0, 1\n",
    "while b < 1000:\n",
    "    print(b, end='   ')\n",
    "    a, b = b, a+b"
   ]
  },
  {
   "cell_type": "markdown",
   "metadata": {
    "colab_type": "text",
    "id": "QZhKbk95XEyo",
    "lang": "pt"
   },
   "source": [
    "## Definição de função\n",
    "\n",
    "Uma função em uma linguagem de programação é um pedaço de código que executa uma tarefa específica. As funções são usadas para reduzir a duplicação de código, facilitando a reutilização e decompondo problemas complexos em partes mais simples. O uso de funções contribui para a clareza do código.\n",
    "\n",
    "Uma função é criada com a palavra-chave `def` e as instruções no bloco da função devem ser indentadas:"
   ]
  },
  {
   "cell_type": "code",
   "execution_count": 0,
   "metadata": {
    "colab": {},
    "colab_type": "code",
    "id": "mUqWh6YiXEyo"
   },
   "outputs": [],
   "source": [
    "def function():\n",
    "    pass"
   ]
  },
  {
   "cell_type": "markdown",
   "metadata": {
    "colab_type": "text",
    "id": "1NRZJAiqXEyp",
    "lang": "pt"
   },
   "source": [
    "Essa função não faz nada quando chamada:"
   ]
  },
  {
   "cell_type": "code",
   "execution_count": 0,
   "metadata": {
    "colab": {},
    "colab_type": "code",
    "id": "zWfBzM0JXEyq"
   },
   "outputs": [],
   "source": [
    "function()"
   ]
  },
  {
   "cell_type": "markdown",
   "metadata": {
    "colab_type": "text",
    "id": "aq1XvG2mXEyr"
   },
   "source": [
    "\n",
    "A sintaxe geral de definição de uma função é:\n",
    "\n",
    "```\n",
    "def function_name( parameters ):\n",
    "   \"\"\"Function docstring.\n",
    "\n",
    "   The help for the function\n",
    "\n",
    "   \"\"\"\n",
    "\n",
    "   function body\n",
    "\n",
    "   return variables\n",
    "```\n",
    "Uma função mais útil:"
   ]
  },
  {
   "cell_type": "code",
   "execution_count": 0,
   "metadata": {
    "colab": {},
    "colab_type": "code",
    "id": "fVd53JA3XEyr"
   },
   "outputs": [],
   "source": [
    "def fibo(N):\n",
    "    \"\"\"Fibonacci series: the sum of two elements defines the next.\n",
    "    \n",
    "    The series is calculated till the input parameter N and\n",
    "    returned as an ouput variable.\n",
    "    \n",
    "    \"\"\"\n",
    "    \n",
    "    a, b, c = 0, 1, []\n",
    "    while b < N:\n",
    "        c.append(b)\n",
    "        a, b = b, a + b\n",
    "        \n",
    "    return c"
   ]
  },
  {
   "cell_type": "code",
   "execution_count": 0,
   "metadata": {
    "colab": {},
    "colab_type": "code",
    "id": "e3rg1Mk2XEys",
    "outputId": "00a4b4e8-17b4-4ae8-9759-83b821d69fb3"
   },
   "outputs": [
    {
     "data": {
      "image/png": "[encoded data removed]",
      "text/latex": [
       "$\\displaystyle \\left[ 1, \\  1, \\  2, \\  3, \\  5, \\  8, \\  13, \\  21, \\  34, \\  55, \\  89\\right]$"
      ],
      "text/plain": [
       "[1, 1, 2, 3, 5, 8, 13, 21, 34, 55, 89]"
      ]
     },
     "execution_count": 119,
     "metadata": {
      "tags": []
     },
     "output_type": "execute_result"
    }
   ],
   "source": [
    "fibo(100)"
   ]
  },
  {
   "cell_type": "code",
   "execution_count": 0,
   "metadata": {
    "colab": {},
    "colab_type": "code",
    "id": "hVekTtsmXEyu",
    "outputId": "839315d1-6c84-429d-ab03-ffe7603eb74e"
   },
   "outputs": [
    {
     "name": "stdout",
     "output_type": "stream",
     "text": [
      "teste\n"
     ]
    }
   ],
   "source": [
    "if 3 > 2:\n",
    "    print('teste')"
   ]
  },
  {
   "cell_type": "markdown",
   "metadata": {
    "colab_type": "text",
    "id": "CBZFi7ifXEyw",
    "lang": "pt"
   },
   "source": [
    "Vamos implantar o cálculo do índice de massa corporal e a categorização como uma função:"
   ]
  },
  {
   "cell_type": "code",
   "execution_count": 0,
   "metadata": {
    "colab": {},
    "colab_type": "code",
    "id": "XN_i6YP6XEyw"
   },
   "outputs": [],
   "source": [
    "def bmi(weight, height):\n",
    "    \"\"\"Body mass index calculus and categorization.\n",
    "    \n",
    "    Enter the weight in kg and the height in m.\n",
    "    See http://en.wikipedia.org/wiki/Body_mass_index\n",
    "    \n",
    "    \"\"\"\n",
    "    \n",
    "    bmi = weight / height**2\n",
    "    \n",
    "    if bmi < 15:\n",
    "     c = 'very severely underweight'\n",
    "    elif 15 <= bmi < 16:\n",
    "        c = 'severely underweight'\n",
    "    elif 16 <= bmi < 18.5:\n",
    "        c = 'underweight'\n",
    "    elif 18.5 <= bmi < 25:\n",
    "        c = 'normal'\n",
    "    elif 25 <= bmi < 30:\n",
    "      c = 'overweight'\n",
    "    elif 30 <= bmi < 35:\n",
    "        c = 'moderately obese'\n",
    "    elif 35 <= bmi < 40:\n",
    "        c = 'severely obese'\n",
    "    else:\n",
    "        c = 'very severely obese'\n",
    "     \n",
    "    s = 'For a weight of {0:.1f} kg and a height of {1:.2f} m,\\\n",
    "    the body mass index (bmi) is {2:.1f} kg/m2,\\\n",
    "    which is considered {3:s}.'\\\n",
    "    .format(weight, height, bmi, c)\n",
    "    \n",
    "    print(s)"
   ]
  },
  {
   "cell_type": "code",
   "execution_count": 0,
   "metadata": {
    "colab": {},
    "colab_type": "code",
    "id": "BHbD86vNXEyx",
    "outputId": "c3a2ce29-1fad-4a6c-a31f-5c4946b286fd"
   },
   "outputs": [
    {
     "name": "stdout",
     "output_type": "stream",
     "text": [
      "For a weight of 73.0 kg and a height of 1.70 m,    the body mass index (bmi) is 25.3 kg/m2,    which is considered overweight.\n"
     ]
    }
   ],
   "source": [
    "bmi(73, 1.70)"
   ]
  },
  {
   "cell_type": "markdown",
   "metadata": {
    "colab_type": "text",
    "id": "SAtYn-fhXEy0",
    "lang": "en"
   },
   "source": [
    "## Manipulação de dados numéricos com Numpy\n",
    "\n",
    "O Numpy é o pacote fundamental para computação científica em Python e possui um pacote de matriz N-dimensional conveniente para trabalhar com dados numéricos. Com o Numpy, é muito mais fácil e rápido trabalhar com números agrupados como matrizes 1-D (um vetor), matrizes bidimensionais (como uma tabela ou matriz) ou dimensões superiores. Vamos criar matrizes 1-D e 2-D em Numpy:"
   ]
  },
  {
   "cell_type": "code",
   "execution_count": 0,
   "metadata": {
    "colab": {},
    "colab_type": "code",
    "id": "6o7s7rzkXEy1",
    "run_control": {
     "breakpoint": false
    }
   },
   "outputs": [],
   "source": [
    "import numpy as np"
   ]
  },
  {
   "cell_type": "code",
   "execution_count": 0,
   "metadata": {
    "colab": {},
    "colab_type": "code",
    "id": "pW4yx_s0XEy2",
    "outputId": "5b3844bc-134d-4dfc-9a2b-e717654b6a09",
    "run_control": {
     "breakpoint": false
    }
   },
   "outputs": [
    {
     "name": "stdout",
     "output_type": "stream",
     "text": [
      "<class 'numpy.ndarray'>\n"
     ]
    },
    {
     "data": {
      "text/plain": [
       "array([1, 2, 3, 4, 5, 6])"
      ]
     },
     "execution_count": 58,
     "metadata": {
      "tags": []
     },
     "output_type": "execute_result"
    }
   ],
   "source": [
    "x1d = np.array([1, 2, 3, 4, 5, 6])\n",
    "print(type(x1d))\n",
    "x1d"
   ]
  },
  {
   "cell_type": "code",
   "execution_count": 0,
   "metadata": {
    "colab": {},
    "colab_type": "code",
    "id": "sJXDIQCJXEy3",
    "outputId": "be5601cb-deec-4cfc-c06f-9862ee8b8d3a",
    "run_control": {
     "breakpoint": false
    }
   },
   "outputs": [
    {
     "data": {
      "text/plain": [
       "array([[1, 2, 3],\n",
       "       [4, 5, 6]])"
      ]
     },
     "execution_count": 59,
     "metadata": {
      "tags": []
     },
     "output_type": "execute_result"
    }
   ],
   "source": [
    "x2d = np.array([[1, 2, 3], [4, 5, 6]])\n",
    "x2d"
   ]
  },
  {
   "cell_type": "markdown",
   "metadata": {
    "colab_type": "text",
    "id": "0h8ldy1vXEy5",
    "lang": "pt"
   },
   "source": [
    "len() e as funções Numpy size() e shape() fornecem informações sobre o número de elementos e a estrutura da matriz Numpy:"
   ]
  },
  {
   "cell_type": "code",
   "execution_count": 0,
   "metadata": {
    "colab": {},
    "colab_type": "code",
    "id": "1-_LVka0XEy5",
    "outputId": "2d4d9cc5-ac93-4a2c-9860-fc57cd605c90",
    "run_control": {
     "breakpoint": false
    }
   },
   "outputs": [
    {
     "name": "stdout",
     "output_type": "stream",
     "text": [
      "1-d array:\n",
      "[1 2 3 4 5 6]\n",
      "len(x1d) =  6\n",
      "np.size(x1d) =  6\n",
      "np.shape(x1d) =  (6,)\n",
      "np.ndim(x1d) =  1\n",
      "\n",
      "2-d array:\n",
      "[[1 2 3]\n",
      " [4 5 6]]\n",
      "len(x2d) =  2\n",
      "np.size(x2d) =  6\n",
      "np.shape(x2d) =  (2, 3)\n",
      "np.ndim(x2d) =  2\n"
     ]
    }
   ],
   "source": [
    "print('1-d array:')\n",
    "print(x1d)\n",
    "print('len(x1d) = ', len(x1d))\n",
    "print('np.size(x1d) = ', np.size(x1d))\n",
    "print('np.shape(x1d) = ', np.shape(x1d))\n",
    "print('np.ndim(x1d) = ', np.ndim(x1d))\n",
    "print('\\n2-d array:')\n",
    "print(x2d)\n",
    "print('len(x2d) = ', len(x2d))\n",
    "print('np.size(x2d) = ', np.size(x2d))\n",
    "print('np.shape(x2d) = ', np.shape(x2d))\n",
    "print('np.ndim(x2d) = ', np.ndim(x2d))"
   ]
  },
  {
   "cell_type": "markdown",
   "metadata": {
    "colab_type": "text",
    "id": "-geP0YstXEzD",
    "lang": "pt"
   },
   "source": [
    "Crie dados aleatórios"
   ]
  },
  {
   "cell_type": "code",
   "execution_count": 0,
   "metadata": {
    "colab": {},
    "colab_type": "code",
    "id": "paP7TmvWXEzE",
    "outputId": "ac5d3b05-5f4d-46a1-d626-9e25020365ca",
    "run_control": {
     "breakpoint": false
    }
   },
   "outputs": [
    {
     "data": {
      "text/plain": [
       "array([[-0.48684309,  0.19042634,  1.07114815],\n",
       "       [-1.22151387, -0.2727457 , -1.04400225],\n",
       "       [-0.62250856, -0.60795469,  0.48473098],\n",
       "       [-0.15014865, -1.03614182, -1.58737407]])"
      ]
     },
     "execution_count": 61,
     "metadata": {
      "tags": []
     },
     "output_type": "execute_result"
    }
   ],
   "source": [
    "x = np.random.randn(4,3)\n",
    "x"
   ]
  },
  {
   "cell_type": "markdown",
   "metadata": {
    "colab_type": "text",
    "id": "nDNx_RdMXEzG",
    "lang": "pt"
   },
   "source": [
    "Unindo (**stack**) matrizes"
   ]
  },
  {
   "cell_type": "code",
   "execution_count": 0,
   "metadata": {
    "colab": {},
    "colab_type": "code",
    "id": "WdaHHdtZXEzH",
    "outputId": "6a6766dd-66a7-4da9-c28d-96080b0236cc",
    "run_control": {
     "breakpoint": false
    }
   },
   "outputs": [
    {
     "name": "stdout",
     "output_type": "stream",
     "text": [
      "[[1 1 2]\n",
      " [2 3 0]]\n",
      "[[8 8 9]\n",
      " [9 5 9]]\n"
     ]
    }
   ],
   "source": [
    "x = np.random.randint(0, 5, size=(2, 3))\n",
    "print(x)\n",
    "y = np.random.randint(5, 10, size=(2, 3))\n",
    "print(y)"
   ]
  },
  {
   "cell_type": "code",
   "execution_count": 0,
   "metadata": {
    "colab": {},
    "colab_type": "code",
    "id": "bY1xUqOcXEzJ",
    "outputId": "8cc51795-2af5-4349-8c39-5cc28e179f3b",
    "run_control": {
     "breakpoint": false
    }
   },
   "outputs": [
    {
     "data": {
      "text/plain": [
       "array([[1, 1, 2],\n",
       "       [2, 3, 0],\n",
       "       [8, 8, 9],\n",
       "       [9, 5, 9]])"
      ]
     },
     "execution_count": 63,
     "metadata": {
      "tags": []
     },
     "output_type": "execute_result"
    }
   ],
   "source": [
    "np.vstack((x,y))"
   ]
  },
  {
   "cell_type": "code",
   "execution_count": 0,
   "metadata": {
    "colab": {},
    "colab_type": "code",
    "id": "9ZeRuEgpXEzK",
    "outputId": "f8b47373-a4e9-4b37-8cbb-74d0248b2b07",
    "run_control": {
     "breakpoint": false
    }
   },
   "outputs": [
    {
     "data": {
      "text/plain": [
       "array([[1, 1, 2, 8, 8, 9],\n",
       "       [2, 3, 0, 9, 5, 9]])"
      ]
     },
     "execution_count": 64,
     "metadata": {
      "tags": []
     },
     "output_type": "execute_result"
    }
   ],
   "source": [
    "np.hstack((x,y))"
   ]
  },
  {
   "cell_type": "markdown",
   "metadata": {
    "colab_type": "text",
    "id": "En84hZzXXEzM",
    "lang": "pt"
   },
   "source": [
    "Crie dados igualmente espaçados"
   ]
  },
  {
   "cell_type": "code",
   "execution_count": 0,
   "metadata": {
    "colab": {},
    "colab_type": "code",
    "id": "iZTAt7RwXEzM",
    "outputId": "585b1f6d-5ef3-4c12-d833-8a36d9b56e56",
    "run_control": {
     "breakpoint": false
    }
   },
   "outputs": [
    {
     "data": {
      "text/plain": [
       "array([1, 3, 5, 7, 9])"
      ]
     },
     "execution_count": 65,
     "metadata": {
      "tags": []
     },
     "output_type": "execute_result"
    }
   ],
   "source": [
    "np.arange(start = 1, stop = 10, step = 2)"
   ]
  },
  {
   "cell_type": "code",
   "execution_count": 0,
   "metadata": {
    "colab": {},
    "colab_type": "code",
    "id": "R47FQJMKXEzO",
    "outputId": "77aeef40-2db6-422a-8635-651aefca07c2",
    "run_control": {
     "breakpoint": false
    }
   },
   "outputs": [
    {
     "data": {
      "text/plain": [
       "array([0. , 0.1, 0.2, 0.3, 0.4, 0.5, 0.6, 0.7, 0.8, 0.9, 1. ])"
      ]
     },
     "execution_count": 66,
     "metadata": {
      "tags": []
     },
     "output_type": "execute_result"
    }
   ],
   "source": [
    "np.linspace(start = 0, stop = 1, num = 11)"
   ]
  },
  {
   "cell_type": "markdown",
   "metadata": {
    "colab_type": "text",
    "id": "JdSqT1COXEzP",
    "lang": "pt"
   },
   "source": [
    "### Interpolação\n",
    "\n",
    "Considere os seguintes dados:"
   ]
  },
  {
   "cell_type": "code",
   "execution_count": 0,
   "metadata": {
    "colab": {},
    "colab_type": "code",
    "id": "M0IW25gGXEzQ",
    "run_control": {
     "breakpoint": false
    }
   },
   "outputs": [],
   "source": [
    "y = [5,  4, 10,  8,  1, 10,  2,  7,  1,  3]"
   ]
  },
  {
   "cell_type": "markdown",
   "metadata": {
    "colab_type": "text",
    "id": "HfilesBtXEzT",
    "lang": "pt"
   },
   "source": [
    "Suponha que queremos criar dados entre os pontos de dados dados (interpolação). Por exemplo, vamos tentar duplicar a resolução dos dados gerando o dobro de dados:"
   ]
  },
  {
   "cell_type": "code",
   "execution_count": 0,
   "metadata": {
    "colab": {},
    "colab_type": "code",
    "id": "oGhB1iYjXEzT",
    "outputId": "bab6ae65-7f97-4ef9-b41a-1d286db78dbe",
    "run_control": {
     "breakpoint": false
    }
   },
   "outputs": [
    {
     "data": {
      "text/plain": [
       "array([5.        , 4.52631579, 4.05263158, 6.52631579, 9.36842105,\n",
       "       9.26315789, 8.31578947, 5.78947368, 2.47368421, 3.36842105,\n",
       "       7.63157895, 8.31578947, 4.52631579, 2.78947368, 5.15789474,\n",
       "       6.36842105, 3.52631579, 1.10526316, 2.05263158, 3.        ])"
      ]
     },
     "execution_count": 68,
     "metadata": {
      "tags": []
     },
     "output_type": "execute_result"
    }
   ],
   "source": [
    "t = np.linspace(0, len(y), len(y))       # time vector for the original data\n",
    "tn = np.linspace(0, len(y), 2 * len(y))  # new time vector for the new time-normalized data\n",
    "yn = np.interp(tn, t, y)                 # new time-normalized data\n",
    "yn"
   ]
  },
  {
   "cell_type": "markdown",
   "metadata": {
    "colab_type": "text",
    "id": "_Pb_oeLwXEzU",
    "lang": "pt"
   },
   "source": [
    "A chave é a função Numpy `interp`, a partir de sua ajuda help(np.interp):\n"
   ]
  },
  {
   "cell_type": "code",
   "execution_count": 0,
   "metadata": {
    "colab": {},
    "colab_type": "code",
    "id": "mdzGy1NFXEzU",
    "outputId": "03657e82-a613-4c77-e3e8-18563baac479"
   },
   "outputs": [
    {
     "name": "stdout",
     "output_type": "stream",
     "text": [
      "Help on function interp in module numpy:\n",
      "\n",
      "interp(x, xp, fp, left=None, right=None, period=None)\n",
      "    One-dimensional linear interpolation.\n",
      "    \n",
      "    Returns the one-dimensional piecewise linear interpolant to a function\n",
      "    with given discrete data points (`xp`, `fp`), evaluated at `x`.\n",
      "    \n",
      "    Parameters\n",
      "    ----------\n",
      "    x : array_like\n",
      "        The x-coordinates at which to evaluate the interpolated values.\n",
      "    \n",
      "    xp : 1-D sequence of floats\n",
      "        The x-coordinates of the data points, must be increasing if argument\n",
      "        `period` is not specified. Otherwise, `xp` is internally sorted after\n",
      "        normalizing the periodic boundaries with ``xp = xp % period``.\n",
      "    \n",
      "    fp : 1-D sequence of float or complex\n",
      "        The y-coordinates of the data points, same length as `xp`.\n",
      "    \n",
      "    left : optional float or complex corresponding to fp\n",
      "        Value to return for `x < xp[0]`, default is `fp[0]`.\n",
      "    \n",
      "    right : optional float or complex corresponding to fp\n",
      "        Value to return for `x > xp[-1]`, default is `fp[-1]`.\n",
      "    \n",
      "    period : None or float, optional\n",
      "        A period for the x-coordinates. This parameter allows the proper\n",
      "        interpolation of angular x-coordinates. Parameters `left` and `right`\n",
      "        are ignored if `period` is specified.\n",
      "    \n",
      "        .. versionadded:: 1.10.0\n",
      "    \n",
      "    Returns\n",
      "    -------\n",
      "    y : float or complex (corresponding to fp) or ndarray\n",
      "        The interpolated values, same shape as `x`.\n",
      "    \n",
      "    Raises\n",
      "    ------\n",
      "    ValueError\n",
      "        If `xp` and `fp` have different length\n",
      "        If `xp` or `fp` are not 1-D sequences\n",
      "        If `period == 0`\n",
      "    \n",
      "    Notes\n",
      "    -----\n",
      "    Does not check that the x-coordinate sequence `xp` is increasing.\n",
      "    If `xp` is not increasing, the results are nonsense.\n",
      "    A simple check for increasing is::\n",
      "    \n",
      "        np.all(np.diff(xp) > 0)\n",
      "    \n",
      "    Examples\n",
      "    --------\n",
      "    >>> xp = [1, 2, 3]\n",
      "    >>> fp = [3, 2, 0]\n",
      "    >>> np.interp(2.5, xp, fp)\n",
      "    1.0\n",
      "    >>> np.interp([0, 1, 1.5, 2.72, 3.14], xp, fp)\n",
      "    array([ 3. ,  3. ,  2.5 ,  0.56,  0. ])\n",
      "    >>> UNDEF = -99.0\n",
      "    >>> np.interp(3.14, xp, fp, right=UNDEF)\n",
      "    -99.0\n",
      "    \n",
      "    Plot an interpolant to the sine function:\n",
      "    \n",
      "    >>> x = np.linspace(0, 2*np.pi, 10)\n",
      "    >>> y = np.sin(x)\n",
      "    >>> xvals = np.linspace(0, 2*np.pi, 50)\n",
      "    >>> yinterp = np.interp(xvals, x, y)\n",
      "    >>> import matplotlib.pyplot as plt\n",
      "    >>> plt.plot(x, y, 'o')\n",
      "    [<matplotlib.lines.Line2D object at 0x...>]\n",
      "    >>> plt.plot(xvals, yinterp, '-x')\n",
      "    [<matplotlib.lines.Line2D object at 0x...>]\n",
      "    >>> plt.show()\n",
      "    \n",
      "    Interpolation with periodic x-coordinates:\n",
      "    \n",
      "    >>> x = [-180, -170, -185, 185, -10, -5, 0, 365]\n",
      "    >>> xp = [190, -190, 350, -350]\n",
      "    >>> fp = [5, 10, 3, 4]\n",
      "    >>> np.interp(x, xp, fp, period=360)\n",
      "    array([7.5, 5., 8.75, 6.25, 3., 3.25, 3.5, 3.75])\n",
      "    \n",
      "    Complex interpolation:\n",
      "    \n",
      "    >>> x = [1.5, 4.0]\n",
      "    >>> xp = [2,3,5]\n",
      "    >>> fp = [1.0j, 0, 2+3j]\n",
      "    >>> np.interp(x, xp, fp)\n",
      "    array([ 0.+1.j ,  1.+1.5j])\n",
      "\n"
     ]
    }
   ],
   "source": [
    "help(np.interp)"
   ]
  },
  {
   "cell_type": "markdown",
   "metadata": {
    "colab_type": "text",
    "id": "ppCOsMxcXEzW"
   },
   "source": [
    "Um gráfico dos dados ajudará a entender o que aconteceu."
   ]
  },
  {
   "cell_type": "code",
   "execution_count": 0,
   "metadata": {
    "colab": {},
    "colab_type": "code",
    "id": "FvCzGl_ZXEzX",
    "outputId": "da2b1ada-ace6-44d1-d17c-7781131c5fc1",
    "run_control": {
     "breakpoint": false
    }
   },
   "outputs": [
    {
     "data": {
      "image/png": "[encoded data removed]",
      "text/plain": [
       "<Figure size 720x360 with 1 Axes>"
      ]
     },
     "metadata": {
      "needs_background": "light",
      "tags": []
     },
     "output_type": "display_data"
    }
   ],
   "source": [
    "%matplotlib inline\n",
    "import matplotlib.pyplot as plt\n",
    "plt.figure(figsize=(10,5))\n",
    "plt.plot(t, y, 'bo-', lw=2, label='original data')\n",
    "plt.plot(tn, yn, '.-', color=[1, 0, 0, .5], lw=2, label='interpolated')\n",
    "plt.legend(loc='best', framealpha=.5)\n",
    "plt.show()"
   ]
  },
  {
   "cell_type": "markdown",
   "metadata": {
    "colab_type": "text",
    "id": "JkE_1tCSXEzZ",
    "lang": "pt"
   },
   "source": [
    "Para mais informações sobre o Numpy, veja [http://www.numpy.org/](http://www.numpy.org/)."
   ]
  },
  {
   "cell_type": "markdown",
   "metadata": {
    "colab_type": "text",
    "id": "ys7FkWjVXEzZ",
    "lang": "pt"
   },
   "source": [
    "## Ler e salvar arquivos\n",
    "\n",
    "Existem dois tipos de arquivos de computador: arquivos de texto e arquivos binários:\n",
    "> Arquivo de texto: arquivo de computador onde o conteúdo é estruturado como uma seqüência de linhas de texto eletrônico. Arquivos de texto podem conter texto simples (letras, números e símbolos), mas eles não estão limitados a isso. O tipo de conteúdo no arquivo de texto é definido pela codificação Unicode (um padrão da indústria de computação para a codificação consistente, representação e manipulação de texto expressa na maioria dos sistemas de escrita do mundo).\n",
    ">\n",
    "> Arquivo binário: arquivo de computador em que o conteúdo é codificado em formato binário, uma seqüência de inteiros representando valores de bytes.\n",
    "\n",
    "Vamos ver como salvar e ler dados numéricos armazenados em um arquivo de texto:\n",
    "\n",
    "**Usando o Python puro:**"
   ]
  },
  {
   "cell_type": "code",
   "execution_count": 0,
   "metadata": {
    "colab": {},
    "colab_type": "code",
    "id": "sa6m7nfWXEzZ",
    "outputId": "69670bde-9ade-4299-bfad-d190e97b5113",
    "run_control": {
     "breakpoint": false
    }
   },
   "outputs": [
    {
     "name": "stdout",
     "output_type": "stream",
     "text": [
      "This is a test\n",
      "And here is another line\n",
      "\n"
     ]
    }
   ],
   "source": [
    "f = open(\"newfile.txt\", \"w\")           # open file for writing\n",
    "f.write(\"This is a test\\n\")            # save to file\n",
    "f.write(\"And here is another line\\n\")  # save to file\n",
    "f.close()\n",
    "f = open('newfile.txt', 'r')           # open file for reading\n",
    "f = f.read()                           # read from file\n",
    "print(f)"
   ]
  },
  {
   "cell_type": "code",
   "execution_count": 0,
   "metadata": {
    "colab": {},
    "colab_type": "code",
    "id": "XAuBmUgCXEzb",
    "outputId": "41c541bd-f5cc-4dbe-d4c2-c6cce115ca87",
    "run_control": {
     "breakpoint": false
    }
   },
   "outputs": [
    {
     "name": "stdout",
     "output_type": "stream",
     "text": [
      "Help on built-in function open in module io:\n",
      "\n",
      "open(file, mode='r', buffering=-1, encoding=None, errors=None, newline=None, closefd=True, opener=None)\n",
      "    Open file and return a stream.  Raise IOError upon failure.\n",
      "    \n",
      "    file is either a text or byte string giving the name (and the path\n",
      "    if the file isn't in the current working directory) of the file to\n",
      "    be opened or an integer file descriptor of the file to be\n",
      "    wrapped. (If a file descriptor is given, it is closed when the\n",
      "    returned I/O object is closed, unless closefd is set to False.)\n",
      "    \n",
      "    mode is an optional string that specifies the mode in which the file\n",
      "    is opened. It defaults to 'r' which means open for reading in text\n",
      "    mode.  Other common values are 'w' for writing (truncating the file if\n",
      "    it already exists), 'x' for creating and writing to a new file, and\n",
      "    'a' for appending (which on some Unix systems, means that all writes\n",
      "    append to the end of the file regardless of the current seek position).\n",
      "    In text mode, if encoding is not specified the encoding used is platform\n",
      "    dependent: locale.getpreferredencoding(False) is called to get the\n",
      "    current locale encoding. (For reading and writing raw bytes use binary\n",
      "    mode and leave encoding unspecified.) The available modes are:\n",
      "    \n",
      "    ========= ===============================================================\n",
      "    Character Meaning\n",
      "    --------- ---------------------------------------------------------------\n",
      "    'r'       open for reading (default)\n",
      "    'w'       open for writing, truncating the file first\n",
      "    'x'       create a new file and open it for writing\n",
      "    'a'       open for writing, appending to the end of the file if it exists\n",
      "    'b'       binary mode\n",
      "    't'       text mode (default)\n",
      "    '+'       open a disk file for updating (reading and writing)\n",
      "    'U'       universal newline mode (deprecated)\n",
      "    ========= ===============================================================\n",
      "    \n",
      "    The default mode is 'rt' (open for reading text). For binary random\n",
      "    access, the mode 'w+b' opens and truncates the file to 0 bytes, while\n",
      "    'r+b' opens the file without truncation. The 'x' mode implies 'w' and\n",
      "    raises an `FileExistsError` if the file already exists.\n",
      "    \n",
      "    Python distinguishes between files opened in binary and text modes,\n",
      "    even when the underlying operating system doesn't. Files opened in\n",
      "    binary mode (appending 'b' to the mode argument) return contents as\n",
      "    bytes objects without any decoding. In text mode (the default, or when\n",
      "    't' is appended to the mode argument), the contents of the file are\n",
      "    returned as strings, the bytes having been first decoded using a\n",
      "    platform-dependent encoding or using the specified encoding if given.\n",
      "    \n",
      "    'U' mode is deprecated and will raise an exception in future versions\n",
      "    of Python.  It has no effect in Python 3.  Use newline to control\n",
      "    universal newlines mode.\n",
      "    \n",
      "    buffering is an optional integer used to set the buffering policy.\n",
      "    Pass 0 to switch buffering off (only allowed in binary mode), 1 to select\n",
      "    line buffering (only usable in text mode), and an integer > 1 to indicate\n",
      "    the size of a fixed-size chunk buffer.  When no buffering argument is\n",
      "    given, the default buffering policy works as follows:\n",
      "    \n",
      "    * Binary files are buffered in fixed-size chunks; the size of the buffer\n",
      "      is chosen using a heuristic trying to determine the underlying device's\n",
      "      \"block size\" and falling back on `io.DEFAULT_BUFFER_SIZE`.\n",
      "      On many systems, the buffer will typically be 4096 or 8192 bytes long.\n",
      "    \n",
      "    * \"Interactive\" text files (files for which isatty() returns True)\n",
      "      use line buffering.  Other text files use the policy described above\n",
      "      for binary files.\n",
      "    \n",
      "    encoding is the name of the encoding used to decode or encode the\n",
      "    file. This should only be used in text mode. The default encoding is\n",
      "    platform dependent, but any encoding supported by Python can be\n",
      "    passed.  See the codecs module for the list of supported encodings.\n",
      "    \n",
      "    errors is an optional string that specifies how encoding errors are to\n",
      "    be handled---this argument should not be used in binary mode. Pass\n",
      "    'strict' to raise a ValueError exception if there is an encoding error\n",
      "    (the default of None has the same effect), or pass 'ignore' to ignore\n",
      "    errors. (Note that ignoring encoding errors can lead to data loss.)\n",
      "    See the documentation for codecs.register or run 'help(codecs.Codec)'\n",
      "    for a list of the permitted encoding error strings.\n",
      "    \n",
      "    newline controls how universal newlines works (it only applies to text\n",
      "    mode). It can be None, '', '\\n', '\\r', and '\\r\\n'.  It works as\n",
      "    follows:\n",
      "    \n",
      "    * On input, if newline is None, universal newlines mode is\n",
      "      enabled. Lines in the input can end in '\\n', '\\r', or '\\r\\n', and\n",
      "      these are translated into '\\n' before being returned to the\n",
      "      caller. If it is '', universal newline mode is enabled, but line\n",
      "      endings are returned to the caller untranslated. If it has any of\n",
      "      the other legal values, input lines are only terminated by the given\n",
      "      string, and the line ending is returned to the caller untranslated.\n",
      "    \n",
      "    * On output, if newline is None, any '\\n' characters written are\n",
      "      translated to the system default line separator, os.linesep. If\n",
      "      newline is '' or '\\n', no translation takes place. If newline is any\n",
      "      of the other legal values, any '\\n' characters written are translated\n",
      "      to the given string.\n",
      "    \n",
      "    If closefd is False, the underlying file descriptor will be kept open\n",
      "    when the file is closed. This does not work when a file name is given\n",
      "    and must be True in that case.\n",
      "    \n",
      "    A custom opener can be used by passing a callable as *opener*. The\n",
      "    underlying file descriptor for the file object is then obtained by\n",
      "    calling *opener* with (*file*, *flags*). *opener* must return an open\n",
      "    file descriptor (passing os.open as *opener* results in functionality\n",
      "    similar to passing None).\n",
      "    \n",
      "    open() returns a file object whose type depends on the mode, and\n",
      "    through which the standard file operations such as reading and writing\n",
      "    are performed. When open() is used to open a file in a text mode ('w',\n",
      "    'r', 'wt', 'rt', etc.), it returns a TextIOWrapper. When used to open\n",
      "    a file in a binary mode, the returned class varies: in read binary\n",
      "    mode, it returns a BufferedReader; in write binary and append binary\n",
      "    modes, it returns a BufferedWriter, and in read/write mode, it returns\n",
      "    a BufferedRandom.\n",
      "    \n",
      "    It is also possible to use a string or bytearray as a file for both\n",
      "    reading and writing. For strings StringIO can be used like a file\n",
      "    opened in a text mode, and for bytes a BytesIO can be used like a file\n",
      "    opened in a binary mode.\n",
      "\n"
     ]
    }
   ],
   "source": [
    "help(open)"
   ]
  },
  {
   "cell_type": "markdown",
   "metadata": {
    "colab_type": "text",
    "id": "uOiH5J6VXEzd"
   },
   "source": [
    "**Usando Numpy**"
   ]
  },
  {
   "cell_type": "code",
   "execution_count": 0,
   "metadata": {
    "colab": {},
    "colab_type": "code",
    "id": "w3LJWN3SXEzg",
    "outputId": "d3e88c50-38d8-4a03-9ca7-7f81436a0eb4",
    "run_control": {
     "breakpoint": false
    }
   },
   "outputs": [
    {
     "data": {
      "text/plain": [
       "array([[-0.809133,  0.635854,  0.720266],\n",
       "       [ 0.825318,  1.80114 ,  1.15385 ],\n",
       "       [-0.265435, -1.26709 , -1.22446 ]])"
      ]
     },
     "execution_count": 74,
     "metadata": {
      "tags": []
     },
     "output_type": "execute_result"
    }
   ],
   "source": [
    "import numpy as np\n",
    "data = np.random.randn(3,3)\n",
    "np.savetxt('myfile.txt', data, fmt=\"%12.6G\")    # save to file\n",
    "data = np.genfromtxt('myfile.txt', unpack=True) # read from file\n",
    "data"
   ]
  },
  {
   "cell_type": "markdown",
   "metadata": {
    "colab_type": "text",
    "id": "satDdD5JXEzh",
    "lang": "pt"
   },
   "source": [
    "## Plotando com matplotlib\n",
    "\n",
    "O Matplotlib é o pacote mais amplamente usado para plotar dados em Python. Vamos ver alguns exemplos disso."
   ]
  },
  {
   "cell_type": "code",
   "execution_count": 0,
   "metadata": {
    "colab": {},
    "colab_type": "code",
    "id": "tBpv9ddOXEzh",
    "run_control": {
     "breakpoint": false
    }
   },
   "outputs": [],
   "source": [
    "import matplotlib.pyplot as plt"
   ]
  },
  {
   "cell_type": "markdown",
   "metadata": {
    "colab_type": "text",
    "id": "pRjkK-ZYXEzi",
    "lang": "pt"
   },
   "source": [
    "Use a mágica do Jupyter `%matplotlib inline` para plotar uma figura em linha no Jupyter notebook pelo resto do notebook:"
   ]
  },
  {
   "cell_type": "code",
   "execution_count": 0,
   "metadata": {
    "colab": {},
    "colab_type": "code",
    "id": "RiCe32kAXEzi",
    "run_control": {
     "breakpoint": false
    }
   },
   "outputs": [],
   "source": [
    "%matplotlib inline"
   ]
  },
  {
   "cell_type": "code",
   "execution_count": 0,
   "metadata": {
    "colab": {},
    "colab_type": "code",
    "id": "vcPwtqzUXEzj"
   },
   "outputs": [],
   "source": [
    "import numpy as np"
   ]
  },
  {
   "cell_type": "code",
   "execution_count": 0,
   "metadata": {
    "colab": {},
    "colab_type": "code",
    "id": "zWHdAawrXEzl",
    "outputId": "1080db99-7b2a-4131-a671-f02ac378fd8e",
    "run_control": {
     "breakpoint": false
    }
   },
   "outputs": [
    {
     "data": {
      "image/png": "[encoded data removed]",
      "text/plain": [
       "<Figure size 432x288 with 1 Axes>"
      ]
     },
     "metadata": {
      "needs_background": "light",
      "tags": []
     },
     "output_type": "display_data"
    }
   ],
   "source": [
    "t = np.linspace(0, 0.99, 100)\n",
    "x = np.sin(2 * np.pi * 2 * t) \n",
    "n = np.random.randn(100) / 5\n",
    "plt.Figure(figsize=(12,8))\n",
    "plt.plot(t, x, label='sine', linewidth=2)\n",
    "plt.plot(t, x + n, label='noisy sine', linewidth=2)\n",
    "plt.annotate(s='$sin(4 \\pi t)$', xy=(.2, 1), fontsize=20, color=[0, 0, 1])\n",
    "plt.legend(loc='best', framealpha=.5)\n",
    "plt.xlabel('Time [s]')\n",
    "plt.ylabel('Amplitude')\n",
    "plt.title('Data plotting using matplotlib')\n",
    "plt.show()"
   ]
  },
  {
   "cell_type": "markdown",
   "metadata": {
    "colab_type": "text",
    "id": "pRmUnaQFXEzm",
    "lang": "pt"
   },
   "source": [
    "Use a mágica do IPython `%matplotlib qt` para plotar uma figura em uma janela separada (de onde você poderá alterar algumas das propriedades da figura):"
   ]
  },
  {
   "cell_type": "code",
   "execution_count": 0,
   "metadata": {
    "colab": {},
    "colab_type": "code",
    "id": "TS8lGGIKXEzm",
    "run_control": {
     "breakpoint": false
    }
   },
   "outputs": [],
   "source": [
    "%matplotlib qt"
   ]
  },
  {
   "cell_type": "code",
   "execution_count": 0,
   "metadata": {
    "colab": {},
    "colab_type": "code",
    "id": "xRC2nhd3XEzo",
    "outputId": "5d5c7549-9dc8-4673-9cb8-140edb3fdfeb",
    "run_control": {
     "breakpoint": false
    }
   },
   "outputs": [
    {
     "name": "stderr",
     "output_type": "stream",
     "text": [
      "/home/rnwatanabe/miniconda3/lib/python3.6/site-packages/matplotlib/axes/_axes.py:6521: MatplotlibDeprecationWarning: \n",
      "The 'normed' kwarg was deprecated in Matplotlib 2.1 and will be removed in 3.1. Use 'density' instead.\n",
      "  alternative=\"'density'\", removal=\"3.1\")\n"
     ]
    },
    {
     "data": {
      "image/png": "[encoded data removed]",
      "text/plain": [
       "<Figure size 864x288 with 2 Axes>"
      ]
     },
     "metadata": {
      "needs_background": "light",
      "tags": []
     },
     "output_type": "display_data"
    }
   ],
   "source": [
    "mu, sigma = 10, 2\n",
    "x = mu + sigma * np.random.randn(1000)\n",
    "fig, (ax1, ax2) = plt.subplots(1, 2, figsize=(12, 4))\n",
    "ax1.plot(x, 'ro')\n",
    "ax1.set_title('Data')\n",
    "ax1.grid()\n",
    "\n",
    "n, bins, patches = ax2.hist(x, 25, normed=True, facecolor='r') # histogram\n",
    "ax2.set_xlabel('Bins')\n",
    "ax2.set_ylabel('Probability')\n",
    "ax2.set_title('Histogram')\n",
    "fig.suptitle('Another example using matplotlib', fontsize=18, y=1)\n",
    "ax2.grid()\n",
    "\n",
    "plt.tight_layout()\n",
    "plt.show()"
   ]
  },
  {
   "cell_type": "markdown",
   "metadata": {
    "colab_type": "text",
    "id": "03nsIxQ_XEzq",
    "lang": "pt"
   },
   "source": [
    "E uma janela com a seguinte figura deve aparecer:"
   ]
  },
  {
   "cell_type": "code",
   "execution_count": 1,
   "metadata": {
    "colab": {},
    "colab_type": "code",
    "id": "fI61vxASXEzq",
    "outputId": "6eee2b28-7d96-44fc-aa8c-68aab7f07909",
    "run_control": {
     "breakpoint": false
    }
   },
   "outputs": [
    {
     "data": {
      "text/html": [
       "<img src=\"./../../images/plot.png\"/>"
      ],
      "text/plain": [
       "<IPython.core.display.Image object>"
      ]
     },
     "execution_count": 1,
     "metadata": {},
     "output_type": "execute_result"
    }
   ],
   "source": [
    "from IPython.display import Image\n",
    "Image(url=\"./../../images/plot.png\")"
   ]
  },
  {
   "cell_type": "markdown",
   "metadata": {
    "colab_type": "text",
    "id": "Gg42MBNtXEzq",
    "lang": "pt"
   },
   "source": [
    "Você pode alternar entre figura inline e separada usando os comandos mágicos `% matplotlib` usados ​​acima. Existem muitos outros exemplos com o código-fonte na [galeria matplotlib](http://matplotlib.org/gallery.html)."
   ]
  },
  {
   "cell_type": "code",
   "execution_count": 0,
   "metadata": {
    "colab": {},
    "colab_type": "code",
    "id": "6d9Vbt_PXEzr",
    "run_control": {
     "breakpoint": false
    }
   },
   "outputs": [],
   "source": [
    "# get back the inline plot\n",
    "%matplotlib inline"
   ]
  },
  {
   "cell_type": "markdown",
   "metadata": {
    "colab_type": "text",
    "id": "s5Y48RctXEzs",
    "lang": "pt"
   },
   "source": [
    "## Processamento de sinais com Scipy\n",
    "\n",
    "O pacote Scipy tem muitas funções para processamento de sinais, entre eles: Integração (scipy.integrate), Otimização (scipy.optimize), interpolação (scipy.interpolate), Transformadas de Fourier (scipy.fftpack), Signal Processing (scipy.signal ), Álgebra Linear (scipy.linalg) e Estatística (scipy.stats). Como exemplo, vamos ver como usar um filtro Butterworth passa-baixa para atenuar o ruído de alta frequência e como o processo de diferenciação de um sinal afeta o conteúdo sinal-ruído. Também calcularemos a transformada de Fourier desses dados para analisar o conteúdo de frequências."
   ]
  },
  {
   "cell_type": "code",
   "execution_count": 0,
   "metadata": {
    "colab": {},
    "colab_type": "code",
    "id": "VuOk1iaDXEzs",
    "run_control": {
     "breakpoint": false
    }
   },
   "outputs": [],
   "source": [
    "from scipy.signal import butter, filtfilt\n",
    "import scipy.fftpack\n",
    "freq = 100.\n",
    "t = np.arange(0,1,.01);\n",
    "w = 2*np.pi*1 # 1 Hz\n",
    "y = np.sin(w*t)+0.1*np.sin(10*w*t)\n",
    "# Butterworth filter\n",
    "b, a = butter(4, (5/(freq/2)), btype = 'low')\n",
    "y2 = filtfilt(b, a, y)\n",
    "# 2nd derivative of the data\n",
    "ydd = np.diff(y,2)*freq*freq   # raw data\n",
    "y2dd = np.diff(y2,2)*freq*freq # filtered data\n",
    "# frequency content \n",
    "yfft = np.abs(scipy.fftpack.fft(y))/(y.size/2);   # raw data\n",
    "y2fft = np.abs(scipy.fftpack.fft(y2))/(y.size/2); # filtered data\n",
    "freqs = scipy.fftpack.fftfreq(y.size, 1./freq)\n",
    "yddfft = np.abs(scipy.fftpack.fft(ydd))/(ydd.size/2);\n",
    "y2ddfft = np.abs(scipy.fftpack.fft(y2dd))/(ydd.size/2);\n",
    "freqs2 = scipy.fftpack.fftfreq(ydd.size, 1./freq)"
   ]
  },
  {
   "cell_type": "markdown",
   "metadata": {
    "colab_type": "text",
    "id": "B-ISXGWDXEzt",
    "lang": "pt"
   },
   "source": [
    "E os plots:"
   ]
  },
  {
   "cell_type": "code",
   "execution_count": 0,
   "metadata": {
    "colab": {},
    "colab_type": "code",
    "id": "ItW8odg9XEzt",
    "outputId": "9a447530-467c-4d82-c4cf-22d86e7cd8d9",
    "run_control": {
     "breakpoint": false
    }
   },
   "outputs": [
    {
     "data": {
      "image/png": "[encoded data removed]",
      "text/plain": [
       "<Figure size 864x432 with 4 Axes>"
      ]
     },
     "metadata": {
      "needs_background": "light",
      "tags": []
     },
     "output_type": "display_data"
    }
   ],
   "source": [
    "fig, ((ax1,ax2),(ax3,ax4)) = plt.subplots(2, 2, figsize=(12, 6))\n",
    "\n",
    "ax1.set_title('Temporal domain', fontsize=14)\n",
    "ax1.plot(t, y, 'r', linewidth=2, label = 'raw data')\n",
    "ax1.plot(t, y2, 'b', linewidth=2, label = 'filtered @ 5 Hz')\n",
    "ax1.set_ylabel('f')\n",
    "ax1.legend(frameon=False, fontsize=12)\n",
    "\n",
    "ax2.set_title('Frequency domain', fontsize=14)\n",
    "ax2.plot(freqs[:int(yfft.size/4)], yfft[:int(yfft.size/4)],'r',  lw=2,label='raw data')\n",
    "ax2.plot(freqs[:int(yfft.size/4)],y2fft[:int(yfft.size/4)],'b--',lw=2,label='filtered @ 5 Hz')\n",
    "ax2.set_ylabel('FFT(f)')\n",
    "ax2.legend(frameon=False, fontsize=12)\n",
    "\n",
    "ax3.plot(t[:-2], ydd, 'r', linewidth=2, label = 'raw')\n",
    "ax3.plot(t[:-2], y2dd, 'b', linewidth=2, label = 'filtered @ 5 Hz')\n",
    "ax3.set_xlabel('Time [s]'); ax3.set_ylabel(\"f ''\")\n",
    "\n",
    "ax4.plot(freqs[:int(yddfft.size/4)], yddfft[:int(yddfft.size/4)], 'r', lw=2, label = 'raw')\n",
    "ax4.plot(freqs[:int(yddfft.size/4)],y2ddfft[:int(yddfft.size/4)],'b--',lw=2, label='filtered @ 5 Hz')\n",
    "ax4.set_xlabel('Frequency [Hz]'); ax4.set_ylabel(\"FFT(f '')\")\n",
    "plt.show()"
   ]
  },
  {
   "cell_type": "markdown",
   "metadata": {
    "colab_type": "text",
    "id": "PTumz2DuXEzv",
    "lang": "pt"
   },
   "source": [
    "Para mais informações sobre o Scipy, veja [https://docs.scipy.org/doc/scipy/reference/tutorial/](https://docs.scipy.org/doc/scipy/reference/tutorial/)."
   ]
  },
  {
   "cell_type": "markdown",
   "metadata": {
    "colab_type": "text",
    "id": "JTtH40ODXEzv",
    "lang": "pt"
   },
   "source": [
    "## Matemática simbólica com Sympy\n",
    "\n",
    "Sympy é um pacote para executar matemática simbólica em Python. Vamos ver alguns de seus recursos:"
   ]
  },
  {
   "cell_type": "code",
   "execution_count": 0,
   "metadata": {
    "colab": {},
    "colab_type": "code",
    "id": "lRi-GbDcXEzv",
    "run_control": {
     "breakpoint": false
    }
   },
   "outputs": [],
   "source": [
    "from IPython.display import display\n",
    "import sympy as sym\n",
    "from sympy.interactive import printing\n",
    "printing.init_printing()"
   ]
  },
  {
   "cell_type": "markdown",
   "metadata": {
    "colab_type": "text",
    "id": "I18CgHs-XEzx",
    "lang": "pt"
   },
   "source": [
    "Defina alguns símbolos e crie uma função polinomial de segunda ordem (também conhecida como parábola):"
   ]
  },
  {
   "cell_type": "code",
   "execution_count": 0,
   "metadata": {
    "colab": {},
    "colab_type": "code",
    "id": "mN5-DVdDXEzx",
    "outputId": "1bf20c12-450e-4b4a-8174-90e43d5662d1",
    "run_control": {
     "breakpoint": false
    }
   },
   "outputs": [
    {
     "data": {
      "image/png": "[encoded data removed]",
      "text/latex": [
       "$\\displaystyle x^{2} - 2 x - 3$"
      ],
      "text/plain": [
       " 2          \n",
       "x  - 2⋅x - 3"
      ]
     },
     "execution_count": 86,
     "metadata": {
      "tags": []
     },
     "output_type": "execute_result"
    }
   ],
   "source": [
    "x, y = sym.symbols('x y')\n",
    "y = x**2 - 2*x - 3\n",
    "y"
   ]
  },
  {
   "cell_type": "markdown",
   "metadata": {
    "colab_type": "text",
    "id": "Jm13ZC8QXEzz",
    "lang": "pt"
   },
   "source": [
    "Plote a parábola em um determinado intervalo:"
   ]
  },
  {
   "cell_type": "code",
   "execution_count": 0,
   "metadata": {
    "colab": {},
    "colab_type": "code",
    "id": "CoRsAaC3XEzz",
    "outputId": "4f41daa9-06dc-4efd-f046-8a93875298e1",
    "run_control": {
     "breakpoint": false
    }
   },
   "outputs": [
    {
     "data": {
      "image/png": "[encoded data removed]",
      "text/plain": [
       "<Figure size 432x288 with 1 Axes>"
      ]
     },
     "metadata": {
      "needs_background": "light",
      "tags": []
     },
     "output_type": "display_data"
    }
   ],
   "source": [
    "from sympy.plotting import plot\n",
    "%matplotlib inline\n",
    "plot(y, (x, -3, 5));"
   ]
  },
  {
   "cell_type": "markdown",
   "metadata": {
    "colab_type": "text",
    "id": "FGZr_xURXEz0",
    "lang": "pt"
   },
   "source": [
    "E as raízes da parábola são dadas por:"
   ]
  },
  {
   "cell_type": "code",
   "execution_count": 0,
   "metadata": {
    "colab": {},
    "colab_type": "code",
    "id": "M0Hst0FcXEz1",
    "outputId": "1cfa9357-b57a-45cc-9466-bd4d782ee293",
    "run_control": {
     "breakpoint": false
    }
   },
   "outputs": [
    {
     "data": {
      "image/png": "[encoded data removed]",
      "text/latex": [
       "$\\displaystyle \\left[ -1, \\  3\\right]$"
      ],
      "text/plain": [
       "[-1, 3]"
      ]
     },
     "execution_count": 88,
     "metadata": {
      "tags": []
     },
     "output_type": "execute_result"
    }
   ],
   "source": [
    "sym.solve(y, x)"
   ]
  },
  {
   "cell_type": "markdown",
   "metadata": {
    "colab_type": "text",
    "id": "C4Vg7X-MXEz1",
    "lang": "pt"
   },
   "source": [
    "Podemos também fazer diferenciação e integração simbólica:"
   ]
  },
  {
   "cell_type": "code",
   "execution_count": 0,
   "metadata": {
    "colab": {},
    "colab_type": "code",
    "id": "Ej1O_AViXEz2",
    "outputId": "278735ea-b011-448b-c590-07e0ee4b6843",
    "run_control": {
     "breakpoint": false
    }
   },
   "outputs": [
    {
     "data": {
      "image/png": "[encoded data removed]",
      "text/latex": [
       "$\\displaystyle 2 x - 2$"
      ],
      "text/plain": [
       "2⋅x - 2"
      ]
     },
     "execution_count": 89,
     "metadata": {
      "tags": []
     },
     "output_type": "execute_result"
    }
   ],
   "source": [
    "dy = sym.diff(y, x)\n",
    "dy"
   ]
  },
  {
   "cell_type": "code",
   "execution_count": 0,
   "metadata": {
    "colab": {},
    "colab_type": "code",
    "id": "WTOp-wsfXEz3",
    "outputId": "c27fc101-f166-4d53-8717-f55bfd9fbcb0",
    "run_control": {
     "breakpoint": false
    }
   },
   "outputs": [
    {
     "data": {
      "image/png": "[encoded data removed]",
      "text/latex": [
       "$\\displaystyle x^{2} - 2 x$"
      ],
      "text/plain": [
       " 2      \n",
       "x  - 2⋅x"
      ]
     },
     "execution_count": 90,
     "metadata": {
      "tags": []
     },
     "output_type": "execute_result"
    }
   ],
   "source": [
    "sym.integrate(dy, x)"
   ]
  },
  {
   "cell_type": "markdown",
   "metadata": {
    "colab_type": "text",
    "id": "EPh8AcNuXEz4",
    "lang": "pt"
   },
   "source": [
    "Por exemplo, vamos usar o Sympy para representar rotações tridimensionais. Considere o problema de um sistema de coordenadas xyz girado em relação ao outro sistema de coordenadas XYZ. As rotações únicas em torno de cada eixo são ilustradas por:"
   ]
  },
  {
   "cell_type": "code",
   "execution_count": 2,
   "metadata": {
    "colab": {},
    "colab_type": "code",
    "id": "JbFv8HkyXEz4",
    "outputId": "5b17221d-4e93-4d39-c087-808c883a990e",
    "run_control": {
     "breakpoint": false
    }
   },
   "outputs": [
    {
     "data": {
      "text/html": [
       "<img src=\"./../../images/rotations.png\"/>"
      ],
      "text/plain": [
       "<IPython.core.display.Image object>"
      ]
     },
     "execution_count": 2,
     "metadata": {},
     "output_type": "execute_result"
    }
   ],
   "source": [
    "from IPython.display import Image\n",
    "Image(url=\"./../../images/rotations.png\")"
   ]
  },
  {
   "cell_type": "markdown",
   "metadata": {
    "colab_type": "text",
    "id": "hJcp-A4kXEz6",
    "lang": "pt"
   },
   "source": [
    "As matrizes de rotação 3D individuais ao redor dos eixos Z, Y e X podem ser expressas no Sympy:"
   ]
  },
  {
   "cell_type": "code",
   "execution_count": 0,
   "metadata": {
    "colab": {},
    "colab_type": "code",
    "id": "aDg5pUlpXEz6",
    "outputId": "277cd4fb-f072-4c00-b122-bdd529ecb06c",
    "run_control": {
     "breakpoint": false
    }
   },
   "outputs": [
    {
     "data": {
      "text/latex": [
       "$\\displaystyle \\mathbf{R_{X}}=\\left[\\begin{matrix}1 & 0 & 0\\\\0 & \\cos{\\left(\\alpha \\right)} & - \\sin{\\left(\\alpha \\right)}\\\\0 & \\sin{\\left(\\alpha \\right)} & \\cos{\\left(\\alpha \\right)}\\end{matrix}\\right]$"
      ],
      "text/plain": [
       "<IPython.core.display.Math object>"
      ]
     },
     "metadata": {
      "tags": []
     },
     "output_type": "display_data"
    },
    {
     "data": {
      "text/latex": [
       "$\\displaystyle \\mathbf{R_{Y}}=\\left[\\begin{matrix}\\cos{\\left(\\beta \\right)} & 0 & \\sin{\\left(\\beta \\right)}\\\\0 & 1 & 0\\\\- \\sin{\\left(\\beta \\right)} & 0 & \\cos{\\left(\\beta \\right)}\\end{matrix}\\right]$"
      ],
      "text/plain": [
       "<IPython.core.display.Math object>"
      ]
     },
     "metadata": {
      "tags": []
     },
     "output_type": "display_data"
    },
    {
     "data": {
      "text/latex": [
       "$\\displaystyle \\mathbf{R_{Z}}=\\left[\\begin{matrix}\\cos{\\left(\\gamma \\right)} & - \\sin{\\left(\\gamma \\right)} & 0\\\\\\sin{\\left(\\gamma \\right)} & \\cos{\\left(\\gamma \\right)} & 0\\\\0 & 0 & 1\\end{matrix}\\right]$"
      ],
      "text/plain": [
       "<IPython.core.display.Math object>"
      ]
     },
     "metadata": {
      "tags": []
     },
     "output_type": "display_data"
    }
   ],
   "source": [
    "from IPython.core.display import Math\n",
    "from sympy import symbols, cos, sin, Matrix, latex\n",
    "a, b, g = symbols('alpha beta gamma')\n",
    "\n",
    "RX = Matrix([[1, 0, 0], [0, cos(a), -sin(a)], [0, sin(a), cos(a)]])\n",
    "display(Math(latex('\\\\mathbf{R_{X}}=') + latex(RX, mat_str = 'matrix')))\n",
    "\n",
    "RY = Matrix([[cos(b), 0, sin(b)], [0, 1, 0], [-sin(b), 0, cos(b)]])\n",
    "display(Math(latex('\\\\mathbf{R_{Y}}=') + latex(RY, mat_str = 'matrix')))\n",
    "\n",
    "RZ = Matrix([[cos(g), -sin(g), 0], [sin(g), cos(g), 0], [0, 0, 1]])\n",
    "display(Math(latex('\\\\mathbf{R_{Z}}=') + latex(RZ, mat_str = 'matrix')))"
   ]
  },
  {
   "cell_type": "markdown",
   "metadata": {
    "colab_type": "text",
    "id": "BaeXstLxXEz8",
    "lang": "pt"
   },
   "source": [
    "E usando o Sympy, uma sequência de rotações elementares em torno dos eixos X, Y, Z é dada por:"
   ]
  },
  {
   "cell_type": "code",
   "execution_count": 0,
   "metadata": {
    "colab": {},
    "colab_type": "code",
    "id": "R4_h8sd-XEz8",
    "outputId": "e5624258-f430-4aa9-dbbe-185b049226da",
    "run_control": {
     "breakpoint": false
    }
   },
   "outputs": [
    {
     "data": {
      "text/latex": [
       "$\\displaystyle \\mathbf{R_{XYZ}}=\\left[\\begin{matrix}\\cos{\\left(\\beta \\right)} \\cos{\\left(\\gamma \\right)} & \\sin{\\left(\\alpha \\right)} \\sin{\\left(\\beta \\right)} \\cos{\\left(\\gamma \\right)} - \\sin{\\left(\\gamma \\right)} \\cos{\\left(\\alpha \\right)} & \\sin{\\left(\\alpha \\right)} \\sin{\\left(\\gamma \\right)} + \\sin{\\left(\\beta \\right)} \\cos{\\left(\\alpha \\right)} \\cos{\\left(\\gamma \\right)}\\\\\\sin{\\left(\\gamma \\right)} \\cos{\\left(\\beta \\right)} & \\sin{\\left(\\alpha \\right)} \\sin{\\left(\\beta \\right)} \\sin{\\left(\\gamma \\right)} + \\cos{\\left(\\alpha \\right)} \\cos{\\left(\\gamma \\right)} & - \\sin{\\left(\\alpha \\right)} \\cos{\\left(\\gamma \\right)} + \\sin{\\left(\\beta \\right)} \\sin{\\left(\\gamma \\right)} \\cos{\\left(\\alpha \\right)}\\\\- \\sin{\\left(\\beta \\right)} & \\sin{\\left(\\alpha \\right)} \\cos{\\left(\\beta \\right)} & \\cos{\\left(\\alpha \\right)} \\cos{\\left(\\beta \\right)}\\end{matrix}\\right]$"
      ],
      "text/plain": [
       "<IPython.core.display.Math object>"
      ]
     },
     "metadata": {
      "tags": []
     },
     "output_type": "display_data"
    }
   ],
   "source": [
    "RXYZ = RZ*RY*RX\n",
    "display(Math(latex('\\\\mathbf{R_{XYZ}}=') + latex(RXYZ, mat_str = 'matrix')))"
   ]
  },
  {
   "cell_type": "markdown",
   "metadata": {
    "colab_type": "text",
    "id": "Ie_Akfh5XEz9",
    "lang": "pt"
   },
   "source": [
    "Suponha que haja uma rotação apenas em torno de X($\\alpha$) por $\\pi/2$; Podemos obter o valor numérico da matriz de rotação, substituindo os valores do ângulo:"
   ]
  },
  {
   "cell_type": "code",
   "execution_count": 0,
   "metadata": {
    "colab": {},
    "colab_type": "code",
    "id": "6VXH6D2VXEz-",
    "outputId": "a8da1dbd-1243-461f-cb9b-3a0a04f2931c",
    "run_control": {
     "breakpoint": false
    }
   },
   "outputs": [
    {
     "data": {
      "image/png": "[encoded data removed]",
      "text/latex": [
       "$\\displaystyle \\left[\\begin{matrix}1 & 0 & 0\\\\0 & 6.12323399573677 \\cdot 10^{-17} & -1.0\\\\0 & 1.0 & 6.12323399573677 \\cdot 10^{-17}\\end{matrix}\\right]$"
      ],
      "text/plain": [
       "⎡1           0                     0          ⎤\n",
       "⎢                                             ⎥\n",
       "⎢0  6.12323399573677e-17          -1.0        ⎥\n",
       "⎢                                             ⎥\n",
       "⎣0          1.0           6.12323399573677e-17⎦"
      ]
     },
     "execution_count": 94,
     "metadata": {
      "tags": []
     },
     "output_type": "execute_result"
    }
   ],
   "source": [
    "r = RXYZ.subs({a: np.pi/2, b: 0, g: 0})\n",
    "r"
   ]
  },
  {
   "cell_type": "markdown",
   "metadata": {
    "colab_type": "text",
    "id": "R3bKtoToXEz_",
    "lang": "pt"
   },
   "source": [
    "E podemos deixar esse resultado mais bonito:"
   ]
  },
  {
   "cell_type": "code",
   "execution_count": 0,
   "metadata": {
    "colab": {},
    "colab_type": "code",
    "id": "np1MU7i8XEz_",
    "outputId": "7f0233dc-e210-47e6-bece-46dff27b12cd",
    "run_control": {
     "breakpoint": false
    }
   },
   "outputs": [
    {
     "data": {
      "text/latex": [
       "$\\displaystyle \\mathbf{R_{(\\alpha=\\pi/2)}}=\\left[\\begin{matrix}1.0 & 0 & 0\\\\0 & 0 & -1.0\\\\0 & 1.0 & 0\\end{matrix}\\right]$"
      ],
      "text/plain": [
       "<IPython.core.display.Math object>"
      ]
     },
     "metadata": {
      "tags": []
     },
     "output_type": "display_data"
    }
   ],
   "source": [
    "display(Math(latex(r'\\mathbf{R_{(\\alpha=\\pi/2)}}=') +\n",
    "             latex(r.n(chop=True, prec=3), mat_str = 'matrix')))"
   ]
  },
  {
   "cell_type": "markdown",
   "metadata": {
    "colab_type": "text",
    "id": "iWXh25OSXE0A",
    "lang": "pt"
   },
   "source": [
    "Para mais informações sobre o Sympy, veja [http://docs.sympy.org/latest/tutorial/](http://docs.sympy.org/latest/tutorial/)."
   ]
  },
  {
   "cell_type": "markdown",
   "metadata": {
    "colab_type": "text",
    "id": "DRNTy2xRXE0A",
    "lang": "pt"
   },
   "source": [
    "## Análise de dados com Pandas\n",
    "\n",
    "> \"[Pandas](http://pandas.pydata.org/) é um pacote Python que fornece estruturas de dados rápidas, flexíveis e expressivas, projetadas para tornar o trabalho com dados\" relacionais \"ou\" rotulados \"fácil e intuitivo. ser o alicerce básico de alto nível para fazer análise prática de dados do mundo real em Python. \"\n",
    "\n",
    "Para trabalhar com dados rotulados, o Pandas tem um tipo chamado DataFrame (basicamente, uma matriz onde colunas e linhas podem ter nomes e podem ser de diferentes tipos). Por exemplo:"
   ]
  },
  {
   "cell_type": "code",
   "execution_count": 0,
   "metadata": {
    "colab": {},
    "colab_type": "code",
    "id": "7xfwClnuXE0A",
    "run_control": {
     "breakpoint": false
    }
   },
   "outputs": [],
   "source": [
    "import pandas as pd"
   ]
  },
  {
   "cell_type": "code",
   "execution_count": 0,
   "metadata": {
    "colab": {},
    "colab_type": "code",
    "id": "63O9UYr_XE0C",
    "outputId": "eb599213-a109-44a7-ddfe-f8dd29c98d64",
    "run_control": {
     "breakpoint": false
    }
   },
   "outputs": [
    {
     "data": {
      "text/plain": [
       "['A', 'A', 'A', 'A', 'A', 'B', 'B', 'B', 'B', 'B']"
      ]
     },
     "execution_count": 97,
     "metadata": {
      "tags": []
     },
     "output_type": "execute_result"
    }
   ],
   "source": [
    "x = 5*['A'] + 5*['B']\n",
    "x"
   ]
  },
  {
   "cell_type": "code",
   "execution_count": 0,
   "metadata": {
    "colab": {},
    "colab_type": "code",
    "id": "OD2aGMHHXE0G",
    "outputId": "629e60e4-f064-48c0-89b6-f73cfc67555a",
    "run_control": {
     "breakpoint": false
    }
   },
   "outputs": [
    {
     "data": {
      "image/png": "[encoded data removed]",
      "text/plain": [
       "<Figure size 432x288 with 2 Axes>"
      ]
     },
     "metadata": {
      "needs_background": "light",
      "tags": []
     },
     "output_type": "display_data"
    }
   ],
   "source": [
    "df = pd.DataFrame(np.random.rand(10,2), columns=['Level 1', 'Level 2'] )\n",
    "df['Group'] = pd.Series(['A']*5 + ['B']*5)\n",
    "plot = df.boxplot(by='Group')"
   ]
  },
  {
   "cell_type": "code",
   "execution_count": 0,
   "metadata": {
    "colab": {},
    "colab_type": "code",
    "id": "b13DXw91XE0I",
    "outputId": "384a37ee-bc56-4aea-9b3d-b55adf0a07f5",
    "run_control": {
     "breakpoint": false
    }
   },
   "outputs": [
    {
     "data": {
      "image/png": "[encoded data removed]",
      "text/plain": [
       "<Figure size 576x432 with 9 Axes>"
      ]
     },
     "metadata": {
      "needs_background": "light",
      "tags": []
     },
     "output_type": "display_data"
    }
   ],
   "source": [
    "from pandas.plotting import scatter_matrix\n",
    "df = pd.DataFrame(np.random.randn(100, 3), columns=['A', 'B', 'C'])\n",
    "plot = scatter_matrix(df, alpha=0.5, figsize=(8, 6), diagonal='kde')"
   ]
  },
  {
   "cell_type": "markdown",
   "metadata": {
    "colab_type": "text",
    "id": "nPl_DtRMXE0K",
    "lang": "pt"
   },
   "source": [
    "O Pandas está ciente de que os dados são estruturados e fornece estatísticas básicas e as mostra de forma bem formatada:"
   ]
  },
  {
   "cell_type": "code",
   "execution_count": 0,
   "metadata": {
    "colab": {},
    "colab_type": "code",
    "id": "JnE3F0cDXE0K",
    "outputId": "59bba2dc-6b7f-405f-9e81-6966c3b55f6f",
    "run_control": {
     "breakpoint": false
    }
   },
   "outputs": [
    {
     "data": {
      "text/html": [
       "<div>\n",
       "<style scoped>\n",
       "    .dataframe tbody tr th:only-of-type {\n",
       "        vertical-align: middle;\n",
       "    }\n",
       "\n",
       "    .dataframe tbody tr th {\n",
       "        vertical-align: top;\n",
       "    }\n",
       "\n",
       "    .dataframe thead th {\n",
       "        text-align: right;\n",
       "    }\n",
       "</style>\n",
       "<table border=\"1\" class=\"dataframe\">\n",
       "  <thead>\n",
       "    <tr style=\"text-align: right;\">\n",
       "      <th></th>\n",
       "      <th>A</th>\n",
       "      <th>B</th>\n",
       "      <th>C</th>\n",
       "    </tr>\n",
       "  </thead>\n",
       "  <tbody>\n",
       "    <tr>\n",
       "      <th>count</th>\n",
       "      <td>100.000000</td>\n",
       "      <td>100.000000</td>\n",
       "      <td>100.000000</td>\n",
       "    </tr>\n",
       "    <tr>\n",
       "      <th>mean</th>\n",
       "      <td>0.044876</td>\n",
       "      <td>-0.058567</td>\n",
       "      <td>0.159211</td>\n",
       "    </tr>\n",
       "    <tr>\n",
       "      <th>std</th>\n",
       "      <td>1.061673</td>\n",
       "      <td>0.946279</td>\n",
       "      <td>0.995130</td>\n",
       "    </tr>\n",
       "    <tr>\n",
       "      <th>min</th>\n",
       "      <td>-2.706601</td>\n",
       "      <td>-2.338684</td>\n",
       "      <td>-2.482501</td>\n",
       "    </tr>\n",
       "    <tr>\n",
       "      <th>25%</th>\n",
       "      <td>-0.559268</td>\n",
       "      <td>-0.640369</td>\n",
       "      <td>-0.610516</td>\n",
       "    </tr>\n",
       "    <tr>\n",
       "      <th>50%</th>\n",
       "      <td>0.077326</td>\n",
       "      <td>-0.056285</td>\n",
       "      <td>0.167314</td>\n",
       "    </tr>\n",
       "    <tr>\n",
       "      <th>75%</th>\n",
       "      <td>0.905920</td>\n",
       "      <td>0.570220</td>\n",
       "      <td>0.968825</td>\n",
       "    </tr>\n",
       "    <tr>\n",
       "      <th>max</th>\n",
       "      <td>2.307405</td>\n",
       "      <td>1.966253</td>\n",
       "      <td>2.084145</td>\n",
       "    </tr>\n",
       "  </tbody>\n",
       "</table>\n",
       "</div>"
      ],
      "text/plain": [
       "                A           B           C\n",
       "count  100.000000  100.000000  100.000000\n",
       "mean     0.044876   -0.058567    0.159211\n",
       "std      1.061673    0.946279    0.995130\n",
       "min     -2.706601   -2.338684   -2.482501\n",
       "25%     -0.559268   -0.640369   -0.610516\n",
       "50%      0.077326   -0.056285    0.167314\n",
       "75%      0.905920    0.570220    0.968825\n",
       "max      2.307405    1.966253    2.084145"
      ]
     },
     "execution_count": 100,
     "metadata": {
      "tags": []
     },
     "output_type": "execute_result"
    }
   ],
   "source": [
    "df.describe()"
   ]
  },
  {
   "cell_type": "markdown",
   "metadata": {
    "colab_type": "text",
    "id": "P6qLVNuFXE0M",
    "lang": "pt"
   },
   "source": [
    "Para mais informações sobre Pandas, consulte este tutorial: [http://pandas.pydata.org/pandas-docs/stable/10min.html](http://pandas.pydata.org/pandas-docs/stable/10min.html )."
   ]
  },
  {
   "cell_type": "markdown",
   "metadata": {
    "colab_type": "text",
    "id": "MjbfNA99XE0M",
    "lang": "pt"
   },
   "source": [
    "## Para saber mais sobre o Python\n",
    "\n",
    "Há muito material bom na internet sobre Python para computação científica, aqui está uma pequena lista de coisas interessantes:\n",
    "\n",
    " - [Como pensar como um cientista da computação](http://www.openbookproject.net/thinkcs/python/english2e/) ou [a edição interativa](http://interactivepython.org/courselib/static/thinkcspy/index.html) (livro)\n",
    " - [Notas de Palestra Científica Python](http://scipy-lectures.github.io/) (notas de aula)\n",
    " - [Um Whirlwind Tour of Python](https://github.com/jakevdp/WhirlwindTourOfPython) (tutorial / livro)\n",
    " - [Python Data Science Handbook](https://jakevdp.github.io/PythonDataScienceHandbook/) (tutorial / livro)\n",
    " - [Palestras sobre computação científica com Python](https://github.com/jrjohansson/scientific-python-lectures#lectures-on-scientific-computing-with-python) (notas de aula)"
   ]
  },
  {
   "cell_type": "code",
   "execution_count": 0,
   "metadata": {
    "colab": {},
    "colab_type": "code",
    "id": "2Et_8xQvXE0N"
   },
   "outputs": [],
   "source": []
  }
 ],
 "metadata": {
  "colab": {
   "name": "Copy of PythonTutorial_PT-BR.ipynb",
   "provenance": [],
   "version": "0.3.2"
  },
  "kernelspec": {
   "display_name": "Python 3",
   "language": "python",
   "name": "python3"
  },
  "language_info": {
   "codemirror_mode": {
    "name": "ipython",
    "version": 3
   },
   "file_extension": ".py",
   "mimetype": "text/x-python",
   "name": "python",
   "nbconvert_exporter": "python",
   "pygments_lexer": "ipython3",
   "version": "3.6.8"
  },
  "latex_envs": {
   "LaTeX_envs_menu_present": true,
   "autoclose": false,
   "autocomplete": true,
   "bibliofile": "biblio.bib",
   "cite_by": "apalike",
   "current_citInitial": 1,
   "eqLabelWithNumbers": true,
   "eqNumInitial": 1,
   "hotkeys": {
    "equation": "Ctrl-E",
    "itemize": "Ctrl-I"
   },
   "labels_anchors": false,
   "latex_user_defs": false,
   "report_style_numbering": false,
   "user_envs_cfg": false
  },
  "nbTranslate": {
   "displayLangs": [
    "*"
   ],
   "hotkey": "alt-t",
   "langInMainMenu": true,
   "sourceLang": "en",
   "targetLang": "fr",
   "useGoogleTranslate": true
  }
 },
 "nbformat": 4,
 "nbformat_minor": 1
}
