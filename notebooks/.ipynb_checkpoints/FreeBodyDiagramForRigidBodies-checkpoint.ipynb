{
 "cells": [
  {
   "cell_type": "markdown",
   "metadata": {
    "slideshow": {
     "slide_type": "slide"
    }
   },
   "source": [
    "# Free Body Diagram for Rigid Bodies\n",
    "\n",
    "Renato Naville Watanabe"
   ]
  },
  {
   "cell_type": "code",
   "execution_count": 2,
   "metadata": {
    "slideshow": {
     "slide_type": "skip"
    }
   },
   "outputs": [],
   "source": [
    "import numpy as np\n",
    "import matplotlib.pyplot as plt\n",
    "%matplotlib notebook"
   ]
  },
  {
   "cell_type": "markdown",
   "metadata": {
    "slideshow": {
     "slide_type": "slide"
    }
   },
   "source": [
    "## Equivalent systems\n",
    "\n",
    "\n",
    "A set of forces and moments is considered equivalent if its resultant force and sum of the moments computed relative to a given point are the same. Normally, we want to reduce all the forces and moments being applied to a body into a single force and a single moment.\n",
    "\n",
    "We have done this with particles for the resultant force. The resultant force is simply the sum of all the forces being applied to the body.\n",
    "\n",
    "\\begin{equation}\n",
    "    \\vec{\\bf{F}} = \\sum\\limits_{i=1}^n \\vec{\\bf{F_i}}\n",
    "\\end{equation}\n",
    "\n",
    "\n",
    "where $\\vec{\\bf{F_i}}$ is each force applied to the body.\n",
    "\n",
    "Similarly, the total moment applied to the body relative to a point O is:\n",
    "\n",
    "\\begin{equation}\n",
    "    \\vec{\\bf{M_O}} = \\sum\\limits_{i}\\vec{\\bf{r_{i/O}}} \\times \\vec{\\bf{F_i}}\n",
    "\\end{equation}\n",
    "\n",
    "where $\\vec{\\bf{r_{i/O}}} $ is the vector from the point O to the point where the force $\\vec{\\bf{F_i}}$ is being applied.\n",
    "\n",
    "But where the resultant force should be applied in the body? If the resultant force were applied to any point different from the point O, it would produce an additional  moment to the body relative to point O. So, the resultant force must be applied to the point O.\n",
    "\n",
    "So, any set of forces can be reduced to a moment relative to a chosen point O and a resultant force applied to the point O.\n",
    "\n",
    "To compute the resultant force and moment relative to another point O', the new moment is:\n",
    "\n",
    "\\begin{equation}\n",
    "    \\vec{\\bf{M_{O'}}} = \\vec{\\bf{M_O}} + \\vec{\\bf{r_{O'/O}}} \\times \\vec{\\bf{F}}\n",
    "\\end{equation}\n",
    "\n",
    "And the resultant force is the same.\n",
    "\n",
    "It is worth to note that if the resultant force  $\\vec{\\bf{F}}$ is zero, than the moment is the same relative to any point.\n",
    "\n",
    "<figure><img src=\"./../images/equivalentSystem.png\" width=850/></figure>"
   ]
  },
  {
   "cell_type": "markdown",
   "metadata": {
    "slideshow": {
     "slide_type": "slide"
    }
   },
   "source": [
    "### Steps to draw a free-body diagram\n",
    "\n",
    "The steps to draw the free-body diagram of a body is very similar to the case of particles.\n",
    "\n",
    "1 - Draw separately each object considered in the problem. How you separate depends on what questions you want to answer.\n",
    "\n",
    "2 - Identify the forces acting on each object. If you are analyzing more than one object, remember the third Newton law (action and reaction), and identify where the reaction of a force is being applied. Whenever a movement of translation of the body is constrained, a force at the direction of the constraint must exist.\n",
    "\n",
    "3 - Identify the moments acting on each object. In the case you are analyzing more than one object, you must consider the  action and reaction law (third Newton-Euler law). Whenever a movement of rotation of the body is constrained, a moment at the direction of the constraint must exist.\n",
    "\n",
    "4 - Draw all the identified forces, representing them as vectors. The vectors should be represented with the origin in the object. \n",
    "\n",
    "5 - Draw all the identified moments, representing them as vectors. In planar movements, the moments we be orthogonal to the considered plane. In these cases, normally the moment vectors are represented as curved arrows.\n",
    "\n",
    "6 - If necessary, you should represent the reference frame (or references frames in case you use more than one reference frame) in the free-body diagram.\n",
    "\n",
    "7 - After this, you can solve the problem using the First and Second Newton-Euler  Laws (see, e.g,  [Newton-Euler Laws](newton_euler_equations.ipynb)) to find the motion of the body.\n",
    "\n",
    "\\begin{equation}\n",
    "    \\vec{\\bf{F}} = m\\vec{\\bf{a_{cm}}} = m\\frac{d^2\\vec{\\bf{r_{cm}}}}{dt^2}\n",
    "\\end{equation}\n",
    "\n",
    "\\begin{equation}\n",
    "    \\vec{\\bf{M_O}} = I_{zz}^{cm}\\alpha + m \\vec{\\bf{r_{cm/O}}} \\times \\vec{\\bf{a_{cm}}}=I_{zz}^{cm}\\frac{d^2\\theta}{dt^2} + m \\vec{\\bf{r_{cm/O}}} \\times \\frac{d^2\\vec{\\bf{r_{cm}}}}{dt^2}\n",
    "\\end{equation}\n"
   ]
  },
  {
   "cell_type": "markdown",
   "metadata": {
    "slideshow": {
     "slide_type": "slide"
    }
   },
   "source": [
    "## Examples\n",
    "\n",
    "Below, we will see some examples of how to draw the free-body diagram and obtain the equation of motion."
   ]
  },
  {
   "cell_type": "markdown",
   "metadata": {
    "slideshow": {
     "slide_type": "slide"
    }
   },
   "source": [
    "## 1) Horizontal fixed bar \n",
    "\n",
    "The first example is an example of statics. The bar has no velocity and no acceleration.\n",
    "\n",
    "<figure><img src=\"../images/bar1.png\\\" width=200 />\n",
    "\n"
   ]
  },
  {
   "cell_type": "markdown",
   "metadata": {
    "slideshow": {
     "slide_type": "slide"
    }
   },
   "source": [
    "The free-body diagram of the bar is depicted below. At the point where the bar is connected to the wall, there is a force $\\vec{\\bf{F_1}}$ constraining the translation movement of the point O and a moment $\\vec{\\bf{M}}$ constraining the rotation of the bar.\n",
    "\n",
    "<figure><img src=\"../images/bar1FBD.png\\\" width=250 />"
   ]
  },
  {
   "cell_type": "markdown",
   "metadata": {
    "slideshow": {
     "slide_type": "slide"
    }
   },
   "source": [
    "The resultant force being applied to the bar is:\n",
    "\n",
    "$$\n",
    "    \\vec{\\bf{F}} = -mg\\hat{\\bf{j}} + \\vec{\\bf{F_1}}\n",
    "$$\n",
    "\n",
    "And the total moment in the z direction around the point O is:\n",
    "\n",
    "$$\n",
    "    \\vec{\\bf{M_O}} = \\vec{\\bf{r_{C/O}}}\\times-mg\\hat{\\bf{j}} + \\vec{\\bf{M}}\n",
    "$$\n",
    "\n",
    "The vector from the point O to the point C is given by $\\vec{\\bf{r_{C/O}}} =\\frac{l}{2}\\hat{\\bf{i}}$. \n",
    "\n",
    "As the bar is fixed, all the accelerations are zero. So we can find the forces and the moment at the constraint.\n",
    "\n",
    "$$\n",
    "    \\vec{\\bf{F}} = \\vec{\\bf{0}}\n",
    "$$\n",
    "$$\n",
    "-mg\\hat{\\bf{j}} + \\vec{\\bf{F_1}} = \\vec{\\bf{0}} \n",
    "$$  \n",
    "$$\n",
    "\\vec{\\bf{F_1}} = mg\\hat{\\bf{j}}\n",
    "$$\n",
    "\n",
    "$$\n",
    "    \\vec{\\bf{M_O}} = \\vec{\\bf{0}} \n",
    "$$\n",
    "$$\n",
    "\\vec{\\bf{r_{C/O}}}\\times-mg\\hat{\\bf{j}} + \\vec{\\bf{M}} = \\vec{\\bf{0}} \n",
    "$$\n",
    "$$\n",
    "\\frac{l}{2}\\hat{\\bf{i}}\\times-mg\\hat{\\bf{j}} + \\vec{\\bf{M}} = \\vec{\\bf{0}} \n",
    "$$ \n",
    "$$\n",
    "-\\frac{mgl}{2}\\hat{\\bf{k}} + \\vec{\\bf{M}} = \\vec{\\bf{0}} \n",
    "$$ \n",
    "$$\n",
    "\\vec{\\bf{M}} = \\frac{mgl}{2}\\hat{\\bf{k}} \n",
    "$$"
   ]
  },
  {
   "cell_type": "markdown",
   "metadata": {
    "slideshow": {
     "slide_type": "slide"
    }
   },
   "source": [
    "## 2) Rotating ball with drag force  \n",
    "\n",
    "\n",
    "A basketball has a mass $m = 0.63$ kg and radius equal $R = 12$ cm. A basketball player shots the ball from the free-throw line (4.6 m from the basket) with a speed of 9.5 m/s, angle of 51 degrees with the court, height of 2 m and angular velocity of 42 rad/s. At the ball is acting a drag force proportional to the modulus of the ball velocity in the opposite direction of the velocity and a drag moment, proportional and in the opposite direction of the angular velocity of the ball. Consider the moment of inertia of the ball as $I_{zz}^{cm} = \\frac{2mR^2}{3}$.\n",
    "\n",
    "Below is depicted the free-body diagram of the ball.\n",
    "\n",
    "<figure><img src=\"../images/ballRotDrag.png\\\" width=250 />"
   ]
  },
  {
   "cell_type": "markdown",
   "metadata": {
    "slideshow": {
     "slide_type": "slide"
    }
   },
   "source": [
    "The resultant force being applied at the ball is:\n",
    "\n",
    "$$\n",
    "    \\vec{\\bf{F}} = -mg\\hat{\\bf{j}} - b_l\\vec{\\bf{v}} + b_m\\omega\\hat{\\bf{k}}\\times \\vec{\\bf{v}} = -mg\\hat{\\bf{j}} - b_l\\frac{d\\vec{\\bf{r}}}{dt} \n",
    "$$\n",
    "\n",
    "$$\n",
    "    \\vec{\\bf{M_C}} = - b_r\\omega\\hat{\\bf{k}}=- b_r\\frac{d\\theta}{dt}\\hat{\\bf{k}}\n",
    "$$\n",
    "\n",
    "$$\n",
    "    \\frac{d\\vec{\\bf{H_C}}}{dt} = I_{zz}^{C}\\frac{d^2\\theta}{dt^2}\\hat{\\bf{k}}\n",
    "$$\n",
    "\n",
    "So, by the second Newton-Euler law:\n",
    "\n",
    "$$\n",
    "    \\frac{d\\vec{\\bf{H_C}}}{dt}=\\vec{\\bf{M_C}}\n",
    "$$\n",
    "$$\n",
    "    I_{zz}^{C}\\frac{d^2\\theta}{dt^2} = - b_r\\frac{d\\theta}{dt}\n",
    "$$\n",
    "and by the first Newton-Euler law (for a revision on Newton-Euler laws, [see this notebook](newton_euler_equations.ipynb)):\n",
    "\n",
    "$$\n",
    "    m\\frac{d\\vec{\\bf{r}}}{dt}=\\vec{\\bf{F}} \\rightarrow \\frac{d\\vec{\\bf{r}}}{dt} = -g\\hat{\\bf{j}} - \\frac{b_l}{m}\\frac{d\\vec{\\bf{r}}}{dt} \n",
    "$$"
   ]
  },
  {
   "cell_type": "markdown",
   "metadata": {
    "slideshow": {
     "slide_type": "slide"
    }
   },
   "source": [
    "So, we can split the differential equations above in three equations:\n",
    "\n",
    "$$\n",
    "    \\frac{d^2\\theta}{dt^2} = - \\frac{b_r}{I_{zz}^{C}}\\frac{d\\theta}{dt}\n",
    "$$\n",
    "\n",
    "$$\n",
    "    \\frac{d^2x}{dt^2} = - \\frac{b_l}{m}\\frac{dx}{dt} \n",
    "$$\n",
    "\n",
    "$$\n",
    "    \\frac{d^2y}{dt^2} = -g - \\frac{b_l}{m}\\frac{dy}{dt} \n",
    "$$"
   ]
  },
  {
   "cell_type": "markdown",
   "metadata": {
    "slideshow": {
     "slide_type": "slide"
    }
   },
   "source": [
    "To solve these equations numerically, we can split each of these equations in first-order equations and the use a numerical method to integrate them. The first-order equations we be written in a matrix form, considering the moment of inertia of the ball as $I_{zz}^{C}=\\frac{2mR^2}{3}$:\n",
    "\n",
    "$$\n",
    "    \\left[\\begin{array}{c}\\frac{d\\omega}{dt}\\\\\\frac{dv_x}{dt}\\\\\\frac{dv_y}{dt}\\\\\\frac{d\\theta}{dt}\\\\\\frac{dx}{dt}\\\\\\frac{dy}{dt} \\end{array}\\right] = \\left[\\begin{array}{c}- \\frac{3b_r}{2mR^2}\\omega\\\\- \\frac{b_l}{m}v_x\\\\-g - \\frac{b_l}{m}v_y\\\\\\omega\\\\v_x\\\\v_y\\end{array}\\right] \n",
    "$$\n",
    "\n",
    "Below, the equations were solved numerically by using the Euler method (for a revision on numerical methods to solve ordinary differential equations, [see this notebook](OrdinaryDifferentialEquation.ipynb))."
   ]
  },
  {
   "cell_type": "markdown",
   "metadata": {
    "slideshow": {
     "slide_type": "slide"
    }
   },
   "source": [
    "## 3) Pendulum \n",
    "\n",
    "Now, we will analyze a pendulum. It consists of a bar with its upper part linked to a hinge.\n",
    "\n",
    "<figure><img src=\"../images/pendulum.png\\\" width=350 />\n",
    "    \n"
   ]
  },
  {
   "cell_type": "markdown",
   "metadata": {
    "slideshow": {
     "slide_type": "slide"
    }
   },
   "source": [
    "Below is the free-body diagram of the bar. On the center of mass of the bar is acting the gravitational force. On the point O, where there is a hinge, a force $\\vec{\\bf{F_1}}$ restrains the point to translate. As the hinge does not constrains a rotational movement of the bar, there is no moment applied by the hinge. \n",
    "\n",
    "<figure><img src=\"../images/pendulumFBD.png\\\" width=300 />"
   ]
  },
  {
   "cell_type": "markdown",
   "metadata": {
    "slideshow": {
     "slide_type": "slide"
    }
   },
   "source": [
    "To find the equation of motion of the bar we can use the second Newton-Euler law. So, we must find the sum of the moments and the resultant force being applied to the bar. The sum of moments could be computed relative to any point, but if we choose the fixed point O, it is easier because we can ignore the force $\\vec{\\bf{F_1}}$.\n",
    "\n",
    "The moment around the fixed point is:\n",
    "\n",
    "\\begin{equation}\n",
    "    \\vec{\\bf{M_O}} = \\vec{\\bf{r_{cm/O}}} \\times (-mg\\hat{\\bf{j}})\n",
    "\\end{equation}\n",
    "\n",
    "The resultant force applied in the bar is:\n",
    "\n",
    "\n",
    "\\begin{equation}\n",
    "        \\vec{\\bf{F}} = -mg\\hat{\\bf{j}} + \\vec{\\bf{F_1}}\n",
    "\\end{equation}\n",
    "\n",
    "The angular momentum derivative of the bar around point O is:\n",
    "\n",
    "\\begin{equation}\n",
    "    \\frac{d\\vec{\\bf{H_O}}}{dt} = I_{zz}^{cm} \\frac{d^2\\theta}{dt^2} \\hat{\\bf{k}}  + m \\vec{\\bf{r_{cm/O}}} \\times \\vec{\\bf{a_{cm}}}\n",
    "\\end{equation}\n",
    "\n",
    "The vector from point O to the center of mass is:\n",
    "\n",
    "\\begin{equation}\n",
    "    \\vec{\\bf{r_{cm/O}}} = \\frac{l}{2}\\sin{\\theta}\\hat{\\bf{i}}-\\frac{l}{2}\\cos{\\theta}\\hat{\\bf{j}}\n",
    "\\end{equation}\n",
    "\n",
    "The position of the center of mass is, considering the point O as the origin, equal to $\\vec{\\bf{r_{cm/O}}}$. So, the center of mass acceleration is obtained by deriving it twice. \n",
    "\n",
    "\\begin{equation}\n",
    "    \\vec{\\bf{v_{cm}}} = \\frac{\\vec{\\bf{r_{cm/O}}}}{dt} = \\frac{l}{2}(\\cos{\\theta}\\hat{\\bf{i}}+\\sin{\\theta}\\hat{\\bf{j}})\\frac{d\\theta}{dt} \\rightarrow \\vec{\\bf{a_{cm}}} = \\frac{l}{2}(-\\sin{\\theta}\\hat{\\bf{i}}+\\cos{\\theta}\\hat{\\bf{j}})\\left(\\frac{d\\theta}{dt}\\right)^2 + \\frac{l}{2}(\\cos{\\theta}\\hat{\\bf{i}}+\\sin{\\theta}\\hat{\\bf{j}})\\frac{d^2\\theta}{dt^2}   \n",
    "\\end{equation}\n",
    "\n",
    "So, the moment around the point O:\n",
    "\n",
    "\\begin{equation}\n",
    "    \\vec{\\bf{M_O}} = \\left(\\frac{l}{2}\\sin{\\theta}\\hat{\\bf{i}}-\\frac{l}{2}\\cos{\\theta}\\hat{\\bf{j}}\\right) \\times (-mg\\hat{\\bf{j}}) = \\frac{-mgl}{2}\\sin{\\theta}\\hat{\\bf{k}}\n",
    "\\end{equation}\n",
    "\n",
    "And the derivative of the angular momentum is:\n",
    "\n",
    "\\begin{equation}\n",
    "    \\frac{d\\vec{\\bf{H_O}}}{dt} = I_{zz}^{cm} \\frac{d^2\\theta}{dt^2}\\hat{\\bf{k}}  + m \\frac{l}{2}(\\sin{\\theta}\\hat{\\bf{i}}-\\cos{\\theta}\\hat{\\bf{j}}) \\times \\left[ \\frac{l}{2}(-\\sin{\\theta}\\hat{\\bf{i}}+\\cos{\\theta}\\hat{\\bf{j}})\\left(\\frac{d\\theta}{dt}\\right)^2 + \\frac{l}{2}(\\cos{\\theta}\\hat{\\bf{i}}+\\sin{\\theta}\\hat{\\bf{j}})\\frac{d^2\\theta}{dt^2}    \\right] = I_{zz}^{cm} \\frac{d^2\\theta}{dt^2}\\hat{\\bf{k}}  + m \\frac{l^2}{4}\\frac{d^2\\theta}{dt^2} \\hat{\\bf{k}}  =\\left(I_{zz}^{cm} + \\frac{ml^2}{4}\\right)\\frac{d^2\\theta}{dt^2} \\hat{\\bf{k}}\n",
    "\\end{equation}"
   ]
  },
  {
   "cell_type": "markdown",
   "metadata": {
    "slideshow": {
     "slide_type": "slide"
    }
   },
   "source": [
    "Now, by using the Newton-Euler laws, we can obtain the differential equation that describes the bar angle along time:\n",
    "\n",
    "\\begin{equation}\n",
    "    \\frac{d\\vec{\\bf{H_O}}}{dt} = \\vec{\\bf{M_O}} \\rightarrow \\frac{-mgl}{2}\\sin{\\theta} = \\left(I_{zz}^{cm} + \\frac{ml^2}{4}\\right)\\frac{d^2\\theta}{dt^2} \\rightarrow \\frac{d^2\\theta}{dt^2} = \\frac{-2mgl}{\\left(4I_{zz}^{cm} + ml^2\\right)}\\sin{\\theta}\n",
    "\\end{equation}\n",
    "\n",
    "The moment of inertia of the bar relative to its center of mass is $I_{zz}^{cm} = \\frac{ml^2}{12}$ (for a revision on moment of inertia see [this notebook](CenterOfMassAndMomentOfInertia.ipynb)).  So, the equation of motion of the pendulum is:\n",
    "\n",
    "\\begin{equation}\n",
    "    \\frac{d^2\\theta}{dt^2} = \\frac{-3g}{2l}\\sin{\\theta}\n",
    "\\end{equation}"
   ]
  },
  {
   "cell_type": "markdown",
   "metadata": {
    "slideshow": {
     "slide_type": "slide"
    }
   },
   "source": [
    "## 4) Inverted Pendulum\n",
    "\n",
    "At this example we analyze the inverted pendulum. It consists of a bar with its lowest extremity linked to a hinge.\n",
    "\n",
    "<figure><img src=\"../images/invertedPendulum.png\\\" width=350 />\n",
    "    "
   ]
  },
  {
   "cell_type": "markdown",
   "metadata": {
    "slideshow": {
     "slide_type": "slide"
    }
   },
   "source": [
    "## 5) Human quiet standing \n",
    "\n",
    "A very simple model of the human quiet standing (and still today frequently used) is to use an inverted pendulum to model the human body. On [this notebook](http://nbviewer.jupyter.org/github/demotu/BMC/blob/master/notebooks/IP_Model.ipynb) there is a more comprehensive explanation of human standing.\n",
    "\n",
    "<figure><img src=\"../images/quietStanding.png\\\" width=350 /><figcaption><center>Adapted from [Elias, Watanabe and Kohn (2014)](http://dx.doi.org/10.1371/journal.pcbi.1003944) </center></figcaption></figure>\n",
    "\n",
    "Below is depicted the free-body diagram of the foot and the rest of the body. At the ankle joint there is a constraint to the translation of the ankle joint. So, a force $\\vec{\\bf{F_1}}$ is applied to the body at the ankle joint. By the third Newton law, a force  $-\\vec{\\bf{F_1}}$ is applied to the foot at the ankle joint. At the center of mass of the body and of the foot, gravitational forces are applied. Additionally, a ground reaction force is applied to the foot at the center of pressure of the forces applied at the foot.\n",
    "\n",
    "Additionally, a moment $\\vec{\\bf{T_A}}$ is applied at the body and its reaction is applied to the foot. This moment $\\vec{\\bf{T_A}}$ comes from the muscles around the ankle joint. It is usual in Biomechanics to represent the net torque generated by all the muscles on a single joint as a single moment applied to the body. \n",
    "\n",
    "    \n",
    "<figure><img src=\"../images/quietStandingFBD.png\\\" width=300 /></figure>\n",
    "\n",
    "\n",
    "The process to obtain the equation of motion of the angle is very similar. The moment around the ankle being applied to the body is:\n",
    "\n",
    "\\begin{equation}\n",
    "    \\vec{\\bf{M_A}} = \\vec{\\bf{T_A}} + \\vec{\\bf{r_{cm/A}}} \\times (-m_Bg\\hat{\\bf{j}})\n",
    "\\end{equation}\n",
    "\n",
    "And the derivative of the angular momentum is:\n",
    "\n",
    "\\begin{equation}\n",
    "    \\frac{d\\vec{\\bf{H_A}}}{dt} = I_{zz}^{cm}\\frac{d\\theta_A}{dt} + m\\vec{\\bf{r_{cm/A}}} \\times \\vec{\\bf{a_{cm}}}\n",
    "\\end{equation}\n",
    "\n",
    "To find the kinematics of the bar, we could do the same procedure we have used in the pendulum and inverted pendulum examples, but this time we will use polar coordinates (for a revision on polar coordinates, see [Polar coordinates notebook](PolarCoordinates.ipynb)). \n",
    "\n",
    "\\begin{equation}\n",
    "    \\vec{\\bf{r_{cm/A}}} = \\vec{\\bf{r_{cm}}} = h_G\\hat{\\bf{e_r}} \\rightarrow \\vec{\\bf{v_{cm}}} = h_G\\frac{d\\theta_A}{dt}\\hat{\\bf{e_\\theta}} \\rightarrow \\vec{\\bf{a_{cm}}} = -h_G\\left(\\frac{d\\theta_A}{dt}\\right)^2\\hat{\\bf{e_r}} + h_G\\frac{d^2\\theta_A}{dt^2}\\hat{\\bf{e_\\theta}}\n",
    "\\end{equation}\n",
    "\n",
    "where $\\hat{\\bf{e_r}} = -\\sin(\\theta_A)\\hat{\\bf{i}} + \\cos(\\theta_A)\\hat{\\bf{j}}$ and $\\hat{\\bf{e_\\theta}} = -\\cos(\\theta_A)\\hat{\\bf{i}} - \\sin(\\theta_A)\\hat{\\bf{j}}$\n",
    "\n",
    "Having the kinematics computed, we can go back to the moment and derivative of the angular momentum:\n",
    "\n",
    "\\begin{equation}\n",
    "     \\vec{\\bf{M_A}} =  \\vec{\\bf{T_A}} + h_G\\hat{\\bf{e_r}} \\times (-m_Bg\\hat{\\bf{j}}) = T_A\\hat{\\bf{k}} + h_Gm_Bg\\sin(\\theta_A)\\hat{\\bf{k}}\n",
    "\\end{equation}\n",
    "\n",
    "\\begin{equation}\n",
    "    \\frac{d\\vec{\\bf{H_A}}}{dt} = I_{zz}^{cm}\\frac{d^2\\theta_A}{dt^2} \\hat{\\bf{k}} + mh_G\\hat{\\bf{e_r}} \\times \\left(-h_G\\left(\\frac{d^2\\theta_A}{dt^2}\\right)^2\\hat{\\bf{e_r}} + h_G\\frac{d^2\\theta_A}{dt^2}\\hat{\\bf{e_\\theta}}\\right) = I_{zz}^{cm}\\frac{d^2\\theta_A}{dt^2}\\hat{\\bf{k}} + mh_G^2\\frac{d^2\\theta_A}{dt^2}\\hat{\\bf{k}} = \\left(I_{zz}^{cm} + mh_G^2\\right)\\frac{d^2\\theta_A}{dt^2}\\hat{\\bf{k}}\n",
    "\\end{equation}\n",
    "\n",
    "\n",
    "By using the Newton-Euler equations, we can now find the equation of motion of the body during quiet standing:\n",
    "\n",
    "\\begin{equation}\n",
    "    \\vec{\\bf{M_A}}=\\frac{d\\vec{\\bf{H_A}}}{dt} \\rightarrow  \\left(I_{zz}^{cm} + mh_G^2\\right)\\frac{d^2\\theta_A}{dt^2} =  T_A + h_Gm_B g\\sin(\\theta_A) \\rightarrow \\frac{d^2\\theta_A}{dt^2} = \\frac{h_Gm_B g}{I_{zz}^{cm} + mh_G^2}\\sin(\\theta_A)+ \\frac{T_A}{I_{zz}^{cm} + m_Bh_G^2}\n",
    "\\end{equation}\n",
    "\n",
    "If we consider the body as a rigid uniform bar, the moment of inertia is $I_{zz}^{cm} = \\frac{m_Bh_G^2}{3}$. So, the equation of motion of the body is:\n",
    "\n",
    "\\begin{equation}\n",
    "    \\frac{d^2\\theta_A}{dt^2} = \\frac{3 g}{4h_g}\\sin(\\theta_A)+ \\frac{3 T_A}{4m_bh_G^2}\n",
    "\\end{equation}"
   ]
  },
  {
   "cell_type": "markdown",
   "metadata": {
    "slideshow": {
     "slide_type": "slide"
    }
   },
   "source": [
    "## 6) Force platform\n",
    "\n",
    "\n",
    "From the same example above, now we will find the position of the center of pressure during the quiet standing. The center of pressure is the point where the ground reaction force is being applied. The point O is linked to the ground in a way that it constraints the translation and rotation movement of the platform. Also, it is in the point O that sensors of force and moments are located. \n",
    "\n",
    "<figure><img src=\"../images/forcePlatform2DS.png\\\" width=350 />"
   ]
  },
  {
   "cell_type": "markdown",
   "metadata": {
    "slideshow": {
     "slide_type": "slide"
    }
   },
   "source": [
    "The free-body diagram of the foot and the force platform is depicted below.\n",
    "\n",
    "<figure><img src=\"../images/forcePlatform2D.png\\\" width=350 />"
   ]
  },
  {
   "cell_type": "markdown",
   "metadata": {
    "slideshow": {
     "slide_type": "slide"
    }
   },
   "source": [
    "In the platform , the distance $y_0$ is known. As the platform is in equilibrium its derivative of the angular momentum is zero. Now, we must find the sum of the moments. As we can choose any point, we will choose, the point where the force $\\vec{\\bf{F}}$ is being applied, and equal it to zero.\n",
    "\n",
    "\\begin{equation}\n",
    "    \\vec{\\bf{M}} + \\vec{\\bf{r_{COP/O}}} \\times (-\\vec{\\bf{GRF}}) = 0\n",
    "\\end{equation}\n",
    "\n",
    "The vector $\\vec{\\bf{r_{COP/O}}}$ is:\n",
    "\n",
    "\\begin{equation}\n",
    "    \\vec{\\bf{r_{COP/O}}} = COP_x \\hat{\\bf{i}} + y_0 \\hat{\\bf{j}}\n",
    "\\end{equation}\n",
    "\n",
    "So, from the equation of the sum of the moments we can isolate the postion of the center of pressure:\n",
    "\n",
    "\\begin{equation}\n",
    "    M - COP_x GRF_y + y_0 GRF_x = 0 \\rightarrow COP_x = \\frac{M+y_0 GRF_x}{GRF_y}\n",
    "\\end{equation}\n",
    "\n",
    "Using the expression above, we can track the position of the center of pressure during an experiment."
   ]
  },
  {
   "cell_type": "markdown",
   "metadata": {
    "slideshow": {
     "slide_type": "slide"
    }
   },
   "source": [
    "## 7) Segway\n",
    "\n",
    "The horizontal acceleration of the point A $a_A$ of the segway is known. There is a motor at point A that generates a moment $\\vec{\\bf{T}}$ at the bar.\n",
    "\n",
    "<figure><img src=\"../images/segway.png\\\" width=350 />\n",
    "    \n",
    "The free-body diagrams of the upper part of the segway and the cart are depicted below. At the upper part are applied the moment $\\vec{\\bf{T}}$ due to the motor, the gravitational force at the center of mass of the bar and the constraint force at the hinge at the point A. At the cart are applied the ground reaction force, the reaction of $\\vec{\\bf{F_1}}$ at the hinge and the reaction of the moment due to the motor. As the cart has an acceleration, there is a force $\\vec{\\bf{F}}$ to produce an acceleration.\n",
    "\n",
    "<figure><img src=\"../images/segwayFBD.png\\\" width=350 />\n",
    "    \n",
    "The equation of motion of the bar can be obtained by using the Newton-Euler equations.    \n",
    "    \n",
    "Considering the  bar, the moment around the point A is:\n",
    "\n",
    "\\begin{equation}\n",
    "    \\vec{\\bf{M_A}} = \\vec{\\bf{r_{cm/A}}} \\times (-mg\\hat{\\bf{j}}) + \\vec{\\bf{T}}\n",
    "\\end{equation}\n",
    "\n",
    "And the derivative of the angular momentum around the point A is:\n",
    "\n",
    "\\begin{equation}\n",
    "        \\frac{d\\vec{H_A}}{dt} = I_{zz}^{cm}\\frac{d^2\\theta}{dt^2}+m\\vec{\\bf{r_{cm/A}}}\\times \\vec{\\bf{a_{cm}}}\n",
    "\\end{equation}\n",
    "\n",
    "The vector from the point A to the center of mass is:\n",
    "\n",
    "\\begin{equation}\n",
    "    \\vec{\\bf{r_{cm/A}}} = \\frac{l}{2}\\hat{\\bf{e_R}}\n",
    "\\end{equation}\n",
    "\n",
    "and the acceleration of the center of mass is obtained by deriving the position of the center of mass twice:\n",
    "\n",
    "\\begin{equation}\n",
    "    \\vec{\\bf{r_{cm}}} = \\vec{\\bf{r_{A}}} + \\vec{\\bf{r_{cm/A}}} = \\vec{\\bf{r_{A}}} + \\frac{l}{2}\\hat{\\bf{e_R}} \\rightarrow  \\vec{\\bf{v_{cm}}} = \\vec{\\bf{v_{A}}} + \\frac{l}{2}\\frac{d\\theta}{dt}\\hat{\\bf{e_\\theta}} \\rightarrow  \\vec{\\bf{a_{cm}}} = \\vec{\\bf{a_{A}}} - \\frac{l}{2}\\left(\\frac{d\\theta}{dt}\\right)^2\\hat{\\bf{e_R}}+\\frac{l}{2}\\frac{d^2\\theta}{dt^2}\\hat{\\bf{e_\\theta}}\n",
    "\\end{equation}\n",
    "\n",
    "where $\\hat{\\bf{e_R}} = -\\sin(\\theta)\\hat{\\bf{i}}+\\cos(\\theta)\\hat{\\bf{j}}$ and $\\hat{\\bf{e_\\theta}} = -\\cos(\\theta)\\hat{\\bf{i}}-\\sin(\\theta)\\hat{\\bf{j}}$.\n",
    "\n",
    "Using the Newton-Euler laws, we can find the equation of motion of the upper part of the segway:\n",
    "\n",
    "\\begin{equation}\n",
    "    \\frac{d\\vec{H_A}}{dt} = \\vec{\\bf{M_A}} \\rightarrow  I_{zz}^{cm}\\frac{d^2\\theta}{dt^2}\\hat{\\bf{k}}+m\\vec{\\bf{r_{cm/A}}}\\times \\vec{\\bf{a_{cm}}} =  \\vec{\\bf{r_{cm/A}}} \\times (-mg\\hat{\\bf{j}}) + \\vec{\\bf{T}} \\rightarrow I_{zz}^{cm}\\frac{d^2\\theta}{dt^2}+m\\frac{l}{2}\\hat{\\bf{e_R}}\\times\\left(a_{A}\\hat{\\bf{i}} - \\frac{l}{2}\\left(\\frac{d\\theta}{dt}\\right)^2\\hat{\\bf{e_R}}+\\frac{l}{2}\\frac{d^2\\theta}{dt^2}\\hat{\\bf{e_\\theta}}\\right) = ( \\frac{l}{2}\\hat{\\bf{e_R}} \\times (-mg\\hat{\\bf{j}}) + \\vec{\\bf{T}}) \\rightarrow I_{zz}^{cm}\\frac{d^2\\theta}{dt^2}\\hat{\\bf{k}}-\\frac{ml}{2}a_{A}\\cos(\\theta)\\hat{\\bf{k}} +\\frac{ml^2}{4}\\frac{d^2\\theta}{dt^2}\\hat{\\bf{k}} = \\frac{mgl}{2}\\sin(\\theta)\\hat{\\bf{k}} + T\\hat{\\bf{k}}\n",
    "\\end{equation}\n",
    "\n",
    "So, the equation of motion of the upper part of the segway is:\n",
    "\n",
    "\\begin{equation}\n",
    "    \\frac{d^2\\theta}{dt^2} = \\frac{mgl}{2\\left(I_{zz}^{cm}+\\frac{ml^2}{4}\\right)}\\sin(\\theta) + \\frac{ml}{2\\left(I_{zz}^{cm}+\\frac{ml^2}{4}\\right)}a_{A}\\cos(\\theta)+ \\frac{T}{\\left(I_{zz}^{cm}+\\frac{ml^2}{4}\\right)}\n",
    "\\end{equation}\n",
    "\n",
    "Considering the moment of inertia of the bar is $I_{zz}^{cm}=\\frac{ml^2}{12}$, the equation of motion of the bar is:\n",
    "\n",
    "\\begin{equation}\n",
    "     \\frac{d^2\\theta}{dt^2} = \\frac{3g}{2l}\\sin(\\theta) + \\frac{3ml}{2ml^2}a_{A}\\cos(\\theta)+ \\frac{3T}{2ml^2}\n",
    "\\end{equation}"
   ]
  },
  {
   "cell_type": "markdown",
   "metadata": {
    "slideshow": {
     "slide_type": "slide"
    }
   },
   "source": [
    "## 8) Double pendulum with actuators\n",
    "\n",
    "The figure below shows a  double pendulum. This model can represent, for example, the arm and forearm of a subject. \n",
    "\n",
    "<figure><img src=\"../images/doublePendulum.png\\\" width=350 />\n",
    "    "
   ]
  },
  {
   "cell_type": "markdown",
   "metadata": {
    "slideshow": {
     "slide_type": "slide"
    }
   },
   "source": [
    "The free-body diagrams of both bars are depicted below. There are constraint  forces at all joints and moments from the muscles from both joints. \n",
    "    \n",
    "<figure><img src=\"../images/doublePendulumFBD.png\\\" width=800 />"
   ]
  },
  {
   "cell_type": "markdown",
   "metadata": {
    "slideshow": {
     "slide_type": "slide"
    }
   },
   "source": [
    "The versors $\\hat{\\bf{e_{R_1}}}$, $\\hat{\\bf{e_{R_2}}}$, $\\hat{\\bf{e_{\\theta_1}}}$ and $\\hat{\\bf{e_{\\theta_2}}}$ are defined as:\n",
    "\n",
    "\\begin{equation}\n",
    "    \\hat{\\bf{e_{R_1}}} = \\sin(\\theta_1) \\hat{\\bf{i}} - \\cos(\\theta_1) \\hat{\\bf{j}} \n",
    "\\end{equation}\n",
    "\n",
    "\\begin{equation}\n",
    "    \\hat{\\bf{e_{\\theta_1}}} = \\cos(\\theta_1) \\hat{\\bf{i}} + \\sin(\\theta_1) \\hat{\\bf{j}} \n",
    "\\end{equation}\n",
    "\n",
    "\\begin{equation}\n",
    "    \\hat{\\bf{e_{R_2}}} = \\sin(\\theta_2) \\hat{\\bf{i}} - \\cos(\\theta_2) \\hat{\\bf{j}} \n",
    "\\end{equation}\n",
    "\n",
    "\\begin{equation}\n",
    "    \\hat{\\bf{e_{\\theta_2}}} = \\cos(\\theta_2) \\hat{\\bf{i}} + \\sin(\\theta_2) \\hat{\\bf{j}} \n",
    "\\end{equation}"
   ]
  },
  {
   "cell_type": "markdown",
   "metadata": {
    "slideshow": {
     "slide_type": "slide"
    }
   },
   "source": [
    "First, we can analyze the sum of the moments and the derivative of the angular momentum at the upper bar. They will be computed relative to the point O1. \n",
    "\n",
    "\\begin{equation}\n",
    "    \\vec{\\bf{M_{O1}}} = \\vec{\\bf{r_{C1/O1}}} \\times (-m_1g\\hat{\\bf{j}}) + \\vec{\\bf{r_{O2/O1}}} \\times (-\\vec{\\bf{F_{12}}}) + \\vec{\\bf{M_{1}}} - \\vec{\\bf{M_{12}}} = \\frac{l_1}{2}  \\hat{\\bf{e_{R_1}}}  \\times (-m_1g\\hat{\\bf{j}}) + l_1\\hat{\\bf{e_{R_1}}} \\times (-\\vec{\\bf{F_{12}}}) + \\vec{\\bf{M_{1}}} - \\vec{\\bf{M_{12}}} = \\frac{-m_1gl_1}{2}\\sin(\\theta_1)\\hat{\\bf{k}} + l_1\\hat{\\bf{e_{R_1}}} \\times (-\\vec{\\bf{F_{12}}}) + \\vec{\\bf{M_{1}}} - \\vec{\\bf{M_{12}}}\n",
    "\\end{equation}\n",
    "\n",
    "\\begin{equation}\n",
    "    \\frac{d\\vec{\\bf{H_{O1}}}}{dt} = I_{zz}^{C1} \\frac{d^2\\theta_1}{dt^2} + m_1 \\vec{\\bf{r_{C1/O1}}} \\times \\vec{\\bf{a_{C1}}} = I_{zz}^{C1} \\frac{d^2\\theta_1}{dt^2} + m_1 \\frac{l_1}{2}  \\hat{\\bf{e_{R_1}}} \\times \\left[-\\frac{l_1}{2}\\left(\\frac{d\\theta_1}{dt}\\right)^2 \\hat{\\bf{e_{R_1}}} + \\frac{l_1}{2}\\frac{d^2\\theta_1}{dt^2} \\hat{\\bf{e_{\\theta_1}}}\\right] = \\left( I_{zz}^{C1}  + m_1 \\frac{l_1^2}{4}\\right)\\frac{d^2\\theta_1}{dt^2}\n",
    "\\end{equation}\n",
    "\n",
    "Note that the force $\\vec{\\bf{F_{12}}}$ is unknown. We will take care of this later."
   ]
  },
  {
   "cell_type": "markdown",
   "metadata": {
    "slideshow": {
     "slide_type": "slide"
    }
   },
   "source": [
    "Now, we analyze the the sum of the moments and the derivative of the angular momentum at the lower bar relative to the point O2.\n",
    "\n",
    "\\begin{equation}\n",
    "    \\vec{\\bf{M_{O2}}} = \\vec{\\bf{r_{C2/O2}}} \\times (-m_2g\\hat{\\bf{j}}) + \\vec{\\bf{M_{12}}} =  \\frac{l_2}{2}   \\hat{\\bf{e_{R_2}}} \\times (-m_2g\\hat{\\bf{j}}) + \\vec{\\bf{M_{12}}} = -\\frac{m_2gl_2}{2}\\sin(\\theta_2)\\hat{\\bf{k}} + \\vec{\\bf{M_{12}}}\n",
    "\\end{equation}\n",
    "\n",
    "\\begin{equation}\n",
    "    \\frac{d\\vec{\\bf{H_{O2}}}}{dt} = I_{zz}^{C2} \\frac{d^2\\theta_2}{dt^2} + m_2 \\vec{\\bf{r_{C2/O2}}} \\times \\vec{\\bf{a_{C2}}} = I_{zz}^{C2} \\frac{d^2\\theta_2}{dt^2} + m_2 \\frac{l_2}{2}  \\hat{\\bf{e_{R_2}}} \\times \\left[-l_1\\left(\\frac{d\\theta_1}{dt}\\right)^2 \\hat{\\bf{e_{R_1}}} + l_1\\frac{d^2\\theta_1}{dt^2} \\hat{\\bf{e_{\\theta_1}}} -\\frac{l_2}{2}\\left(\\frac{d\\theta_2}{dt}\\right)^2 \\hat{\\bf{e_{R_2}}} + \\frac{l_2}{2}\\frac{d^2\\theta_2}{dt^2} \\hat{\\bf{e_{\\theta_2}}}\\right] \n",
    "\\end{equation}"
   ]
  },
  {
   "cell_type": "markdown",
   "metadata": {
    "slideshow": {
     "slide_type": "slide"
    }
   },
   "source": [
    "To complete the computation of the derivative of the angular momentum we must find the products $\\hat{\\bf{e_{R_2}}} \\times \\hat{\\bf{e_{R_1}}} $,  $\\hat{\\bf{e_{R_2}}} \\times \\hat{\\bf{e_{\\theta_1}}}$ and $\\hat{\\bf{e_{R_1}}} \\times \\hat{\\bf{e_{\\theta_2}}}$:\n",
    "\n",
    "\\begin{equation}\n",
    "    \\hat{\\bf{e_{R_2}}} \\times \\hat{\\bf{e_{\\theta_1}}} = \\left[\\begin{array}{c}\\sin(\\theta_2)\\\\-\\cos(\\theta_2)\\end{array}\\right] \\times \\left[\\begin{array}{c}\\cos(\\theta_1)\\\\\\sin(\\theta_1)\\end{array}\\right] = \\sin(\\theta_1)\\sin(\\theta_2)+\\cos(\\theta_1)\\cos(\\theta_2) = \\cos(\\theta_1-\\theta_2)\n",
    "\\end{equation}\n",
    "\n",
    "\\begin{equation}\n",
    "    \\hat{\\bf{e_{R_2}}} \\times \\hat{\\bf{e_{R_1}}} = \\left[\\begin{array}{c}\\sin(\\theta_2)\\\\-\\cos(\\theta_2)\\end{array}\\right] \\times \\left[\\begin{array}{c}\\sin(\\theta_1)\\\\-\\cos(\\theta_1)\\end{array}\\right] = -\\sin(\\theta_2)\\cos(\\theta_1)+\\cos(\\theta_2)\\sin(\\theta_1) = \\sin(\\theta_1-\\theta_2)\n",
    "\\end{equation}\n",
    "\n",
    "\\begin{equation}\n",
    "    \\hat{\\bf{e_{R_1}}} \\times \\hat{\\bf{e_{\\theta_2}}} =\\left[\\begin{array}{c}\\sin(\\theta_1)\\\\-\\cos(\\theta_1)\\end{array}\\right] \\times \\left[\\begin{array}{c}\\cos(\\theta_2)\\\\\\sin(\\theta_2)\\end{array}\\right] = \\sin(\\theta_2)\\sin(\\theta_1)+\\cos(\\theta_2)\\cos(\\theta_1) = \\cos(\\theta_1-\\theta_2)\n",
    "\\end{equation}\n",
    "\n",
    "So, the derivative of the angular momentum is:\n",
    "\n",
    "\\begin{align}\n",
    "\\begin{split}\n",
    "    \\frac{d\\vec{\\bf{H_{O2}}}}{dt} &=  I_{zz}^{C2} \\frac{d^2\\theta_2}{dt^2} - \\frac{m_2l_1l_2}{2}\\left(\\frac{d\\theta_1}{dt}\\right)^2 \\sin(\\theta_1-\\theta_2) + \\frac{m_2l_1l_2}{2}\\frac{d^2\\theta_1}{dt^2} \\cos(\\theta_1-\\theta_2) + \\frac{m_2l_2^2}{4}\\frac{d^2\\theta_2}{dt^2} \\\\\n",
    "    &=  \\frac{m_2l_1l_2}{2}\\cos(\\theta_1-\\theta_2)\\frac{d^2\\theta_1}{dt^2} + \\left(I_{zz}^{C2} + \\frac{m_2l_2^2}{4} \\right)\\frac{d^2\\theta_2}{dt^2}- \\frac{m_2l_1l_2}{2}\\left(\\frac{d\\theta_1}{dt}\\right)^2 \\sin(\\theta_1-\\theta_2) \n",
    "    \\end{split}\n",
    "\\end{align}"
   ]
  },
  {
   "cell_type": "markdown",
   "metadata": {
    "slideshow": {
     "slide_type": "slide"
    }
   },
   "source": [
    "It remains to find the force $\\vec{\\bf{F_{12}}}$ that is in the sum of moment of the upper bar. It can be found by finding the resultant force in the lower bar and use the First Newton-Euler law:\n",
    "\n",
    "\\begin{equation}\n",
    "    \\vec{\\bf{F_{12}}} - m_2g \\hat{\\bf{j}} = m\\vec{\\bf{a_{C2}}} \\rightarrow \\vec{\\bf{F_{12}}}  =  m_2g \\hat{\\bf{j}}  + m_2\\left[-l_1\\left(\\frac{d\\theta_1}{dt}\\right)^2 \\hat{\\bf{e_{R_1}}} + l_1\\frac{d^2\\theta_1}{dt^2} \\hat{\\bf{e_{\\theta_1}}} -\\frac{l_2}{2}\\left(\\frac{d\\theta_2}{dt}\\right)^2 \\hat{\\bf{e_{R_2}}} + \\frac{l_2}{2}\\frac{d^2\\theta_2}{dt^2} \\hat{\\bf{e_{\\theta_2}}}\\right] \n",
    "\\end{equation}\n",
    "\n",
    "Now, we can go back to the moment $\\vec{\\bf{M_{O1}}}$:\n",
    "\n",
    "\\begin{align}\n",
    "    \\begin{split}\n",
    "    \\vec{\\bf{M_{O1}}} &= \\frac{-m_1gl_1}{2}\\sin(\\theta_1)\\hat{\\bf{k}} + l_1\\hat{\\bf{e_{R_1}}} \\times (-\\vec{\\bf{F_{12}}}) + \\vec{\\bf{M_{1}}} - \\vec{\\bf{M_{12}}} \\\\\n",
    "    &= -\\frac{m_1gl_1}{2}\\sin(\\theta_1)\\hat{\\bf{k}} - l_1\\hat{\\bf{e_{R_1}}} \\times   m_2\\left[g \\hat{\\bf{j}}-l_1\\left(\\frac{d\\theta_1}{dt}\\right)^2 \\hat{\\bf{e_{R_1}}} + l_1\\frac{d^2\\theta_1}{dt^2} \\hat{\\bf{e_{\\theta_1}}} -\\frac{l_2}{2}\\left(\\frac{d\\theta_2}{dt}\\right)^2 \\hat{\\bf{e_{R_2}}} + \\frac{l_2}{2}\\frac{d^2\\theta_2}{dt^2} \\hat{\\bf{e_{\\theta_2}}}\\right]  + \\vec{\\bf{M_{1}}} - \\vec{\\bf{M_{12}}} \\\\\n",
    "    &= -\\frac{m_1gl_1}{2}\\sin(\\theta_1)\\hat{\\bf{k}} - m_2l_1g \\sin(\\theta_1)\\hat{\\bf{k}}  - m_2l_1^2\\frac{d^2\\theta_1}{dt^2}\\hat{\\bf{k}}  + \\frac{m_2l_1l_2}{2}\\left(\\frac{d\\theta_2}{dt}\\right)^2 \\sin(\\theta_1-\\theta_2)\\hat{\\bf{k}}  - \\frac{m_2l_1l_2}{2}\\frac{d^2\\theta_2}{dt^2} \\cos(\\theta_1-\\theta_2)\\hat{\\bf{k}}  + M_1\\hat{\\bf{k}}  - M_{12}\\hat{\\bf{k}} \n",
    "    \\end{split}\n",
    "\\end{align}"
   ]
  },
  {
   "cell_type": "markdown",
   "metadata": {
    "slideshow": {
     "slide_type": "slide"
    }
   },
   "source": [
    "Finally, using the second Newton-Euler law for both bars, we can find the equation of motion of both angles:\n",
    "\n",
    "\\begin{equation}\n",
    "    \\frac{d\\vec{\\bf{H_{O1}}}}{dt} = \\vec{\\bf{M_{O1}}} \\rightarrow  \\left( I_{zz}^{C1}  + m_1 \\frac{l_1^2}{4}\\right)\\frac{d^2\\theta_1}{dt^2} =  -\\frac{m_1gl_1}{2}\\sin(\\theta_1)- m_2l_1g \\sin(\\theta_1)  - m_2l_1^2\\frac{d^2\\theta_1}{dt^2}  + \\frac{m_2l_1l_2}{2}\\left(\\frac{d\\theta_2}{dt}\\right)^2 \\sin(\\theta_1-\\theta_2)  - \\frac{m_2l_1l_2}{2}\\frac{d^2\\theta_2}{dt^2} \\cos{(\\theta_1-\\theta_2)}  + M_1 - M_{12} \n",
    "\\end{equation}\n",
    "\n",
    "\\begin{equation}\n",
    "    \\frac{d\\vec{\\bf{H_{O2}}}}{dt} = \\vec{\\bf{M_{O2}}} \\rightarrow \\frac{m_2l_1l_2}{2}\\cos(\\theta_1-\\theta_2)\\frac{d^2\\theta_1}{dt^2} + \\left(I_{zz}^{C2} + \\frac{m_2l_2^2}{4} \\right)\\frac{d^2\\theta_2}{dt^2}- \\frac{m_2l_1l_2}{2}\\left(\\frac{d\\theta_1}{dt}\\right)^2 \\sin(\\theta_1-\\theta_2) = -\\frac{m_2gl_2}{2}\\sin(\\theta_2) + M_{12}\n",
    "\\end{equation}"
   ]
  },
  {
   "cell_type": "markdown",
   "metadata": {
    "slideshow": {
     "slide_type": "slide"
    }
   },
   "source": [
    "Considering the moment of inertia of the bars as $I_{zz}^{C1}=\\frac{m_1l_1^2}{12}$ and $I_{zz}^{C2}=\\frac{m_2l_2^2}{12}$ the differential equations above are:\n",
    "\n",
    "\\begin{equation}\n",
    "     \\left(\\frac{m_1l_1^2}{3} +m_2l_1^2\\right)\\frac{d^2\\theta_1}{dt^2} + \\frac{m_2l_1l_2}{2} \\cos{(\\theta_1-\\theta_2)\\frac{d^2\\theta_2}{dt^2}}  =  -\\frac{m_1gl_1}{2}\\sin(\\theta_1)- m_2l_1g \\sin(\\theta_1)   + \\frac{m_2l_1l_2}{2}\\left(\\frac{d\\theta_2}{dt}\\right)^2 \\sin(\\theta_1-\\theta_2)  + M_1 - M_{12} \n",
    "\\end{equation}\n",
    "\n",
    "\\begin{equation}\n",
    "    \\frac{m_2l_1l_2}{2}\\cos(\\theta_1-\\theta_2)\\frac{d^2\\theta_1}{dt^2} + \\frac{m_2l_2^2}{3}\\frac{d^2\\theta_2}{dt^2} = -\\frac{m_2gl_2}{2}\\sin(\\theta_2) + \\frac{m_2l_1l_2}{2}\\left(\\frac{d\\theta_1}{dt}\\right)^2 \\sin(\\theta_1-\\theta_2)+ M_{12} \n",
    "\\end{equation}\n",
    "\n",
    "\n",
    "We could isolate the angular accelerations but this would lead to long equations."
   ]
  },
  {
   "cell_type": "markdown",
   "metadata": {
    "slideshow": {
     "slide_type": "slide"
    }
   },
   "source": [
    "### Problems\n",
    "\n",
    "\n",
    "- Solve the problems 6, 7 and 8 from [this Notebook](FreeBodyDiagram.ipynb).\n",
    "\n",
    "- Solve the problems 16.2.9, 18.3.26, 18.3.29 from Ruina and Pratap book.\n",
    "\n"
   ]
  },
  {
   "cell_type": "markdown",
   "metadata": {
    "slideshow": {
     "slide_type": "slide"
    }
   },
   "source": [
    "### References\n",
    "\n",
    "- Ruina A., Rudra P. (2015) [Introduction to Statics and Dynamics](http://ruina.tam.cornell.edu/Book/index.html). Oxford University Press. \n",
    "\n",
    "- Duarte M. (2017) [Free body diagram](FreeBodyDiagram.ipynb)\n",
    "\n",
    "- Elias, L A, Watanabe, R N, Kohn, A F.(2014) [Spinal Mechanisms May Provide a Combination of Intermittent and Continuous Control of Human Posture: Predictions from a Biologically Based Neuromusculoskeletal Model.](http://dx.doi.org/10.1371/journal.pcbi.1003944) PLOS Computational Biology (Online)\n",
    "\n",
    "- Winter D. A., (2009) Biomechanics and motor control of human movement. John Wiley and Sons.\n",
    "\n",
    "- Duarte M. (2017) [The inverted pendulum model of the human standing](http://nbviewer.jupyter.org/github/demotu/BMC/blob/master/notebooks/IP_Model.ipynb)"
   ]
  }
 ],
 "metadata": {
  "celltoolbar": "Slideshow",
  "kernelspec": {
   "display_name": "Python 3",
   "language": "python",
   "name": "python3"
  },
  "language_info": {
   "codemirror_mode": {
    "name": "ipython",
    "version": 3
   },
   "file_extension": ".py",
   "mimetype": "text/x-python",
   "name": "python",
   "nbconvert_exporter": "python",
   "pygments_lexer": "ipython3",
   "version": "3.6.8"
  },
  "latex_envs": {
   "LaTeX_envs_menu_present": true,
   "autoclose": false,
   "autocomplete": true,
   "bibliofile": "biblio.bib",
   "cite_by": "apalike",
   "current_citInitial": 1,
   "eqLabelWithNumbers": true,
   "eqNumInitial": 1,
   "hotkeys": {
    "equation": "Ctrl-E",
    "itemize": "Ctrl-I"
   },
   "labels_anchors": false,
   "latex_user_defs": false,
   "report_style_numbering": false,
   "user_envs_cfg": false
  },
  "nbTranslate": {
   "displayLangs": [
    "*"
   ],
   "hotkey": "alt-t",
   "langInMainMenu": true,
   "sourceLang": "en",
   "targetLang": "pt",
   "useGoogleTranslate": true
  }
 },
 "nbformat": 4,
 "nbformat_minor": 2
}
