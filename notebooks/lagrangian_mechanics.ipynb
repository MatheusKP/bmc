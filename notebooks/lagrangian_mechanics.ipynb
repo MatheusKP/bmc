{
 "cells": [
  {
   "cell_type": "markdown",
   "metadata": {},
   "source": [
    "# Lagrangian mechanics\n",
    "\n",
    "> Marcos Duarte  \n",
    "> Laboratory of Biomechanics and Motor Control ([http://demotu.org/](http://demotu.org/))  \n",
    "> Federal University of ABC, Brazil"
   ]
  },
  {
   "cell_type": "markdown",
   "metadata": {},
   "source": [
    "## The development of the laws of motion of bodies \n",
    "\n",
    "> *\"The theoretical development of the laws of motion of bodies is a problem of such interest and importance that it has engaged the attention of all the most eminent mathematicians since the invention of dynamics as a mathematical science by Galileo, and especially since the wonderful extension which was given to that science by Newton.  \n",
    "> Among the successors of those illustrious men, Lagrange has perhaps done more than any other analyst to give extent and harmony to such deductive researches, by showing that the most varied consequences respecting the motions of systems of bodies may be derived from one radical formula; the beauty of the methods so suiting the dignity of the results as to make of his great work a kind of scientific poem.\"*  \n",
    "&#8212; Hamilton, 1834 (apud Taylor, 2005).\n",
    "\n",
    "The [Lagrangian mechanics](https://en.wikipedia.org/wiki/Lagrangian_mechanics) is a formulation of [classical mechanics](https://en.wikipedia.org/wiki/Classical_mechanics) where the [equations of motion](https://en.wikipedia.org/wiki/Equations_of_motion) are obtained from the [kinetic](https://en.wikipedia.org/wiki/Kinetic_energy) and [potential](https://en.wikipedia.org/wiki/Potential_energy) energy of the system (<a href=\"https://en.wikipedia.org/wiki/Scalar_(physics)\">scalar</a> quantities) represented in [generalized coordinates](https://en.wikipedia.org/wiki/Generalized_coordinates) instead of using [Newton's laws of motion](https://en.wikipedia.org/wiki/Newton's_laws_of_motion) to deduce the equations of motion from the [forces](https://en.wikipedia.org/wiki/Force) on the system ([vector](https://en.wikipedia.org/wiki/Euclidean_vector) quantities) represented in [Cartesian coordinates](https://en.wikipedia.org/wiki/Cartesian_coordinate_system). Lagrangian mechanics was introduced by [Joseph-Louis Lagrange](https://en.wikipedia.org/wiki/Joseph-Louis_Lagrange) in the late 18th century.  \n",
    "\n",
    "Let's deduce the Lagrange equations, but first let's review the basics of the Newtonian approach."
   ]
  },
  {
   "cell_type": "markdown",
   "metadata": {},
   "source": [
    "## Description of motion \n",
    "\n",
    "One can describe the motion of a particle by specifying its position with respect to a frame of reference in the three-dimensional space as a function of time:\n",
    "\n",
    "\\begin{equation}\n",
    "x(t),\\, y(t),\\, z(t) \\quad \\equiv \\quad x_i(t) \\quad i=1,\\dotsc,3\n",
    "\\label{eq1}\n",
    "\\end{equation}\n",
    "\n",
    "A system of $N$ particles will require $3N$ equations to describe their motion.\n",
    "\n",
    "The basic problem in classical mechanics is to find ways to determine functions such as these, also known as equations of motion, capable of specifying the position of objects over time, for any mechanical situation. Assuming as known the meaning of $x_i(t)$, one can define the components of velocity, $v_i$, and acceleration, $a_i$, at time $t$, as:\n",
    "\n",
    "\\begin{equation} \\begin{array}{rcl}\n",
    "v_i(t) = \\dfrac{\\mathrm d x_i(t)}{\\mathrm d t} = \\dot{x}_i(t) \\\\\n",
    "a_i(t) = \\dfrac{\\mathrm d^2 x_i(t)}{\\mathrm d t^2} = \\dot{v}_i(t)\n",
    "\\label{eq3}\n",
    "\\end{array} \\end{equation}\n",
    "\n",
    "Where we used the Newton's notation for differentiation (also called the dot notation), a dot over the dependent variable. Of note, [Joseph Louis Lagrange](https://pt.wikipedia.org/wiki/Joseph-Louis_Lagrange) introduced the prime mark to denote a derivative: $x'(t)$. Read more about the different notations for differentiation at [Wikipedia](https://en.wikipedia.org/wiki/Notation_for_differentiation).  "
   ]
  },
  {
   "cell_type": "markdown",
   "metadata": {},
   "source": [
    "### Laws of motion\n",
    "\n",
    "The [Newton's laws of motion](https://en.wikipedia.org/wiki/Newton's_laws_of_motion) laid the foundation for classical mechanics. They describe the relationship between the motion of a body and the possible forces acting upon it.\n",
    "\n",
    "In Newtonian mechanics, the body's linear momentum is defined as:\n",
    " \n",
    "\\begin{equation}\n",
    "\\mathbf{p} = m\\mathbf{v}\n",
    "\\label{eq5}\n",
    "\\end{equation}\n",
    "\n",
    "If the mass of the body is constant, remember that Newton's second law can be expressed by:\n",
    "\n",
    "\\begin{equation}\n",
    "\\mathbf{F} = \\frac{\\mathrm d \\mathbf{p}}{\\mathrm d t}=\\frac{\\mathrm d \\big(m\\mathbf{v}\\big)}{\\mathrm d t} = m\\mathbf{a}\n",
    "\\label{eq6}\n",
    "\\end{equation}\n",
    "\n",
    "Using Newton's second law, to determine the position of the body we will have to solve the following second order ordinary differential equation:\n",
    "\n",
    "\\begin{equation}\n",
    "\\frac{\\mathrm d^2 x_i(t)}{\\mathrm d t^2} = \\frac{\\mathbf{F}}{m}\n",
    "\\label{eqa7}\n",
    "\\end{equation}\n",
    "\n",
    "Which has the general solution:\n",
    "\n",
    "\\begin{equation}\n",
    "\\mathbf{x}(t) = \\int\\!\\bigg(\\int\\frac{\\mathbf{F}}{m} \\mathrm{d}t\\bigg)\\mathrm{d}t\n",
    "\\label{eq8}\n",
    "\\end{equation}"
   ]
  },
  {
   "cell_type": "markdown",
   "metadata": {},
   "source": [
    "### Mechanical energy\n",
    "\n",
    "A related physical quantity is the mechanical energy, which is the sum of kinetic and potential energies.  \n",
    "The kinetic energy, $T$ of a particle is given by:\n",
    "\n",
    "\\begin{equation}\n",
    "T = \\frac{1}{2}mv^2\n",
    "\\label{eq9}\n",
    "\\end{equation}\n",
    "\n",
    "The kinetic energy of a particle can be expressed in terms of its linear momentum:\n",
    "\n",
    "\\begin{equation}\n",
    "T = \\frac{p^2}{2m}\n",
    "\\label{eq10}\n",
    "\\end{equation}\n",
    "\n",
    "And for a given coordinate of the particle's motion, its linear momentum can be obtained from its kinetic energy by:\n",
    "\n",
    "\\begin{equation}\n",
    "p_i = \\frac{\\partial T}{\\partial v_i}\n",
    "\\label{eq11}\n",
    "\\end{equation}\n",
    "\n",
    "The potential energy, $V$ is the stored energy of a particle and its formulation is dependent on the force acting on the particle. For example, for a conservative force dependent solely on the particle position, such as due to the gravitational field near the Earth  surface or due to a linear spring, force and potential energy are related by:\n",
    "\n",
    "\\begin{equation}\n",
    "\\mathbf{F} = - \\frac{\\partial \\mathbf{V}}{\\partial x}\n",
    "\\label{eq12}\n",
    "\\end{equation}"
   ]
  },
  {
   "cell_type": "markdown",
   "metadata": {},
   "source": [
    "## Lagrange's equation in Cartesian Coordinates\n",
    "\n",
    "The Lagrangian mechanics can be formulated independent of the Newtonian mechanics and Cartesian coordinates; in fact  Joseph-Louis Lagrange this new formalism from the [principle of least action](http://nbviewer.jupyter.org/github/BMClab/bmc/blob/master/notebooks/principle_of_least_action.ipynb).\n",
    "\n",
    "For simplicity, let's first deduce the Lagrange's equation for a particle in Cartesian Coordinates and from Newton's second law.\n",
    "\n",
    "Because we want to deduce the laws of motion based on the mechanical energy of the particle, one can see that the time derivative of the expression for the linear momentum as a function of the kinetic energy, cf. Eq. (\\ref{eq11}), is equal to the force acting on the particle and we can substitute the force in Newton's second law by this term:\n",
    "\n",
    "\\begin{equation} \n",
    "\\frac{\\mathrm d }{\\mathrm d t}\\bigg(\\frac{\\partial T}{\\partial \\dot x}\\bigg) = m\\ddot x \n",
    "\\label{eq13}\n",
    "\\end{equation}\n",
    "\n",
    "We saw that a conservative force can also be expressed in terms of the potential energy of the particle, cf. Eq. (\\ref{eq12}); substituting the right side of the equation above by this expression, we have:\n",
    "\n",
    "\\begin{equation} \n",
    "\\frac{\\mathrm d }{\\mathrm d t}\\bigg(\\frac{\\partial T}{\\partial \\dot x}\\bigg) = -\\frac{\\partial V}{\\partial x} \n",
    "\\label{eq14}\n",
    "\\end{equation}\n",
    "\n",
    "Using the fact that:\n",
    "\n",
    "\\begin{equation} \n",
    "\\frac{\\partial T}{\\partial x} = 0 \\quad and \\quad \\frac{\\partial V}{\\partial \\dot x} = 0 \n",
    "\\label{eq15}\n",
    "\\end{equation}\n",
    "\n",
    "We can write:\n",
    "\n",
    "\\begin{equation} \n",
    "\\frac{\\mathrm d }{\\mathrm d t}\\bigg(\\frac{\\partial (T-V)}{\\partial \\dot x}\\bigg) - \\frac{\\partial (T-V)}{\\partial x} = 0 \n",
    "\\label{eq16}\n",
    "\\end{equation}\n",
    "\n",
    "Defining the Lagrange or Lagrangian function, $\\mathcal{L}$, as the difference between the kinetic and potential energy in the system:\n",
    "\n",
    "\\begin{equation} \n",
    "\\mathcal{L}(x,\\dot x, t) = T - V \n",
    "\\label{eq17}\n",
    "\\end{equation}\n",
    "\n",
    "We have the Lagrange's equation in Cartesian Coordinates for a conservative force acting on a particle:\n",
    "\n",
    "\\begin{equation} \n",
    "\\frac{\\mathrm d }{\\mathrm d t}\\bigg(\\frac{\\partial \\mathcal{L}}{\\partial \\dot x}\\bigg) - \\frac{\\partial \\mathcal{L}}{\\partial x} = 0 \n",
    "\\label{eq18}\n",
    "\\end{equation}\n",
    "\n",
    "Once all derivatives of the Lagrangian function are calculated, this equation will be the equation of motion for the particle. If there are $N$ independent particles in a three-dimensional space, there will be $3N$ equations for the system.  \n",
    "The set of equations above for a system are known as Euler–Lagrange equations, or Lagrange's equations of the second kind.\n",
    "\n",
    "Let's see some simple examples of the Lagrange's equation in Cartesian Coordinates just to consolidate what was deduced above. The real application of Lagrangian mechanics is in generalized coordinates, what will see after these examples."
   ]
  },
  {
   "cell_type": "markdown",
   "metadata": {},
   "source": [
    "### Example 1: Particle moving under the influence of a conservative force\n",
    "\n",
    "Let's deduce the equation of motion using the Lagrangian mechanics for a particle with mass $m$ moving in the 3D space under the influence of a [conservative force](https://en.wikipedia.org/wiki/Conservative_force).  \n",
    "The Lagrangian $(\\mathcal{L} = T - V)$ of the particle is:\n",
    "\n",
    "\\begin{equation} \n",
    "\\mathcal{L}(x,y,z,\\dot x,\\dot y,\\dot z, t) = \\frac{1}{2}m(\\dot x^2(t) + \\dot y^2(t) + \\dot z^2(t)) - V(x(t),y(t),z(t)) \n",
    "\\end{equation}\n",
    "\n",
    "The equations of motion for the particle are found by applying the Lagrange's equation for each coordinate. \n",
    "\n",
    "For the x coordinate:\n",
    "\n",
    "\\begin{equation} \n",
    "\\frac{\\mathrm d }{\\mathrm d t}\\left( {\\frac{\\partial \\mathcal{L}}{\\partial \\dot{x}}} \n",
    "\\right) = \\frac{\\partial \\mathcal{L}}{\\partial x } \n",
    "\\end{equation}\n",
    "\n",
    "And the derivatives of $\\mathcal{L}$ are given by:\n",
    "\n",
    "\\begin{equation} \\begin{array}{rcl}\n",
    "&\\dfrac{\\partial \\mathcal{L}}{\\partial x} &=& -\\dfrac{\\partial \\mathbf{V}}{\\partial x} \\\\\n",
    "&\\dfrac{\\partial \\mathcal{L}}{\\partial \\dot{x}} &=& m\\dot{x} \\\\\n",
    "&\\dfrac{\\mathrm d }{\\mathrm d t}\\left( {\\dfrac{\\partial \\mathcal{L}}{\\partial \\dot{x}}} \\right) &=& m\\ddot{x} \n",
    "\\end{array} \\end{equation}\n",
    "\n",
    "hence:\n",
    "\n",
    "\\begin{equation} \n",
    "m\\ddot{x} = -\\frac{\\partial \\mathbf{V}}{\\partial x} \n",
    "\\end{equation}\n",
    "\n",
    "and similarly for the $y$ and $z$ coordinates.\n",
    "\n",
    "For instance, if the conservative force is due to the gravitational field near Earth's surface $(\\mathbf{V}=[0, mgy, 0])$, the Lagrange's equations (the equations of motion) are:\n",
    "\n",
    "\\begin{equation} \\begin{array}{rcl}\n",
    "m\\ddot{x} &=& -\\dfrac{\\partial (0)}{\\partial x} = 0 \\\\\n",
    "m\\ddot{y} &=& -\\dfrac{\\partial (mgy)}{\\partial y} = -mg \\\\\n",
    "m\\ddot{z} &=& -\\dfrac{\\partial (0)}{\\partial z} = 0 \n",
    "\\end{array} \\end{equation}"
   ]
  },
  {
   "cell_type": "markdown",
   "metadata": {},
   "source": [
    "### Example 2: Ideal mass-spring system\n",
    "\n",
    "<figure><img src=\"./../images/massspring_lagrange.png\" width=\"220\" alt=\"mass spring\" style=\"float:right;margin: 0px 20px 10px 20px;\"/></figure>\n",
    "\n",
    "Consider a system with a mass $m$ attached to an ideal spring (massless) with spring constant $k$ at the horizontal direction $x$. If the system is perturbed (a force is momentarily applied to the mass), we know the mass will oscillate around the rest position of the spring. Let's deduce the equation of motion for this system using the Lagrangian mechanics.  \n",
    "The Lagrangian $(\\mathcal{L} = T - V)$ of the system is: \n",
    "\n",
    "\\begin{equation} \n",
    "\\mathcal{L}(x,\\dot x, t) = \\frac{1}{2}m\\dot x^2(t) - \\frac{1}{2}kx^2(t)\n",
    "\\end{equation}\n",
    "\n",
    "The derivatives of $L$ are given by:\n",
    "\n",
    "\\begin{equation} \\begin{array}{rcl}\n",
    "&\\dfrac{\\partial \\mathcal{L}}{\\partial x} &=& -kx \\\\\n",
    "&\\dfrac{\\partial \\mathcal{L}}{\\partial \\dot{x}} &=& m\\dot{x} \\\\\n",
    "&\\dfrac{\\mathrm d }{\\mathrm d t}\\left( {\\dfrac{\\partial \\mathcal{L}}{\\partial \\dot{x}}} \\right) &=& m\\ddot{x} \n",
    "\\end{array} \\end{equation}\n",
    "\n",
    "And the Lagrange's equation (the equation of motion) is:\n",
    "\n",
    "\\begin{equation}\n",
    "m\\ddot{x} + kx = 0\n",
    "\\end{equation}"
   ]
  },
  {
   "cell_type": "markdown",
   "metadata": {},
   "source": [
    "## Generalized coordinates\n",
    "\n",
    "The direct application of Newton's laws to mechanical systems results in a set of equations of motion in terms of Cartesian coordinates of each of the particles that make up the system. In many cases, this is not the most convenient coordinate system to solve the problem or describe the movement of the system. For example, in problems involving many particles, it may be convenient to choose a system that includes the coordinate of the center of mass. Another example is a serial chain of rigid links, such as a member of the human body or from a robot manipulator, it may be simpler to describe the positions of each link by the angles between links.  \n",
    "\n",
    "Coordinate systems such as these are referred as [generalized coordinates](https://en.wikipedia.org/wiki/Generalized_coordinates). Generalized coordinates uniquely specify the positions of the particles in a system. Although there may be several generalized coordinates to describe a system, usually a judicious choice of generalized coordinates provides the minimum number of independent coordinates that define the configuration of a system (which is the number of <a href=\"https://en.wikipedia.org/wiki/Degrees_of_freedom_(mechanics)\">degrees of freedom</a> of the system), turning the problem simpler to solve.  \n",
    "\n",
    "Being a little more technical, according to [Wikipedia](https://en.wikipedia.org/wiki/Configuration_space_(physics)):  \n",
    "\"In classical mechanics, the parameters that define the configuration of a system are called generalized coordinates, and the vector space defined by these coordinates is called the configuration space of the physical system. It is often the case that these parameters satisfy mathematical constraints, such that the set of actual configurations of the system is a manifold in the space of generalized coordinates. This manifold is called the configuration manifold of the system.\"\n",
    "\n",
    "In problems where it is desired to use generalized coordinates, one can write Newton's equations of motion in terms of Cartesian coordinates and then transform them into generalized coordinates. However, it would be desirable and convenient to have a general method that would directly establish the equations of motion in terms of a set of convenient generalized coordinates. In addition, general methods for writing, and perhaps solving, the equations of motion in terms of any coordinate system would also be desirable. The [Lagrangian mechanics](https://en.wikipedia.org/wiki/Lagrangian_mechanics) is such a method."
   ]
  },
  {
   "cell_type": "markdown",
   "metadata": {},
   "source": [
    "### Lagrange's equation in generalized coordinates\n",
    "\n",
    "We have deduced the Lagrange's equation in Cartesian Coordinates from the Newton's law just because it was a simple form of getting to the final equations. But, by no means the Lagrangian Mechanics should be viewed as a consequence of Newton's laws and specific to Cartesian Coordinates. The Lagrangian Mechanics could be deduced completely independent of Newton's law.  \n",
    "\n",
    "The Lagrange's equation can be expressed in terms of generalized coordinates what makes the Lagrangian formalism even more powerful. In fact, we will have the same equation as we deduced before (the only explicit difference will be that we will use $q_i$ instead of the Cartesian coordinate).  \n",
    "See [this notebook](http://nbviewer.jupyter.org/github/BMClab/bmc/blob/master/notebooks/lagrangian_mechanics_generalized.ipynb) for a deduction of the Lagrange's equation in generalized coordinates.\n",
    "\n",
    "Defining the Lagrange or Lagrangian function of a system with $N$ generalized coordinates:\n",
    "\n",
    "\\begin{equation} \n",
    "\\mathcal{L} \\equiv \\mathcal{L}(q_1,\\dotsc,q_{N} ,\\dot{q}_1,\\dotsc,\\dot{q}_{N} ) = T - V \n",
    "\\label{eq46}\n",
    "\\end{equation}\n",
    "\n",
    "We have the Lagrange's equation:\n",
    "\n",
    "\\begin{equation} \n",
    "\\frac{\\mathrm d }{\\mathrm d t}\\left( {\\frac{\\partial \\mathcal{L}}{\\partial \\dot{q}_i }} \n",
    "\\right)-\\frac{\\partial \\mathcal{L}}{\\partial q_i } = Q_{NCi} \\quad i=1,\\dotsc,N\n",
    "\\label{eq47}\n",
    "\\end{equation}\n",
    "\n",
    "Where $Q_{NCi}$ is the generalized force due to a non-conservative force, any force that can't be expressed in terms of a potential.  \n",
    "\n",
    "Once all derivatives of the Lagrangian function are calculated, this equation will be the equation of motion for each particle. If there are $N$ generalized coordinates to define the configuration of a system, there will be $N$ equations for the system.\n",
    "\n",
    "The set of equations above for a system are known as Euler–Lagrange equations, or Lagrange's equations of the second kind."
   ]
  },
  {
   "cell_type": "markdown",
   "metadata": {},
   "source": [
    "### Example 3: Simple pendulum under the influence of gravity\n",
    "\n",
    "<figure><img src=\"./../images/simplependulum_lagrange.png\" width=\"220\" alt=\"simple pendulum\" style=\"float:right;margin: 10px 50px 10px 50px;\"/></figure>\n",
    "\n",
    "Consider a pendulum with a massless rod of length $d$ and a mass $m$ at the extremity swinging in a plane forming the angle $\\theta$ with vertical.  \n",
    "\n",
    "Although the pendulum moves at the plane, it only has one degree of freedom, which can be described by the angle $\\theta$, the generalized coordinate. It is not difficult to find the equation of motion using Newton's law, but let's find it using the Lagrangian mechanics. \n",
    "\n",
    "The kinetic energy is:\n",
    "\n",
    "\\begin{equation}\n",
    "T = \\frac{1}{2}md^2\\dot\\theta^2\n",
    "\\end{equation}\n",
    "\n",
    "And the potential energy is:\n",
    "\n",
    "\\begin{equation}\n",
    "V = -mgd\\cos\\theta\n",
    "\\end{equation}\n",
    "\n",
    "The Lagrangian function is:\n",
    "\n",
    "\\begin{equation}\n",
    "\\mathcal{L}(\\theta, \\dot\\theta, t) = \\frac{1}{2}md^2\\dot\\theta^2(t) + mgd\\cos\\theta(t)\n",
    "\\end{equation}\n",
    "\n",
    "And the derivatives are given by:\n",
    "\n",
    "\\begin{equation} \\begin{array}{rcl}\n",
    "&\\dfrac{\\partial \\mathcal{L}}{\\partial \\theta} &=& -mgd\\sin\\theta \\\\\n",
    "&\\dfrac{\\partial \\mathcal{L}}{\\partial \\dot{\\theta}} &=& md^2\\dot{\\theta} \\\\\n",
    "&\\dfrac{\\mathrm d }{\\mathrm d t}\\left( {\\dfrac{\\partial \\mathcal{L}}{\\partial \\dot{\\theta}}} \\right) &=& md^2\\ddot{\\theta}\n",
    "\\end{array} \\end{equation}\n",
    "\n",
    "Finally, the Lagrange's equation (the equation of motion) is:\n",
    "\n",
    "\\begin{equation}\n",
    "md^2\\ddot\\theta + mgd\\sin\\theta = 0\n",
    "\\end{equation}"
   ]
  },
  {
   "cell_type": "markdown",
   "metadata": {},
   "source": [
    "#### Example 3a: Numerical solution of the equation of motion for the simple pendulum\n",
    "\n",
    "A classical approach to solve the equation of motion for the simple pendulum is to consider the motion for small angles where $\\sin\\theta \\approx \\theta$ and the differential equation is linearized to $d\\ddot\\theta + g\\theta = 0$. This equation has an analytical solution of the type $\\theta(t) = A \\sin(\\omega t + \\phi)$, where $\\omega = \\sqrt{g/d}$ and $A$ and $\\phi$ are constants related to the initial position and velocity.  \n",
    "Let's solve the differential equation for the pendulum numerically using the [Euler’s method](https://nbviewer.jupyter.org/github/demotu/BMC/blob/master/notebooks/OrdinaryDifferentialEquation.ipynb#Euler-method).  \n",
    "Remember that we have to (1) transform the second-order ODE into two coupled first-order ODEs, (2) approximate the derivative of each variable by its discrete first order difference and (3) write equation to calculate the variable in a recursive way, updating its value with an equation based on the first order difference.  \n",
    "In Python:  "
   ]
  },
  {
   "cell_type": "code",
   "execution_count": 1,
   "metadata": {},
   "outputs": [],
   "source": [
    "import numpy as np\n",
    "\n",
    "def pendulum_euler(T, y0, v0, h):\n",
    "    \"\"\"\n",
    "    Two coupled first-order ODEs for the pendulum (y=theta and v is a new variable):\n",
    "        dydt = v\n",
    "        dvdt = -g/d * y\n",
    "    Two equations to update the values of the variables based on first-order difference:\n",
    "        y[n+1] = y[n] + h*v[n]\n",
    "        v[n+1] = v[n] + h*dvdt[n]\n",
    "    \"\"\"\n",
    "    \n",
    "    N = int(np.ceil(T/h))\n",
    "    y, v = np.zeros(N), np.zeros(N)\n",
    "    y[0], v[0] = y0, v0\n",
    "    d = 2    # length of the pendulum in m\n",
    "    g = 9.8  # acceleration of gravity in m/s2\n",
    "    \n",
    "    for i in range(N-1):\n",
    "        y[i+1] = y[i] + h*v[i]\n",
    "        v[i+1] = v[i] + h*(-g/d*y[i])\n",
    "    t = np.linspace(0, T, N, endpoint=False)\n",
    "        \n",
    "    return t, y, v"
   ]
  },
  {
   "cell_type": "code",
   "execution_count": 2,
   "metadata": {},
   "outputs": [],
   "source": [
    "%matplotlib notebook\n",
    "import matplotlib.pyplot as plt\n",
    "\n",
    "def plot(t, y, v):\n",
    "    \"\"\"\n",
    "    Plot data\n",
    "    \"\"\"\n",
    "    fig, ax = plt.subplots(1, 1, figsize=(8, 3))\n",
    "    ax.plot(t, y, 'b', label='Position')\n",
    "    ax.plot(t, v, 'r', label='Velocity')\n",
    "    ax.legend()\n",
    "    plt.show()"
   ]
  },
  {
   "cell_type": "code",
   "execution_count": 3,
   "metadata": {},
   "outputs": [
    {
     "data": {
      "application/javascript": [
       "/* Put everything inside the global mpl namespace */\n",
       "window.mpl = {};\n",
       "\n",
       "\n",
       "mpl.get_websocket_type = function() {\n",
       "    if (typeof(WebSocket) !== 'undefined') {\n",
       "        return WebSocket;\n",
       "    } else if (typeof(MozWebSocket) !== 'undefined') {\n",
       "        return MozWebSocket;\n",
       "    } else {\n",
       "        alert('Your browser does not have WebSocket support.' +\n",
       "              'Please try Chrome, Safari or Firefox ≥ 6. ' +\n",
       "              'Firefox 4 and 5 are also supported but you ' +\n",
       "              'have to enable WebSockets in about:config.');\n",
       "    };\n",
       "}\n",
       "\n",
       "mpl.figure = function(figure_id, websocket, ondownload, parent_element) {\n",
       "    this.id = figure_id;\n",
       "\n",
       "    this.ws = websocket;\n",
       "\n",
       "    this.supports_binary = (this.ws.binaryType != undefined);\n",
       "\n",
       "    if (!this.supports_binary) {\n",
       "        var warnings = document.getElementById(\"mpl-warnings\");\n",
       "        if (warnings) {\n",
       "            warnings.style.display = 'block';\n",
       "            warnings.textContent = (\n",
       "                \"This browser does not support binary websocket messages. \" +\n",
       "                    \"Performance may be slow.\");\n",
       "        }\n",
       "    }\n",
       "\n",
       "    this.imageObj = new Image();\n",
       "\n",
       "    this.context = undefined;\n",
       "    this.message = undefined;\n",
       "    this.canvas = undefined;\n",
       "    this.rubberband_canvas = undefined;\n",
       "    this.rubberband_context = undefined;\n",
       "    this.format_dropdown = undefined;\n",
       "\n",
       "    this.image_mode = 'full';\n",
       "\n",
       "    this.root = $('<div/>');\n",
       "    this._root_extra_style(this.root)\n",
       "    this.root.attr('style', 'display: inline-block');\n",
       "\n",
       "    $(parent_element).append(this.root);\n",
       "\n",
       "    this._init_header(this);\n",
       "    this._init_canvas(this);\n",
       "    this._init_toolbar(this);\n",
       "\n",
       "    var fig = this;\n",
       "\n",
       "    this.waiting = false;\n",
       "\n",
       "    this.ws.onopen =  function () {\n",
       "            fig.send_message(\"supports_binary\", {value: fig.supports_binary});\n",
       "            fig.send_message(\"send_image_mode\", {});\n",
       "            if (mpl.ratio != 1) {\n",
       "                fig.send_message(\"set_dpi_ratio\", {'dpi_ratio': mpl.ratio});\n",
       "            }\n",
       "            fig.send_message(\"refresh\", {});\n",
       "        }\n",
       "\n",
       "    this.imageObj.onload = function() {\n",
       "            if (fig.image_mode == 'full') {\n",
       "                // Full images could contain transparency (where diff images\n",
       "                // almost always do), so we need to clear the canvas so that\n",
       "                // there is no ghosting.\n",
       "                fig.context.clearRect(0, 0, fig.canvas.width, fig.canvas.height);\n",
       "            }\n",
       "            fig.context.drawImage(fig.imageObj, 0, 0);\n",
       "        };\n",
       "\n",
       "    this.imageObj.onunload = function() {\n",
       "        fig.ws.close();\n",
       "    }\n",
       "\n",
       "    this.ws.onmessage = this._make_on_message_function(this);\n",
       "\n",
       "    this.ondownload = ondownload;\n",
       "}\n",
       "\n",
       "mpl.figure.prototype._init_header = function() {\n",
       "    var titlebar = $(\n",
       "        '<div class=\"ui-dialog-titlebar ui-widget-header ui-corner-all ' +\n",
       "        'ui-helper-clearfix\"/>');\n",
       "    var titletext = $(\n",
       "        '<div class=\"ui-dialog-title\" style=\"width: 100%; ' +\n",
       "        'text-align: center; padding: 3px;\"/>');\n",
       "    titlebar.append(titletext)\n",
       "    this.root.append(titlebar);\n",
       "    this.header = titletext[0];\n",
       "}\n",
       "\n",
       "\n",
       "\n",
       "mpl.figure.prototype._canvas_extra_style = function(canvas_div) {\n",
       "\n",
       "}\n",
       "\n",
       "\n",
       "mpl.figure.prototype._root_extra_style = function(canvas_div) {\n",
       "\n",
       "}\n",
       "\n",
       "mpl.figure.prototype._init_canvas = function() {\n",
       "    var fig = this;\n",
       "\n",
       "    var canvas_div = $('<div/>');\n",
       "\n",
       "    canvas_div.attr('style', 'position: relative; clear: both; outline: 0');\n",
       "\n",
       "    function canvas_keyboard_event(event) {\n",
       "        return fig.key_event(event, event['data']);\n",
       "    }\n",
       "\n",
       "    canvas_div.keydown('key_press', canvas_keyboard_event);\n",
       "    canvas_div.keyup('key_release', canvas_keyboard_event);\n",
       "    this.canvas_div = canvas_div\n",
       "    this._canvas_extra_style(canvas_div)\n",
       "    this.root.append(canvas_div);\n",
       "\n",
       "    var canvas = $('<canvas/>');\n",
       "    canvas.addClass('mpl-canvas');\n",
       "    canvas.attr('style', \"left: 0; top: 0; z-index: 0; outline: 0\")\n",
       "\n",
       "    this.canvas = canvas[0];\n",
       "    this.context = canvas[0].getContext(\"2d\");\n",
       "\n",
       "    var backingStore = this.context.backingStorePixelRatio ||\n",
       "\tthis.context.webkitBackingStorePixelRatio ||\n",
       "\tthis.context.mozBackingStorePixelRatio ||\n",
       "\tthis.context.msBackingStorePixelRatio ||\n",
       "\tthis.context.oBackingStorePixelRatio ||\n",
       "\tthis.context.backingStorePixelRatio || 1;\n",
       "\n",
       "    mpl.ratio = (window.devicePixelRatio || 1) / backingStore;\n",
       "\n",
       "    var rubberband = $('<canvas/>');\n",
       "    rubberband.attr('style', \"position: absolute; left: 0; top: 0; z-index: 1;\")\n",
       "\n",
       "    var pass_mouse_events = true;\n",
       "\n",
       "    canvas_div.resizable({\n",
       "        start: function(event, ui) {\n",
       "            pass_mouse_events = false;\n",
       "        },\n",
       "        resize: function(event, ui) {\n",
       "            fig.request_resize(ui.size.width, ui.size.height);\n",
       "        },\n",
       "        stop: function(event, ui) {\n",
       "            pass_mouse_events = true;\n",
       "            fig.request_resize(ui.size.width, ui.size.height);\n",
       "        },\n",
       "    });\n",
       "\n",
       "    function mouse_event_fn(event) {\n",
       "        if (pass_mouse_events)\n",
       "            return fig.mouse_event(event, event['data']);\n",
       "    }\n",
       "\n",
       "    rubberband.mousedown('button_press', mouse_event_fn);\n",
       "    rubberband.mouseup('button_release', mouse_event_fn);\n",
       "    // Throttle sequential mouse events to 1 every 20ms.\n",
       "    rubberband.mousemove('motion_notify', mouse_event_fn);\n",
       "\n",
       "    rubberband.mouseenter('figure_enter', mouse_event_fn);\n",
       "    rubberband.mouseleave('figure_leave', mouse_event_fn);\n",
       "\n",
       "    canvas_div.on(\"wheel\", function (event) {\n",
       "        event = event.originalEvent;\n",
       "        event['data'] = 'scroll'\n",
       "        if (event.deltaY < 0) {\n",
       "            event.step = 1;\n",
       "        } else {\n",
       "            event.step = -1;\n",
       "        }\n",
       "        mouse_event_fn(event);\n",
       "    });\n",
       "\n",
       "    canvas_div.append(canvas);\n",
       "    canvas_div.append(rubberband);\n",
       "\n",
       "    this.rubberband = rubberband;\n",
       "    this.rubberband_canvas = rubberband[0];\n",
       "    this.rubberband_context = rubberband[0].getContext(\"2d\");\n",
       "    this.rubberband_context.strokeStyle = \"#000000\";\n",
       "\n",
       "    this._resize_canvas = function(width, height) {\n",
       "        // Keep the size of the canvas, canvas container, and rubber band\n",
       "        // canvas in synch.\n",
       "        canvas_div.css('width', width)\n",
       "        canvas_div.css('height', height)\n",
       "\n",
       "        canvas.attr('width', width * mpl.ratio);\n",
       "        canvas.attr('height', height * mpl.ratio);\n",
       "        canvas.attr('style', 'width: ' + width + 'px; height: ' + height + 'px;');\n",
       "\n",
       "        rubberband.attr('width', width);\n",
       "        rubberband.attr('height', height);\n",
       "    }\n",
       "\n",
       "    // Set the figure to an initial 600x600px, this will subsequently be updated\n",
       "    // upon first draw.\n",
       "    this._resize_canvas(600, 600);\n",
       "\n",
       "    // Disable right mouse context menu.\n",
       "    $(this.rubberband_canvas).bind(\"contextmenu\",function(e){\n",
       "        return false;\n",
       "    });\n",
       "\n",
       "    function set_focus () {\n",
       "        canvas.focus();\n",
       "        canvas_div.focus();\n",
       "    }\n",
       "\n",
       "    window.setTimeout(set_focus, 100);\n",
       "}\n",
       "\n",
       "mpl.figure.prototype._init_toolbar = function() {\n",
       "    var fig = this;\n",
       "\n",
       "    var nav_element = $('<div/>')\n",
       "    nav_element.attr('style', 'width: 100%');\n",
       "    this.root.append(nav_element);\n",
       "\n",
       "    // Define a callback function for later on.\n",
       "    function toolbar_event(event) {\n",
       "        return fig.toolbar_button_onclick(event['data']);\n",
       "    }\n",
       "    function toolbar_mouse_event(event) {\n",
       "        return fig.toolbar_button_onmouseover(event['data']);\n",
       "    }\n",
       "\n",
       "    for(var toolbar_ind in mpl.toolbar_items) {\n",
       "        var name = mpl.toolbar_items[toolbar_ind][0];\n",
       "        var tooltip = mpl.toolbar_items[toolbar_ind][1];\n",
       "        var image = mpl.toolbar_items[toolbar_ind][2];\n",
       "        var method_name = mpl.toolbar_items[toolbar_ind][3];\n",
       "\n",
       "        if (!name) {\n",
       "            // put a spacer in here.\n",
       "            continue;\n",
       "        }\n",
       "        var button = $('<button/>');\n",
       "        button.addClass('ui-button ui-widget ui-state-default ui-corner-all ' +\n",
       "                        'ui-button-icon-only');\n",
       "        button.attr('role', 'button');\n",
       "        button.attr('aria-disabled', 'false');\n",
       "        button.click(method_name, toolbar_event);\n",
       "        button.mouseover(tooltip, toolbar_mouse_event);\n",
       "\n",
       "        var icon_img = $('<span/>');\n",
       "        icon_img.addClass('ui-button-icon-primary ui-icon');\n",
       "        icon_img.addClass(image);\n",
       "        icon_img.addClass('ui-corner-all');\n",
       "\n",
       "        var tooltip_span = $('<span/>');\n",
       "        tooltip_span.addClass('ui-button-text');\n",
       "        tooltip_span.html(tooltip);\n",
       "\n",
       "        button.append(icon_img);\n",
       "        button.append(tooltip_span);\n",
       "\n",
       "        nav_element.append(button);\n",
       "    }\n",
       "\n",
       "    var fmt_picker_span = $('<span/>');\n",
       "\n",
       "    var fmt_picker = $('<select/>');\n",
       "    fmt_picker.addClass('mpl-toolbar-option ui-widget ui-widget-content');\n",
       "    fmt_picker_span.append(fmt_picker);\n",
       "    nav_element.append(fmt_picker_span);\n",
       "    this.format_dropdown = fmt_picker[0];\n",
       "\n",
       "    for (var ind in mpl.extensions) {\n",
       "        var fmt = mpl.extensions[ind];\n",
       "        var option = $(\n",
       "            '<option/>', {selected: fmt === mpl.default_extension}).html(fmt);\n",
       "        fmt_picker.append(option)\n",
       "    }\n",
       "\n",
       "    // Add hover states to the ui-buttons\n",
       "    $( \".ui-button\" ).hover(\n",
       "        function() { $(this).addClass(\"ui-state-hover\");},\n",
       "        function() { $(this).removeClass(\"ui-state-hover\");}\n",
       "    );\n",
       "\n",
       "    var status_bar = $('<span class=\"mpl-message\"/>');\n",
       "    nav_element.append(status_bar);\n",
       "    this.message = status_bar[0];\n",
       "}\n",
       "\n",
       "mpl.figure.prototype.request_resize = function(x_pixels, y_pixels) {\n",
       "    // Request matplotlib to resize the figure. Matplotlib will then trigger a resize in the client,\n",
       "    // which will in turn request a refresh of the image.\n",
       "    this.send_message('resize', {'width': x_pixels, 'height': y_pixels});\n",
       "}\n",
       "\n",
       "mpl.figure.prototype.send_message = function(type, properties) {\n",
       "    properties['type'] = type;\n",
       "    properties['figure_id'] = this.id;\n",
       "    this.ws.send(JSON.stringify(properties));\n",
       "}\n",
       "\n",
       "mpl.figure.prototype.send_draw_message = function() {\n",
       "    if (!this.waiting) {\n",
       "        this.waiting = true;\n",
       "        this.ws.send(JSON.stringify({type: \"draw\", figure_id: this.id}));\n",
       "    }\n",
       "}\n",
       "\n",
       "\n",
       "mpl.figure.prototype.handle_save = function(fig, msg) {\n",
       "    var format_dropdown = fig.format_dropdown;\n",
       "    var format = format_dropdown.options[format_dropdown.selectedIndex].value;\n",
       "    fig.ondownload(fig, format);\n",
       "}\n",
       "\n",
       "\n",
       "mpl.figure.prototype.handle_resize = function(fig, msg) {\n",
       "    var size = msg['size'];\n",
       "    if (size[0] != fig.canvas.width || size[1] != fig.canvas.height) {\n",
       "        fig._resize_canvas(size[0], size[1]);\n",
       "        fig.send_message(\"refresh\", {});\n",
       "    };\n",
       "}\n",
       "\n",
       "mpl.figure.prototype.handle_rubberband = function(fig, msg) {\n",
       "    var x0 = msg['x0'] / mpl.ratio;\n",
       "    var y0 = (fig.canvas.height - msg['y0']) / mpl.ratio;\n",
       "    var x1 = msg['x1'] / mpl.ratio;\n",
       "    var y1 = (fig.canvas.height - msg['y1']) / mpl.ratio;\n",
       "    x0 = Math.floor(x0) + 0.5;\n",
       "    y0 = Math.floor(y0) + 0.5;\n",
       "    x1 = Math.floor(x1) + 0.5;\n",
       "    y1 = Math.floor(y1) + 0.5;\n",
       "    var min_x = Math.min(x0, x1);\n",
       "    var min_y = Math.min(y0, y1);\n",
       "    var width = Math.abs(x1 - x0);\n",
       "    var height = Math.abs(y1 - y0);\n",
       "\n",
       "    fig.rubberband_context.clearRect(\n",
       "        0, 0, fig.canvas.width, fig.canvas.height);\n",
       "\n",
       "    fig.rubberband_context.strokeRect(min_x, min_y, width, height);\n",
       "}\n",
       "\n",
       "mpl.figure.prototype.handle_figure_label = function(fig, msg) {\n",
       "    // Updates the figure title.\n",
       "    fig.header.textContent = msg['label'];\n",
       "}\n",
       "\n",
       "mpl.figure.prototype.handle_cursor = function(fig, msg) {\n",
       "    var cursor = msg['cursor'];\n",
       "    switch(cursor)\n",
       "    {\n",
       "    case 0:\n",
       "        cursor = 'pointer';\n",
       "        break;\n",
       "    case 1:\n",
       "        cursor = 'default';\n",
       "        break;\n",
       "    case 2:\n",
       "        cursor = 'crosshair';\n",
       "        break;\n",
       "    case 3:\n",
       "        cursor = 'move';\n",
       "        break;\n",
       "    }\n",
       "    fig.rubberband_canvas.style.cursor = cursor;\n",
       "}\n",
       "\n",
       "mpl.figure.prototype.handle_message = function(fig, msg) {\n",
       "    fig.message.textContent = msg['message'];\n",
       "}\n",
       "\n",
       "mpl.figure.prototype.handle_draw = function(fig, msg) {\n",
       "    // Request the server to send over a new figure.\n",
       "    fig.send_draw_message();\n",
       "}\n",
       "\n",
       "mpl.figure.prototype.handle_image_mode = function(fig, msg) {\n",
       "    fig.image_mode = msg['mode'];\n",
       "}\n",
       "\n",
       "mpl.figure.prototype.updated_canvas_event = function() {\n",
       "    // Called whenever the canvas gets updated.\n",
       "    this.send_message(\"ack\", {});\n",
       "}\n",
       "\n",
       "// A function to construct a web socket function for onmessage handling.\n",
       "// Called in the figure constructor.\n",
       "mpl.figure.prototype._make_on_message_function = function(fig) {\n",
       "    return function socket_on_message(evt) {\n",
       "        if (evt.data instanceof Blob) {\n",
       "            /* FIXME: We get \"Resource interpreted as Image but\n",
       "             * transferred with MIME type text/plain:\" errors on\n",
       "             * Chrome.  But how to set the MIME type?  It doesn't seem\n",
       "             * to be part of the websocket stream */\n",
       "            evt.data.type = \"image/png\";\n",
       "\n",
       "            /* Free the memory for the previous frames */\n",
       "            if (fig.imageObj.src) {\n",
       "                (window.URL || window.webkitURL).revokeObjectURL(\n",
       "                    fig.imageObj.src);\n",
       "            }\n",
       "\n",
       "            fig.imageObj.src = (window.URL || window.webkitURL).createObjectURL(\n",
       "                evt.data);\n",
       "            fig.updated_canvas_event();\n",
       "            fig.waiting = false;\n",
       "            return;\n",
       "        }\n",
       "        else if (typeof evt.data === 'string' && evt.data.slice(0, 21) == \"data:image/png;base64\") {\n",
       "            fig.imageObj.src = evt.data;\n",
       "            fig.updated_canvas_event();\n",
       "            fig.waiting = false;\n",
       "            return;\n",
       "        }\n",
       "\n",
       "        var msg = JSON.parse(evt.data);\n",
       "        var msg_type = msg['type'];\n",
       "\n",
       "        // Call the  \"handle_{type}\" callback, which takes\n",
       "        // the figure and JSON message as its only arguments.\n",
       "        try {\n",
       "            var callback = fig[\"handle_\" + msg_type];\n",
       "        } catch (e) {\n",
       "            console.log(\"No handler for the '\" + msg_type + \"' message type: \", msg);\n",
       "            return;\n",
       "        }\n",
       "\n",
       "        if (callback) {\n",
       "            try {\n",
       "                // console.log(\"Handling '\" + msg_type + \"' message: \", msg);\n",
       "                callback(fig, msg);\n",
       "            } catch (e) {\n",
       "                console.log(\"Exception inside the 'handler_\" + msg_type + \"' callback:\", e, e.stack, msg);\n",
       "            }\n",
       "        }\n",
       "    };\n",
       "}\n",
       "\n",
       "// from http://stackoverflow.com/questions/1114465/getting-mouse-location-in-canvas\n",
       "mpl.findpos = function(e) {\n",
       "    //this section is from http://www.quirksmode.org/js/events_properties.html\n",
       "    var targ;\n",
       "    if (!e)\n",
       "        e = window.event;\n",
       "    if (e.target)\n",
       "        targ = e.target;\n",
       "    else if (e.srcElement)\n",
       "        targ = e.srcElement;\n",
       "    if (targ.nodeType == 3) // defeat Safari bug\n",
       "        targ = targ.parentNode;\n",
       "\n",
       "    // jQuery normalizes the pageX and pageY\n",
       "    // pageX,Y are the mouse positions relative to the document\n",
       "    // offset() returns the position of the element relative to the document\n",
       "    var x = e.pageX - $(targ).offset().left;\n",
       "    var y = e.pageY - $(targ).offset().top;\n",
       "\n",
       "    return {\"x\": x, \"y\": y};\n",
       "};\n",
       "\n",
       "/*\n",
       " * return a copy of an object with only non-object keys\n",
       " * we need this to avoid circular references\n",
       " * http://stackoverflow.com/a/24161582/3208463\n",
       " */\n",
       "function simpleKeys (original) {\n",
       "  return Object.keys(original).reduce(function (obj, key) {\n",
       "    if (typeof original[key] !== 'object')\n",
       "        obj[key] = original[key]\n",
       "    return obj;\n",
       "  }, {});\n",
       "}\n",
       "\n",
       "mpl.figure.prototype.mouse_event = function(event, name) {\n",
       "    var canvas_pos = mpl.findpos(event)\n",
       "\n",
       "    if (name === 'button_press')\n",
       "    {\n",
       "        this.canvas.focus();\n",
       "        this.canvas_div.focus();\n",
       "    }\n",
       "\n",
       "    var x = canvas_pos.x * mpl.ratio;\n",
       "    var y = canvas_pos.y * mpl.ratio;\n",
       "\n",
       "    this.send_message(name, {x: x, y: y, button: event.button,\n",
       "                             step: event.step,\n",
       "                             guiEvent: simpleKeys(event)});\n",
       "\n",
       "    /* This prevents the web browser from automatically changing to\n",
       "     * the text insertion cursor when the button is pressed.  We want\n",
       "     * to control all of the cursor setting manually through the\n",
       "     * 'cursor' event from matplotlib */\n",
       "    event.preventDefault();\n",
       "    return false;\n",
       "}\n",
       "\n",
       "mpl.figure.prototype._key_event_extra = function(event, name) {\n",
       "    // Handle any extra behaviour associated with a key event\n",
       "}\n",
       "\n",
       "mpl.figure.prototype.key_event = function(event, name) {\n",
       "\n",
       "    // Prevent repeat events\n",
       "    if (name == 'key_press')\n",
       "    {\n",
       "        if (event.which === this._key)\n",
       "            return;\n",
       "        else\n",
       "            this._key = event.which;\n",
       "    }\n",
       "    if (name == 'key_release')\n",
       "        this._key = null;\n",
       "\n",
       "    var value = '';\n",
       "    if (event.ctrlKey && event.which != 17)\n",
       "        value += \"ctrl+\";\n",
       "    if (event.altKey && event.which != 18)\n",
       "        value += \"alt+\";\n",
       "    if (event.shiftKey && event.which != 16)\n",
       "        value += \"shift+\";\n",
       "\n",
       "    value += 'k';\n",
       "    value += event.which.toString();\n",
       "\n",
       "    this._key_event_extra(event, name);\n",
       "\n",
       "    this.send_message(name, {key: value,\n",
       "                             guiEvent: simpleKeys(event)});\n",
       "    return false;\n",
       "}\n",
       "\n",
       "mpl.figure.prototype.toolbar_button_onclick = function(name) {\n",
       "    if (name == 'download') {\n",
       "        this.handle_save(this, null);\n",
       "    } else {\n",
       "        this.send_message(\"toolbar_button\", {name: name});\n",
       "    }\n",
       "};\n",
       "\n",
       "mpl.figure.prototype.toolbar_button_onmouseover = function(tooltip) {\n",
       "    this.message.textContent = tooltip;\n",
       "};\n",
       "mpl.toolbar_items = [[\"Home\", \"Reset original view\", \"fa fa-home icon-home\", \"home\"], [\"Back\", \"Back to previous view\", \"fa fa-arrow-left icon-arrow-left\", \"back\"], [\"Forward\", \"Forward to next view\", \"fa fa-arrow-right icon-arrow-right\", \"forward\"], [\"\", \"\", \"\", \"\"], [\"Pan\", \"Pan axes with left mouse, zoom with right\", \"fa fa-arrows icon-move\", \"pan\"], [\"Zoom\", \"Zoom to rectangle\", \"fa fa-square-o icon-check-empty\", \"zoom\"], [\"\", \"\", \"\", \"\"], [\"Download\", \"Download plot\", \"fa fa-floppy-o icon-save\", \"download\"]];\n",
       "\n",
       "mpl.extensions = [\"eps\", \"jpeg\", \"pdf\", \"png\", \"ps\", \"raw\", \"svg\", \"tif\"];\n",
       "\n",
       "mpl.default_extension = \"png\";var comm_websocket_adapter = function(comm) {\n",
       "    // Create a \"websocket\"-like object which calls the given IPython comm\n",
       "    // object with the appropriate methods. Currently this is a non binary\n",
       "    // socket, so there is still some room for performance tuning.\n",
       "    var ws = {};\n",
       "\n",
       "    ws.close = function() {\n",
       "        comm.close()\n",
       "    };\n",
       "    ws.send = function(m) {\n",
       "        //console.log('sending', m);\n",
       "        comm.send(m);\n",
       "    };\n",
       "    // Register the callback with on_msg.\n",
       "    comm.on_msg(function(msg) {\n",
       "        //console.log('receiving', msg['content']['data'], msg);\n",
       "        // Pass the mpl event to the overridden (by mpl) onmessage function.\n",
       "        ws.onmessage(msg['content']['data'])\n",
       "    });\n",
       "    return ws;\n",
       "}\n",
       "\n",
       "mpl.mpl_figure_comm = function(comm, msg) {\n",
       "    // This is the function which gets called when the mpl process\n",
       "    // starts-up an IPython Comm through the \"matplotlib\" channel.\n",
       "\n",
       "    var id = msg.content.data.id;\n",
       "    // Get hold of the div created by the display call when the Comm\n",
       "    // socket was opened in Python.\n",
       "    var element = $(\"#\" + id);\n",
       "    var ws_proxy = comm_websocket_adapter(comm)\n",
       "\n",
       "    function ondownload(figure, format) {\n",
       "        window.open(figure.imageObj.src);\n",
       "    }\n",
       "\n",
       "    var fig = new mpl.figure(id, ws_proxy,\n",
       "                           ondownload,\n",
       "                           element.get(0));\n",
       "\n",
       "    // Call onopen now - mpl needs it, as it is assuming we've passed it a real\n",
       "    // web socket which is closed, not our websocket->open comm proxy.\n",
       "    ws_proxy.onopen();\n",
       "\n",
       "    fig.parent_element = element.get(0);\n",
       "    fig.cell_info = mpl.find_output_cell(\"<div id='\" + id + \"'></div>\");\n",
       "    if (!fig.cell_info) {\n",
       "        console.error(\"Failed to find cell for figure\", id, fig);\n",
       "        return;\n",
       "    }\n",
       "\n",
       "    var output_index = fig.cell_info[2]\n",
       "    var cell = fig.cell_info[0];\n",
       "\n",
       "};\n",
       "\n",
       "mpl.figure.prototype.handle_close = function(fig, msg) {\n",
       "    var width = fig.canvas.width/mpl.ratio\n",
       "    fig.root.unbind('remove')\n",
       "\n",
       "    // Update the output cell to use the data from the current canvas.\n",
       "    fig.push_to_output();\n",
       "    var dataURL = fig.canvas.toDataURL();\n",
       "    // Re-enable the keyboard manager in IPython - without this line, in FF,\n",
       "    // the notebook keyboard shortcuts fail.\n",
       "    IPython.keyboard_manager.enable()\n",
       "    $(fig.parent_element).html('<img src=\"' + dataURL + '\" width=\"' + width + '\">');\n",
       "    fig.close_ws(fig, msg);\n",
       "}\n",
       "\n",
       "mpl.figure.prototype.close_ws = function(fig, msg){\n",
       "    fig.send_message('closing', msg);\n",
       "    // fig.ws.close()\n",
       "}\n",
       "\n",
       "mpl.figure.prototype.push_to_output = function(remove_interactive) {\n",
       "    // Turn the data on the canvas into data in the output cell.\n",
       "    var width = this.canvas.width/mpl.ratio\n",
       "    var dataURL = this.canvas.toDataURL();\n",
       "    this.cell_info[1]['text/html'] = '<img src=\"' + dataURL + '\" width=\"' + width + '\">';\n",
       "}\n",
       "\n",
       "mpl.figure.prototype.updated_canvas_event = function() {\n",
       "    // Tell IPython that the notebook contents must change.\n",
       "    IPython.notebook.set_dirty(true);\n",
       "    this.send_message(\"ack\", {});\n",
       "    var fig = this;\n",
       "    // Wait a second, then push the new image to the DOM so\n",
       "    // that it is saved nicely (might be nice to debounce this).\n",
       "    setTimeout(function () { fig.push_to_output() }, 1000);\n",
       "}\n",
       "\n",
       "mpl.figure.prototype._init_toolbar = function() {\n",
       "    var fig = this;\n",
       "\n",
       "    var nav_element = $('<div/>')\n",
       "    nav_element.attr('style', 'width: 100%');\n",
       "    this.root.append(nav_element);\n",
       "\n",
       "    // Define a callback function for later on.\n",
       "    function toolbar_event(event) {\n",
       "        return fig.toolbar_button_onclick(event['data']);\n",
       "    }\n",
       "    function toolbar_mouse_event(event) {\n",
       "        return fig.toolbar_button_onmouseover(event['data']);\n",
       "    }\n",
       "\n",
       "    for(var toolbar_ind in mpl.toolbar_items){\n",
       "        var name = mpl.toolbar_items[toolbar_ind][0];\n",
       "        var tooltip = mpl.toolbar_items[toolbar_ind][1];\n",
       "        var image = mpl.toolbar_items[toolbar_ind][2];\n",
       "        var method_name = mpl.toolbar_items[toolbar_ind][3];\n",
       "\n",
       "        if (!name) { continue; };\n",
       "\n",
       "        var button = $('<button class=\"btn btn-default\" href=\"#\" title=\"' + name + '\"><i class=\"fa ' + image + ' fa-lg\"></i></button>');\n",
       "        button.click(method_name, toolbar_event);\n",
       "        button.mouseover(tooltip, toolbar_mouse_event);\n",
       "        nav_element.append(button);\n",
       "    }\n",
       "\n",
       "    // Add the status bar.\n",
       "    var status_bar = $('<span class=\"mpl-message\" style=\"text-align:right; float: right;\"/>');\n",
       "    nav_element.append(status_bar);\n",
       "    this.message = status_bar[0];\n",
       "\n",
       "    // Add the close button to the window.\n",
       "    var buttongrp = $('<div class=\"btn-group inline pull-right\"></div>');\n",
       "    var button = $('<button class=\"btn btn-mini btn-primary\" href=\"#\" title=\"Stop Interaction\"><i class=\"fa fa-power-off icon-remove icon-large\"></i></button>');\n",
       "    button.click(function (evt) { fig.handle_close(fig, {}); } );\n",
       "    button.mouseover('Stop Interaction', toolbar_mouse_event);\n",
       "    buttongrp.append(button);\n",
       "    var titlebar = this.root.find($('.ui-dialog-titlebar'));\n",
       "    titlebar.prepend(buttongrp);\n",
       "}\n",
       "\n",
       "mpl.figure.prototype._root_extra_style = function(el){\n",
       "    var fig = this\n",
       "    el.on(\"remove\", function(){\n",
       "\tfig.close_ws(fig, {});\n",
       "    });\n",
       "}\n",
       "\n",
       "mpl.figure.prototype._canvas_extra_style = function(el){\n",
       "    // this is important to make the div 'focusable\n",
       "    el.attr('tabindex', 0)\n",
       "    // reach out to IPython and tell the keyboard manager to turn it's self\n",
       "    // off when our div gets focus\n",
       "\n",
       "    // location in version 3\n",
       "    if (IPython.notebook.keyboard_manager) {\n",
       "        IPython.notebook.keyboard_manager.register_events(el);\n",
       "    }\n",
       "    else {\n",
       "        // location in version 2\n",
       "        IPython.keyboard_manager.register_events(el);\n",
       "    }\n",
       "\n",
       "}\n",
       "\n",
       "mpl.figure.prototype._key_event_extra = function(event, name) {\n",
       "    var manager = IPython.notebook.keyboard_manager;\n",
       "    if (!manager)\n",
       "        manager = IPython.keyboard_manager;\n",
       "\n",
       "    // Check for shift+enter\n",
       "    if (event.shiftKey && event.which == 13) {\n",
       "        this.canvas_div.blur();\n",
       "        event.shiftKey = false;\n",
       "        // Send a \"J\" for go to next cell\n",
       "        event.which = 74;\n",
       "        event.keyCode = 74;\n",
       "        manager.command_mode();\n",
       "        manager.handle_keydown(event);\n",
       "    }\n",
       "}\n",
       "\n",
       "mpl.figure.prototype.handle_save = function(fig, msg) {\n",
       "    fig.ondownload(fig, null);\n",
       "}\n",
       "\n",
       "\n",
       "mpl.find_output_cell = function(html_output) {\n",
       "    // Return the cell and output element which can be found *uniquely* in the notebook.\n",
       "    // Note - this is a bit hacky, but it is done because the \"notebook_saving.Notebook\"\n",
       "    // IPython event is triggered only after the cells have been serialised, which for\n",
       "    // our purposes (turning an active figure into a static one), is too late.\n",
       "    var cells = IPython.notebook.get_cells();\n",
       "    var ncells = cells.length;\n",
       "    for (var i=0; i<ncells; i++) {\n",
       "        var cell = cells[i];\n",
       "        if (cell.cell_type === 'code'){\n",
       "            for (var j=0; j<cell.output_area.outputs.length; j++) {\n",
       "                var data = cell.output_area.outputs[j];\n",
       "                if (data.data) {\n",
       "                    // IPython >= 3 moved mimebundle to data attribute of output\n",
       "                    data = data.data;\n",
       "                }\n",
       "                if (data['text/html'] == html_output) {\n",
       "                    return [cell, data, j];\n",
       "                }\n",
       "            }\n",
       "        }\n",
       "    }\n",
       "}\n",
       "\n",
       "// Register the function which deals with the matplotlib target/channel.\n",
       "// The kernel may be null if the page has been refreshed.\n",
       "if (IPython.notebook.kernel != null) {\n",
       "    IPython.notebook.kernel.comm_manager.register_target('matplotlib', mpl.mpl_figure_comm);\n",
       "}\n"
      ],
      "text/plain": [
       "<IPython.core.display.Javascript object>"
      ]
     },
     "metadata": {},
     "output_type": "display_data"
    },
    {
     "data": {
      "text/html": [
       "<img src=\"data:image/png;base64,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\" width=\"800\">"
      ],
      "text/plain": [
       "<IPython.core.display.HTML object>"
      ]
     },
     "metadata": {},
     "output_type": "display_data"
    }
   ],
   "source": [
    "T, y0, v0, h = 10, 45*np.pi/180, 0, .001\n",
    "t, theta, vtheta = pendulum_euler(T, y0, v0, h)\n",
    "plot(t, theta, vtheta)"
   ]
  },
  {
   "cell_type": "markdown",
   "metadata": {},
   "source": [
    "### Example 4: Simple pendulum on moving cart\n",
    "\n",
    "<figure><img src=\"./../images/masspend_lagrange.png\" width=\"250\" alt=\"cart pendulum\" style=\"float:right;margin: 10px 50px 10px 50px;\"/></figure>\n",
    "\n",
    "Consider a simple pendulum with massless rod of length $d$ and mass $m$ at the extremity of the rod forming an angle $\\theta$ with the vertical direction under the action of gravity. The pendulum swings freely from a cart with mass $M$ that moves at the horizontal direction pushed by a force $F_x$.  \n",
    "Let's use the Lagrangian mechanics to derive the equations of motion for the system.\n",
    "\n",
    "From the figure on the right, because of the constraints introduced by the constant length of the rod and the motion the cart can perform, good generalized coordinates to describe the configuration of the system are $x$ and $\\theta$. Let's use these coordinates.\n",
    "\n",
    "The positions of the cart (c) and of the pendulum tip (p) are:  \n",
    "\n",
    "$ x_c = x $  \n",
    "$ y_c = 0 $  \n",
    " \n",
    "$ x_p = x + d \\sin \\theta $  \n",
    "$ y_p = -d \\cos \\theta $  \n",
    "\n",
    "The velocities of the cart and of the pendulum are:  \n",
    "\n",
    "$ \\dot{x}_c = \\dot{x} $  \n",
    "$ \\dot{y}_c = 0 $ \n",
    "\n",
    "$ \\dot{x}_p = \\dot{x} + d \\dot{\\theta} \\cos \\theta $  \n",
    "$ \\dot{y}_p = d \\dot{\\theta} \\sin \\theta $  \n",
    "\n",
    "The kinetic energy of the system is:\n",
    "\n",
    "\\begin{equation}\n",
    "T = \\frac{1}{2} M \\big(\\dot x_c^2 + \\dot y_c^2 \\big) + \\frac{1}{2}m\\,\\big( \\dot x_p^2 + \\dot y_p^2 \\big) \n",
    "\\end{equation}\n",
    "\n",
    "And the potential energy of the system is:\n",
    "\n",
    "\\begin{equation}\n",
    "V = M g y_c + m g y_p \n",
    "\\end{equation}\n",
    "\n",
    "The Lagrangian function is:\n",
    "\n",
    "\\begin{equation}\\begin{array}{rcl}\n",
    "\\mathcal{L} &=& \\frac{1}{2} M \\dot x^2 + \\frac{1}{2}m\\,\\bigg[ \\big(\\dot{x} + d \\dot{\\theta} \\cos\\theta \\big)^2 + \\big(d \\dot{\\theta} \\sin \\theta \\big)^2 \\bigg] + m g d \\cos \\theta \\\\\n",
    "&=& \\frac{1}{2} (M+m) \\dot x^2 + m\\dot{x}d\\dot{\\theta}\\cos\\theta + \\frac{1}{2}md^2\\dot{\\theta}^2 + m g d \\cos \\theta \n",
    "\\end{array}\\end{equation}\n",
    "\n",
    "The derivatives w.r.t. $x$ are:\n",
    "\n",
    "\\begin{equation}\\begin{array}{rcl}\n",
    "\\dfrac{\\partial \\mathcal{L}}{\\partial x} &=& 0 \\\\\n",
    "\\dfrac{\\partial \\mathcal{L}}{\\partial \\dot{x}} &=& (M+m) \\dot{x} + m d \\dot{\\theta} \\cos \\theta \\\\\n",
    "\\dfrac{\\mathrm d }{\\mathrm d t}\\left( {\\dfrac{\\partial \\mathcal{L}}{\\partial \\dot{x}}} \\right) &=& (M+m)\\ddot{x} + m d \\ddot{\\theta} \\cos \\theta - m d \\dot{\\theta}^2 \\sin \\theta\n",
    "\\end{array}\\end{equation}\n",
    "\n",
    "The derivatives w.r.t. $\\theta$ are:\n",
    "\n",
    "\\begin{equation}\\begin{array}{rcl}\n",
    "\\dfrac{\\partial \\mathcal{L}}{\\partial \\theta} &=& -m\\dot{x}d\\dot{\\theta}\\sin\\theta - mgd\\sin\\theta \\\\\n",
    "\\dfrac{\\partial \\mathcal{L}}{\\partial \\dot{\\theta}} &=& m\\dot{x}d\\cos\\theta + md^2\\dot{\\theta} \\\\\n",
    "\\dfrac{\\mathrm d }{\\mathrm d t}\\left( {\\dfrac{\\partial \\mathcal{L}}{\\partial \\dot{\\theta}}} \\right) &=& m\\ddot{x}d\\cos\\theta - m\\dot{x}d\\dot{\\theta}\\sin\\theta + md^2\\ddot{\\theta}\n",
    "\\end{array}\\end{equation}\n",
    "\n",
    "Finally, the Lagrange's equations (the equations of motion) are:\n",
    "\n",
    "\\begin{equation}\\begin{array}{rcl}\n",
    "(M+m)\\ddot{x} + md\\big(\\ddot{\\theta} \\cos\\theta - \\dot{\\theta}^2 \\sin\\theta\\big) = F_x \\\\\n",
    "\\ddot{\\theta} + \\dfrac{\\ddot{x}}{d}\\cos\\theta + \\dfrac{g}{d}\\sin\\theta = 0\n",
    "\\end{array}\\end{equation}"
   ]
  },
  {
   "cell_type": "markdown",
   "metadata": {},
   "source": [
    "### Example 5: Double pendulum under the influence of gravity\n",
    "\n",
    "<figure><img src=\"./../images/doublependulum_lagrange.png\" width=\"200\" alt=\"double pendulum\" style=\"float:right;margin: 10px 50px 10px 50px;\"/></figure>\n",
    "\n",
    "Consider a double pendulum (one pendulum attached to another) with massless rods of length $d_1$ and $d_2$ and masses $m_1$ and $m_2$ at the extremities of each rod swinging in a plane forming the angles $\\theta_1$ and $\\theta_2$ with vertical.  \n",
    "This case could be solved using Newtonian mechanics, but it's not simple (e.g., see [this link](http://www.myphysicslab.com/pendulum/double-pendulum/double-pendulum-en.html)). Instead, let's use the Lagrangian mechanics to derive the equations of motion for each pendulum.  \n",
    "\n",
    "The position of masses $m_1$ and $m_2$ are:  \n",
    "\n",
    "$x_1 = d_1\\sin\\theta_1$  \n",
    "$y_1 = -d_1\\cos\\theta_1$  \n",
    "\n",
    "$x_2 = d_1\\sin\\theta_1 + d_2\\sin\\theta_2$  \n",
    "$y_2 = -d_1\\cos\\theta_1 - d_2\\cos\\theta_2$  \n",
    "\n",
    "The kinetic and potential energies of the system are:\n",
    "\n",
    "$ T = \\frac{1}{2}m_1(\\dot x_1^2 + \\dot y_1^2) + \\frac{1}{2}m_2(\\dot x_2^2 + \\dot y_2^2) $\n",
    "\n",
    "$ V = m_1gy_1 + m_2gy_2 $\n",
    "\n",
    "Let's use Sympy to help us; in fact we could solve this problem entirely in Sympy, see [Lagrange’s method in Sympy](http://docs.sympy.org/latest/modules/physics/mechanics/lagrange.html), but for now let's do just the derivatives.  \n",
    "\n",
    "Let's import Sympy libraries and define some variables:"
   ]
  },
  {
   "cell_type": "code",
   "execution_count": 4,
   "metadata": {},
   "outputs": [],
   "source": [
    "from sympy import Symbol, symbols, cos, sin, Matrix, simplify, Eq, latex\n",
    "from sympy.physics.mechanics import dynamicsymbols, mlatex, init_vprinting\n",
    "init_vprinting()\n",
    "from IPython.display import display, Math\n",
    "\n",
    "t = Symbol('t')\n",
    "d1, d2, m1, m2, g = symbols('d1 d2 m1 m2 g', positive=True)\n",
    "a1, a2 = dynamicsymbols('theta1 theta2')"
   ]
  },
  {
   "cell_type": "markdown",
   "metadata": {},
   "source": [
    "The positions and velocities of masses $m_1$ and $m_2$ are: "
   ]
  },
  {
   "cell_type": "code",
   "execution_count": 5,
   "metadata": {},
   "outputs": [
    {
     "data": {
      "text/latex": [
       "$\\displaystyle x_1=d_{1} \\operatorname{sin}\\left(\\theta_{1}\\right)\\quad \\text{and} \\quad \\dot{x}_1=d_{1} \\operatorname{cos}\\left(\\theta_{1}\\right) \\dot{\\theta}_{1}$"
      ],
      "text/plain": [
       "<IPython.core.display.Math object>"
      ]
     },
     "metadata": {},
     "output_type": "display_data"
    },
    {
     "data": {
      "text/latex": [
       "$\\displaystyle y_1=- d_{1} \\operatorname{cos}\\left(\\theta_{1}\\right)\\quad \\text{and} \\quad \\dot{y}_1=d_{1} \\operatorname{sin}\\left(\\theta_{1}\\right) \\dot{\\theta}_{1}$"
      ],
      "text/plain": [
       "<IPython.core.display.Math object>"
      ]
     },
     "metadata": {},
     "output_type": "display_data"
    },
    {
     "data": {
      "text/latex": [
       "$\\displaystyle x_2=d_{1} \\operatorname{sin}\\left(\\theta_{1}\\right) + d_{2} \\operatorname{sin}\\left(\\theta_{2}\\right)\\quad \\text{and} \\quad \\dot{x}_2=d_{1} \\operatorname{cos}\\left(\\theta_{1}\\right) \\dot{\\theta}_{1} + d_{2} \\operatorname{cos}\\left(\\theta_{2}\\right) \\dot{\\theta}_{2}$"
      ],
      "text/plain": [
       "<IPython.core.display.Math object>"
      ]
     },
     "metadata": {},
     "output_type": "display_data"
    },
    {
     "data": {
      "text/latex": [
       "$\\displaystyle y_2=- d_{1} \\operatorname{cos}\\left(\\theta_{1}\\right) - d_{2} \\operatorname{cos}\\left(\\theta_{2}\\right)\\quad \\text{and} \\quad \\dot{y}_2=d_{1} \\operatorname{sin}\\left(\\theta_{1}\\right) \\dot{\\theta}_{1} + d_{2} \\operatorname{sin}\\left(\\theta_{2}\\right) \\dot{\\theta}_{2}$"
      ],
      "text/plain": [
       "<IPython.core.display.Math object>"
      ]
     },
     "metadata": {},
     "output_type": "display_data"
    }
   ],
   "source": [
    "x1, y1 = d1*sin(a1), -d1*cos(a1)\n",
    "x2, y2 = d1*sin(a1) + d2*sin(a2), -d1*cos(a1) - d2*cos(a2)\n",
    "x1d, y1d = x1.diff(t), y1.diff(t)\n",
    "x2d, y2d = x2.diff(t), y2.diff(t)\n",
    "\n",
    "display(Math(r'x_1=' + mlatex(x1) + r'\\quad \\text{and} \\quad \\dot{x}_1=' + mlatex(x1d)))\n",
    "display(Math(r'y_1=' + mlatex(y1) + r'\\quad \\text{and} \\quad \\dot{y}_1=' + mlatex(y1d)))\n",
    "display(Math(r'x_2=' + mlatex(x2) + r'\\quad \\text{and} \\quad \\dot{x}_2=' + mlatex(x2d)))\n",
    "display(Math(r'y_2=' + mlatex(y2) + r'\\quad \\text{and} \\quad \\dot{y}_2=' + mlatex(y2d)))"
   ]
  },
  {
   "cell_type": "markdown",
   "metadata": {},
   "source": [
    "The kinetic and potential energies of the system are:"
   ]
  },
  {
   "cell_type": "code",
   "execution_count": 6,
   "metadata": {},
   "outputs": [
    {
     "data": {
      "text/latex": [
       "$\\displaystyle T=\\frac{d_{1}^{2} m_{1} \\dot{\\theta}_{1}^{2}}{2} + \\frac{m_{2} \\left(d_{1}^{2} \\dot{\\theta}_{1}^{2} + 2 d_{1} d_{2} \\operatorname{cos}\\left(\\theta_{1} - \\theta_{2}\\right) \\dot{\\theta}_{1} \\dot{\\theta}_{2} + d_{2}^{2} \\dot{\\theta}_{2}^{2}\\right)}{2}$"
      ],
      "text/plain": [
       "<IPython.core.display.Math object>"
      ]
     },
     "metadata": {},
     "output_type": "display_data"
    },
    {
     "data": {
      "text/latex": [
       "$\\displaystyle V=- g \\left(d_{1} m_{1} \\operatorname{cos}\\left(\\theta_{1}\\right) + d_{1} m_{2} \\operatorname{cos}\\left(\\theta_{1}\\right) + d_{2} m_{2} \\operatorname{cos}\\left(\\theta_{2}\\right)\\right)$"
      ],
      "text/plain": [
       "<IPython.core.display.Math object>"
      ]
     },
     "metadata": {},
     "output_type": "display_data"
    }
   ],
   "source": [
    "T = m1*(x1d**2 + y1d**2)/2 + m2*(x2d**2 + y2d**2)/2\n",
    "V = m1*g*y1 + m2*g*y2\n",
    "\n",
    "display(Math(r'T=' + mlatex(simplify(T))))\n",
    "display(Math(r'V=' + mlatex(simplify(V))))"
   ]
  },
  {
   "cell_type": "markdown",
   "metadata": {},
   "source": [
    "The Lagrangian function is:"
   ]
  },
  {
   "cell_type": "code",
   "execution_count": 7,
   "metadata": {},
   "outputs": [
    {
     "data": {
      "text/latex": [
       "$\\displaystyle \\mathcal{L}=\\frac{d_{1}^{2} m_{1} \\dot{\\theta}_{1}^{2}}{2} + d_{1} g m_{1} \\operatorname{cos}\\left(\\theta_{1}\\right) + g m_{2} \\left(d_{1} \\operatorname{cos}\\left(\\theta_{1}\\right) + d_{2} \\operatorname{cos}\\left(\\theta_{2}\\right)\\right) + \\frac{m_{2} \\left(d_{1}^{2} \\dot{\\theta}_{1}^{2} + 2 d_{1} d_{2} \\operatorname{cos}\\left(\\theta_{1} - \\theta_{2}\\right) \\dot{\\theta}_{1} \\dot{\\theta}_{2} + d_{2}^{2} \\dot{\\theta}_{2}^{2}\\right)}{2}$"
      ],
      "text/plain": [
       "<IPython.core.display.Math object>"
      ]
     },
     "metadata": {},
     "output_type": "display_data"
    }
   ],
   "source": [
    "L = T - V\n",
    "\n",
    "display(Math(r'\\mathcal{L}=' + mlatex(simplify(L))))"
   ]
  },
  {
   "cell_type": "markdown",
   "metadata": {},
   "source": [
    "And the derivatives are (let's write a function to automate this process):"
   ]
  },
  {
   "cell_type": "code",
   "execution_count": 8,
   "metadata": {},
   "outputs": [
    {
     "data": {
      "text/latex": [
       "$\\displaystyle w.r.t.\\;\\theta_{1}:$"
      ],
      "text/plain": [
       "<IPython.core.display.Math object>"
      ]
     },
     "metadata": {},
     "output_type": "display_data"
    },
    {
     "data": {
      "text/latex": [
       "$\\displaystyle \\dfrac{\\partial\\mathcal{L}}{\\partial \\theta_{1}}=- d_{1} \\left(d_{2} m_{2} \\operatorname{sin}\\left(\\theta_{1} - \\theta_{2}\\right) \\dot{\\theta}_{1} \\dot{\\theta}_{2} + g m_{1} \\operatorname{sin}\\left(\\theta_{1}\\right) + g m_{2} \\operatorname{sin}\\left(\\theta_{1}\\right)\\right)$"
      ],
      "text/plain": [
       "<IPython.core.display.Math object>"
      ]
     },
     "metadata": {},
     "output_type": "display_data"
    },
    {
     "data": {
      "text/latex": [
       "$\\displaystyle \\dfrac{\\partial\\mathcal{L}}{\\partial\\dot{\\theta_{1}}}=d_{1} \\left(d_{1} m_{1} \\dot{\\theta}_{1} + m_{2} \\left(d_{1} \\dot{\\theta}_{1} + d_{2} \\operatorname{cos}\\left(\\theta_{1} - \\theta_{2}\\right) \\dot{\\theta}_{2}\\right)\\right)$"
      ],
      "text/plain": [
       "<IPython.core.display.Math object>"
      ]
     },
     "metadata": {},
     "output_type": "display_data"
    },
    {
     "data": {
      "text/latex": [
       "$\\displaystyle \\dfrac{\\mathrm d}{\\mathrm{dt}}\\left({\\dfrac{\\partial\\mathcal{L}}{\\partial\\dot{\\theta_{1}}}}\\right)=d_{1} \\left(d_{1} m_{1} \\ddot{\\theta}_{1} + m_{2} \\left(d_{1} \\ddot{\\theta}_{1} - d_{2} \\left(\\dot{\\theta}_{1} - \\dot{\\theta}_{2}\\right) \\operatorname{sin}\\left(\\theta_{1} - \\theta_{2}\\right) \\dot{\\theta}_{2} + d_{2} \\operatorname{cos}\\left(\\theta_{1} - \\theta_{2}\\right) \\ddot{\\theta}_{2}\\right)\\right)$"
      ],
      "text/plain": [
       "<IPython.core.display.Math object>"
      ]
     },
     "metadata": {},
     "output_type": "display_data"
    },
    {
     "data": {
      "text/latex": [
       "$\\displaystyle w.r.t.\\;\\theta_{2}:$"
      ],
      "text/plain": [
       "<IPython.core.display.Math object>"
      ]
     },
     "metadata": {},
     "output_type": "display_data"
    },
    {
     "data": {
      "text/latex": [
       "$\\displaystyle \\dfrac{\\partial\\mathcal{L}}{\\partial \\theta_{2}}=d_{2} m_{2} \\left(d_{1} \\operatorname{sin}\\left(\\theta_{1} - \\theta_{2}\\right) \\dot{\\theta}_{1} \\dot{\\theta}_{2} - g \\operatorname{sin}\\left(\\theta_{2}\\right)\\right)$"
      ],
      "text/plain": [
       "<IPython.core.display.Math object>"
      ]
     },
     "metadata": {},
     "output_type": "display_data"
    },
    {
     "data": {
      "text/latex": [
       "$\\displaystyle \\dfrac{\\partial\\mathcal{L}}{\\partial\\dot{\\theta_{2}}}=d_{2} m_{2} \\left(d_{1} \\operatorname{cos}\\left(\\theta_{1} - \\theta_{2}\\right) \\dot{\\theta}_{1} + d_{2} \\dot{\\theta}_{2}\\right)$"
      ],
      "text/plain": [
       "<IPython.core.display.Math object>"
      ]
     },
     "metadata": {},
     "output_type": "display_data"
    },
    {
     "data": {
      "text/latex": [
       "$\\displaystyle \\dfrac{\\mathrm d}{\\mathrm{dt}}\\left({\\dfrac{\\partial\\mathcal{L}}{\\partial\\dot{\\theta_{2}}}}\\right)=d_{2} m_{2} \\left(- d_{1} \\left(\\dot{\\theta}_{1} - \\dot{\\theta}_{2}\\right) \\operatorname{sin}\\left(\\theta_{1} - \\theta_{2}\\right) \\dot{\\theta}_{1} + d_{1} \\operatorname{cos}\\left(\\theta_{1} - \\theta_{2}\\right) \\ddot{\\theta}_{1} + d_{2} \\ddot{\\theta}_{2}\\right)$"
      ],
      "text/plain": [
       "<IPython.core.display.Math object>"
      ]
     },
     "metadata": {},
     "output_type": "display_data"
    }
   ],
   "source": [
    "def lagrange_terms(L, *q, show=True):\n",
    "    \"\"\"Calculate terms of Lagrange equations given the Lagrangian and q's.\n",
    "    \"\"\"\n",
    "    Lterms = []\n",
    "    for qi in q:\n",
    "        dLdqi = simplify(L.diff(qi))\n",
    "        Lterms.append(dLdqi)\n",
    "        dLdqdi = simplify(L.diff(qi.diff(t)))\n",
    "        Lterms.append(dLdqdi)\n",
    "        dtdLdqdi = simplify(dLdqdi.diff(t))\n",
    "        Lterms.append(dtdLdqdi)\n",
    "        if show:\n",
    "            display(Math(r'w.r.t.\\;%s:'%latex(qi.func)))\n",
    "            display(Math(r'\\dfrac{\\partial\\mathcal{L}}{\\partial %s}='\n",
    "                         %latex(qi.func) + mlatex(dLdqi)))\n",
    "            display(Math(r'\\dfrac{\\partial\\mathcal{L}}{\\partial\\dot{%s}}='\n",
    "                         %latex(qi.func) + mlatex(dLdqdi)))\n",
    "            display(Math(r'\\dfrac{\\mathrm d}{\\mathrm{dt}}\\left({\\dfrac{'+ \n",
    "                         r'\\partial\\mathcal{L}}{\\partial\\dot{%s}}}\\right)='\n",
    "                         %latex(qi.func) + mlatex(dtdLdqdi)))\n",
    "    return Lterms      \n",
    "\n",
    "Lterms = lagrange_terms(L, a1, a2)"
   ]
  },
  {
   "cell_type": "markdown",
   "metadata": {},
   "source": [
    "Finally, the Lagrange's equations (the equations of motion) are:"
   ]
  },
  {
   "cell_type": "code",
   "execution_count": 9,
   "metadata": {},
   "outputs": [
    {
     "data": {
      "image/png": "[encoded data removed]",
      "text/latex": [
       "$$d_{1} \\left(d_{1} m_{1} \\ddot{\\theta}_{1} + d_{1} m_{2} \\ddot{\\theta}_{1} + d_{2} m_{2} \\operatorname{sin}\\left(\\theta_{1} - \\theta_{2}\\right) \\dot{\\theta}_{2}^{2} + d_{2} m_{2} \\operatorname{cos}\\left(\\theta_{1} - \\theta_{2}\\right) \\ddot{\\theta}_{2} + g m_{1} \\operatorname{sin}\\left(\\theta_{1}\\right) + g m_{2} \\operatorname{sin}\\left(\\theta_{1}\\right)\\right) = 0$$"
      ],
      "text/plain": [
       "   ⎛                                              2                           \n",
       "d₁⋅⎝d₁⋅m₁⋅θ₁̈ + d₁⋅m₂⋅θ₁̈ + d₂⋅m₂⋅sin(θ₁ - θ₂)⋅θ₂̇  + d₂⋅m₂⋅cos(θ₁ - θ₂)⋅θ₂̈ +\n",
       "\n",
       "                            ⎞    \n",
       " g⋅m₁⋅sin(θ₁) + g⋅m₂⋅sin(θ₁)⎠ = 0"
      ]
     },
     "metadata": {},
     "output_type": "display_data"
    },
    {
     "data": {
      "image/png": "[encoded data removed]",
      "text/latex": [
       "$$d_{2} m_{2} \\left(- d_{1} \\operatorname{sin}\\left(\\theta_{1} - \\theta_{2}\\right) \\dot{\\theta}_{1}^{2} + d_{1} \\operatorname{cos}\\left(\\theta_{1} - \\theta_{2}\\right) \\ddot{\\theta}_{1} + d_{2} \\ddot{\\theta}_{2} + g \\operatorname{sin}\\left(\\theta_{2}\\right)\\right) = 0$$"
      ],
      "text/plain": [
       "      ⎛                     2                                           ⎞    \n",
       "d₂⋅m₂⋅⎝- d₁⋅sin(θ₁ - θ₂)⋅θ₁̇  + d₁⋅cos(θ₁ - θ₂)⋅θ₁̈ + d₂⋅θ₂̈ + g⋅sin(θ₂)⎠ = 0"
      ]
     },
     "metadata": {},
     "output_type": "display_data"
    }
   ],
   "source": [
    "for i in range(int(len(Lterms)/3)):\n",
    "    display(Eq(simplify(Lterms[3*i+2]-Lterms[3*i]), 0))"
   ]
  },
  {
   "cell_type": "markdown",
   "metadata": {},
   "source": [
    "The motion of a double pendulum is very interesting; most of times it presents a chaotic behavior, see for example [https://www.myphysicslab.com/pendulum/double-pendulum-en.html](https://www.myphysicslab.com/pendulum/double-pendulum-en.html)."
   ]
  },
  {
   "cell_type": "markdown",
   "metadata": {},
   "source": [
    "#### Example 5a: Numerical solution of the equation of motion for the double pendulum\n",
    "\n",
    "In order to solve numerically the ODEs for the double pendulum we will transform each equation above into two first ODEs. As the two variables $\\ddot{\\theta_1}$ and $\\ddot{\\theta_2}$ appear in both equations, first we have to rearrange the equations to find expressions for $\\ddot{\\theta_1}$ and $\\ddot{\\theta_2}$. Second, we define two variables and then we can use these equations as we did for the single pendulum.  \n",
    "But we should avoid to use the Euler's method because of the non-negligible error in the numerical integration in this case; more accurate methods such as [Runge-Kutta](https://en.wikipedia.org/wiki/Runge%E2%80%93Kutta_methods) should be employed. "
   ]
  },
  {
   "cell_type": "markdown",
   "metadata": {},
   "source": [
    "### Example 6: Double compound pendulum under the influence of gravity\n",
    "\n",
    "<figure><img src=\"./../images/pendula_lagrange.png\" width=\"200\" alt=\"double pendulum\" style=\"float:right;margin: 10px 50px 10px 50px;\"/></figure>\n",
    "\n",
    "Consider the double compound pendulum shown on the the right with length $d$ and mass $m$ of each rod swinging in a plane forming the angles $\\theta_1$ and $\\theta_2$ with vertical.  \n",
    "Let's use the Lagrangian mechanics to derive the equations of motion for each pendulum.  \n",
    "\n",
    "To calculate the potential and kinetic energy of the system, we will need to calculate the position and velocity of each pendulum. Now each pendulum is a rod with distributed mass and we will have to calculate the moment of rotational inertia of the rod. In this case, the kinetic energy of each pendulum will be given as the kinetic energy due to rotation of the pendulum plus the kinetic energy due to the speed of the center of mass of the pendulum, such that the total kinetic energy of the system is:\n",
    "\n",
    "$ T = \\overbrace{\\underbrace{\\frac{1}{2}I_{cm}\\dot\\theta_1^2}_{\\text{rotation}} + \\underbrace{\\frac{1}{2}m(\\dot x_{1,cm}^2 + \\dot y_{1,cm}^2)}_{\\text{translation}}}^{\\text{pendulum 1}} + \\overbrace{\\underbrace{\\frac{1}{2}I_{cm}\\dot\\theta_2^2}_{\\text{rotation}} + \\underbrace{\\frac{1}{2}m(\\dot x_{2,cm}^2 + \\dot y_{2,cm}^2)}_{\\text{translation}}}^{\\text{pendulum 2}} $\n",
    "\n",
    "And the potential energy of the system is:\n",
    "\n",
    "$ V = mg\\big(y_{1,cm} + y_{2,cm}\\big) $\n",
    "\n",
    "Once again, Sympy is on our side.\n",
    "\n",
    "The position and velocity of the center of mass of the rods $1$ and $2$ are: "
   ]
  },
  {
   "cell_type": "code",
   "execution_count": 10,
   "metadata": {},
   "outputs": [
    {
     "data": {
      "text/latex": [
       "$\\displaystyle x_1=\\frac{d \\operatorname{sin}\\left(\\theta_{1}\\right)}{2}\\quad \\text{and} \\quad \\dot{x}_1=\\frac{d \\operatorname{cos}\\left(\\theta_{1}\\right) \\dot{\\theta}_{1}}{2}$"
      ],
      "text/plain": [
       "<IPython.core.display.Math object>"
      ]
     },
     "metadata": {},
     "output_type": "display_data"
    },
    {
     "data": {
      "text/latex": [
       "$\\displaystyle y_1=- \\frac{d \\operatorname{cos}\\left(\\theta_{1}\\right)}{2}\\quad \\text{and} \\quad \\dot{y}_1=\\frac{d \\operatorname{sin}\\left(\\theta_{1}\\right) \\dot{\\theta}_{1}}{2}$"
      ],
      "text/plain": [
       "<IPython.core.display.Math object>"
      ]
     },
     "metadata": {},
     "output_type": "display_data"
    },
    {
     "data": {
      "text/latex": [
       "$\\displaystyle x_2=d \\operatorname{sin}\\left(\\theta_{1}\\right) + \\frac{d \\operatorname{sin}\\left(\\theta_{2}\\right)}{2}\\quad \\text{and} \\quad \\dot{x}_2=d \\operatorname{cos}\\left(\\theta_{1}\\right) \\dot{\\theta}_{1} + \\frac{d \\operatorname{cos}\\left(\\theta_{2}\\right) \\dot{\\theta}_{2}}{2}$"
      ],
      "text/plain": [
       "<IPython.core.display.Math object>"
      ]
     },
     "metadata": {},
     "output_type": "display_data"
    },
    {
     "data": {
      "text/latex": [
       "$\\displaystyle y_2=- d \\operatorname{cos}\\left(\\theta_{1}\\right) - \\frac{d \\operatorname{cos}\\left(\\theta_{2}\\right)}{2}\\quad \\text{and} \\quad \\dot{y}_2=d \\operatorname{sin}\\left(\\theta_{1}\\right) \\dot{\\theta}_{1} + \\frac{d \\operatorname{sin}\\left(\\theta_{2}\\right) \\dot{\\theta}_{2}}{2}$"
      ],
      "text/plain": [
       "<IPython.core.display.Math object>"
      ]
     },
     "metadata": {},
     "output_type": "display_data"
    }
   ],
   "source": [
    "d, m, g = symbols('d m g', positive=True)\n",
    "a1, a2 = dynamicsymbols('theta1 theta2')\n",
    "I = m*d*d/12\n",
    "\n",
    "x1, y1 = d*sin(a1)/2, -d*cos(a1)/2\n",
    "x2, y2 = d*sin(a1) + d*sin(a2)/2, -d*cos(a1) - d*cos(a2)/2\n",
    "x1d, y1d = x1.diff(t), y1.diff(t)\n",
    "x2d, y2d = x2.diff(t), y2.diff(t)\n",
    "\n",
    "display(Math(r'x_1=' + mlatex(x1) + r'\\quad \\text{and} \\quad \\dot{x}_1=' + mlatex(x1d)))\n",
    "display(Math(r'y_1=' + mlatex(y1) + r'\\quad \\text{and} \\quad \\dot{y}_1=' + mlatex(y1d)))\n",
    "display(Math(r'x_2=' + mlatex(x2) + r'\\quad \\text{and} \\quad \\dot{x}_2=' + mlatex(x2d)))\n",
    "display(Math(r'y_2=' + mlatex(y2) + r'\\quad \\text{and} \\quad \\dot{y}_2=' + mlatex(y2d)))"
   ]
  },
  {
   "cell_type": "markdown",
   "metadata": {},
   "source": [
    "The kinetic and potential energies of the system are:"
   ]
  },
  {
   "cell_type": "code",
   "execution_count": 11,
   "metadata": {},
   "outputs": [
    {
     "data": {
      "text/latex": [
       "$\\displaystyle T=\\frac{d^{2} m \\left(3 \\operatorname{cos}\\left(\\theta_{1} - \\theta_{2}\\right) \\dot{\\theta}_{1} \\dot{\\theta}_{2} + 4 \\dot{\\theta}_{1}^{2} + \\dot{\\theta}_{2}^{2}\\right)}{6}$"
      ],
      "text/plain": [
       "<IPython.core.display.Math object>"
      ]
     },
     "metadata": {},
     "output_type": "display_data"
    },
    {
     "data": {
      "text/latex": [
       "$\\displaystyle V=- \\frac{d g m \\left(3 \\operatorname{cos}\\left(\\theta_{1}\\right) + \\operatorname{cos}\\left(\\theta_{2}\\right)\\right)}{2}$"
      ],
      "text/plain": [
       "<IPython.core.display.Math object>"
      ]
     },
     "metadata": {},
     "output_type": "display_data"
    }
   ],
   "source": [
    "T = I/2*(a1.diff(t))**2 + m*(x1d**2+y1d**2)/2 + I/2*(a2.diff(t))**2 + m*(x2d**2+y2d**2)/2\n",
    "V = m*g*y1 + m*g*y2\n",
    "\n",
    "display(Math(r'T=' + mlatex(simplify(T))))\n",
    "display(Math(r'V=' + mlatex(simplify(V))))"
   ]
  },
  {
   "cell_type": "markdown",
   "metadata": {},
   "source": [
    "The Lagrangian function is:"
   ]
  },
  {
   "cell_type": "code",
   "execution_count": 12,
   "metadata": {},
   "outputs": [
    {
     "data": {
      "text/latex": [
       "$\\displaystyle \\mathcal{L}=\\frac{d m \\left(3 d \\operatorname{cos}\\left(\\theta_{1} - \\theta_{2}\\right) \\dot{\\theta}_{1} \\dot{\\theta}_{2} + 4 d \\dot{\\theta}_{1}^{2} + d \\dot{\\theta}_{2}^{2} + 9 g \\operatorname{cos}\\left(\\theta_{1}\\right) + 3 g \\operatorname{cos}\\left(\\theta_{2}\\right)\\right)}{6}$"
      ],
      "text/plain": [
       "<IPython.core.display.Math object>"
      ]
     },
     "metadata": {},
     "output_type": "display_data"
    }
   ],
   "source": [
    "L = T - V\n",
    "\n",
    "display(Math(r'\\mathcal{L}=' + mlatex(simplify(L))))"
   ]
  },
  {
   "cell_type": "markdown",
   "metadata": {},
   "source": [
    "And the derivatives are (let's write a function to automate this process):"
   ]
  },
  {
   "cell_type": "code",
   "execution_count": 13,
   "metadata": {},
   "outputs": [
    {
     "data": {
      "text/latex": [
       "$\\displaystyle w.r.t.\\;\\theta_{1}:$"
      ],
      "text/plain": [
       "<IPython.core.display.Math object>"
      ]
     },
     "metadata": {},
     "output_type": "display_data"
    },
    {
     "data": {
      "text/latex": [
       "$\\displaystyle \\dfrac{\\partial\\mathcal{L}}{\\partial \\theta_{1}}=- \\frac{d m \\left(d \\operatorname{sin}\\left(\\theta_{1} - \\theta_{2}\\right) \\dot{\\theta}_{1} \\dot{\\theta}_{2} + 3 g \\operatorname{sin}\\left(\\theta_{1}\\right)\\right)}{2}$"
      ],
      "text/plain": [
       "<IPython.core.display.Math object>"
      ]
     },
     "metadata": {},
     "output_type": "display_data"
    },
    {
     "data": {
      "text/latex": [
       "$\\displaystyle \\dfrac{\\partial\\mathcal{L}}{\\partial\\dot{\\theta_{1}}}=\\frac{d^{2} m \\left(6 \\operatorname{cos}\\left(\\theta_{1} - \\theta_{2}\\right) \\dot{\\theta}_{2} + 16 \\dot{\\theta}_{1}\\right)}{12}$"
      ],
      "text/plain": [
       "<IPython.core.display.Math object>"
      ]
     },
     "metadata": {},
     "output_type": "display_data"
    },
    {
     "data": {
      "text/latex": [
       "$\\displaystyle \\dfrac{\\mathrm d}{\\mathrm{dt}}\\left({\\dfrac{\\partial\\mathcal{L}}{\\partial\\dot{\\theta_{1}}}}\\right)=\\frac{d^{2} m \\left(- 3 \\left(\\dot{\\theta}_{1} - \\dot{\\theta}_{2}\\right) \\operatorname{sin}\\left(\\theta_{1} - \\theta_{2}\\right) \\dot{\\theta}_{2} + 3 \\operatorname{cos}\\left(\\theta_{1} - \\theta_{2}\\right) \\ddot{\\theta}_{2} + 8 \\ddot{\\theta}_{1}\\right)}{6}$"
      ],
      "text/plain": [
       "<IPython.core.display.Math object>"
      ]
     },
     "metadata": {},
     "output_type": "display_data"
    },
    {
     "data": {
      "text/latex": [
       "$\\displaystyle w.r.t.\\;\\theta_{2}:$"
      ],
      "text/plain": [
       "<IPython.core.display.Math object>"
      ]
     },
     "metadata": {},
     "output_type": "display_data"
    },
    {
     "data": {
      "text/latex": [
       "$\\displaystyle \\dfrac{\\partial\\mathcal{L}}{\\partial \\theta_{2}}=\\frac{d m \\left(d \\operatorname{sin}\\left(\\theta_{1} - \\theta_{2}\\right) \\dot{\\theta}_{1} \\dot{\\theta}_{2} - g \\operatorname{sin}\\left(\\theta_{2}\\right)\\right)}{2}$"
      ],
      "text/plain": [
       "<IPython.core.display.Math object>"
      ]
     },
     "metadata": {},
     "output_type": "display_data"
    },
    {
     "data": {
      "text/latex": [
       "$\\displaystyle \\dfrac{\\partial\\mathcal{L}}{\\partial\\dot{\\theta_{2}}}=\\frac{d^{2} m \\left(6 \\operatorname{cos}\\left(\\theta_{1} - \\theta_{2}\\right) \\dot{\\theta}_{1} + 4 \\dot{\\theta}_{2}\\right)}{12}$"
      ],
      "text/plain": [
       "<IPython.core.display.Math object>"
      ]
     },
     "metadata": {},
     "output_type": "display_data"
    },
    {
     "data": {
      "text/latex": [
       "$\\displaystyle \\dfrac{\\mathrm d}{\\mathrm{dt}}\\left({\\dfrac{\\partial\\mathcal{L}}{\\partial\\dot{\\theta_{2}}}}\\right)=\\frac{d^{2} m \\left(- 3 \\left(\\dot{\\theta}_{1} - \\dot{\\theta}_{2}\\right) \\operatorname{sin}\\left(\\theta_{1} - \\theta_{2}\\right) \\dot{\\theta}_{1} + 3 \\operatorname{cos}\\left(\\theta_{1} - \\theta_{2}\\right) \\ddot{\\theta}_{1} + 2 \\ddot{\\theta}_{2}\\right)}{6}$"
      ],
      "text/plain": [
       "<IPython.core.display.Math object>"
      ]
     },
     "metadata": {},
     "output_type": "display_data"
    }
   ],
   "source": [
    "Lterms = lagrange_terms(L, a1, a2)"
   ]
  },
  {
   "cell_type": "markdown",
   "metadata": {},
   "source": [
    "Finally, the Lagrange's equations (the equations of motion) are:"
   ]
  },
  {
   "cell_type": "code",
   "execution_count": 14,
   "metadata": {},
   "outputs": [
    {
     "data": {
      "image/png": "[encoded data removed]",
      "text/latex": [
       "$$\\frac{d m \\left(3 d \\operatorname{sin}\\left(\\theta_{1} - \\theta_{2}\\right) \\dot{\\theta}_{2}^{2} + 3 d \\operatorname{cos}\\left(\\theta_{1} - \\theta_{2}\\right) \\ddot{\\theta}_{2} + 8 d \\ddot{\\theta}_{1} + 9 g \\operatorname{sin}\\left(\\theta_{1}\\right)\\right)}{6} = 0$$"
      ],
      "text/plain": [
       "    ⎛                    2                                               ⎞    \n",
       "d⋅m⋅⎝3⋅d⋅sin(θ₁ - θ₂)⋅θ₂̇  + 3⋅d⋅cos(θ₁ - θ₂)⋅θ₂̈ + 8⋅d⋅θ₁̈ + 9⋅g⋅sin(θ₁)⎠    \n",
       "────────────────────────────────────────────────────────────────────────── = 0\n",
       "                                    6                                         "
      ]
     },
     "metadata": {},
     "output_type": "display_data"
    },
    {
     "data": {
      "image/png": "[encoded data removed]",
      "text/latex": [
       "$$\\frac{d m \\left(- 3 d \\operatorname{sin}\\left(\\theta_{1} - \\theta_{2}\\right) \\dot{\\theta}_{1}^{2} + 3 d \\operatorname{cos}\\left(\\theta_{1} - \\theta_{2}\\right) \\ddot{\\theta}_{1} + 2 d \\ddot{\\theta}_{2} + 3 g \\operatorname{sin}\\left(\\theta_{2}\\right)\\right)}{6} = 0$$"
      ],
      "text/plain": [
       "    ⎛                      2                                               ⎞  \n",
       "d⋅m⋅⎝- 3⋅d⋅sin(θ₁ - θ₂)⋅θ₁̇  + 3⋅d⋅cos(θ₁ - θ₂)⋅θ₁̈ + 2⋅d⋅θ₂̈ + 3⋅g⋅sin(θ₂)⎠  \n",
       "──────────────────────────────────────────────────────────────────────────── =\n",
       "                                     6                                        \n",
       "\n",
       "  \n",
       "  \n",
       " 0\n",
       "  "
      ]
     },
     "metadata": {},
     "output_type": "display_data"
    }
   ],
   "source": [
    "for i in range(int(len(Lterms)/3)):\n",
    "    display(Eq(simplify(Lterms[3*i+2]-Lterms[3*i]), 0))"
   ]
  },
  {
   "cell_type": "markdown",
   "metadata": {},
   "source": [
    "## Non-conservative forces\n",
    "\n",
    "The dissipation energy of a non-conservative system with a non-conservative force (e.g., the viscous force from a damper, which is proportional to velocity) can be expressed as:\n",
    "\n",
    "\\begin{equation} \n",
    "D_i = \\frac{1}{2}C \\, \\dot{q}_i^2\n",
    "\\label{dissipation}\n",
    "\\end{equation}\n",
    "\n",
    "And the Lagrange's equation can be extended to include such non-conservative force in the following way: \n",
    "\n",
    "\\begin{equation} \n",
    "\\frac{\\mathrm d }{\\mathrm d t}\\left( {\\frac{\\partial \\mathcal{L}}{\\partial \\dot{q}_i }} \n",
    "\\right)-\\frac{\\partial \\mathcal{L}}{\\partial q_i } + \\frac{\\partial D_i}{\\partial \\dot{q}_i }= 0\n",
    "\\label{lagrange_dissip}\n",
    "\\end{equation}"
   ]
  },
  {
   "cell_type": "markdown",
   "metadata": {},
   "source": [
    "### Example 6: Mass-spring-damper system\n",
    "\n",
    "<figure><img src=\"./../images/mass_spring_damper.png\" width=\"200\" alt=\"mass-spring-damper system\" style=\"float:right;margin: 10px 50px 10px 50px;\"/></figure>\n",
    "\n",
    "Consider a mass-spring-damper system with an external force acting on the mass.  \n",
    "The massless spring has a stiffness coefficient $k$ and length at rest $x_0$.  \n",
    "The massless damper has a damping coefficient $b$.  \n",
    "For simplicity, consider that the system starts at the resting position of the spring ($x=0$ at $x_0$).\n",
    "\n",
    "Let's use the Lagrangian mechanics to derive the equations of motion for the system.\n",
    "\n",
    "The kinetic energy of the system is:\n",
    "\n",
    "\\begin{equation}\n",
    "T = \\frac{1}{2} m \\dot x^2\n",
    "\\end{equation}\n",
    "\n",
    "The potential energy of the system is:\n",
    "\n",
    "\\begin{equation}\n",
    "V = \\frac{1}{2} k x^2\n",
    "\\end{equation}\n",
    "\n",
    "The Lagrangian function is:\n",
    "\n",
    "\\begin{equation} \n",
    "\\mathcal{L} = \\frac{1}{2} m \\dot x^2 - \\frac{1}{2} k x^2\n",
    "\\end{equation}\n",
    "\n",
    "The dissipation energy of the system is:\n",
    "\n",
    "\\begin{equation}\n",
    "D = \\frac{1}{2} b \\dot x^2\n",
    "\\end{equation}\n",
    "\n",
    "Calculating all the terms in the Lagrange's equation for a dissipative process (cf. Eq. (\\ref{lagrange_dissip})), the classical equation for a mass-spring-damper system can be found:  \n",
    "\n",
    "\\begin{equation}\n",
    "m\\ddot{x} + b\\dot{x} + kx = F(t)\n",
    "\\end{equation}"
   ]
  },
  {
   "cell_type": "markdown",
   "metadata": {},
   "source": [
    "## Considerations on the Lagrangian mechanics\n",
    "\n",
    "The Lagrangian mechanics does not constitute a new theory in classical mechanics; the results of a Lagrangian or Newtonian analysis must be the same for any mechanical system, only the method used to obtain the results is different. \n",
    "\n",
    "We are accustomed to think of mechanical systems in terms of vector quantities such as force, velocity, angular momentum, torque, etc., but in the Lagrangian formalism the equations of motion are obtained entirely in terms of the kinetic and potential energies (scalar operations) in the configuration space. Another important aspect of the force vs. energy analogy is that in situations where it is not possible to make explicit all the forces acting on the body, it is still possible to obtain expressions for the kinetic and potential energies. \n",
    "\n",
    "In fact, the concept of force does not enter into Lagrangian mechanics. This is an important property of the method. Since energy is a scalar quantity, the Lagrangian function for a system is invariant for coordinate transformations. Therefore, it is possible to move from a certain configuration space (in which the equations of motion can be somewhat complicated) to a space that can be chosen to allow maximum simplification of the problem. "
   ]
  },
  {
   "cell_type": "markdown",
   "metadata": {},
   "source": [
    "## Problems\n",
    "\n",
    "1. Derive the Lagrange's equation (the equation of motion) for a mass-spring system where the spring is attached to the ceiling and the mass in hanging in the vertical.  \n",
    "<figure><img src=\"./../images/springgravity.png\" width=\"200\" alt=\"mass-spring with gravity\"/></figure>\n",
    "2. Derive the Lagrange's equation for an inverted pendulum in the vertical.  \n",
    "<figure><img src=\"./../images/invpendulum2.png\" width=\"200\" alt=\"two masses and two springs\"/></figure>\n",
    "3. Derive the Lagrange's equation for the following system:  \n",
    "<figure><img src=\"./../images/massessprings_lagrange.png\" width=\"280\" alt=\"two masses and two springs\"/></figure>\n",
    "4. Derive the Lagrange's equation for a spring pendulum, a simple pendulum where a mass $m$ is attached to a massless spring with spring constant $k$ and length at rest $d_0$.  \n",
    "<figure><img src=\"./../images/pendulumspring.png\" width=\"200\" alt=\"mass-spring pendulum\"/></figure>\n",
    "5. Derive the Lagrange's equation for the system shown below. \n",
    "<figure><img src=\"./../images/springs_masses_g.png\" width=\"150\" alt=\"two masses and two springs\"/></figure>  \n",
    "6. Derive the Lagrange's equation for the system shown below.  \n",
    "<figure><img src=\"./../images/pendulumramp.png\" width=\"250\" alt=\"pendulum on a ramp\"/></figure>  \n",
    "7. Derive the Lagrange's equation for the following Atwood machine (consider that $m_1 > m_2$, i.e., the pulley will rotate counter-clockwise, and that moving down is in the positive direction):  \n",
    "<figure><img src=\"./../images/atwood_machine.png\" width=\"125\" alt=\"Atwood machine\"/></figure>   \n",
    "8. Write computer programs (in Python!) to solve numerically the equations of motion from the problems above.  "
   ]
  },
  {
   "cell_type": "markdown",
   "metadata": {},
   "source": [
    "## References\n",
    " \n",
    "- Marion JB (1970) [Classical Dynamics of particles and systems](https://books.google.com.br/books?id=Ss43BQAAQBAJ), 2nd ed., Academic Press.  \n",
    "- Synge JL (1949) [Principles of Mechanics](https://books.google.com.br/books?id=qsYfENCRG5QC), 2nd ed., McGraw-hill.  \n",
    "- Taylor J (2005) [Classical Mechanics](https://archive.org/details/JohnTaylorClassicalMechanics). University Science Books.  "
   ]
  }
 ],
 "metadata": {
  "anaconda-cloud": {},
  "hide_input": false,
  "kernelspec": {
   "display_name": "Python 3",
   "language": "python",
   "name": "python3"
  },
  "language_info": {
   "codemirror_mode": {
    "name": "ipython",
    "version": 3
   },
   "file_extension": ".py",
   "mimetype": "text/x-python",
   "name": "python",
   "nbconvert_exporter": "python",
   "pygments_lexer": "ipython3",
   "version": "3.7.2"
  },
  "latex_envs": {
   "LaTeX_envs_menu_present": true,
   "autocomplete": true,
   "bibliofile": "biblio.bib",
   "cite_by": "apalike",
   "current_citInitial": 1,
   "eqLabelWithNumbers": true,
   "eqNumInitial": 1,
   "hotkeys": {
    "equation": "Ctrl-E",
    "itemize": "Ctrl-I"
   },
   "labels_anchors": false,
   "latex_user_defs": false,
   "report_style_numbering": false,
   "user_envs_cfg": false
  },
  "toc-autonumbering": false,
  "toc-showcode": false,
  "toc-showmarkdowntxt": false,
  "varInspector": {
   "cols": {
    "lenName": 16,
    "lenType": 16,
    "lenVar": 40
   },
   "kernels_config": {
    "python": {
     "delete_cmd_postfix": "",
     "delete_cmd_prefix": "del ",
     "library": "var_list.py",
     "varRefreshCmd": "print(var_dic_list())"
    },
    "r": {
     "delete_cmd_postfix": ") ",
     "delete_cmd_prefix": "rm(",
     "library": "var_list.r",
     "varRefreshCmd": "cat(var_dic_list()) "
    }
   },
   "types_to_exclude": [
    "module",
    "function",
    "builtin_function_or_method",
    "instance",
    "_Feature"
   ],
   "window_display": false
  }
 },
 "nbformat": 4,
 "nbformat_minor": 2
}
