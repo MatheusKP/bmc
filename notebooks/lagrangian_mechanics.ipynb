{
 "cells": [
  {
   "cell_type": "markdown",
   "metadata": {},
   "source": [
    "# Lagrangian mechanics\n",
    "\n",
    "> Marcos Duarte  \n",
    "> Laboratory of Biomechanics and Motor Control ([http://demotu.org/](http://demotu.org/))  \n",
    "> Federal University of ABC, Brazil"
   ]
  },
  {
   "cell_type": "markdown",
   "metadata": {},
   "source": [
    "## The development of the laws of motion of bodies \n",
    "\n",
    "> *\"The theoretical development of the laws of motion of bodies is a problem of such interest and importance that it has engaged the attention of all the most eminent mathematicians since the invention of dynamics as a mathematical science by Galileo, and especially since the wonderful extension which was given to that science by Newton.  \n",
    "> Among the successors of those illustrious men, Lagrange has perhaps done more than any other analyst to give extent and harmony to such deductive researches, by showing that the most varied consequences respecting the motions of systems of bodies may be derived from one radical formula; the beauty of the methods so suiting the dignity of the results as to make of his great work a kind of scientific poem.\"*  \n",
    "&#8212; Hamilton, 1834 (apud Taylor, 2005).\n",
    "\n",
    "The [Lagrangian mechanics](https://en.wikipedia.org/wiki/Lagrangian_mechanics) is a formulation of [classical mechanics](https://en.wikipedia.org/wiki/Classical_mechanics) where the [equations of motion](https://en.wikipedia.org/wiki/Equations_of_motion) are obtained from the [kinetic](https://en.wikipedia.org/wiki/Kinetic_energy) and [potential](https://en.wikipedia.org/wiki/Potential_energy) energy of the system (<a href=\"https://en.wikipedia.org/wiki/Scalar_(physics)\">scalar</a> quantities) represented in [generalized coordinates](https://en.wikipedia.org/wiki/Generalized_coordinates) instead of using [Newton's laws of motion](https://en.wikipedia.org/wiki/Newton's_laws_of_motion) to deduce the equations of motion from the [forces](https://en.wikipedia.org/wiki/Force) on the system ([vector](https://en.wikipedia.org/wiki/Euclidean_vector) quantities) represented in [Cartesian coordinates](https://en.wikipedia.org/wiki/Cartesian_coordinate_system). Lagrangian mechanics was introduced by [Joseph-Louis Lagrange](https://en.wikipedia.org/wiki/Joseph-Louis_Lagrange) in the late 18th century.  \n",
    "\n",
    "Let's deduce the Lagrange equations, but first let's review the basics of the Newtonian approach."
   ]
  },
  {
   "cell_type": "markdown",
   "metadata": {},
   "source": [
    "## Description of motion \n",
    "\n",
    "One can describe the motion of a particle by specifying its position with respect to a frame of reference in the three-dimensional space as a function of time:\n",
    "\n",
    "\\begin{equation}\n",
    "x(t),\\, y(t),\\, z(t) \\quad \\equiv \\quad x_i(t) \\quad i=1,\\dotsc,3\n",
    "\\label{eq1}\n",
    "\\end{equation}\n",
    "\n",
    "A system of $N$ particles will require $3N$ equations to describe their motion.\n",
    "\n",
    "The basic problem in classical mechanics is to find ways to determine functions such as these, also known as equations of motion, capable of specifying the position of objects over time, for any mechanical situation. Assuming as known the meaning of $x_i(t)$, one can define the components of velocity, $v_i$, and acceleration, $a_i$, at time $t$, as:\n",
    "\n",
    "\\begin{equation} \\begin{array}{rcl}\n",
    "v_i(t) = \\dfrac{\\mathrm d x_i(t)}{\\mathrm d t} = \\dot{x}_i(t) \\\\\n",
    "a_i(t) = \\dfrac{\\mathrm d^2 x_i(t)}{\\mathrm d t^2} = \\dot{v}_i(t)\n",
    "\\label{eq3}\n",
    "\\end{array} \\end{equation}\n",
    "\n",
    "Where we used the Newton's notation for differentiation (also called the dot notation), a dot over the dependent variable. Of note, [Joseph Louis Lagrange](https://pt.wikipedia.org/wiki/Joseph-Louis_Lagrange) introduced the prime mark to denote a derivative: $x'(t)$. Read more about the different notations for differentiation at [Wikipedia](https://en.wikipedia.org/wiki/Notation_for_differentiation).  "
   ]
  },
  {
   "cell_type": "markdown",
   "metadata": {},
   "source": [
    "### Laws of motion\n",
    "\n",
    "The [Newton's laws of motion](https://en.wikipedia.org/wiki/Newton's_laws_of_motion) laid the foundation for classical mechanics. They describe the relationship between the motion of a body and the possible forces acting upon it.\n",
    "\n",
    "In Newtonian mechanics, the body's linear momentum is defined as:\n",
    " \n",
    "\\begin{equation}\n",
    "\\mathbf{p} = m\\mathbf{v}\n",
    "\\label{eq5}\n",
    "\\end{equation}\n",
    "\n",
    "If the mass of the body is constant, remember that Newton's second law can be expressed by:\n",
    "\n",
    "\\begin{equation}\n",
    "\\mathbf{F} = \\frac{\\mathrm d \\mathbf{p}}{\\mathrm d t}=\\frac{\\mathrm d \\big(m\\mathbf{v}\\big)}{\\mathrm d t} = m\\mathbf{a}\n",
    "\\label{eq6}\n",
    "\\end{equation}\n",
    "\n",
    "Using Newton's second law, to determine the position of the body we will have to solve the following second order ordinary differential equation:\n",
    "\n",
    "\\begin{equation}\n",
    "\\frac{\\mathrm d^2 x_i(t)}{\\mathrm d t^2} = \\frac{\\mathbf{F}}{m}\n",
    "\\label{eqa7}\n",
    "\\end{equation}\n",
    "\n",
    "Which has the general solution:\n",
    "\n",
    "\\begin{equation}\n",
    "\\mathbf{x}(t) = \\int\\!\\bigg(\\int\\frac{\\mathbf{F}}{m} \\mathrm{d}t\\bigg)\\mathrm{d}t\n",
    "\\label{eq8}\n",
    "\\end{equation}"
   ]
  },
  {
   "cell_type": "markdown",
   "metadata": {},
   "source": [
    "### Mechanical energy\n",
    "\n",
    "A related physical quantity is the mechanical energy, which is the sum of kinetic and potential energies.  \n",
    "The kinetic energy, $T$ of a particle is given by:\n",
    "\n",
    "\\begin{equation}\n",
    "T = \\frac{1}{2}mv^2\n",
    "\\label{eq9}\n",
    "\\end{equation}\n",
    "\n",
    "The kinetic energy of a particle can be expressed in terms of its linear momentum:\n",
    "\n",
    "\\begin{equation}\n",
    "T = \\frac{p^2}{2m}\n",
    "\\label{eq10}\n",
    "\\end{equation}\n",
    "\n",
    "And for a given coordinate of the particle's motion, its linear momentum can be obtained from its kinetic energy by:\n",
    "\n",
    "\\begin{equation}\n",
    "p_i = \\frac{\\partial T}{\\partial v_i}\n",
    "\\label{eq11}\n",
    "\\end{equation}\n",
    "\n",
    "The potential energy, $V$ is the stored energy of a particle and its formulation is dependent on the force acting on the particle. For example, for a conservative force dependent solely on the particle position, such as due to the gravitational field near the Earth  surface or due to a linear spring, force and potential energy are related by:\n",
    "\n",
    "\\begin{equation}\n",
    "\\mathbf{F} = - \\frac{\\partial \\mathbf{V}}{\\partial x}\n",
    "\\label{eq12}\n",
    "\\end{equation}"
   ]
  },
  {
   "cell_type": "markdown",
   "metadata": {},
   "source": [
    "## Lagrange's equation in Cartesian Coordinates\n",
    "\n",
    "The Lagrangian mechanics can be formulated independent of the Newtonian mechanics and Cartesian coordinates; in fact  Joseph-Louis Lagrange this new formalism from the [principle of least action](http://nbviewer.jupyter.org/github/BMClab/bmc/blob/master/notebooks/principle_of_least_action.ipynb).\n",
    "\n",
    "For simplicity, let's first deduce the Lagrange's equation for a particle in Cartesian Coordinates and from Newton's second law.\n",
    "\n",
    "Because we want to deduce the laws of motion based on the mechanical energy of the particle, one can see that the time derivative of the expression for the linear momentum as a function of the kinetic energy, cf. Eq. (\\ref{eq11}), is equal to the force acting on the particle and we can substitute the force in Newton's second law by this term:\n",
    "\n",
    "\\begin{equation} \n",
    "\\frac{\\mathrm d }{\\mathrm d t}\\bigg(\\frac{\\partial T}{\\partial \\dot x}\\bigg) = m\\ddot x \n",
    "\\label{eq13}\n",
    "\\end{equation}\n",
    "\n",
    "We saw that a conservative force can also be expressed in terms of the potential energy of the particle, cf. Eq. (\\ref{eq12}); substituting the right side of the equation above by this expression, we have:\n",
    "\n",
    "\\begin{equation} \n",
    "\\frac{\\mathrm d }{\\mathrm d t}\\bigg(\\frac{\\partial T}{\\partial \\dot x}\\bigg) = -\\frac{\\partial V}{\\partial x} \n",
    "\\label{eq14}\n",
    "\\end{equation}\n",
    "\n",
    "Using the fact that:\n",
    "\n",
    "\\begin{equation} \n",
    "\\frac{\\partial T}{\\partial x} = 0 \\quad and \\quad \\frac{\\partial V}{\\partial \\dot x} = 0 \n",
    "\\label{eq15}\n",
    "\\end{equation}\n",
    "\n",
    "We can write:\n",
    "\n",
    "\\begin{equation} \n",
    "\\frac{\\mathrm d }{\\mathrm d t}\\bigg(\\frac{\\partial (T-V)}{\\partial \\dot x}\\bigg) - \\frac{\\partial (T-V)}{\\partial x} = 0 \n",
    "\\label{eq16}\n",
    "\\end{equation}\n",
    "\n",
    "Defining the Lagrange or Lagrangian function, $\\mathcal{L}$, as the difference between the kinetic and potential energy in the system:\n",
    "\n",
    "\\begin{equation} \n",
    "\\mathcal{L}(x,\\dot x, t) = T - V \n",
    "\\label{eq17}\n",
    "\\end{equation}\n",
    "\n",
    "We have the Lagrange's equation in Cartesian Coordinates for a conservative force acting on a particle:\n",
    "\n",
    "\\begin{equation} \n",
    "\\frac{\\mathrm d }{\\mathrm d t}\\bigg(\\frac{\\partial \\mathcal{L}}{\\partial \\dot x}\\bigg) - \\frac{\\partial \\mathcal{L}}{\\partial x} = 0 \n",
    "\\label{eq18}\n",
    "\\end{equation}\n",
    "\n",
    "Once all derivatives of the Lagrangian function are calculated, this equation will be the equation of motion for the particle. If there are $N$ independent particles in a three-dimensional space, there will be $3N$ equations for the system.  \n",
    "The set of equations above for a system are known as Euler–Lagrange equations, or Lagrange's equations of the second kind.\n",
    "\n",
    "Let's see some simple examples of the Lagrange's equation in Cartesian Coordinates just to consolidate what was deduced above. The real application of Lagrangian mechanics is in generalized coordinates, what will see after these examples."
   ]
  },
  {
   "cell_type": "markdown",
   "metadata": {},
   "source": [
    "### Example 1: Particle moving under the influence of a conservative force\n",
    "\n",
    "Let's deduce the equation of motion using the Lagrangian mechanics for a particle with mass $m$ moving in the 3D space under the influence of a [conservative force](https://en.wikipedia.org/wiki/Conservative_force).  \n",
    "The Lagrangian $(\\mathcal{L} = T - V)$ of the particle is:\n",
    "\n",
    "\\begin{equation} \n",
    "\\mathcal{L}(x,y,z,\\dot x,\\dot y,\\dot z, t) = \\frac{1}{2}m(\\dot x^2(t) + \\dot y^2(t) + \\dot z^2(t)) - V(x(t),y(t),z(t)) \n",
    "\\end{equation}\n",
    "\n",
    "The equations of motion for the particle are found by applying the Lagrange's equation for each coordinate. \n",
    "\n",
    "For the x coordinate:\n",
    "\n",
    "\\begin{equation} \n",
    "\\frac{\\mathrm d }{\\mathrm d t}\\left( {\\frac{\\partial \\mathcal{L}}{\\partial \\dot{x}}} \n",
    "\\right) = \\frac{\\partial \\mathcal{L}}{\\partial x } \n",
    "\\end{equation}\n",
    "\n",
    "And the derivatives of $\\mathcal{L}$ are given by:\n",
    "\n",
    "\\begin{equation} \\begin{array}{rcl}\n",
    "&\\dfrac{\\partial \\mathcal{L}}{\\partial x} &=& -\\dfrac{\\partial \\mathbf{V}}{\\partial x} \\\\\n",
    "&\\dfrac{\\partial \\mathcal{L}}{\\partial \\dot{x}} &=& m\\dot{x} \\\\\n",
    "&\\dfrac{\\mathrm d }{\\mathrm d t}\\left( {\\dfrac{\\partial \\mathcal{L}}{\\partial \\dot{x}}} \\right) &=& m\\ddot{x} \n",
    "\\end{array} \\end{equation}\n",
    "\n",
    "hence:\n",
    "\n",
    "\\begin{equation} \n",
    "m\\ddot{x} = -\\frac{\\partial \\mathbf{V}}{\\partial x} \n",
    "\\end{equation}\n",
    "\n",
    "and similarly for the $y$ and $z$ coordinates.\n",
    "\n",
    "For instance, if the conservative force is due to the gravitational field near Earth's surface $(\\mathbf{V}=[0, mgy, 0])$, the Lagrange's equations (the equations of motion) are:\n",
    "\n",
    "\\begin{equation} \\begin{array}{rcl}\n",
    "m\\ddot{x} &=& -\\dfrac{\\partial (0)}{\\partial x} = 0 \\\\\n",
    "m\\ddot{y} &=& -\\dfrac{\\partial (mgy)}{\\partial y} = -mg \\\\\n",
    "m\\ddot{z} &=& -\\dfrac{\\partial (0)}{\\partial z} = 0 \n",
    "\\end{array} \\end{equation}"
   ]
  },
  {
   "cell_type": "markdown",
   "metadata": {},
   "source": [
    "### Example 2: Ideal mass-spring system\n",
    "\n",
    "<figure><img src=\"./../images/massspring_lagrange.png\" width=\"220\" alt=\"mass spring\" style=\"float:right;margin: 0px 20px 10px 20px;\"/></figure>\n",
    "\n",
    "Consider a system with a mass $m$ attached to an ideal spring (massless) with spring constant $k$ at the horizontal direction $x$. If the system is perturbed (a force is momentarily applied to the mass), we know the mass will oscillate around the rest position of the spring. Let's deduce the equation of motion for this system using the Lagrangian mechanics.  \n",
    "The Lagrangian $(\\mathcal{L} = T - V)$ of the system is: \n",
    "\n",
    "\\begin{equation} \n",
    "\\mathcal{L}(x,\\dot x, t) = \\frac{1}{2}m\\dot x^2(t) - \\frac{1}{2}kx^2(t)\n",
    "\\end{equation}\n",
    "\n",
    "The derivatives of $L$ are given by:\n",
    "\n",
    "\\begin{equation} \\begin{array}{rcl}\n",
    "&\\dfrac{\\partial \\mathcal{L}}{\\partial x} &=& -kx \\\\\n",
    "&\\dfrac{\\partial \\mathcal{L}}{\\partial \\dot{x}} &=& m\\dot{x} \\\\\n",
    "&\\dfrac{\\mathrm d }{\\mathrm d t}\\left( {\\dfrac{\\partial \\mathcal{L}}{\\partial \\dot{x}}} \\right) &=& m\\ddot{x} \n",
    "\\end{array} \\end{equation}\n",
    "\n",
    "And the Lagrange's equation (the equation of motion) is:\n",
    "\n",
    "\\begin{equation}\n",
    "m\\ddot{x} + kx = 0\n",
    "\\end{equation}"
   ]
  },
  {
   "cell_type": "markdown",
   "metadata": {},
   "source": [
    "## Generalized coordinates\n",
    "\n",
    "The direct application of Newton's laws to mechanical systems results in a set of equations of motion in terms of Cartesian coordinates of each of the particles that make up the system. In many cases, this is not the most convenient coordinate system to solve the problem or describe the movement of the system. For example, in problems involving many particles, it may be convenient to choose a system that includes the coordinate of the center of mass. Another example is a serial chain of rigid links, such as a member of the human body or from a robot manipulator, it may be simpler to describe the positions of each link by the angles between links.  \n",
    "\n",
    "Coordinate systems such as these are referred as [generalized coordinates](https://en.wikipedia.org/wiki/Generalized_coordinates). Generalized coordinates uniquely specify the positions of the particles in a system. Although there may be several generalized coordinates to describe a system, usually a judicious choice of generalized coordinates provides the minimum number of independent coordinates that define the configuration of a system (which is the number of <a href=\"https://en.wikipedia.org/wiki/Degrees_of_freedom_(mechanics)\">degrees of freedom</a> of the system), turning the problem simpler to solve.  \n",
    "\n",
    "Being a little more technical, according to [Wikipedia](https://en.wikipedia.org/wiki/Configuration_space_(physics)):  \n",
    "\"In classical mechanics, the parameters that define the configuration of a system are called generalized coordinates, and the vector space defined by these coordinates is called the configuration space of the physical system. It is often the case that these parameters satisfy mathematical constraints, such that the set of actual configurations of the system is a manifold in the space of generalized coordinates. This manifold is called the configuration manifold of the system.\"\n",
    "\n",
    "In problems where it is desired to use generalized coordinates, one can write Newton's equations of motion in terms of Cartesian coordinates and then transform them into generalized coordinates. However, it would be desirable and convenient to have a general method that would directly establish the equations of motion in terms of a set of convenient generalized coordinates. In addition, general methods for writing, and perhaps solving, the equations of motion in terms of any coordinate system would also be desirable. The [Lagrangian mechanics](https://en.wikipedia.org/wiki/Lagrangian_mechanics) is such a method."
   ]
  },
  {
   "cell_type": "markdown",
   "metadata": {},
   "source": [
    "### Lagrange's equation in generalized coordinates\n",
    "\n",
    "We have deduced the Lagrange's equation in Cartesian Coordinates from the Newton's law just because it was a simple form of getting to the final equations. But, by no means the Lagrangian Mechanics should be viewed as a consequence of Newton's laws and specific to Cartesian Coordinates. The Lagrangian Mechanics could be deduced completely independent of Newton's law.  \n",
    "\n",
    "The Lagrange's equation can be expressed in terms of generalized coordinates what makes the Lagrangian formalism even more powerful. In fact, we will have the same equation as we deduced before (the only explicit difference will be that we will use $q_i$ instead of the Cartesian coordinate).  \n",
    "See [this notebook](http://nbviewer.jupyter.org/github/BMClab/bmc/blob/master/notebooks/lagrangian_mechanics_generalized.ipynb) for a deduction of the Lagrange's equation in generalized coordinates.\n",
    "\n",
    "Defining the Lagrange or Lagrangian function of a system with $N$ generalized coordinates:\n",
    "\n",
    "\\begin{equation} \n",
    "\\mathcal{L} \\equiv \\mathcal{L}(q_1,\\dotsc,q_{N} ,\\dot{q}_1,\\dotsc,\\dot{q}_{N} ) = T - V \n",
    "\\label{eq46}\n",
    "\\end{equation}\n",
    "\n",
    "We have the Lagrange's equation:\n",
    "\n",
    "\\begin{equation} \n",
    "\\frac{\\mathrm d }{\\mathrm d t}\\left( {\\frac{\\partial \\mathcal{L}}{\\partial \\dot{q}_i }} \n",
    "\\right)-\\frac{\\partial \\mathcal{L}}{\\partial q_i } = Q_{NCi} \\quad i=1,\\dotsc,N\n",
    "\\label{eq47}\n",
    "\\end{equation}\n",
    "\n",
    "Where $Q_{NCi}$ is the generalized force due to a non-conservative force, any force that can't be expressed in terms of a potential.  \n",
    "\n",
    "Once all derivatives of the Lagrangian function are calculated, this equation will be the equation of motion for each particle. If there are $N$ generalized coordinates to define the configuration of a system, there will be $N$ equations for the system.\n",
    "\n",
    "The set of equations above for a system are known as Euler–Lagrange equations, or Lagrange's equations of the second kind."
   ]
  },
  {
   "cell_type": "markdown",
   "metadata": {},
   "source": [
    "### Example 3: Simple pendulum under the influence of gravity\n",
    "\n",
    "<figure><img src=\"./../images/simplependulum_lagrange.png\" width=\"220\" alt=\"simple pendulum\" style=\"float:right;margin: 10px 50px 10px 50px;\"/></figure>\n",
    "\n",
    "Consider a pendulum with a massless rod of length $d$ and a mass $m$ at the extremity swinging in a plane forming the angle $\\theta$ with vertical.  \n",
    "\n",
    "Although the pendulum moves at the plane, it only has one degree of freedom, which can be described by the angle $\\theta$, the generalized coordinate. It is not difficult to find the equation of motion using Newton's law, but let's find it using the Lagrangian mechanics. \n",
    "\n",
    "The kinetic energy is:\n",
    "\n",
    "\\begin{equation}\n",
    "T = \\frac{1}{2}md^2\\dot\\theta^2\n",
    "\\end{equation}\n",
    "\n",
    "And the potential energy is:\n",
    "\n",
    "\\begin{equation}\n",
    "V = -mgd\\cos\\theta\n",
    "\\end{equation}\n",
    "\n",
    "The Lagrangian function is:\n",
    "\n",
    "\\begin{equation}\n",
    "\\mathcal{L}(\\theta, \\dot\\theta, t) = \\frac{1}{2}md^2\\dot\\theta^2(t) + mgd\\cos\\theta(t)\n",
    "\\end{equation}\n",
    "\n",
    "And the derivatives are given by:\n",
    "\n",
    "\\begin{equation} \\begin{array}{rcl}\n",
    "&\\dfrac{\\partial \\mathcal{L}}{\\partial \\theta} &=& -mgd\\sin\\theta \\\\\n",
    "&\\dfrac{\\partial \\mathcal{L}}{\\partial \\dot{\\theta}} &=& md^2\\dot{\\theta} \\\\\n",
    "&\\dfrac{\\mathrm d }{\\mathrm d t}\\left( {\\dfrac{\\partial \\mathcal{L}}{\\partial \\dot{\\theta}}} \\right) &=& md^2\\ddot{\\theta}\n",
    "\\end{array} \\end{equation}\n",
    "\n",
    "Finally, the Lagrange's equation (the equation of motion) is:\n",
    "\n",
    "\\begin{equation}\n",
    "md^2\\ddot\\theta + mgd\\sin\\theta = 0\n",
    "\\end{equation}"
   ]
  },
  {
   "cell_type": "markdown",
   "metadata": {},
   "source": [
    "#### Example 3a: Numerical solution of the equation of motion for the simple pendulum\n",
    "\n",
    "A classical approach to solve the equation of motion for the simple pendulum is to consider the motion for small angles where $\\sin\\theta \\approx \\theta$ and the differential equation is linearized to $d\\ddot\\theta + g\\theta = 0$. This equation has an analytical solution of the type $\\theta(t) = A \\sin(\\omega t + \\phi)$, where $\\omega = \\sqrt{g/d}$ and $A$ and $\\phi$ are constants related to the initial position and velocity.  \n",
    "Let's solve the differential equation for the pendulum numerically using the [Euler’s method](https://nbviewer.jupyter.org/github/demotu/BMC/blob/master/notebooks/OrdinaryDifferentialEquation.ipynb#Euler-method).  \n",
    "Remember that we have to (1) transform the second-order ODE into two coupled first-order ODEs, (2) approximate the derivative of each variable by its discrete first order difference and (3) write equation to calculate the variable in a recursive way, updating its value with an equation based on the first order difference.  \n",
    "In Python:  "
   ]
  },
  {
   "cell_type": "code",
   "execution_count": 1,
   "metadata": {},
   "outputs": [],
   "source": [
    "import numpy as np\n",
    "\n",
    "def pendulum_euler(T, y0, v0, h):\n",
    "    \"\"\"\n",
    "    Two coupled first-order ODEs for the pendulum (y=theta and v is a new variable):\n",
    "        dydt = v\n",
    "        dvdt = -g/d * y\n",
    "    Two equations to update the values of the variables based on first-order difference:\n",
    "        y[n+1] = y[n] + h*v[n]\n",
    "        v[n+1] = v[n] + h*dvdt[n]\n",
    "    \"\"\"\n",
    "    \n",
    "    N = int(np.ceil(T/h))\n",
    "    y, v = np.zeros(N), np.zeros(N)\n",
    "    y[0], v[0] = y0, v0\n",
    "    d = 2    # length of the pendulum in m\n",
    "    g = 9.8  # acceleration of gravity in m/s2\n",
    "    \n",
    "    for i in range(N-1):\n",
    "        y[i+1] = y[i] + h*v[i]\n",
    "        v[i+1] = v[i] + h*(-g/d*y[i])\n",
    "    t = np.linspace(0, T, N, endpoint=False)\n",
    "        \n",
    "    return t, y, v"
   ]
  },
  {
   "cell_type": "code",
   "execution_count": 2,
   "metadata": {},
   "outputs": [],
   "source": [
    "%matplotlib notebook\n",
    "import matplotlib.pyplot as plt\n",
    "\n",
    "def plot(t, y, v):\n",
    "    \"\"\"\n",
    "    Plot data\n",
    "    \"\"\"\n",
    "    fig, ax = plt.subplots(1, 1, figsize=(8, 3))\n",
    "    ax.plot(t, y, 'b', label='Position')\n",
    "    ax.plot(t, v, 'r', label='Velocity')\n",
    "    ax.legend()\n",
    "    plt.show()"
   ]
  },
  {
   "cell_type": "code",
   "execution_count": 3,
   "metadata": {},
   "outputs": [
    {
     "data": {
      "application/javascript": [
       "/* Put everything inside the global mpl namespace */\n",
       "window.mpl = {};\n",
       "\n",
       "\n",
       "mpl.get_websocket_type = function() {\n",
       "    if (typeof(WebSocket) !== 'undefined') {\n",
       "        return WebSocket;\n",
       "    } else if (typeof(MozWebSocket) !== 'undefined') {\n",
       "        return MozWebSocket;\n",
       "    } else {\n",
       "        alert('Your browser does not have WebSocket support.' +\n",
       "              'Please try Chrome, Safari or Firefox ≥ 6. ' +\n",
       "              'Firefox 4 and 5 are also supported but you ' +\n",
       "              'have to enable WebSockets in about:config.');\n",
       "    };\n",
       "}\n",
       "\n",
       "mpl.figure = function(figure_id, websocket, ondownload, parent_element) {\n",
       "    this.id = figure_id;\n",
       "\n",
       "    this.ws = websocket;\n",
       "\n",
       "    this.supports_binary = (this.ws.binaryType != undefined);\n",
       "\n",
       "    if (!this.supports_binary) {\n",
       "        var warnings = document.getElementById(\"mpl-warnings\");\n",
       "        if (warnings) {\n",
       "            warnings.style.display = 'block';\n",
       "            warnings.textContent = (\n",
       "                \"This browser does not support binary websocket messages. \" +\n",
       "                    \"Performance may be slow.\");\n",
       "        }\n",
       "    }\n",
       "\n",
       "    this.imageObj = new Image();\n",
       "\n",
       "    this.context = undefined;\n",
       "    this.message = undefined;\n",
       "    this.canvas = undefined;\n",
       "    this.rubberband_canvas = undefined;\n",
       "    this.rubberband_context = undefined;\n",
       "    this.format_dropdown = undefined;\n",
       "\n",
       "    this.image_mode = 'full';\n",
       "\n",
       "    this.root = $('<div/>');\n",
       "    this._root_extra_style(this.root)\n",
       "    this.root.attr('style', 'display: inline-block');\n",
       "\n",
       "    $(parent_element).append(this.root);\n",
       "\n",
       "    this._init_header(this);\n",
       "    this._init_canvas(this);\n",
       "    this._init_toolbar(this);\n",
       "\n",
       "    var fig = this;\n",
       "\n",
       "    this.waiting = false;\n",
       "\n",
       "    this.ws.onopen =  function () {\n",
       "            fig.send_message(\"supports_binary\", {value: fig.supports_binary});\n",
       "            fig.send_message(\"send_image_mode\", {});\n",
       "            if (mpl.ratio != 1) {\n",
       "                fig.send_message(\"set_dpi_ratio\", {'dpi_ratio': mpl.ratio});\n",
       "            }\n",
       "            fig.send_message(\"refresh\", {});\n",
       "        }\n",
       "\n",
       "    this.imageObj.onload = function() {\n",
       "            if (fig.image_mode == 'full') {\n",
       "                // Full images could contain transparency (where diff images\n",
       "                // almost always do), so we need to clear the canvas so that\n",
       "                // there is no ghosting.\n",
       "                fig.context.clearRect(0, 0, fig.canvas.width, fig.canvas.height);\n",
       "            }\n",
       "            fig.context.drawImage(fig.imageObj, 0, 0);\n",
       "        };\n",
       "\n",
       "    this.imageObj.onunload = function() {\n",
       "        fig.ws.close();\n",
       "    }\n",
       "\n",
       "    this.ws.onmessage = this._make_on_message_function(this);\n",
       "\n",
       "    this.ondownload = ondownload;\n",
       "}\n",
       "\n",
       "mpl.figure.prototype._init_header = function() {\n",
       "    var titlebar = $(\n",
       "        '<div class=\"ui-dialog-titlebar ui-widget-header ui-corner-all ' +\n",
       "        'ui-helper-clearfix\"/>');\n",
       "    var titletext = $(\n",
       "        '<div class=\"ui-dialog-title\" style=\"width: 100%; ' +\n",
       "        'text-align: center; padding: 3px;\"/>');\n",
       "    titlebar.append(titletext)\n",
       "    this.root.append(titlebar);\n",
       "    this.header = titletext[0];\n",
       "}\n",
       "\n",
       "\n",
       "\n",
       "mpl.figure.prototype._canvas_extra_style = function(canvas_div) {\n",
       "\n",
       "}\n",
       "\n",
       "\n",
       "mpl.figure.prototype._root_extra_style = function(canvas_div) {\n",
       "\n",
       "}\n",
       "\n",
       "mpl.figure.prototype._init_canvas = function() {\n",
       "    var fig = this;\n",
       "\n",
       "    var canvas_div = $('<div/>');\n",
       "\n",
       "    canvas_div.attr('style', 'position: relative; clear: both; outline: 0');\n",
       "\n",
       "    function canvas_keyboard_event(event) {\n",
       "        return fig.key_event(event, event['data']);\n",
       "    }\n",
       "\n",
       "    canvas_div.keydown('key_press', canvas_keyboard_event);\n",
       "    canvas_div.keyup('key_release', canvas_keyboard_event);\n",
       "    this.canvas_div = canvas_div\n",
       "    this._canvas_extra_style(canvas_div)\n",
       "    this.root.append(canvas_div);\n",
       "\n",
       "    var canvas = $('<canvas/>');\n",
       "    canvas.addClass('mpl-canvas');\n",
       "    canvas.attr('style', \"left: 0; top: 0; z-index: 0; outline: 0\")\n",
       "\n",
       "    this.canvas = canvas[0];\n",
       "    this.context = canvas[0].getContext(\"2d\");\n",
       "\n",
       "    var backingStore = this.context.backingStorePixelRatio ||\n",
       "\tthis.context.webkitBackingStorePixelRatio ||\n",
       "\tthis.context.mozBackingStorePixelRatio ||\n",
       "\tthis.context.msBackingStorePixelRatio ||\n",
       "\tthis.context.oBackingStorePixelRatio ||\n",
       "\tthis.context.backingStorePixelRatio || 1;\n",
       "\n",
       "    mpl.ratio = (window.devicePixelRatio || 1) / backingStore;\n",
       "\n",
       "    var rubberband = $('<canvas/>');\n",
       "    rubberband.attr('style', \"position: absolute; left: 0; top: 0; z-index: 1;\")\n",
       "\n",
       "    var pass_mouse_events = true;\n",
       "\n",
       "    canvas_div.resizable({\n",
       "        start: function(event, ui) {\n",
       "            pass_mouse_events = false;\n",
       "        },\n",
       "        resize: function(event, ui) {\n",
       "            fig.request_resize(ui.size.width, ui.size.height);\n",
       "        },\n",
       "        stop: function(event, ui) {\n",
       "            pass_mouse_events = true;\n",
       "            fig.request_resize(ui.size.width, ui.size.height);\n",
       "        },\n",
       "    });\n",
       "\n",
       "    function mouse_event_fn(event) {\n",
       "        if (pass_mouse_events)\n",
       "            return fig.mouse_event(event, event['data']);\n",
       "    }\n",
       "\n",
       "    rubberband.mousedown('button_press', mouse_event_fn);\n",
       "    rubberband.mouseup('button_release', mouse_event_fn);\n",
       "    // Throttle sequential mouse events to 1 every 20ms.\n",
       "    rubberband.mousemove('motion_notify', mouse_event_fn);\n",
       "\n",
       "    rubberband.mouseenter('figure_enter', mouse_event_fn);\n",
       "    rubberband.mouseleave('figure_leave', mouse_event_fn);\n",
       "\n",
       "    canvas_div.on(\"wheel\", function (event) {\n",
       "        event = event.originalEvent;\n",
       "        event['data'] = 'scroll'\n",
       "        if (event.deltaY < 0) {\n",
       "            event.step = 1;\n",
       "        } else {\n",
       "            event.step = -1;\n",
       "        }\n",
       "        mouse_event_fn(event);\n",
       "    });\n",
       "\n",
       "    canvas_div.append(canvas);\n",
       "    canvas_div.append(rubberband);\n",
       "\n",
       "    this.rubberband = rubberband;\n",
       "    this.rubberband_canvas = rubberband[0];\n",
       "    this.rubberband_context = rubberband[0].getContext(\"2d\");\n",
       "    this.rubberband_context.strokeStyle = \"#000000\";\n",
       "\n",
       "    this._resize_canvas = function(width, height) {\n",
       "        // Keep the size of the canvas, canvas container, and rubber band\n",
       "        // canvas in synch.\n",
       "        canvas_div.css('width', width)\n",
       "        canvas_div.css('height', height)\n",
       "\n",
       "        canvas.attr('width', width * mpl.ratio);\n",
       "        canvas.attr('height', height * mpl.ratio);\n",
       "        canvas.attr('style', 'width: ' + width + 'px; height: ' + height + 'px;');\n",
       "\n",
       "        rubberband.attr('width', width);\n",
       "        rubberband.attr('height', height);\n",
       "    }\n",
       "\n",
       "    // Set the figure to an initial 600x600px, this will subsequently be updated\n",
       "    // upon first draw.\n",
       "    this._resize_canvas(600, 600);\n",
       "\n",
       "    // Disable right mouse context menu.\n",
       "    $(this.rubberband_canvas).bind(\"contextmenu\",function(e){\n",
       "        return false;\n",
       "    });\n",
       "\n",
       "    function set_focus () {\n",
       "        canvas.focus();\n",
       "        canvas_div.focus();\n",
       "    }\n",
       "\n",
       "    window.setTimeout(set_focus, 100);\n",
       "}\n",
       "\n",
       "mpl.figure.prototype._init_toolbar = function() {\n",
       "    var fig = this;\n",
       "\n",
       "    var nav_element = $('<div/>')\n",
       "    nav_element.attr('style', 'width: 100%');\n",
       "    this.root.append(nav_element);\n",
       "\n",
       "    // Define a callback function for later on.\n",
       "    function toolbar_event(event) {\n",
       "        return fig.toolbar_button_onclick(event['data']);\n",
       "    }\n",
       "    function toolbar_mouse_event(event) {\n",
       "        return fig.toolbar_button_onmouseover(event['data']);\n",
       "    }\n",
       "\n",
       "    for(var toolbar_ind in mpl.toolbar_items) {\n",
       "        var name = mpl.toolbar_items[toolbar_ind][0];\n",
       "        var tooltip = mpl.toolbar_items[toolbar_ind][1];\n",
       "        var image = mpl.toolbar_items[toolbar_ind][2];\n",
       "        var method_name = mpl.toolbar_items[toolbar_ind][3];\n",
       "\n",
       "        if (!name) {\n",
       "            // put a spacer in here.\n",
       "            continue;\n",
       "        }\n",
       "        var button = $('<button/>');\n",
       "        button.addClass('ui-button ui-widget ui-state-default ui-corner-all ' +\n",
       "                        'ui-button-icon-only');\n",
       "        button.attr('role', 'button');\n",
       "        button.attr('aria-disabled', 'false');\n",
       "        button.click(method_name, toolbar_event);\n",
       "        button.mouseover(tooltip, toolbar_mouse_event);\n",
       "\n",
       "        var icon_img = $('<span/>');\n",
       "        icon_img.addClass('ui-button-icon-primary ui-icon');\n",
       "        icon_img.addClass(image);\n",
       "        icon_img.addClass('ui-corner-all');\n",
       "\n",
       "        var tooltip_span = $('<span/>');\n",
       "        tooltip_span.addClass('ui-button-text');\n",
       "        tooltip_span.html(tooltip);\n",
       "\n",
       "        button.append(icon_img);\n",
       "        button.append(tooltip_span);\n",
       "\n",
       "        nav_element.append(button);\n",
       "    }\n",
       "\n",
       "    var fmt_picker_span = $('<span/>');\n",
       "\n",
       "    var fmt_picker = $('<select/>');\n",
       "    fmt_picker.addClass('mpl-toolbar-option ui-widget ui-widget-content');\n",
       "    fmt_picker_span.append(fmt_picker);\n",
       "    nav_element.append(fmt_picker_span);\n",
       "    this.format_dropdown = fmt_picker[0];\n",
       "\n",
       "    for (var ind in mpl.extensions) {\n",
       "        var fmt = mpl.extensions[ind];\n",
       "        var option = $(\n",
       "            '<option/>', {selected: fmt === mpl.default_extension}).html(fmt);\n",
       "        fmt_picker.append(option)\n",
       "    }\n",
       "\n",
       "    // Add hover states to the ui-buttons\n",
       "    $( \".ui-button\" ).hover(\n",
       "        function() { $(this).addClass(\"ui-state-hover\");},\n",
       "        function() { $(this).removeClass(\"ui-state-hover\");}\n",
       "    );\n",
       "\n",
       "    var status_bar = $('<span class=\"mpl-message\"/>');\n",
       "    nav_element.append(status_bar);\n",
       "    this.message = status_bar[0];\n",
       "}\n",
       "\n",
       "mpl.figure.prototype.request_resize = function(x_pixels, y_pixels) {\n",
       "    // Request matplotlib to resize the figure. Matplotlib will then trigger a resize in the client,\n",
       "    // which will in turn request a refresh of the image.\n",
       "    this.send_message('resize', {'width': x_pixels, 'height': y_pixels});\n",
       "}\n",
       "\n",
       "mpl.figure.prototype.send_message = function(type, properties) {\n",
       "    properties['type'] = type;\n",
       "    properties['figure_id'] = this.id;\n",
       "    this.ws.send(JSON.stringify(properties));\n",
       "}\n",
       "\n",
       "mpl.figure.prototype.send_draw_message = function() {\n",
       "    if (!this.waiting) {\n",
       "        this.waiting = true;\n",
       "        this.ws.send(JSON.stringify({type: \"draw\", figure_id: this.id}));\n",
       "    }\n",
       "}\n",
       "\n",
       "\n",
       "mpl.figure.prototype.handle_save = function(fig, msg) {\n",
       "    var format_dropdown = fig.format_dropdown;\n",
       "    var format = format_dropdown.options[format_dropdown.selectedIndex].value;\n",
       "    fig.ondownload(fig, format);\n",
       "}\n",
       "\n",
       "\n",
       "mpl.figure.prototype.handle_resize = function(fig, msg) {\n",
       "    var size = msg['size'];\n",
       "    if (size[0] != fig.canvas.width || size[1] != fig.canvas.height) {\n",
       "        fig._resize_canvas(size[0], size[1]);\n",
       "        fig.send_message(\"refresh\", {});\n",
       "    };\n",
       "}\n",
       "\n",
       "mpl.figure.prototype.handle_rubberband = function(fig, msg) {\n",
       "    var x0 = msg['x0'] / mpl.ratio;\n",
       "    var y0 = (fig.canvas.height - msg['y0']) / mpl.ratio;\n",
       "    var x1 = msg['x1'] / mpl.ratio;\n",
       "    var y1 = (fig.canvas.height - msg['y1']) / mpl.ratio;\n",
       "    x0 = Math.floor(x0) + 0.5;\n",
       "    y0 = Math.floor(y0) + 0.5;\n",
       "    x1 = Math.floor(x1) + 0.5;\n",
       "    y1 = Math.floor(y1) + 0.5;\n",
       "    var min_x = Math.min(x0, x1);\n",
       "    var min_y = Math.min(y0, y1);\n",
       "    var width = Math.abs(x1 - x0);\n",
       "    var height = Math.abs(y1 - y0);\n",
       "\n",
       "    fig.rubberband_context.clearRect(\n",
       "        0, 0, fig.canvas.width, fig.canvas.height);\n",
       "\n",
       "    fig.rubberband_context.strokeRect(min_x, min_y, width, height);\n",
       "}\n",
       "\n",
       "mpl.figure.prototype.handle_figure_label = function(fig, msg) {\n",
       "    // Updates the figure title.\n",
       "    fig.header.textContent = msg['label'];\n",
       "}\n",
       "\n",
       "mpl.figure.prototype.handle_cursor = function(fig, msg) {\n",
       "    var cursor = msg['cursor'];\n",
       "    switch(cursor)\n",
       "    {\n",
       "    case 0:\n",
       "        cursor = 'pointer';\n",
       "        break;\n",
       "    case 1:\n",
       "        cursor = 'default';\n",
       "        break;\n",
       "    case 2:\n",
       "        cursor = 'crosshair';\n",
       "        break;\n",
       "    case 3:\n",
       "        cursor = 'move';\n",
       "        break;\n",
       "    }\n",
       "    fig.rubberband_canvas.style.cursor = cursor;\n",
       "}\n",
       "\n",
       "mpl.figure.prototype.handle_message = function(fig, msg) {\n",
       "    fig.message.textContent = msg['message'];\n",
       "}\n",
       "\n",
       "mpl.figure.prototype.handle_draw = function(fig, msg) {\n",
       "    // Request the server to send over a new figure.\n",
       "    fig.send_draw_message();\n",
       "}\n",
       "\n",
       "mpl.figure.prototype.handle_image_mode = function(fig, msg) {\n",
       "    fig.image_mode = msg['mode'];\n",
       "}\n",
       "\n",
       "mpl.figure.prototype.updated_canvas_event = function() {\n",
       "    // Called whenever the canvas gets updated.\n",
       "    this.send_message(\"ack\", {});\n",
       "}\n",
       "\n",
       "// A function to construct a web socket function for onmessage handling.\n",
       "// Called in the figure constructor.\n",
       "mpl.figure.prototype._make_on_message_function = function(fig) {\n",
       "    return function socket_on_message(evt) {\n",
       "        if (evt.data instanceof Blob) {\n",
       "            /* FIXME: We get \"Resource interpreted as Image but\n",
       "             * transferred with MIME type text/plain:\" errors on\n",
       "             * Chrome.  But how to set the MIME type?  It doesn't seem\n",
       "             * to be part of the websocket stream */\n",
       "            evt.data.type = \"image/png\";\n",
       "\n",
       "            /* Free the memory for the previous frames */\n",
       "            if (fig.imageObj.src) {\n",
       "                (window.URL || window.webkitURL).revokeObjectURL(\n",
       "                    fig.imageObj.src);\n",
       "            }\n",
       "\n",
       "            fig.imageObj.src = (window.URL || window.webkitURL).createObjectURL(\n",
       "                evt.data);\n",
       "            fig.updated_canvas_event();\n",
       "            fig.waiting = false;\n",
       "            return;\n",
       "        }\n",
       "        else if (typeof evt.data === 'string' && evt.data.slice(0, 21) == \"data:image/png;base64\") {\n",
       "            fig.imageObj.src = evt.data;\n",
       "            fig.updated_canvas_event();\n",
       "            fig.waiting = false;\n",
       "            return;\n",
       "        }\n",
       "\n",
       "        var msg = JSON.parse(evt.data);\n",
       "        var msg_type = msg['type'];\n",
       "\n",
       "        // Call the  \"handle_{type}\" callback, which takes\n",
       "        // the figure and JSON message as its only arguments.\n",
       "        try {\n",
       "            var callback = fig[\"handle_\" + msg_type];\n",
       "        } catch (e) {\n",
       "            console.log(\"No handler for the '\" + msg_type + \"' message type: \", msg);\n",
       "            return;\n",
       "        }\n",
       "\n",
       "        if (callback) {\n",
       "            try {\n",
       "                // console.log(\"Handling '\" + msg_type + \"' message: \", msg);\n",
       "                callback(fig, msg);\n",
       "            } catch (e) {\n",
       "                console.log(\"Exception inside the 'handler_\" + msg_type + \"' callback:\", e, e.stack, msg);\n",
       "            }\n",
       "        }\n",
       "    };\n",
       "}\n",
       "\n",
       "// from http://stackoverflow.com/questions/1114465/getting-mouse-location-in-canvas\n",
       "mpl.findpos = function(e) {\n",
       "    //this section is from http://www.quirksmode.org/js/events_properties.html\n",
       "    var targ;\n",
       "    if (!e)\n",
       "        e = window.event;\n",
       "    if (e.target)\n",
       "        targ = e.target;\n",
       "    else if (e.srcElement)\n",
       "        targ = e.srcElement;\n",
       "    if (targ.nodeType == 3) // defeat Safari bug\n",
       "        targ = targ.parentNode;\n",
       "\n",
       "    // jQuery normalizes the pageX and pageY\n",
       "    // pageX,Y are the mouse positions relative to the document\n",
       "    // offset() returns the position of the element relative to the document\n",
       "    var x = e.pageX - $(targ).offset().left;\n",
       "    var y = e.pageY - $(targ).offset().top;\n",
       "\n",
       "    return {\"x\": x, \"y\": y};\n",
       "};\n",
       "\n",
       "/*\n",
       " * return a copy of an object with only non-object keys\n",
       " * we need this to avoid circular references\n",
       " * http://stackoverflow.com/a/24161582/3208463\n",
       " */\n",
       "function simpleKeys (original) {\n",
       "  return Object.keys(original).reduce(function (obj, key) {\n",
       "    if (typeof original[key] !== 'object')\n",
       "        obj[key] = original[key]\n",
       "    return obj;\n",
       "  }, {});\n",
       "}\n",
       "\n",
       "mpl.figure.prototype.mouse_event = function(event, name) {\n",
       "    var canvas_pos = mpl.findpos(event)\n",
       "\n",
       "    if (name === 'button_press')\n",
       "    {\n",
       "        this.canvas.focus();\n",
       "        this.canvas_div.focus();\n",
       "    }\n",
       "\n",
       "    var x = canvas_pos.x * mpl.ratio;\n",
       "    var y = canvas_pos.y * mpl.ratio;\n",
       "\n",
       "    this.send_message(name, {x: x, y: y, button: event.button,\n",
       "                             step: event.step,\n",
       "                             guiEvent: simpleKeys(event)});\n",
       "\n",
       "    /* This prevents the web browser from automatically changing to\n",
       "     * the text insertion cursor when the button is pressed.  We want\n",
       "     * to control all of the cursor setting manually through the\n",
       "     * 'cursor' event from matplotlib */\n",
       "    event.preventDefault();\n",
       "    return false;\n",
       "}\n",
       "\n",
       "mpl.figure.prototype._key_event_extra = function(event, name) {\n",
       "    // Handle any extra behaviour associated with a key event\n",
       "}\n",
       "\n",
       "mpl.figure.prototype.key_event = function(event, name) {\n",
       "\n",
       "    // Prevent repeat events\n",
       "    if (name == 'key_press')\n",
       "    {\n",
       "        if (event.which === this._key)\n",
       "            return;\n",
       "        else\n",
       "            this._key = event.which;\n",
       "    }\n",
       "    if (name == 'key_release')\n",
       "        this._key = null;\n",
       "\n",
       "    var value = '';\n",
       "    if (event.ctrlKey && event.which != 17)\n",
       "        value += \"ctrl+\";\n",
       "    if (event.altKey && event.which != 18)\n",
       "        value += \"alt+\";\n",
       "    if (event.shiftKey && event.which != 16)\n",
       "        value += \"shift+\";\n",
       "\n",
       "    value += 'k';\n",
       "    value += event.which.toString();\n",
       "\n",
       "    this._key_event_extra(event, name);\n",
       "\n",
       "    this.send_message(name, {key: value,\n",
       "                             guiEvent: simpleKeys(event)});\n",
       "    return false;\n",
       "}\n",
       "\n",
       "mpl.figure.prototype.toolbar_button_onclick = function(name) {\n",
       "    if (name == 'download') {\n",
       "        this.handle_save(this, null);\n",
       "    } else {\n",
       "        this.send_message(\"toolbar_button\", {name: name});\n",
       "    }\n",
       "};\n",
       "\n",
       "mpl.figure.prototype.toolbar_button_onmouseover = function(tooltip) {\n",
       "    this.message.textContent = tooltip;\n",
       "};\n",
       "mpl.toolbar_items = [[\"Home\", \"Reset original view\", \"fa fa-home icon-home\", \"home\"], [\"Back\", \"Back to previous view\", \"fa fa-arrow-left icon-arrow-left\", \"back\"], [\"Forward\", \"Forward to next view\", \"fa fa-arrow-right icon-arrow-right\", \"forward\"], [\"\", \"\", \"\", \"\"], [\"Pan\", \"Pan axes with left mouse, zoom with right\", \"fa fa-arrows icon-move\", \"pan\"], [\"Zoom\", \"Zoom to rectangle\", \"fa fa-square-o icon-check-empty\", \"zoom\"], [\"\", \"\", \"\", \"\"], [\"Download\", \"Download plot\", \"fa fa-floppy-o icon-save\", \"download\"]];\n",
       "\n",
       "mpl.extensions = [\"eps\", \"pdf\", \"png\", \"ps\", \"raw\", \"svg\"];\n",
       "\n",
       "mpl.default_extension = \"png\";var comm_websocket_adapter = function(comm) {\n",
       "    // Create a \"websocket\"-like object which calls the given IPython comm\n",
       "    // object with the appropriate methods. Currently this is a non binary\n",
       "    // socket, so there is still some room for performance tuning.\n",
       "    var ws = {};\n",
       "\n",
       "    ws.close = function() {\n",
       "        comm.close()\n",
       "    };\n",
       "    ws.send = function(m) {\n",
       "        //console.log('sending', m);\n",
       "        comm.send(m);\n",
       "    };\n",
       "    // Register the callback with on_msg.\n",
       "    comm.on_msg(function(msg) {\n",
       "        //console.log('receiving', msg['content']['data'], msg);\n",
       "        // Pass the mpl event to the overridden (by mpl) onmessage function.\n",
       "        ws.onmessage(msg['content']['data'])\n",
       "    });\n",
       "    return ws;\n",
       "}\n",
       "\n",
       "mpl.mpl_figure_comm = function(comm, msg) {\n",
       "    // This is the function which gets called when the mpl process\n",
       "    // starts-up an IPython Comm through the \"matplotlib\" channel.\n",
       "\n",
       "    var id = msg.content.data.id;\n",
       "    // Get hold of the div created by the display call when the Comm\n",
       "    // socket was opened in Python.\n",
       "    var element = $(\"#\" + id);\n",
       "    var ws_proxy = comm_websocket_adapter(comm)\n",
       "\n",
       "    function ondownload(figure, format) {\n",
       "        window.open(figure.imageObj.src);\n",
       "    }\n",
       "\n",
       "    var fig = new mpl.figure(id, ws_proxy,\n",
       "                           ondownload,\n",
       "                           element.get(0));\n",
       "\n",
       "    // Call onopen now - mpl needs it, as it is assuming we've passed it a real\n",
       "    // web socket which is closed, not our websocket->open comm proxy.\n",
       "    ws_proxy.onopen();\n",
       "\n",
       "    fig.parent_element = element.get(0);\n",
       "    fig.cell_info = mpl.find_output_cell(\"<div id='\" + id + \"'></div>\");\n",
       "    if (!fig.cell_info) {\n",
       "        console.error(\"Failed to find cell for figure\", id, fig);\n",
       "        return;\n",
       "    }\n",
       "\n",
       "    var output_index = fig.cell_info[2]\n",
       "    var cell = fig.cell_info[0];\n",
       "\n",
       "};\n",
       "\n",
       "mpl.figure.prototype.handle_close = function(fig, msg) {\n",
       "    var width = fig.canvas.width/mpl.ratio\n",
       "    fig.root.unbind('remove')\n",
       "\n",
       "    // Update the output cell to use the data from the current canvas.\n",
       "    fig.push_to_output();\n",
       "    var dataURL = fig.canvas.toDataURL();\n",
       "    // Re-enable the keyboard manager in IPython - without this line, in FF,\n",
       "    // the notebook keyboard shortcuts fail.\n",
       "    IPython.keyboard_manager.enable()\n",
       "    $(fig.parent_element).html('<img src=\"' + dataURL + '\" width=\"' + width + '\">');\n",
       "    fig.close_ws(fig, msg);\n",
       "}\n",
       "\n",
       "mpl.figure.prototype.close_ws = function(fig, msg){\n",
       "    fig.send_message('closing', msg);\n",
       "    // fig.ws.close()\n",
       "}\n",
       "\n",
       "mpl.figure.prototype.push_to_output = function(remove_interactive) {\n",
       "    // Turn the data on the canvas into data in the output cell.\n",
       "    var width = this.canvas.width/mpl.ratio\n",
       "    var dataURL = this.canvas.toDataURL();\n",
       "    this.cell_info[1]['text/html'] = '<img src=\"' + dataURL + '\" width=\"' + width + '\">';\n",
       "}\n",
       "\n",
       "mpl.figure.prototype.updated_canvas_event = function() {\n",
       "    // Tell IPython that the notebook contents must change.\n",
       "    IPython.notebook.set_dirty(true);\n",
       "    this.send_message(\"ack\", {});\n",
       "    var fig = this;\n",
       "    // Wait a second, then push the new image to the DOM so\n",
       "    // that it is saved nicely (might be nice to debounce this).\n",
       "    setTimeout(function () { fig.push_to_output() }, 1000);\n",
       "}\n",
       "\n",
       "mpl.figure.prototype._init_toolbar = function() {\n",
       "    var fig = this;\n",
       "\n",
       "    var nav_element = $('<div/>')\n",
       "    nav_element.attr('style', 'width: 100%');\n",
       "    this.root.append(nav_element);\n",
       "\n",
       "    // Define a callback function for later on.\n",
       "    function toolbar_event(event) {\n",
       "        return fig.toolbar_button_onclick(event['data']);\n",
       "    }\n",
       "    function toolbar_mouse_event(event) {\n",
       "        return fig.toolbar_button_onmouseover(event['data']);\n",
       "    }\n",
       "\n",
       "    for(var toolbar_ind in mpl.toolbar_items){\n",
       "        var name = mpl.toolbar_items[toolbar_ind][0];\n",
       "        var tooltip = mpl.toolbar_items[toolbar_ind][1];\n",
       "        var image = mpl.toolbar_items[toolbar_ind][2];\n",
       "        var method_name = mpl.toolbar_items[toolbar_ind][3];\n",
       "\n",
       "        if (!name) { continue; };\n",
       "\n",
       "        var button = $('<button class=\"btn btn-default\" href=\"#\" title=\"' + name + '\"><i class=\"fa ' + image + ' fa-lg\"></i></button>');\n",
       "        button.click(method_name, toolbar_event);\n",
       "        button.mouseover(tooltip, toolbar_mouse_event);\n",
       "        nav_element.append(button);\n",
       "    }\n",
       "\n",
       "    // Add the status bar.\n",
       "    var status_bar = $('<span class=\"mpl-message\" style=\"text-align:right; float: right;\"/>');\n",
       "    nav_element.append(status_bar);\n",
       "    this.message = status_bar[0];\n",
       "\n",
       "    // Add the close button to the window.\n",
       "    var buttongrp = $('<div class=\"btn-group inline pull-right\"></div>');\n",
       "    var button = $('<button class=\"btn btn-mini btn-primary\" href=\"#\" title=\"Stop Interaction\"><i class=\"fa fa-power-off icon-remove icon-large\"></i></button>');\n",
       "    button.click(function (evt) { fig.handle_close(fig, {}); } );\n",
       "    button.mouseover('Stop Interaction', toolbar_mouse_event);\n",
       "    buttongrp.append(button);\n",
       "    var titlebar = this.root.find($('.ui-dialog-titlebar'));\n",
       "    titlebar.prepend(buttongrp);\n",
       "}\n",
       "\n",
       "mpl.figure.prototype._root_extra_style = function(el){\n",
       "    var fig = this\n",
       "    el.on(\"remove\", function(){\n",
       "\tfig.close_ws(fig, {});\n",
       "    });\n",
       "}\n",
       "\n",
       "mpl.figure.prototype._canvas_extra_style = function(el){\n",
       "    // this is important to make the div 'focusable\n",
       "    el.attr('tabindex', 0)\n",
       "    // reach out to IPython and tell the keyboard manager to turn it's self\n",
       "    // off when our div gets focus\n",
       "\n",
       "    // location in version 3\n",
       "    if (IPython.notebook.keyboard_manager) {\n",
       "        IPython.notebook.keyboard_manager.register_events(el);\n",
       "    }\n",
       "    else {\n",
       "        // location in version 2\n",
       "        IPython.keyboard_manager.register_events(el);\n",
       "    }\n",
       "\n",
       "}\n",
       "\n",
       "mpl.figure.prototype._key_event_extra = function(event, name) {\n",
       "    var manager = IPython.notebook.keyboard_manager;\n",
       "    if (!manager)\n",
       "        manager = IPython.keyboard_manager;\n",
       "\n",
       "    // Check for shift+enter\n",
       "    if (event.shiftKey && event.which == 13) {\n",
       "        this.canvas_div.blur();\n",
       "        event.shiftKey = false;\n",
       "        // Send a \"J\" for go to next cell\n",
       "        event.which = 74;\n",
       "        event.keyCode = 74;\n",
       "        manager.command_mode();\n",
       "        manager.handle_keydown(event);\n",
       "    }\n",
       "}\n",
       "\n",
       "mpl.figure.prototype.handle_save = function(fig, msg) {\n",
       "    fig.ondownload(fig, null);\n",
       "}\n",
       "\n",
       "\n",
       "mpl.find_output_cell = function(html_output) {\n",
       "    // Return the cell and output element which can be found *uniquely* in the notebook.\n",
       "    // Note - this is a bit hacky, but it is done because the \"notebook_saving.Notebook\"\n",
       "    // IPython event is triggered only after the cells have been serialised, which for\n",
       "    // our purposes (turning an active figure into a static one), is too late.\n",
       "    var cells = IPython.notebook.get_cells();\n",
       "    var ncells = cells.length;\n",
       "    for (var i=0; i<ncells; i++) {\n",
       "        var cell = cells[i];\n",
       "        if (cell.cell_type === 'code'){\n",
       "            for (var j=0; j<cell.output_area.outputs.length; j++) {\n",
       "                var data = cell.output_area.outputs[j];\n",
       "                if (data.data) {\n",
       "                    // IPython >= 3 moved mimebundle to data attribute of output\n",
       "                    data = data.data;\n",
       "                }\n",
       "                if (data['text/html'] == html_output) {\n",
       "                    return [cell, data, j];\n",
       "                }\n",
       "            }\n",
       "        }\n",
       "    }\n",
       "}\n",
       "\n",
       "// Register the function which deals with the matplotlib target/channel.\n",
       "// The kernel may be null if the page has been refreshed.\n",
       "if (IPython.notebook.kernel != null) {\n",
       "    IPython.notebook.kernel.comm_manager.register_target('matplotlib', mpl.mpl_figure_comm);\n",
       "}\n"
      ],
      "text/plain": [
       "<IPython.core.display.Javascript object>"
      ]
     },
     "metadata": {},
     "output_type": "display_data"
    },
    {
     "data": {
      "text/html": [
       "<img src=\"data:image/png;base64,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\" width=\"800\">"
      ],
      "text/plain": [
       "<IPython.core.display.HTML object>"
      ]
     },
     "metadata": {},
     "output_type": "display_data"
    }
   ],
   "source": [
    "T, y0, v0, h = 10, 45*np.pi/180, 0, .001\n",
    "t, theta, vtheta = pendulum_euler(T, y0, v0, h)\n",
    "plot(t, theta, vtheta)"
   ]
  },
  {
   "cell_type": "markdown",
   "metadata": {},
   "source": [
    "### Example 4: Simple pendulum on moving cart\n",
    "\n",
    "<figure><img src=\"./../images/masspend_lagrange.png\" width=\"250\" alt=\"cart pendulum\" style=\"float:right;margin: 10px 50px 10px 50px;\"/></figure>\n",
    "\n",
    "Consider a simple pendulum with massless rod of length $d$ and mass $m$ at the extremity of the rod forming an angle $\\theta$ with the vertical direction under the action of gravity. The pendulum swings freely from a cart with mass $M$ that moves at the horizontal direction pushed by a force $F_x$.  \n",
    "Let's use the Lagrangian mechanics to derive the equations of motion for the system.\n",
    "\n",
    "From the figure on the right, because of the constraints introduced by the constant length of the rod and the motion the cart can perform, good generalized coordinates to describe the configuration of the system are $x$ and $\\theta$. Let's use these coordinates.\n",
    "\n",
    "The positions of the cart (c) and of the pendulum tip (p) are:  \n",
    "\n",
    "$ x_c = x $  \n",
    "$ y_c = 0 $  \n",
    " \n",
    "$ x_p = x + d \\sin \\theta $  \n",
    "$ y_p = -d \\cos \\theta $  \n",
    "\n",
    "The velocities of the cart and of the pendulum are:  \n",
    "\n",
    "$ \\dot{x}_c = \\dot{x} $  \n",
    "$ \\dot{y}_c = 0 $ \n",
    "\n",
    "$ \\dot{x}_p = \\dot{x} + d \\dot{\\theta} \\cos \\theta $  \n",
    "$ \\dot{y}_p = d \\dot{\\theta} \\sin \\theta $  \n",
    "\n",
    "The kinetic energy of the system is:\n",
    "\n",
    "\\begin{equation}\n",
    "T = \\frac{1}{2} M \\big(\\dot x_c^2 + \\dot y_c^2 \\big) + \\frac{1}{2}m\\,\\big( \\dot x_p^2 + \\dot y_p^2 \\big) \n",
    "\\end{equation}\n",
    "\n",
    "And the potential energy of the system is:\n",
    "\n",
    "\\begin{equation}\n",
    "V = M g y_c + m g y_p \n",
    "\\end{equation}\n",
    "\n",
    "The Lagrangian function is:\n",
    "\n",
    "\\begin{equation}\\begin{array}{rcl}\n",
    "\\mathcal{L} &=& \\frac{1}{2} M \\dot x^2 + \\frac{1}{2}m\\,\\bigg[ \\big(\\dot{x} + d \\dot{\\theta} \\cos\\theta \\big)^2 + \\big(d \\dot{\\theta} \\sin \\theta \\big)^2 \\bigg] + m g d \\cos \\theta \\\\\n",
    "&=& \\frac{1}{2} (M+m) \\dot x^2 + m\\dot{x}d\\dot{\\theta}\\cos\\theta + \\frac{1}{2}md^2\\dot{\\theta}^2 + m g d \\cos \\theta \n",
    "\\end{array}\\end{equation}\n",
    "\n",
    "The derivatives w.r.t. $x$ are:\n",
    "\n",
    "\\begin{equation}\\begin{array}{rcl}\n",
    "\\dfrac{\\partial \\mathcal{L}}{\\partial x} &=& 0 \\\\\n",
    "\\dfrac{\\partial \\mathcal{L}}{\\partial \\dot{x}} &=& (M+m) \\dot{x} + m d \\dot{\\theta} \\cos \\theta \\\\\n",
    "\\dfrac{\\mathrm d }{\\mathrm d t}\\left( {\\dfrac{\\partial \\mathcal{L}}{\\partial \\dot{x}}} \\right) &=& (M+m)\\ddot{x} + m d \\ddot{\\theta} \\cos \\theta - m d \\dot{\\theta}^2 \\sin \\theta\n",
    "\\end{array}\\end{equation}\n",
    "\n",
    "The derivatives w.r.t. $\\theta$ are:\n",
    "\n",
    "\\begin{equation}\\begin{array}{rcl}\n",
    "\\dfrac{\\partial \\mathcal{L}}{\\partial \\theta} &=& -m\\dot{x}d\\dot{\\theta}\\sin\\theta - mgd\\sin\\theta \\\\\n",
    "\\dfrac{\\partial \\mathcal{L}}{\\partial \\dot{\\theta}} &=& m\\dot{x}d\\cos\\theta + md^2\\dot{\\theta} \\\\\n",
    "\\dfrac{\\mathrm d }{\\mathrm d t}\\left( {\\dfrac{\\partial \\mathcal{L}}{\\partial \\dot{\\theta}}} \\right) &=& m\\ddot{x}d\\cos\\theta - m\\dot{x}d\\dot{\\theta}\\sin\\theta + md^2\\ddot{\\theta}\n",
    "\\end{array}\\end{equation}\n",
    "\n",
    "Finally, the Lagrange's equations (the equations of motion) are:\n",
    "\n",
    "\\begin{equation}\\begin{array}{rcl}\n",
    "(M+m)\\ddot{x} + md\\big(\\ddot{\\theta} \\cos\\theta - \\dot{\\theta}^2 \\sin\\theta\\big) = F_x \\\\\n",
    "\\ddot{\\theta} + \\dfrac{\\ddot{x}}{d}\\cos\\theta + \\dfrac{g}{d}\\sin\\theta = 0\n",
    "\\end{array}\\end{equation}"
   ]
  },
  {
   "cell_type": "markdown",
   "metadata": {},
   "source": [
    "### Example 5: Double pendulum under the influence of gravity\n",
    "\n",
    "<figure><img src=\"./../images/doublependulum_lagrange.png\" width=\"200\" alt=\"double pendulum\" style=\"float:right;margin: 10px 50px 10px 50px;\"/></figure>\n",
    "\n",
    "Consider a double pendulum (one pendulum attached to another) with massless rods of length $d_1$ and $d_2$ and masses $m_1$ and $m_2$ at the extremities of each rod swinging in a plane forming the angles $\\theta_1$ and $\\theta_2$ with vertical.  \n",
    "This case could be solved using Newtonian mechanics, but it's not simple (e.g., see [this link](http://www.myphysicslab.com/pendulum/double-pendulum/double-pendulum-en.html)). Instead, let's use the Lagrangian mechanics to derive the equations of motion for each pendulum.  \n",
    "The system has two degrees of freedom and we need two generalized coordinates ($\\theta_1, \\theta_2$) to describe the system's configuration.\n",
    "\n",
    "The position of masses $m_1$ and $m_2$ are:  \n",
    "\n",
    "$x_1 = d_1\\sin\\theta_1$  \n",
    "$y_1 = -d_1\\cos\\theta_1$  \n",
    "\n",
    "$x_2 = d_1\\sin\\theta_1 + d_2\\sin\\theta_2$  \n",
    "$y_2 = -d_1\\cos\\theta_1 - d_2\\cos\\theta_2$  \n",
    "\n",
    "The kinetic and potential energies of the system are:\n",
    "\n",
    "$ T = \\frac{1}{2}m_1(\\dot x_1^2 + \\dot y_1^2) + \\frac{1}{2}m_2(\\dot x_2^2 + \\dot y_2^2) $\n",
    "\n",
    "$ V = m_1gy_1 + m_2gy_2 $\n",
    "\n",
    "Let's use Sympy to help us; in fact we could solve this problem entirely in Sympy, see [Lagrange’s method in Sympy](http://docs.sympy.org/latest/modules/physics/mechanics/lagrange.html), but for now let's do just the derivatives.  \n",
    "\n",
    "Let's import Sympy libraries and define some variables:"
   ]
  },
  {
   "cell_type": "code",
   "execution_count": 4,
   "metadata": {},
   "outputs": [],
   "source": [
    "from sympy import Symbol, symbols, cos, sin, Matrix, simplify, Eq, latex\n",
    "from sympy.physics.mechanics import dynamicsymbols, mlatex, init_vprinting\n",
    "init_vprinting()\n",
    "from IPython.display import display, Math\n",
    "\n",
    "t = Symbol('t')\n",
    "d1, d2, m1, m2, g = symbols('d1 d2 m1 m2 g', positive=True)\n",
    "a1, a2 = dynamicsymbols('theta1 theta2')"
   ]
  },
  {
   "cell_type": "markdown",
   "metadata": {},
   "source": [
    "The positions and velocities of masses $m_1$ and $m_2$ are: "
   ]
  },
  {
   "cell_type": "code",
   "execution_count": 5,
   "metadata": {},
   "outputs": [
    {
     "data": {
      "text/latex": [
       "$\\displaystyle x_1=d_{1} \\operatorname{sin}\\left(\\theta_{1}\\right)\\quad \\text{and} \\quad \\dot{x}_1=d_{1} \\operatorname{cos}\\left(\\theta_{1}\\right) \\dot{\\theta}_{1}$"
      ],
      "text/plain": [
       "<IPython.core.display.Math object>"
      ]
     },
     "metadata": {},
     "output_type": "display_data"
    },
    {
     "data": {
      "text/latex": [
       "$\\displaystyle y_1=- d_{1} \\operatorname{cos}\\left(\\theta_{1}\\right)\\quad \\text{and} \\quad \\dot{y}_1=d_{1} \\operatorname{sin}\\left(\\theta_{1}\\right) \\dot{\\theta}_{1}$"
      ],
      "text/plain": [
       "<IPython.core.display.Math object>"
      ]
     },
     "metadata": {},
     "output_type": "display_data"
    },
    {
     "data": {
      "text/latex": [
       "$\\displaystyle x_2=d_{1} \\operatorname{sin}\\left(\\theta_{1}\\right) + d_{2} \\operatorname{sin}\\left(\\theta_{2}\\right)\\quad \\text{and} \\quad \\dot{x}_2=d_{1} \\operatorname{cos}\\left(\\theta_{1}\\right) \\dot{\\theta}_{1} + d_{2} \\operatorname{cos}\\left(\\theta_{2}\\right) \\dot{\\theta}_{2}$"
      ],
      "text/plain": [
       "<IPython.core.display.Math object>"
      ]
     },
     "metadata": {},
     "output_type": "display_data"
    },
    {
     "data": {
      "text/latex": [
       "$\\displaystyle y_2=- d_{1} \\operatorname{cos}\\left(\\theta_{1}\\right) - d_{2} \\operatorname{cos}\\left(\\theta_{2}\\right)\\quad \\text{and} \\quad \\dot{y}_2=d_{1} \\operatorname{sin}\\left(\\theta_{1}\\right) \\dot{\\theta}_{1} + d_{2} \\operatorname{sin}\\left(\\theta_{2}\\right) \\dot{\\theta}_{2}$"
      ],
      "text/plain": [
       "<IPython.core.display.Math object>"
      ]
     },
     "metadata": {},
     "output_type": "display_data"
    }
   ],
   "source": [
    "x1, y1 = d1*sin(a1), -d1*cos(a1)\n",
    "x2, y2 = d1*sin(a1) + d2*sin(a2), -d1*cos(a1) - d2*cos(a2)\n",
    "x1d, y1d = x1.diff(t), y1.diff(t)\n",
    "x2d, y2d = x2.diff(t), y2.diff(t)\n",
    "\n",
    "display(Math(r'x_1=' + mlatex(x1) + r'\\quad \\text{and} \\quad \\dot{x}_1=' + mlatex(x1d)))\n",
    "display(Math(r'y_1=' + mlatex(y1) + r'\\quad \\text{and} \\quad \\dot{y}_1=' + mlatex(y1d)))\n",
    "display(Math(r'x_2=' + mlatex(x2) + r'\\quad \\text{and} \\quad \\dot{x}_2=' + mlatex(x2d)))\n",
    "display(Math(r'y_2=' + mlatex(y2) + r'\\quad \\text{and} \\quad \\dot{y}_2=' + mlatex(y2d)))"
   ]
  },
  {
   "cell_type": "markdown",
   "metadata": {},
   "source": [
    "The kinetic and potential energies of the system are:"
   ]
  },
  {
   "cell_type": "code",
   "execution_count": 6,
   "metadata": {},
   "outputs": [
    {
     "data": {
      "text/latex": [
       "$\\displaystyle T=\\frac{d_{1}^{2} m_{1} \\dot{\\theta}_{1}^{2}}{2} + \\frac{m_{2} \\left(d_{1}^{2} \\dot{\\theta}_{1}^{2} + 2 d_{1} d_{2} \\operatorname{cos}\\left(\\theta_{1} - \\theta_{2}\\right) \\dot{\\theta}_{1} \\dot{\\theta}_{2} + d_{2}^{2} \\dot{\\theta}_{2}^{2}\\right)}{2}$"
      ],
      "text/plain": [
       "<IPython.core.display.Math object>"
      ]
     },
     "metadata": {},
     "output_type": "display_data"
    },
    {
     "data": {
      "text/latex": [
       "$\\displaystyle V=- g \\left(d_{1} m_{1} \\operatorname{cos}\\left(\\theta_{1}\\right) + d_{1} m_{2} \\operatorname{cos}\\left(\\theta_{1}\\right) + d_{2} m_{2} \\operatorname{cos}\\left(\\theta_{2}\\right)\\right)$"
      ],
      "text/plain": [
       "<IPython.core.display.Math object>"
      ]
     },
     "metadata": {},
     "output_type": "display_data"
    }
   ],
   "source": [
    "T = m1*(x1d**2 + y1d**2)/2 + m2*(x2d**2 + y2d**2)/2\n",
    "V = m1*g*y1 + m2*g*y2\n",
    "\n",
    "display(Math(r'T=' + mlatex(simplify(T))))\n",
    "display(Math(r'V=' + mlatex(simplify(V))))"
   ]
  },
  {
   "cell_type": "markdown",
   "metadata": {},
   "source": [
    "The Lagrangian function is:"
   ]
  },
  {
   "cell_type": "code",
   "execution_count": 7,
   "metadata": {},
   "outputs": [
    {
     "data": {
      "text/latex": [
       "$\\displaystyle \\mathcal{L}=\\frac{d_{1}^{2} m_{1} \\dot{\\theta}_{1}^{2}}{2} + d_{1} g m_{1} \\operatorname{cos}\\left(\\theta_{1}\\right) + g m_{2} \\left(d_{1} \\operatorname{cos}\\left(\\theta_{1}\\right) + d_{2} \\operatorname{cos}\\left(\\theta_{2}\\right)\\right) + \\frac{m_{2} \\left(d_{1}^{2} \\dot{\\theta}_{1}^{2} + 2 d_{1} d_{2} \\operatorname{cos}\\left(\\theta_{1} - \\theta_{2}\\right) \\dot{\\theta}_{1} \\dot{\\theta}_{2} + d_{2}^{2} \\dot{\\theta}_{2}^{2}\\right)}{2}$"
      ],
      "text/plain": [
       "<IPython.core.display.Math object>"
      ]
     },
     "metadata": {},
     "output_type": "display_data"
    }
   ],
   "source": [
    "L = T - V\n",
    "\n",
    "display(Math(r'\\mathcal{L}=' + mlatex(simplify(L))))"
   ]
  },
  {
   "cell_type": "markdown",
   "metadata": {},
   "source": [
    "And the derivatives are (let's write a function to automate this process):"
   ]
  },
  {
   "cell_type": "code",
   "execution_count": 8,
   "metadata": {},
   "outputs": [],
   "source": [
    "def lagrange_terms(L, *q, show=True):\n",
    "    \"\"\"Calculate terms of Lagrange equations given the Lagrangian and q's.\n",
    "    \"\"\"\n",
    "    Lterms = []\n",
    "    for qi in q:\n",
    "        dLdqi = simplify(L.diff(qi))\n",
    "        Lterms.append(dLdqi)\n",
    "        dLdqdi = simplify(L.diff(qi.diff(t)))\n",
    "        Lterms.append(dLdqdi)\n",
    "        dtdLdqdi = simplify(dLdqdi.diff(t))\n",
    "        Lterms.append(dtdLdqdi)\n",
    "        if show:\n",
    "            display(Math(r'w.r.t.\\;%s:'%latex(qi.func)))\n",
    "            display(Math(r'\\dfrac{\\partial\\mathcal{L}}{\\partial %s}='\n",
    "                         %latex(qi.func) + mlatex(dLdqi)))\n",
    "            display(Math(r'\\dfrac{\\partial\\mathcal{L}}{\\partial\\dot{%s}}='\n",
    "                         %latex(qi.func) + mlatex(dLdqdi)))\n",
    "            display(Math(r'\\dfrac{\\mathrm d}{\\mathrm{dt}}\\left({\\dfrac{'+ \n",
    "                         r'\\partial\\mathcal{L}}{\\partial\\dot{%s}}}\\right)='\n",
    "                         %latex(qi.func) + mlatex(dtdLdqdi)))\n",
    "    return Lterms      "
   ]
  },
  {
   "cell_type": "code",
   "execution_count": 9,
   "metadata": {},
   "outputs": [
    {
     "data": {
      "text/latex": [
       "$\\displaystyle w.r.t.\\;\\theta_{1}:$"
      ],
      "text/plain": [
       "<IPython.core.display.Math object>"
      ]
     },
     "metadata": {},
     "output_type": "display_data"
    },
    {
     "data": {
      "text/latex": [
       "$\\displaystyle \\dfrac{\\partial\\mathcal{L}}{\\partial \\theta_{1}}=- d_{1} \\left(d_{2} m_{2} \\operatorname{sin}\\left(\\theta_{1} - \\theta_{2}\\right) \\dot{\\theta}_{1} \\dot{\\theta}_{2} + g m_{1} \\operatorname{sin}\\left(\\theta_{1}\\right) + g m_{2} \\operatorname{sin}\\left(\\theta_{1}\\right)\\right)$"
      ],
      "text/plain": [
       "<IPython.core.display.Math object>"
      ]
     },
     "metadata": {},
     "output_type": "display_data"
    },
    {
     "data": {
      "text/latex": [
       "$\\displaystyle \\dfrac{\\partial\\mathcal{L}}{\\partial\\dot{\\theta_{1}}}=d_{1} \\left(d_{1} m_{1} \\dot{\\theta}_{1} + m_{2} \\left(d_{1} \\dot{\\theta}_{1} + d_{2} \\operatorname{cos}\\left(\\theta_{1} - \\theta_{2}\\right) \\dot{\\theta}_{2}\\right)\\right)$"
      ],
      "text/plain": [
       "<IPython.core.display.Math object>"
      ]
     },
     "metadata": {},
     "output_type": "display_data"
    },
    {
     "data": {
      "text/latex": [
       "$\\displaystyle \\dfrac{\\mathrm d}{\\mathrm{dt}}\\left({\\dfrac{\\partial\\mathcal{L}}{\\partial\\dot{\\theta_{1}}}}\\right)=d_{1} \\left(d_{1} m_{1} \\ddot{\\theta}_{1} + m_{2} \\left(d_{1} \\ddot{\\theta}_{1} - d_{2} \\left(\\dot{\\theta}_{1} - \\dot{\\theta}_{2}\\right) \\operatorname{sin}\\left(\\theta_{1} - \\theta_{2}\\right) \\dot{\\theta}_{2} + d_{2} \\operatorname{cos}\\left(\\theta_{1} - \\theta_{2}\\right) \\ddot{\\theta}_{2}\\right)\\right)$"
      ],
      "text/plain": [
       "<IPython.core.display.Math object>"
      ]
     },
     "metadata": {},
     "output_type": "display_data"
    },
    {
     "data": {
      "text/latex": [
       "$\\displaystyle w.r.t.\\;\\theta_{2}:$"
      ],
      "text/plain": [
       "<IPython.core.display.Math object>"
      ]
     },
     "metadata": {},
     "output_type": "display_data"
    },
    {
     "data": {
      "text/latex": [
       "$\\displaystyle \\dfrac{\\partial\\mathcal{L}}{\\partial \\theta_{2}}=d_{2} m_{2} \\left(d_{1} \\operatorname{sin}\\left(\\theta_{1} - \\theta_{2}\\right) \\dot{\\theta}_{1} \\dot{\\theta}_{2} - g \\operatorname{sin}\\left(\\theta_{2}\\right)\\right)$"
      ],
      "text/plain": [
       "<IPython.core.display.Math object>"
      ]
     },
     "metadata": {},
     "output_type": "display_data"
    },
    {
     "data": {
      "text/latex": [
       "$\\displaystyle \\dfrac{\\partial\\mathcal{L}}{\\partial\\dot{\\theta_{2}}}=d_{2} m_{2} \\left(d_{1} \\operatorname{cos}\\left(\\theta_{1} - \\theta_{2}\\right) \\dot{\\theta}_{1} + d_{2} \\dot{\\theta}_{2}\\right)$"
      ],
      "text/plain": [
       "<IPython.core.display.Math object>"
      ]
     },
     "metadata": {},
     "output_type": "display_data"
    },
    {
     "data": {
      "text/latex": [
       "$\\displaystyle \\dfrac{\\mathrm d}{\\mathrm{dt}}\\left({\\dfrac{\\partial\\mathcal{L}}{\\partial\\dot{\\theta_{2}}}}\\right)=d_{2} m_{2} \\left(- d_{1} \\left(\\dot{\\theta}_{1} - \\dot{\\theta}_{2}\\right) \\operatorname{sin}\\left(\\theta_{1} - \\theta_{2}\\right) \\dot{\\theta}_{1} + d_{1} \\operatorname{cos}\\left(\\theta_{1} - \\theta_{2}\\right) \\ddot{\\theta}_{1} + d_{2} \\ddot{\\theta}_{2}\\right)$"
      ],
      "text/plain": [
       "<IPython.core.display.Math object>"
      ]
     },
     "metadata": {},
     "output_type": "display_data"
    }
   ],
   "source": [
    "Lterms = lagrange_terms(L, a1, a2)"
   ]
  },
  {
   "cell_type": "markdown",
   "metadata": {},
   "source": [
    "Finally, the Lagrange's equations (the equations of motion) are:"
   ]
  },
  {
   "cell_type": "code",
   "execution_count": 10,
   "metadata": {},
   "outputs": [
    {
     "data": {
      "image/png": "[encoded data removed]",
      "text/latex": [
       "$$d_{1} \\left(d_{1} m_{1} \\ddot{\\theta}_{1} + d_{1} m_{2} \\ddot{\\theta}_{1} + d_{2} m_{2} \\operatorname{sin}\\left(\\theta_{1} - \\theta_{2}\\right) \\dot{\\theta}_{2}^{2} + d_{2} m_{2} \\operatorname{cos}\\left(\\theta_{1} - \\theta_{2}\\right) \\ddot{\\theta}_{2} + g m_{1} \\operatorname{sin}\\left(\\theta_{1}\\right) + g m_{2} \\operatorname{sin}\\left(\\theta_{1}\\right)\\right) = 0$$"
      ],
      "text/plain": [
       "   ⎛                                              2                           \n",
       "d₁⋅⎝d₁⋅m₁⋅θ₁̈ + d₁⋅m₂⋅θ₁̈ + d₂⋅m₂⋅sin(θ₁ - θ₂)⋅θ₂̇  + d₂⋅m₂⋅cos(θ₁ - θ₂)⋅θ₂̈ +\n",
       "\n",
       "                            ⎞    \n",
       " g⋅m₁⋅sin(θ₁) + g⋅m₂⋅sin(θ₁)⎠ = 0"
      ]
     },
     "metadata": {},
     "output_type": "display_data"
    },
    {
     "data": {
      "image/png": "[encoded data removed]",
      "text/latex": [
       "$$d_{2} m_{2} \\left(- d_{1} \\operatorname{sin}\\left(\\theta_{1} - \\theta_{2}\\right) \\dot{\\theta}_{1}^{2} + d_{1} \\operatorname{cos}\\left(\\theta_{1} - \\theta_{2}\\right) \\ddot{\\theta}_{1} + d_{2} \\ddot{\\theta}_{2} + g \\operatorname{sin}\\left(\\theta_{2}\\right)\\right) = 0$$"
      ],
      "text/plain": [
       "      ⎛                     2                                           ⎞    \n",
       "d₂⋅m₂⋅⎝- d₁⋅sin(θ₁ - θ₂)⋅θ₁̇  + d₁⋅cos(θ₁ - θ₂)⋅θ₁̈ + d₂⋅θ₂̈ + g⋅sin(θ₂)⎠ = 0"
      ]
     },
     "metadata": {},
     "output_type": "display_data"
    }
   ],
   "source": [
    "for i in range(int(len(Lterms)/3)):\n",
    "    display(Eq(simplify(Lterms[3*i+2]-Lterms[3*i]), 0))"
   ]
  },
  {
   "cell_type": "markdown",
   "metadata": {},
   "source": [
    "The motion of a double pendulum is very interesting; most of times it presents a chaotic behavior, see for example [https://www.myphysicslab.com/pendulum/double-pendulum-en.html](https://www.myphysicslab.com/pendulum/double-pendulum-en.html)."
   ]
  },
  {
   "cell_type": "markdown",
   "metadata": {},
   "source": [
    "#### Example 5a: Numerical solution of the equation of motion for the double pendulum\n",
    "\n",
    "In order to solve numerically the ODEs for the double pendulum we will transform each equation above into two first ODEs. As the two variables $\\ddot{\\theta_1}$ and $\\ddot{\\theta_2}$ appear in both equations, first we have to rearrange the equations to find expressions for $\\ddot{\\theta_1}$ and $\\ddot{\\theta_2}$. Second, we define two variables and then we can use these equations as we did for the single pendulum.  \n",
    "But we should avoid to use the Euler's method because of the non-negligible error in the numerical integration in this case; more accurate methods such as [Runge-Kutta](https://en.wikipedia.org/wiki/Runge%E2%80%93Kutta_methods) should be employed. "
   ]
  },
  {
   "cell_type": "markdown",
   "metadata": {},
   "source": [
    "### Example 6: Double compound pendulum under the influence of gravity\n",
    "\n",
    "<figure><img src=\"./../images/pendula_lagrange.png\" width=\"200\" alt=\"double pendulum\" style=\"float:right;margin: 10px 50px 10px 50px;\"/></figure>\n",
    "\n",
    "Consider the double compound pendulum shown on the the right with length $d$ and mass $m$ of each rod swinging in a plane forming the angles $\\theta_1$ and $\\theta_2$ with vertical.  \n",
    "The system has two degrees of freedom and we need two generalized coordinates ($\\theta_1, \\theta_2$) to describe the system's configuration.  \n",
    "\n",
    "Let's use the Lagrangian mechanics to derive the equations of motion for each pendulum.  \n",
    "\n",
    "To calculate the potential and kinetic energy of the system, we will need to calculate the position and velocity of each pendulum. Now each pendulum is a rod with distributed mass and we will have to calculate the moment of rotational inertia of the rod. In this case, the kinetic energy of each pendulum will be given as the kinetic energy due to rotation of the pendulum plus the kinetic energy due to the speed of the center of mass of the pendulum, such that the total kinetic energy of the system is:\n",
    "\n",
    "$ T = \\overbrace{\\underbrace{\\frac{1}{2}I_{cm}\\dot\\theta_1^2}_{\\text{rotation}} + \\underbrace{\\frac{1}{2}m(\\dot x_{1,cm}^2 + \\dot y_{1,cm}^2)}_{\\text{translation}}}^{\\text{pendulum 1}} + \\overbrace{\\underbrace{\\frac{1}{2}I_{cm}\\dot\\theta_2^2}_{\\text{rotation}} + \\underbrace{\\frac{1}{2}m(\\dot x_{2,cm}^2 + \\dot y_{2,cm}^2)}_{\\text{translation}}}^{\\text{pendulum 2}} $\n",
    "\n",
    "And the potential energy of the system is:\n",
    "\n",
    "$ V = mg\\big(y_{1,cm} + y_{2,cm}\\big) $\n",
    "\n",
    "Once again, Sympy is on our side.\n",
    "\n",
    "The position and velocity of the center of mass of the rods $1$ and $2$ are: "
   ]
  },
  {
   "cell_type": "code",
   "execution_count": 11,
   "metadata": {},
   "outputs": [
    {
     "data": {
      "text/latex": [
       "$\\displaystyle x_1=\\frac{d \\operatorname{sin}\\left(\\theta_{1}\\right)}{2}\\quad \\text{and} \\quad \\dot{x}_1=\\frac{d \\operatorname{cos}\\left(\\theta_{1}\\right) \\dot{\\theta}_{1}}{2}$"
      ],
      "text/plain": [
       "<IPython.core.display.Math object>"
      ]
     },
     "metadata": {},
     "output_type": "display_data"
    },
    {
     "data": {
      "text/latex": [
       "$\\displaystyle y_1=- \\frac{d \\operatorname{cos}\\left(\\theta_{1}\\right)}{2}\\quad \\text{and} \\quad \\dot{y}_1=\\frac{d \\operatorname{sin}\\left(\\theta_{1}\\right) \\dot{\\theta}_{1}}{2}$"
      ],
      "text/plain": [
       "<IPython.core.display.Math object>"
      ]
     },
     "metadata": {},
     "output_type": "display_data"
    },
    {
     "data": {
      "text/latex": [
       "$\\displaystyle x_2=d \\operatorname{sin}\\left(\\theta_{1}\\right) + \\frac{d \\operatorname{sin}\\left(\\theta_{2}\\right)}{2}\\quad \\text{and} \\quad \\dot{x}_2=d \\operatorname{cos}\\left(\\theta_{1}\\right) \\dot{\\theta}_{1} + \\frac{d \\operatorname{cos}\\left(\\theta_{2}\\right) \\dot{\\theta}_{2}}{2}$"
      ],
      "text/plain": [
       "<IPython.core.display.Math object>"
      ]
     },
     "metadata": {},
     "output_type": "display_data"
    },
    {
     "data": {
      "text/latex": [
       "$\\displaystyle y_2=- d \\operatorname{cos}\\left(\\theta_{1}\\right) - \\frac{d \\operatorname{cos}\\left(\\theta_{2}\\right)}{2}\\quad \\text{and} \\quad \\dot{y}_2=d \\operatorname{sin}\\left(\\theta_{1}\\right) \\dot{\\theta}_{1} + \\frac{d \\operatorname{sin}\\left(\\theta_{2}\\right) \\dot{\\theta}_{2}}{2}$"
      ],
      "text/plain": [
       "<IPython.core.display.Math object>"
      ]
     },
     "metadata": {},
     "output_type": "display_data"
    }
   ],
   "source": [
    "d, m, g = symbols('d m g', positive=True)\n",
    "a1, a2 = dynamicsymbols('theta1 theta2')\n",
    "I = m*d*d/12\n",
    "\n",
    "x1, y1 = d*sin(a1)/2, -d*cos(a1)/2\n",
    "x2, y2 = d*sin(a1) + d*sin(a2)/2, -d*cos(a1) - d*cos(a2)/2\n",
    "x1d, y1d = x1.diff(t), y1.diff(t)\n",
    "x2d, y2d = x2.diff(t), y2.diff(t)\n",
    "\n",
    "display(Math(r'x_1=' + mlatex(x1) + r'\\quad \\text{and} \\quad \\dot{x}_1=' + mlatex(x1d)))\n",
    "display(Math(r'y_1=' + mlatex(y1) + r'\\quad \\text{and} \\quad \\dot{y}_1=' + mlatex(y1d)))\n",
    "display(Math(r'x_2=' + mlatex(x2) + r'\\quad \\text{and} \\quad \\dot{x}_2=' + mlatex(x2d)))\n",
    "display(Math(r'y_2=' + mlatex(y2) + r'\\quad \\text{and} \\quad \\dot{y}_2=' + mlatex(y2d)))"
   ]
  },
  {
   "cell_type": "markdown",
   "metadata": {},
   "source": [
    "The kinetic and potential energies of the system are:"
   ]
  },
  {
   "cell_type": "code",
   "execution_count": 12,
   "metadata": {},
   "outputs": [
    {
     "data": {
      "text/latex": [
       "$\\displaystyle T=\\frac{d^{2} m \\left(3 \\operatorname{cos}\\left(\\theta_{1} - \\theta_{2}\\right) \\dot{\\theta}_{1} \\dot{\\theta}_{2} + 4 \\dot{\\theta}_{1}^{2} + \\dot{\\theta}_{2}^{2}\\right)}{6}$"
      ],
      "text/plain": [
       "<IPython.core.display.Math object>"
      ]
     },
     "metadata": {},
     "output_type": "display_data"
    },
    {
     "data": {
      "text/latex": [
       "$\\displaystyle V=- \\frac{d g m \\left(3 \\operatorname{cos}\\left(\\theta_{1}\\right) + \\operatorname{cos}\\left(\\theta_{2}\\right)\\right)}{2}$"
      ],
      "text/plain": [
       "<IPython.core.display.Math object>"
      ]
     },
     "metadata": {},
     "output_type": "display_data"
    }
   ],
   "source": [
    "T = I/2*(a1.diff(t))**2 + m*(x1d**2+y1d**2)/2 + I/2*(a2.diff(t))**2 + m*(x2d**2+y2d**2)/2\n",
    "V = m*g*y1 + m*g*y2\n",
    "\n",
    "display(Math(r'T=' + mlatex(simplify(T))))\n",
    "display(Math(r'V=' + mlatex(simplify(V))))"
   ]
  },
  {
   "cell_type": "markdown",
   "metadata": {},
   "source": [
    "The Lagrangian function is:"
   ]
  },
  {
   "cell_type": "code",
   "execution_count": 13,
   "metadata": {},
   "outputs": [
    {
     "data": {
      "text/latex": [
       "$\\displaystyle \\mathcal{L}=\\frac{d m \\left(3 d \\operatorname{cos}\\left(\\theta_{1} - \\theta_{2}\\right) \\dot{\\theta}_{1} \\dot{\\theta}_{2} + 4 d \\dot{\\theta}_{1}^{2} + d \\dot{\\theta}_{2}^{2} + 9 g \\operatorname{cos}\\left(\\theta_{1}\\right) + 3 g \\operatorname{cos}\\left(\\theta_{2}\\right)\\right)}{6}$"
      ],
      "text/plain": [
       "<IPython.core.display.Math object>"
      ]
     },
     "metadata": {},
     "output_type": "display_data"
    }
   ],
   "source": [
    "L = T - V\n",
    "\n",
    "display(Math(r'\\mathcal{L}=' + mlatex(simplify(L))))"
   ]
  },
  {
   "cell_type": "markdown",
   "metadata": {},
   "source": [
    "And the derivatives are (let's write a function to automate this process):"
   ]
  },
  {
   "cell_type": "code",
   "execution_count": 14,
   "metadata": {},
   "outputs": [
    {
     "data": {
      "text/latex": [
       "$\\displaystyle w.r.t.\\;\\theta_{1}:$"
      ],
      "text/plain": [
       "<IPython.core.display.Math object>"
      ]
     },
     "metadata": {},
     "output_type": "display_data"
    },
    {
     "data": {
      "text/latex": [
       "$\\displaystyle \\dfrac{\\partial\\mathcal{L}}{\\partial \\theta_{1}}=- \\frac{d m \\left(d \\operatorname{sin}\\left(\\theta_{1} - \\theta_{2}\\right) \\dot{\\theta}_{1} \\dot{\\theta}_{2} + 3 g \\operatorname{sin}\\left(\\theta_{1}\\right)\\right)}{2}$"
      ],
      "text/plain": [
       "<IPython.core.display.Math object>"
      ]
     },
     "metadata": {},
     "output_type": "display_data"
    },
    {
     "data": {
      "text/latex": [
       "$\\displaystyle \\dfrac{\\partial\\mathcal{L}}{\\partial\\dot{\\theta_{1}}}=\\frac{d^{2} m \\left(6 \\operatorname{cos}\\left(\\theta_{1} - \\theta_{2}\\right) \\dot{\\theta}_{2} + 16 \\dot{\\theta}_{1}\\right)}{12}$"
      ],
      "text/plain": [
       "<IPython.core.display.Math object>"
      ]
     },
     "metadata": {},
     "output_type": "display_data"
    },
    {
     "data": {
      "text/latex": [
       "$\\displaystyle \\dfrac{\\mathrm d}{\\mathrm{dt}}\\left({\\dfrac{\\partial\\mathcal{L}}{\\partial\\dot{\\theta_{1}}}}\\right)=\\frac{d^{2} m \\left(- 3 \\left(\\dot{\\theta}_{1} - \\dot{\\theta}_{2}\\right) \\operatorname{sin}\\left(\\theta_{1} - \\theta_{2}\\right) \\dot{\\theta}_{2} + 3 \\operatorname{cos}\\left(\\theta_{1} - \\theta_{2}\\right) \\ddot{\\theta}_{2} + 8 \\ddot{\\theta}_{1}\\right)}{6}$"
      ],
      "text/plain": [
       "<IPython.core.display.Math object>"
      ]
     },
     "metadata": {},
     "output_type": "display_data"
    },
    {
     "data": {
      "text/latex": [
       "$\\displaystyle w.r.t.\\;\\theta_{2}:$"
      ],
      "text/plain": [
       "<IPython.core.display.Math object>"
      ]
     },
     "metadata": {},
     "output_type": "display_data"
    },
    {
     "data": {
      "text/latex": [
       "$\\displaystyle \\dfrac{\\partial\\mathcal{L}}{\\partial \\theta_{2}}=\\frac{d m \\left(d \\operatorname{sin}\\left(\\theta_{1} - \\theta_{2}\\right) \\dot{\\theta}_{1} \\dot{\\theta}_{2} - g \\operatorname{sin}\\left(\\theta_{2}\\right)\\right)}{2}$"
      ],
      "text/plain": [
       "<IPython.core.display.Math object>"
      ]
     },
     "metadata": {},
     "output_type": "display_data"
    },
    {
     "data": {
      "text/latex": [
       "$\\displaystyle \\dfrac{\\partial\\mathcal{L}}{\\partial\\dot{\\theta_{2}}}=\\frac{d^{2} m \\left(6 \\operatorname{cos}\\left(\\theta_{1} - \\theta_{2}\\right) \\dot{\\theta}_{1} + 4 \\dot{\\theta}_{2}\\right)}{12}$"
      ],
      "text/plain": [
       "<IPython.core.display.Math object>"
      ]
     },
     "metadata": {},
     "output_type": "display_data"
    },
    {
     "data": {
      "text/latex": [
       "$\\displaystyle \\dfrac{\\mathrm d}{\\mathrm{dt}}\\left({\\dfrac{\\partial\\mathcal{L}}{\\partial\\dot{\\theta_{2}}}}\\right)=\\frac{d^{2} m \\left(- 3 \\left(\\dot{\\theta}_{1} - \\dot{\\theta}_{2}\\right) \\operatorname{sin}\\left(\\theta_{1} - \\theta_{2}\\right) \\dot{\\theta}_{1} + 3 \\operatorname{cos}\\left(\\theta_{1} - \\theta_{2}\\right) \\ddot{\\theta}_{1} + 2 \\ddot{\\theta}_{2}\\right)}{6}$"
      ],
      "text/plain": [
       "<IPython.core.display.Math object>"
      ]
     },
     "metadata": {},
     "output_type": "display_data"
    }
   ],
   "source": [
    "Lterms = lagrange_terms(L, a1, a2)"
   ]
  },
  {
   "cell_type": "markdown",
   "metadata": {},
   "source": [
    "Finally, the Lagrange's equations (the equations of motion) are:"
   ]
  },
  {
   "cell_type": "code",
   "execution_count": 15,
   "metadata": {},
   "outputs": [
    {
     "data": {
      "image/png": "[encoded data removed]",
      "text/latex": [
       "$$\\frac{d m \\left(3 d \\operatorname{sin}\\left(\\theta_{1} - \\theta_{2}\\right) \\dot{\\theta}_{2}^{2} + 3 d \\operatorname{cos}\\left(\\theta_{1} - \\theta_{2}\\right) \\ddot{\\theta}_{2} + 8 d \\ddot{\\theta}_{1} + 9 g \\operatorname{sin}\\left(\\theta_{1}\\right)\\right)}{6} = 0$$"
      ],
      "text/plain": [
       "    ⎛                    2                                               ⎞    \n",
       "d⋅m⋅⎝3⋅d⋅sin(θ₁ - θ₂)⋅θ₂̇  + 3⋅d⋅cos(θ₁ - θ₂)⋅θ₂̈ + 8⋅d⋅θ₁̈ + 9⋅g⋅sin(θ₁)⎠    \n",
       "────────────────────────────────────────────────────────────────────────── = 0\n",
       "                                    6                                         "
      ]
     },
     "metadata": {},
     "output_type": "display_data"
    },
    {
     "data": {
      "image/png": "[encoded data removed]",
      "text/latex": [
       "$$\\frac{d m \\left(- 3 d \\operatorname{sin}\\left(\\theta_{1} - \\theta_{2}\\right) \\dot{\\theta}_{1}^{2} + 3 d \\operatorname{cos}\\left(\\theta_{1} - \\theta_{2}\\right) \\ddot{\\theta}_{1} + 2 d \\ddot{\\theta}_{2} + 3 g \\operatorname{sin}\\left(\\theta_{2}\\right)\\right)}{6} = 0$$"
      ],
      "text/plain": [
       "    ⎛                      2                                               ⎞  \n",
       "d⋅m⋅⎝- 3⋅d⋅sin(θ₁ - θ₂)⋅θ₁̇  + 3⋅d⋅cos(θ₁ - θ₂)⋅θ₁̈ + 2⋅d⋅θ₂̈ + 3⋅g⋅sin(θ₂)⎠  \n",
       "──────────────────────────────────────────────────────────────────────────── =\n",
       "                                     6                                        \n",
       "\n",
       "  \n",
       "  \n",
       " 0\n",
       "  "
      ]
     },
     "metadata": {},
     "output_type": "display_data"
    }
   ],
   "source": [
    "for i in range(int(len(Lterms)/3)):\n",
    "    display(Eq(simplify(Lterms[3*i+2]-Lterms[3*i]), 0))"
   ]
  },
  {
   "cell_type": "markdown",
   "metadata": {},
   "source": [
    "### Example 7: Two masses and two springs under the influence of gravity\n",
    "\n",
    "<figure><img src=\"./../images/springs_masses_g.png\" width=\"200\" alt=\"double pendulum\" style=\"float:right;margin: 10px 50px 10px 50px;\"/></figure>\n",
    "\n",
    "Consider a system composed by two masses and two springs attached in series with massless springs under gravity and a force on $m_2$ as shown in the figure.  \n",
    "The system has two degrees of freedom and we need two generalized coordinates to describe the system's configuration, for example, ${y_1, y_2}$, the positions of masses $m_1, m_2$ w.r.t. the ceiling (the origin).  \n",
    "\n",
    "(We could also have used ${z_1, z_2}$, the position of mass $m_1$ w.r.t. the ceiling and the position of mass $m_2$ w.r.t. the mass $m_1$. But the first set of coordinates would be the only choice if we were solving the problem using Newtonian mechanics because we can only apply Newton's second law to an inertial frame of reference.)\n",
    "\n",
    "The kinetic energy of the system is:\n",
    "\n",
    "$ T = \\frac{1}{2}m_1\\dot y_1^2 + \\frac{1}{2}m_2\\dot y_2^2 $\n",
    "\n",
    "The potential energy of the system is:\n",
    "\n",
    "$ V = \\frac{1}{2}k_1 (y_1-y_{1,0})^2 + \\frac{1}{2}k_2 ((y_2-y_{2,0})-y_1)^2 - m_1gy_1 - m_2g y_2 $\n",
    "\n",
    "Where $y_{1,0}, y_{2,0}$ are the resting lengths (constants) of the two springs because the elastic potential energy is proportional to the deformation ($y-y_0$) of the spring. For simplicity, let's ignore the resting position of each spring, so:  \n",
    "\n",
    "$ V = \\frac{1}{2}k_1 y_1^2 + \\frac{1}{2}k_2 (y_2-y_1)^2 - m_1gy_1 - m_2g y_2 $\n",
    "\n",
    "Sympy is our friend:"
   ]
  },
  {
   "cell_type": "code",
   "execution_count": 16,
   "metadata": {},
   "outputs": [],
   "source": [
    "from sympy import Symbol, symbols, cos, sin, Matrix, simplify, Eq, latex\n",
    "from sympy.physics.mechanics import dynamicsymbols, mlatex, init_vprinting\n",
    "init_vprinting()\n",
    "from IPython.display import display, Math\n",
    "\n",
    "t = Symbol('t')\n",
    "m1, m2, g, k1, k2 = symbols('m1 m2 g k1 k2', positive=True)\n",
    "y1, y2, F = dynamicsymbols('y1 y2 F')"
   ]
  },
  {
   "cell_type": "markdown",
   "metadata": {},
   "source": [
    "The kinetic and potential energies of the system are:"
   ]
  },
  {
   "cell_type": "code",
   "execution_count": 17,
   "metadata": {},
   "outputs": [
    {
     "data": {
      "text/latex": [
       "$\\displaystyle T=\\frac{m_{1} \\dot{y}_{1}^{2}}{2} + \\frac{m_{2} \\dot{y}_{2}^{2}}{2}$"
      ],
      "text/plain": [
       "<IPython.core.display.Math object>"
      ]
     },
     "metadata": {},
     "output_type": "display_data"
    },
    {
     "data": {
      "text/latex": [
       "$\\displaystyle V=- g m_{1} y_{1} - g m_{2} y_{2} + \\frac{k_{1} y^{2}_{1}}{2} + \\frac{k_{2} \\left(y_{1} - y_{2}\\right)^{2}}{2}$"
      ],
      "text/plain": [
       "<IPython.core.display.Math object>"
      ]
     },
     "metadata": {},
     "output_type": "display_data"
    }
   ],
   "source": [
    "y1d, y2d = y1.diff(t), y2.diff(t)\n",
    "\n",
    "T = (m1*y1d**2)/2 + (m2*y2d**2)/2\n",
    "V = (k1*y1**2)/2 + (k2*(y2-y1)**2)/2 - m1*g*y1 - m2*g*y2\n",
    "\n",
    "display(Math(r'T=' + mlatex(simplify(T))))\n",
    "display(Math(r'V=' + mlatex(simplify(V))))"
   ]
  },
  {
   "cell_type": "markdown",
   "metadata": {},
   "source": [
    "The Lagrangian function is:"
   ]
  },
  {
   "cell_type": "code",
   "execution_count": 18,
   "metadata": {},
   "outputs": [
    {
     "data": {
      "text/latex": [
       "$\\displaystyle \\mathcal{L}=g m_{1} y_{1} + g m_{2} y_{2} - \\frac{k_{1} y^{2}_{1}}{2} - \\frac{k_{2} \\left(y_{1} - y_{2}\\right)^{2}}{2} + \\frac{m_{1} \\dot{y}_{1}^{2}}{2} + \\frac{m_{2} \\dot{y}_{2}^{2}}{2}$"
      ],
      "text/plain": [
       "<IPython.core.display.Math object>"
      ]
     },
     "metadata": {},
     "output_type": "display_data"
    }
   ],
   "source": [
    "L = T - V\n",
    "\n",
    "display(Math(r'\\mathcal{L}=' + mlatex(simplify(L))))"
   ]
  },
  {
   "cell_type": "markdown",
   "metadata": {},
   "source": [
    "And the derivatives are (let's write a function to automate this process):"
   ]
  },
  {
   "cell_type": "code",
   "execution_count": 19,
   "metadata": {},
   "outputs": [
    {
     "data": {
      "text/latex": [
       "$\\displaystyle w.r.t.\\;\\operatorname{y_{1}}:$"
      ],
      "text/plain": [
       "<IPython.core.display.Math object>"
      ]
     },
     "metadata": {},
     "output_type": "display_data"
    },
    {
     "data": {
      "text/latex": [
       "$\\displaystyle \\dfrac{\\partial\\mathcal{L}}{\\partial \\operatorname{y_{1}}}=g m_{1} - k_{1} y_{1} - k_{2} \\left(y_{1} - y_{2}\\right)$"
      ],
      "text/plain": [
       "<IPython.core.display.Math object>"
      ]
     },
     "metadata": {},
     "output_type": "display_data"
    },
    {
     "data": {
      "text/latex": [
       "$\\displaystyle \\dfrac{\\partial\\mathcal{L}}{\\partial\\dot{\\operatorname{y_{1}}}}=m_{1} \\dot{y}_{1}$"
      ],
      "text/plain": [
       "<IPython.core.display.Math object>"
      ]
     },
     "metadata": {},
     "output_type": "display_data"
    },
    {
     "data": {
      "text/latex": [
       "$\\displaystyle \\dfrac{\\mathrm d}{\\mathrm{dt}}\\left({\\dfrac{\\partial\\mathcal{L}}{\\partial\\dot{\\operatorname{y_{1}}}}}\\right)=m_{1} \\ddot{y}_{1}$"
      ],
      "text/plain": [
       "<IPython.core.display.Math object>"
      ]
     },
     "metadata": {},
     "output_type": "display_data"
    },
    {
     "data": {
      "text/latex": [
       "$\\displaystyle w.r.t.\\;\\operatorname{y_{2}}:$"
      ],
      "text/plain": [
       "<IPython.core.display.Math object>"
      ]
     },
     "metadata": {},
     "output_type": "display_data"
    },
    {
     "data": {
      "text/latex": [
       "$\\displaystyle \\dfrac{\\partial\\mathcal{L}}{\\partial \\operatorname{y_{2}}}=g m_{2} + k_{2} \\left(y_{1} - y_{2}\\right)$"
      ],
      "text/plain": [
       "<IPython.core.display.Math object>"
      ]
     },
     "metadata": {},
     "output_type": "display_data"
    },
    {
     "data": {
      "text/latex": [
       "$\\displaystyle \\dfrac{\\partial\\mathcal{L}}{\\partial\\dot{\\operatorname{y_{2}}}}=m_{2} \\dot{y}_{2}$"
      ],
      "text/plain": [
       "<IPython.core.display.Math object>"
      ]
     },
     "metadata": {},
     "output_type": "display_data"
    },
    {
     "data": {
      "text/latex": [
       "$\\displaystyle \\dfrac{\\mathrm d}{\\mathrm{dt}}\\left({\\dfrac{\\partial\\mathcal{L}}{\\partial\\dot{\\operatorname{y_{2}}}}}\\right)=m_{2} \\ddot{y}_{2}$"
      ],
      "text/plain": [
       "<IPython.core.display.Math object>"
      ]
     },
     "metadata": {},
     "output_type": "display_data"
    }
   ],
   "source": [
    "Lterms = lagrange_terms(L, y1, y2)"
   ]
  },
  {
   "cell_type": "markdown",
   "metadata": {},
   "source": [
    "Finally, the Lagrange's equations (the equations of motion) are:"
   ]
  },
  {
   "cell_type": "code",
   "execution_count": 20,
   "metadata": {},
   "outputs": [
    {
     "data": {
      "image/png": "[encoded data removed]",
      "text/latex": [
       "$$- g m_{1} + k_{1} y_{1} + k_{2} \\left(y_{1} - y_{2}\\right) + m_{1} \\ddot{y}_{1} = 0$$"
      ],
      "text/plain": [
       "-g⋅m₁ + k₁⋅y₁ + k₂⋅(y₁ - y₂) + m₁⋅y₁̈ = 0"
      ]
     },
     "metadata": {},
     "output_type": "display_data"
    },
    {
     "data": {
      "image/png": "[encoded data removed]",
      "text/latex": [
       "$$- g m_{2} - k_{2} \\left(y_{1} - y_{2}\\right) + m_{2} \\ddot{y}_{2} = F$$"
      ],
      "text/plain": [
       "-g⋅m₂ - k₂⋅(y₁ - y₂) + m₂⋅y₂̈ = F"
      ]
     },
     "metadata": {},
     "output_type": "display_data"
    }
   ],
   "source": [
    "display(Eq(simplify(Lterms[2]-Lterms[0]), 0))\n",
    "display(Eq(simplify(Lterms[5]-Lterms[3]), F))"
   ]
  },
  {
   "cell_type": "markdown",
   "metadata": {},
   "source": [
    "**Same problem, but with other set of coordinates**\n",
    "\n",
    "Using ${z_1, z_2}$ as the position of mass $m_1$ w.r.t. the ceiling and the position of mass $m_2$ w.r.t. the mass $m_1$, the solution is:"
   ]
  },
  {
   "cell_type": "code",
   "execution_count": 21,
   "metadata": {},
   "outputs": [
    {
     "data": {
      "text/latex": [
       "$\\displaystyle T=\\frac{m_{1} \\dot{z}_{1}^{2}}{2} + \\frac{m_{2} \\left(\\dot{z}_{1} + \\dot{z}_{2}\\right)^{2}}{2}$"
      ],
      "text/plain": [
       "<IPython.core.display.Math object>"
      ]
     },
     "metadata": {},
     "output_type": "display_data"
    },
    {
     "data": {
      "text/latex": [
       "$\\displaystyle V=- g m_{1} z_{1} - g m_{2} \\left(z_{1} + z_{2}\\right) + \\frac{k_{1} z^{2}_{1}}{2} + \\frac{k_{2} z^{2}_{2}}{2}$"
      ],
      "text/plain": [
       "<IPython.core.display.Math object>"
      ]
     },
     "metadata": {},
     "output_type": "display_data"
    },
    {
     "data": {
      "text/latex": [
       "$\\displaystyle \\mathcal{L}=g m_{1} z_{1} + g m_{2} \\left(z_{1} + z_{2}\\right) - \\frac{k_{1} z^{2}_{1}}{2} - \\frac{k_{2} z^{2}_{2}}{2} + \\frac{m_{1} \\dot{z}_{1}^{2}}{2} + \\frac{m_{2} \\left(\\dot{z}_{1} + \\dot{z}_{2}\\right)^{2}}{2}$"
      ],
      "text/plain": [
       "<IPython.core.display.Math object>"
      ]
     },
     "metadata": {},
     "output_type": "display_data"
    }
   ],
   "source": [
    "z1, z2 = dynamicsymbols('z1 z2')\n",
    "z1d, z2d = z1.diff(t), z2.diff(t)\n",
    "\n",
    "T = (m1*z1d**2)/2 + (m2*(z1d + z2d)**2)/2\n",
    "V = (k1*z1**2)/2 + (k2*z2**2)/2 - m1*g*z1 - m2*g*(z1+z2)\n",
    "\n",
    "display(Math(r'T=' + mlatex(simplify(T))))\n",
    "display(Math(r'V=' + mlatex(simplify(V))))\n",
    "\n",
    "L = T - V\n",
    "\n",
    "display(Math(r'\\mathcal{L}=' + mlatex(simplify(L))))"
   ]
  },
  {
   "cell_type": "code",
   "execution_count": 22,
   "metadata": {},
   "outputs": [
    {
     "data": {
      "text/latex": [
       "$\\displaystyle w.r.t.\\;\\operatorname{z_{1}}:$"
      ],
      "text/plain": [
       "<IPython.core.display.Math object>"
      ]
     },
     "metadata": {},
     "output_type": "display_data"
    },
    {
     "data": {
      "text/latex": [
       "$\\displaystyle \\dfrac{\\partial\\mathcal{L}}{\\partial \\operatorname{z_{1}}}=g m_{1} + g m_{2} - k_{1} z_{1}$"
      ],
      "text/plain": [
       "<IPython.core.display.Math object>"
      ]
     },
     "metadata": {},
     "output_type": "display_data"
    },
    {
     "data": {
      "text/latex": [
       "$\\displaystyle \\dfrac{\\partial\\mathcal{L}}{\\partial\\dot{\\operatorname{z_{1}}}}=m_{1} \\dot{z}_{1} + m_{2} \\left(\\dot{z}_{1} + \\dot{z}_{2}\\right)$"
      ],
      "text/plain": [
       "<IPython.core.display.Math object>"
      ]
     },
     "metadata": {},
     "output_type": "display_data"
    },
    {
     "data": {
      "text/latex": [
       "$\\displaystyle \\dfrac{\\mathrm d}{\\mathrm{dt}}\\left({\\dfrac{\\partial\\mathcal{L}}{\\partial\\dot{\\operatorname{z_{1}}}}}\\right)=m_{1} \\ddot{z}_{1} + m_{2} \\left(\\ddot{z}_{1} + \\ddot{z}_{2}\\right)$"
      ],
      "text/plain": [
       "<IPython.core.display.Math object>"
      ]
     },
     "metadata": {},
     "output_type": "display_data"
    },
    {
     "data": {
      "text/latex": [
       "$\\displaystyle w.r.t.\\;\\operatorname{z_{2}}:$"
      ],
      "text/plain": [
       "<IPython.core.display.Math object>"
      ]
     },
     "metadata": {},
     "output_type": "display_data"
    },
    {
     "data": {
      "text/latex": [
       "$\\displaystyle \\dfrac{\\partial\\mathcal{L}}{\\partial \\operatorname{z_{2}}}=g m_{2} - k_{2} z_{2}$"
      ],
      "text/plain": [
       "<IPython.core.display.Math object>"
      ]
     },
     "metadata": {},
     "output_type": "display_data"
    },
    {
     "data": {
      "text/latex": [
       "$\\displaystyle \\dfrac{\\partial\\mathcal{L}}{\\partial\\dot{\\operatorname{z_{2}}}}=m_{2} \\left(\\dot{z}_{1} + \\dot{z}_{2}\\right)$"
      ],
      "text/plain": [
       "<IPython.core.display.Math object>"
      ]
     },
     "metadata": {},
     "output_type": "display_data"
    },
    {
     "data": {
      "text/latex": [
       "$\\displaystyle \\dfrac{\\mathrm d}{\\mathrm{dt}}\\left({\\dfrac{\\partial\\mathcal{L}}{\\partial\\dot{\\operatorname{z_{2}}}}}\\right)=m_{2} \\left(\\ddot{z}_{1} + \\ddot{z}_{2}\\right)$"
      ],
      "text/plain": [
       "<IPython.core.display.Math object>"
      ]
     },
     "metadata": {},
     "output_type": "display_data"
    }
   ],
   "source": [
    "Lterms = lagrange_terms(L, z1, z2)"
   ]
  },
  {
   "cell_type": "markdown",
   "metadata": {},
   "source": [
    "Finally, the Lagrange's equations (the equations of motion) are:"
   ]
  },
  {
   "cell_type": "code",
   "execution_count": 23,
   "metadata": {},
   "outputs": [
    {
     "data": {
      "image/png": "[encoded data removed]",
      "text/latex": [
       "$$- g m_{1} - g m_{2} + k_{1} z_{1} + m_{1} \\ddot{z}_{1} + m_{2} \\left(\\ddot{z}_{1} + \\ddot{z}_{2}\\right) = 0$$"
      ],
      "text/plain": [
       "-g⋅m₁ - g⋅m₂ + k₁⋅z₁ + m₁⋅z₁̈ + m₂⋅(z₁̈ + z₂̈) = 0"
      ]
     },
     "metadata": {},
     "output_type": "display_data"
    },
    {
     "data": {
      "image/png": "[encoded data removed]",
      "text/latex": [
       "$$- g m_{2} + k_{2} z_{2} + m_{2} \\left(\\ddot{z}_{1} + \\ddot{z}_{2}\\right) = F$$"
      ],
      "text/plain": [
       "-g⋅m₂ + k₂⋅z₂ + m₂⋅(z₁̈ + z₂̈) = F"
      ]
     },
     "metadata": {},
     "output_type": "display_data"
    }
   ],
   "source": [
    "display(Eq(simplify(Lterms[2]-Lterms[0]), 0))\n",
    "display(Eq(simplify(Lterms[5]-Lterms[3]), F))"
   ]
  },
  {
   "cell_type": "markdown",
   "metadata": {},
   "source": [
    "The two solutions using different sets of coordinates seem different; the reader is invited to verify that in fact they are the same (remember that $y_1 = z_1,\\, y_2 = z_1+z_2,\\, \\ddot{y}_2 = \\ddot{z}_1+\\ddot{z}_2$)."
   ]
  },
  {
   "cell_type": "markdown",
   "metadata": {},
   "source": [
    "## Non-conservative forces\n",
    "\n",
    "The dissipation energy of a non-conservative system with a non-conservative force (e.g., the viscous force from a damper, which is proportional to velocity) can be expressed as:\n",
    "\n",
    "\\begin{equation} \n",
    "D_i = \\frac{1}{2}C \\, \\dot{q}_i^2\n",
    "\\label{dissipation}\n",
    "\\end{equation}\n",
    "\n",
    "And the Lagrange's equation can be extended to include such non-conservative force in the following way: \n",
    "\n",
    "\\begin{equation} \n",
    "\\frac{\\mathrm d }{\\mathrm d t}\\left( {\\frac{\\partial \\mathcal{L}}{\\partial \\dot{q}_i }} \n",
    "\\right)-\\frac{\\partial \\mathcal{L}}{\\partial q_i } + \\frac{\\partial D_i}{\\partial \\dot{q}_i }= 0\n",
    "\\label{lagrange_dissip}\n",
    "\\end{equation}"
   ]
  },
  {
   "cell_type": "markdown",
   "metadata": {},
   "source": [
    "### Example 8: Mass-spring-damper system\n",
    "\n",
    "<figure><img src=\"./../images/mass_spring_damper.png\" width=\"200\" alt=\"mass-spring-damper system\" style=\"float:right;margin: 10px 50px 10px 50px;\"/></figure>\n",
    "\n",
    "Consider a mass-spring-damper system with an external force acting on the mass.  \n",
    "The massless spring has a stiffness coefficient $k$ and length at rest $x_0$.  \n",
    "The massless damper has a damping coefficient $b$.  \n",
    "For simplicity, consider that the system starts at the resting position of the spring ($x=0$ at $x_0$).  \n",
    "The system has one degree of freedom and we need only one generalized coordinate ($x$) to describe the system's configuration.  \n",
    "\n",
    "Let's use the Lagrangian mechanics to derive the equations of motion for the system.\n",
    "\n",
    "The kinetic energy of the system is:\n",
    "\n",
    "\\begin{equation}\n",
    "T = \\frac{1}{2} m \\dot x^2\n",
    "\\end{equation}\n",
    "\n",
    "The potential energy of the system is:\n",
    "\n",
    "\\begin{equation}\n",
    "V = \\frac{1}{2} k x^2\n",
    "\\end{equation}\n",
    "\n",
    "The Lagrangian function is:\n",
    "\n",
    "\\begin{equation} \n",
    "\\mathcal{L} = \\frac{1}{2} m \\dot x^2 - \\frac{1}{2} k x^2\n",
    "\\end{equation}\n",
    "\n",
    "The dissipation energy of the system is:\n",
    "\n",
    "\\begin{equation}\n",
    "D = \\frac{1}{2} b \\dot x^2\n",
    "\\end{equation}\n",
    "\n",
    "Calculating all the terms in the Lagrange's equation for a dissipative process (cf. Eq. (\\ref{lagrange_dissip})), the classical equation for a mass-spring-damper system can be found:  \n",
    "\n",
    "\\begin{equation}\n",
    "m\\ddot{x} + b\\dot{x} + kx = F(t)\n",
    "\\end{equation}"
   ]
  },
  {
   "cell_type": "markdown",
   "metadata": {},
   "source": [
    "### Example 8: Mass-spring-damper system with gravity\n",
    "\n",
    "<figure><img src=\"./../images/mass_spring_damper_gravity.png\" width=\"220\" alt=\"mass-spring-damper system\" style=\"float:right;margin: 10px 50px 10px 50px;\"/></figure>\n",
    "\n",
    "Consider a mass-spring-damper system under the action of the gravitational force and an external force acting on the mass.  \n",
    "The massless spring has a stiffness coefficient $k$ and length at rest $y_0$.  \n",
    "The massless damper has a damping coefficient $b$.  \n",
    "The gravitational force acts downwards and it is negative (see figure).\n",
    "For simplicity, consider that the system starts at the resting position of the spring ($y=0$ at $y_0$).  \n",
    "The system has one degree of freedom and we need only one generalized coordinate ($y$) to describe the system's configuration.  \n",
    "\n",
    "Let's use the Lagrangian mechanics to derive the equations of motion for the system.\n",
    "\n",
    "The kinetic energy of the system is:\n",
    "\n",
    "\\begin{equation}\n",
    "T = \\frac{1}{2} m \\dot y^2\n",
    "\\end{equation}\n",
    "\n",
    "The potential energy of the system is:\n",
    "\n",
    "\\begin{equation}\n",
    "V = \\frac{1}{2} k y^2 + m g y\n",
    "\\end{equation}\n",
    "\n",
    "The Lagrangian function is:\n",
    "\n",
    "\\begin{equation} \n",
    "\\mathcal{L} = \\frac{1}{2} m \\dot y^2 - \\frac{1}{2} k y^2 - m g y\n",
    "\\end{equation}\n",
    "\n",
    "The dissipation energy of the system is:\n",
    "\n",
    "\\begin{equation}\n",
    "D = \\frac{1}{2} b \\dot y^2\n",
    "\\end{equation}\n",
    "\n",
    "The derivatives of the Lagrangian w.r.t. $y$ and $t$ are:\n",
    "\n",
    "\\begin{equation}\\begin{array}{rcl}\n",
    "\\dfrac{\\partial \\mathcal{L}}{\\partial y} &=& -ky - mg \\\\\n",
    "\\dfrac{\\partial \\mathcal{L}}{\\partial \\dot{y}} &=& m \\dot{y} \\\\\n",
    "\\dfrac{\\mathrm d }{\\mathrm d t}\\left( {\\dfrac{\\partial \\mathcal{L}}{\\partial \\dot{y}}} \\right) &=& m\\ddot{y} \n",
    "\\end{array}\\end{equation}\n",
    "\n",
    "The derivative of the dissipation energy w.r.t. $\\dot{y}$ is:\n",
    "\n",
    "\\begin{equation}\n",
    "\\frac{\\partial D_i}{\\partial \\dot{y}_i } = b \\dot y\n",
    "\\end{equation}\n",
    "\n",
    "Substituting all these terms in the Lagrange's equation: \n",
    "\n",
    "\\begin{equation} \n",
    "\\frac{\\mathrm d }{\\mathrm d t}\\left( {\\frac{\\partial \\mathcal{L}}{\\partial \\dot{q}_i }} \n",
    "\\right)-\\frac{\\partial \\mathcal{L}}{\\partial q_i } + \\frac{\\partial D_i}{\\partial \\dot{q}_i } = Q_{NC}\n",
    "\\label{lagrange_dissip}\n",
    "\\end{equation}\n",
    "\n",
    "Results in:\n",
    "\n",
    "\\begin{equation}\n",
    "m\\ddot{y} + b\\dot{y} + ky + mg = F_0 \\cos(\\omega t)\n",
    "\\end{equation}"
   ]
  },
  {
   "cell_type": "markdown",
   "metadata": {},
   "source": [
    "#### Example 8a: Numerical solution of the equation of motion for mass-spring-damper system\n",
    "\n",
    "Let's solve the differential equation for the pendulum numerically using the [Euler’s method](https://nbviewer.jupyter.org/github/demotu/BMC/blob/master/notebooks/OrdinaryDifferentialEquation.ipynb#Euler-method).  \n",
    "Remember that we have to (1) transform the second-order ODE into two coupled first-order ODEs, (2) approximate the derivative of each variable by its discrete first order difference and (3) write equation to calculate the variable in a recursive way, updating its value with an equation based on the first order difference.  \n",
    "In Python:  "
   ]
  },
  {
   "cell_type": "code",
   "execution_count": 24,
   "metadata": {},
   "outputs": [],
   "source": [
    "import numpy as np\n",
    "\n",
    "def msdg_euler(T, y0, v0, h):\n",
    "    \"\"\"\n",
    "    Two coupled first-order ODEs for the pendulum (v is a new variable):\n",
    "        dydt = v\n",
    "        dvdt = (F0*np.cos(omega*t) - b*v - k*y - m*g)/m\n",
    "    Two equations to update the values of the variables based on first-order difference:\n",
    "        y[n+1] = y[n] + h*v[n]\n",
    "        v[n+1] = v[n] + h*dvdt[n]\n",
    "    \"\"\"\n",
    "    \n",
    "    N = int(np.ceil(T/h))\n",
    "    y, v = np.zeros(N), np.zeros(N)\n",
    "    y[0], v[0] = y0, v0\n",
    "    m = 1    # mass, kg\n",
    "    k = 100  # stiffness, N/m\n",
    "    b = 2    # viscosity, N/m/s\n",
    "    F0 = 1   # external force, N\n",
    "    w = 1    # angular frequency, Hz\n",
    "    g = 10   # acceleration of gravity, m/s2\n",
    "    \n",
    "    t = np.linspace(0, T, N, endpoint=False)\n",
    "    \n",
    "    F = F0*np.cos(w*t)\n",
    "    \n",
    "    for i in range(N-1):\n",
    "        y[i+1] = y[i] + h*v[i]\n",
    "        v[i+1] = v[i] + h*((F[i] - b*v[i] - k*y[i] - m*g)/m)\n",
    " \n",
    "    return t, y, v"
   ]
  },
  {
   "cell_type": "code",
   "execution_count": 25,
   "metadata": {},
   "outputs": [],
   "source": [
    "%matplotlib notebook\n",
    "import matplotlib.pyplot as plt\n",
    "\n",
    "def plot(t, y, v):\n",
    "    \"\"\"\n",
    "    Plot data\n",
    "    \"\"\"\n",
    "    fig, ax1 = plt.subplots(1, 1, figsize=(8, 3))\n",
    "    ax1.set_title('Simulation of mass-spring-damper system under gravity and external force')\n",
    "    ax1.plot(t, y, 'b', label='Position')\n",
    "    ax1.set_xlabel('Time (s)')\n",
    "    ax1.set_ylabel('Position (m)', color='b')\n",
    "    ax1.tick_params('y', colors='b')\n",
    "    ax2 = ax1.twinx()\n",
    "    ax2.plot(t, v, 'r', label='Velocity')\n",
    "    ax2.set_ylabel('Velocity (m/s)', color='r')\n",
    "    ax2.tick_params('y', colors='r')    \n",
    "    plt.tight_layout()\n",
    "    plt.show()"
   ]
  },
  {
   "cell_type": "code",
   "execution_count": 26,
   "metadata": {},
   "outputs": [
    {
     "data": {
      "application/javascript": [
       "/* Put everything inside the global mpl namespace */\n",
       "window.mpl = {};\n",
       "\n",
       "\n",
       "mpl.get_websocket_type = function() {\n",
       "    if (typeof(WebSocket) !== 'undefined') {\n",
       "        return WebSocket;\n",
       "    } else if (typeof(MozWebSocket) !== 'undefined') {\n",
       "        return MozWebSocket;\n",
       "    } else {\n",
       "        alert('Your browser does not have WebSocket support.' +\n",
       "              'Please try Chrome, Safari or Firefox ≥ 6. ' +\n",
       "              'Firefox 4 and 5 are also supported but you ' +\n",
       "              'have to enable WebSockets in about:config.');\n",
       "    };\n",
       "}\n",
       "\n",
       "mpl.figure = function(figure_id, websocket, ondownload, parent_element) {\n",
       "    this.id = figure_id;\n",
       "\n",
       "    this.ws = websocket;\n",
       "\n",
       "    this.supports_binary = (this.ws.binaryType != undefined);\n",
       "\n",
       "    if (!this.supports_binary) {\n",
       "        var warnings = document.getElementById(\"mpl-warnings\");\n",
       "        if (warnings) {\n",
       "            warnings.style.display = 'block';\n",
       "            warnings.textContent = (\n",
       "                \"This browser does not support binary websocket messages. \" +\n",
       "                    \"Performance may be slow.\");\n",
       "        }\n",
       "    }\n",
       "\n",
       "    this.imageObj = new Image();\n",
       "\n",
       "    this.context = undefined;\n",
       "    this.message = undefined;\n",
       "    this.canvas = undefined;\n",
       "    this.rubberband_canvas = undefined;\n",
       "    this.rubberband_context = undefined;\n",
       "    this.format_dropdown = undefined;\n",
       "\n",
       "    this.image_mode = 'full';\n",
       "\n",
       "    this.root = $('<div/>');\n",
       "    this._root_extra_style(this.root)\n",
       "    this.root.attr('style', 'display: inline-block');\n",
       "\n",
       "    $(parent_element).append(this.root);\n",
       "\n",
       "    this._init_header(this);\n",
       "    this._init_canvas(this);\n",
       "    this._init_toolbar(this);\n",
       "\n",
       "    var fig = this;\n",
       "\n",
       "    this.waiting = false;\n",
       "\n",
       "    this.ws.onopen =  function () {\n",
       "            fig.send_message(\"supports_binary\", {value: fig.supports_binary});\n",
       "            fig.send_message(\"send_image_mode\", {});\n",
       "            if (mpl.ratio != 1) {\n",
       "                fig.send_message(\"set_dpi_ratio\", {'dpi_ratio': mpl.ratio});\n",
       "            }\n",
       "            fig.send_message(\"refresh\", {});\n",
       "        }\n",
       "\n",
       "    this.imageObj.onload = function() {\n",
       "            if (fig.image_mode == 'full') {\n",
       "                // Full images could contain transparency (where diff images\n",
       "                // almost always do), so we need to clear the canvas so that\n",
       "                // there is no ghosting.\n",
       "                fig.context.clearRect(0, 0, fig.canvas.width, fig.canvas.height);\n",
       "            }\n",
       "            fig.context.drawImage(fig.imageObj, 0, 0);\n",
       "        };\n",
       "\n",
       "    this.imageObj.onunload = function() {\n",
       "        fig.ws.close();\n",
       "    }\n",
       "\n",
       "    this.ws.onmessage = this._make_on_message_function(this);\n",
       "\n",
       "    this.ondownload = ondownload;\n",
       "}\n",
       "\n",
       "mpl.figure.prototype._init_header = function() {\n",
       "    var titlebar = $(\n",
       "        '<div class=\"ui-dialog-titlebar ui-widget-header ui-corner-all ' +\n",
       "        'ui-helper-clearfix\"/>');\n",
       "    var titletext = $(\n",
       "        '<div class=\"ui-dialog-title\" style=\"width: 100%; ' +\n",
       "        'text-align: center; padding: 3px;\"/>');\n",
       "    titlebar.append(titletext)\n",
       "    this.root.append(titlebar);\n",
       "    this.header = titletext[0];\n",
       "}\n",
       "\n",
       "\n",
       "\n",
       "mpl.figure.prototype._canvas_extra_style = function(canvas_div) {\n",
       "\n",
       "}\n",
       "\n",
       "\n",
       "mpl.figure.prototype._root_extra_style = function(canvas_div) {\n",
       "\n",
       "}\n",
       "\n",
       "mpl.figure.prototype._init_canvas = function() {\n",
       "    var fig = this;\n",
       "\n",
       "    var canvas_div = $('<div/>');\n",
       "\n",
       "    canvas_div.attr('style', 'position: relative; clear: both; outline: 0');\n",
       "\n",
       "    function canvas_keyboard_event(event) {\n",
       "        return fig.key_event(event, event['data']);\n",
       "    }\n",
       "\n",
       "    canvas_div.keydown('key_press', canvas_keyboard_event);\n",
       "    canvas_div.keyup('key_release', canvas_keyboard_event);\n",
       "    this.canvas_div = canvas_div\n",
       "    this._canvas_extra_style(canvas_div)\n",
       "    this.root.append(canvas_div);\n",
       "\n",
       "    var canvas = $('<canvas/>');\n",
       "    canvas.addClass('mpl-canvas');\n",
       "    canvas.attr('style', \"left: 0; top: 0; z-index: 0; outline: 0\")\n",
       "\n",
       "    this.canvas = canvas[0];\n",
       "    this.context = canvas[0].getContext(\"2d\");\n",
       "\n",
       "    var backingStore = this.context.backingStorePixelRatio ||\n",
       "\tthis.context.webkitBackingStorePixelRatio ||\n",
       "\tthis.context.mozBackingStorePixelRatio ||\n",
       "\tthis.context.msBackingStorePixelRatio ||\n",
       "\tthis.context.oBackingStorePixelRatio ||\n",
       "\tthis.context.backingStorePixelRatio || 1;\n",
       "\n",
       "    mpl.ratio = (window.devicePixelRatio || 1) / backingStore;\n",
       "\n",
       "    var rubberband = $('<canvas/>');\n",
       "    rubberband.attr('style', \"position: absolute; left: 0; top: 0; z-index: 1;\")\n",
       "\n",
       "    var pass_mouse_events = true;\n",
       "\n",
       "    canvas_div.resizable({\n",
       "        start: function(event, ui) {\n",
       "            pass_mouse_events = false;\n",
       "        },\n",
       "        resize: function(event, ui) {\n",
       "            fig.request_resize(ui.size.width, ui.size.height);\n",
       "        },\n",
       "        stop: function(event, ui) {\n",
       "            pass_mouse_events = true;\n",
       "            fig.request_resize(ui.size.width, ui.size.height);\n",
       "        },\n",
       "    });\n",
       "\n",
       "    function mouse_event_fn(event) {\n",
       "        if (pass_mouse_events)\n",
       "            return fig.mouse_event(event, event['data']);\n",
       "    }\n",
       "\n",
       "    rubberband.mousedown('button_press', mouse_event_fn);\n",
       "    rubberband.mouseup('button_release', mouse_event_fn);\n",
       "    // Throttle sequential mouse events to 1 every 20ms.\n",
       "    rubberband.mousemove('motion_notify', mouse_event_fn);\n",
       "\n",
       "    rubberband.mouseenter('figure_enter', mouse_event_fn);\n",
       "    rubberband.mouseleave('figure_leave', mouse_event_fn);\n",
       "\n",
       "    canvas_div.on(\"wheel\", function (event) {\n",
       "        event = event.originalEvent;\n",
       "        event['data'] = 'scroll'\n",
       "        if (event.deltaY < 0) {\n",
       "            event.step = 1;\n",
       "        } else {\n",
       "            event.step = -1;\n",
       "        }\n",
       "        mouse_event_fn(event);\n",
       "    });\n",
       "\n",
       "    canvas_div.append(canvas);\n",
       "    canvas_div.append(rubberband);\n",
       "\n",
       "    this.rubberband = rubberband;\n",
       "    this.rubberband_canvas = rubberband[0];\n",
       "    this.rubberband_context = rubberband[0].getContext(\"2d\");\n",
       "    this.rubberband_context.strokeStyle = \"#000000\";\n",
       "\n",
       "    this._resize_canvas = function(width, height) {\n",
       "        // Keep the size of the canvas, canvas container, and rubber band\n",
       "        // canvas in synch.\n",
       "        canvas_div.css('width', width)\n",
       "        canvas_div.css('height', height)\n",
       "\n",
       "        canvas.attr('width', width * mpl.ratio);\n",
       "        canvas.attr('height', height * mpl.ratio);\n",
       "        canvas.attr('style', 'width: ' + width + 'px; height: ' + height + 'px;');\n",
       "\n",
       "        rubberband.attr('width', width);\n",
       "        rubberband.attr('height', height);\n",
       "    }\n",
       "\n",
       "    // Set the figure to an initial 600x600px, this will subsequently be updated\n",
       "    // upon first draw.\n",
       "    this._resize_canvas(600, 600);\n",
       "\n",
       "    // Disable right mouse context menu.\n",
       "    $(this.rubberband_canvas).bind(\"contextmenu\",function(e){\n",
       "        return false;\n",
       "    });\n",
       "\n",
       "    function set_focus () {\n",
       "        canvas.focus();\n",
       "        canvas_div.focus();\n",
       "    }\n",
       "\n",
       "    window.setTimeout(set_focus, 100);\n",
       "}\n",
       "\n",
       "mpl.figure.prototype._init_toolbar = function() {\n",
       "    var fig = this;\n",
       "\n",
       "    var nav_element = $('<div/>')\n",
       "    nav_element.attr('style', 'width: 100%');\n",
       "    this.root.append(nav_element);\n",
       "\n",
       "    // Define a callback function for later on.\n",
       "    function toolbar_event(event) {\n",
       "        return fig.toolbar_button_onclick(event['data']);\n",
       "    }\n",
       "    function toolbar_mouse_event(event) {\n",
       "        return fig.toolbar_button_onmouseover(event['data']);\n",
       "    }\n",
       "\n",
       "    for(var toolbar_ind in mpl.toolbar_items) {\n",
       "        var name = mpl.toolbar_items[toolbar_ind][0];\n",
       "        var tooltip = mpl.toolbar_items[toolbar_ind][1];\n",
       "        var image = mpl.toolbar_items[toolbar_ind][2];\n",
       "        var method_name = mpl.toolbar_items[toolbar_ind][3];\n",
       "\n",
       "        if (!name) {\n",
       "            // put a spacer in here.\n",
       "            continue;\n",
       "        }\n",
       "        var button = $('<button/>');\n",
       "        button.addClass('ui-button ui-widget ui-state-default ui-corner-all ' +\n",
       "                        'ui-button-icon-only');\n",
       "        button.attr('role', 'button');\n",
       "        button.attr('aria-disabled', 'false');\n",
       "        button.click(method_name, toolbar_event);\n",
       "        button.mouseover(tooltip, toolbar_mouse_event);\n",
       "\n",
       "        var icon_img = $('<span/>');\n",
       "        icon_img.addClass('ui-button-icon-primary ui-icon');\n",
       "        icon_img.addClass(image);\n",
       "        icon_img.addClass('ui-corner-all');\n",
       "\n",
       "        var tooltip_span = $('<span/>');\n",
       "        tooltip_span.addClass('ui-button-text');\n",
       "        tooltip_span.html(tooltip);\n",
       "\n",
       "        button.append(icon_img);\n",
       "        button.append(tooltip_span);\n",
       "\n",
       "        nav_element.append(button);\n",
       "    }\n",
       "\n",
       "    var fmt_picker_span = $('<span/>');\n",
       "\n",
       "    var fmt_picker = $('<select/>');\n",
       "    fmt_picker.addClass('mpl-toolbar-option ui-widget ui-widget-content');\n",
       "    fmt_picker_span.append(fmt_picker);\n",
       "    nav_element.append(fmt_picker_span);\n",
       "    this.format_dropdown = fmt_picker[0];\n",
       "\n",
       "    for (var ind in mpl.extensions) {\n",
       "        var fmt = mpl.extensions[ind];\n",
       "        var option = $(\n",
       "            '<option/>', {selected: fmt === mpl.default_extension}).html(fmt);\n",
       "        fmt_picker.append(option)\n",
       "    }\n",
       "\n",
       "    // Add hover states to the ui-buttons\n",
       "    $( \".ui-button\" ).hover(\n",
       "        function() { $(this).addClass(\"ui-state-hover\");},\n",
       "        function() { $(this).removeClass(\"ui-state-hover\");}\n",
       "    );\n",
       "\n",
       "    var status_bar = $('<span class=\"mpl-message\"/>');\n",
       "    nav_element.append(status_bar);\n",
       "    this.message = status_bar[0];\n",
       "}\n",
       "\n",
       "mpl.figure.prototype.request_resize = function(x_pixels, y_pixels) {\n",
       "    // Request matplotlib to resize the figure. Matplotlib will then trigger a resize in the client,\n",
       "    // which will in turn request a refresh of the image.\n",
       "    this.send_message('resize', {'width': x_pixels, 'height': y_pixels});\n",
       "}\n",
       "\n",
       "mpl.figure.prototype.send_message = function(type, properties) {\n",
       "    properties['type'] = type;\n",
       "    properties['figure_id'] = this.id;\n",
       "    this.ws.send(JSON.stringify(properties));\n",
       "}\n",
       "\n",
       "mpl.figure.prototype.send_draw_message = function() {\n",
       "    if (!this.waiting) {\n",
       "        this.waiting = true;\n",
       "        this.ws.send(JSON.stringify({type: \"draw\", figure_id: this.id}));\n",
       "    }\n",
       "}\n",
       "\n",
       "\n",
       "mpl.figure.prototype.handle_save = function(fig, msg) {\n",
       "    var format_dropdown = fig.format_dropdown;\n",
       "    var format = format_dropdown.options[format_dropdown.selectedIndex].value;\n",
       "    fig.ondownload(fig, format);\n",
       "}\n",
       "\n",
       "\n",
       "mpl.figure.prototype.handle_resize = function(fig, msg) {\n",
       "    var size = msg['size'];\n",
       "    if (size[0] != fig.canvas.width || size[1] != fig.canvas.height) {\n",
       "        fig._resize_canvas(size[0], size[1]);\n",
       "        fig.send_message(\"refresh\", {});\n",
       "    };\n",
       "}\n",
       "\n",
       "mpl.figure.prototype.handle_rubberband = function(fig, msg) {\n",
       "    var x0 = msg['x0'] / mpl.ratio;\n",
       "    var y0 = (fig.canvas.height - msg['y0']) / mpl.ratio;\n",
       "    var x1 = msg['x1'] / mpl.ratio;\n",
       "    var y1 = (fig.canvas.height - msg['y1']) / mpl.ratio;\n",
       "    x0 = Math.floor(x0) + 0.5;\n",
       "    y0 = Math.floor(y0) + 0.5;\n",
       "    x1 = Math.floor(x1) + 0.5;\n",
       "    y1 = Math.floor(y1) + 0.5;\n",
       "    var min_x = Math.min(x0, x1);\n",
       "    var min_y = Math.min(y0, y1);\n",
       "    var width = Math.abs(x1 - x0);\n",
       "    var height = Math.abs(y1 - y0);\n",
       "\n",
       "    fig.rubberband_context.clearRect(\n",
       "        0, 0, fig.canvas.width, fig.canvas.height);\n",
       "\n",
       "    fig.rubberband_context.strokeRect(min_x, min_y, width, height);\n",
       "}\n",
       "\n",
       "mpl.figure.prototype.handle_figure_label = function(fig, msg) {\n",
       "    // Updates the figure title.\n",
       "    fig.header.textContent = msg['label'];\n",
       "}\n",
       "\n",
       "mpl.figure.prototype.handle_cursor = function(fig, msg) {\n",
       "    var cursor = msg['cursor'];\n",
       "    switch(cursor)\n",
       "    {\n",
       "    case 0:\n",
       "        cursor = 'pointer';\n",
       "        break;\n",
       "    case 1:\n",
       "        cursor = 'default';\n",
       "        break;\n",
       "    case 2:\n",
       "        cursor = 'crosshair';\n",
       "        break;\n",
       "    case 3:\n",
       "        cursor = 'move';\n",
       "        break;\n",
       "    }\n",
       "    fig.rubberband_canvas.style.cursor = cursor;\n",
       "}\n",
       "\n",
       "mpl.figure.prototype.handle_message = function(fig, msg) {\n",
       "    fig.message.textContent = msg['message'];\n",
       "}\n",
       "\n",
       "mpl.figure.prototype.handle_draw = function(fig, msg) {\n",
       "    // Request the server to send over a new figure.\n",
       "    fig.send_draw_message();\n",
       "}\n",
       "\n",
       "mpl.figure.prototype.handle_image_mode = function(fig, msg) {\n",
       "    fig.image_mode = msg['mode'];\n",
       "}\n",
       "\n",
       "mpl.figure.prototype.updated_canvas_event = function() {\n",
       "    // Called whenever the canvas gets updated.\n",
       "    this.send_message(\"ack\", {});\n",
       "}\n",
       "\n",
       "// A function to construct a web socket function for onmessage handling.\n",
       "// Called in the figure constructor.\n",
       "mpl.figure.prototype._make_on_message_function = function(fig) {\n",
       "    return function socket_on_message(evt) {\n",
       "        if (evt.data instanceof Blob) {\n",
       "            /* FIXME: We get \"Resource interpreted as Image but\n",
       "             * transferred with MIME type text/plain:\" errors on\n",
       "             * Chrome.  But how to set the MIME type?  It doesn't seem\n",
       "             * to be part of the websocket stream */\n",
       "            evt.data.type = \"image/png\";\n",
       "\n",
       "            /* Free the memory for the previous frames */\n",
       "            if (fig.imageObj.src) {\n",
       "                (window.URL || window.webkitURL).revokeObjectURL(\n",
       "                    fig.imageObj.src);\n",
       "            }\n",
       "\n",
       "            fig.imageObj.src = (window.URL || window.webkitURL).createObjectURL(\n",
       "                evt.data);\n",
       "            fig.updated_canvas_event();\n",
       "            fig.waiting = false;\n",
       "            return;\n",
       "        }\n",
       "        else if (typeof evt.data === 'string' && evt.data.slice(0, 21) == \"data:image/png;base64\") {\n",
       "            fig.imageObj.src = evt.data;\n",
       "            fig.updated_canvas_event();\n",
       "            fig.waiting = false;\n",
       "            return;\n",
       "        }\n",
       "\n",
       "        var msg = JSON.parse(evt.data);\n",
       "        var msg_type = msg['type'];\n",
       "\n",
       "        // Call the  \"handle_{type}\" callback, which takes\n",
       "        // the figure and JSON message as its only arguments.\n",
       "        try {\n",
       "            var callback = fig[\"handle_\" + msg_type];\n",
       "        } catch (e) {\n",
       "            console.log(\"No handler for the '\" + msg_type + \"' message type: \", msg);\n",
       "            return;\n",
       "        }\n",
       "\n",
       "        if (callback) {\n",
       "            try {\n",
       "                // console.log(\"Handling '\" + msg_type + \"' message: \", msg);\n",
       "                callback(fig, msg);\n",
       "            } catch (e) {\n",
       "                console.log(\"Exception inside the 'handler_\" + msg_type + \"' callback:\", e, e.stack, msg);\n",
       "            }\n",
       "        }\n",
       "    };\n",
       "}\n",
       "\n",
       "// from http://stackoverflow.com/questions/1114465/getting-mouse-location-in-canvas\n",
       "mpl.findpos = function(e) {\n",
       "    //this section is from http://www.quirksmode.org/js/events_properties.html\n",
       "    var targ;\n",
       "    if (!e)\n",
       "        e = window.event;\n",
       "    if (e.target)\n",
       "        targ = e.target;\n",
       "    else if (e.srcElement)\n",
       "        targ = e.srcElement;\n",
       "    if (targ.nodeType == 3) // defeat Safari bug\n",
       "        targ = targ.parentNode;\n",
       "\n",
       "    // jQuery normalizes the pageX and pageY\n",
       "    // pageX,Y are the mouse positions relative to the document\n",
       "    // offset() returns the position of the element relative to the document\n",
       "    var x = e.pageX - $(targ).offset().left;\n",
       "    var y = e.pageY - $(targ).offset().top;\n",
       "\n",
       "    return {\"x\": x, \"y\": y};\n",
       "};\n",
       "\n",
       "/*\n",
       " * return a copy of an object with only non-object keys\n",
       " * we need this to avoid circular references\n",
       " * http://stackoverflow.com/a/24161582/3208463\n",
       " */\n",
       "function simpleKeys (original) {\n",
       "  return Object.keys(original).reduce(function (obj, key) {\n",
       "    if (typeof original[key] !== 'object')\n",
       "        obj[key] = original[key]\n",
       "    return obj;\n",
       "  }, {});\n",
       "}\n",
       "\n",
       "mpl.figure.prototype.mouse_event = function(event, name) {\n",
       "    var canvas_pos = mpl.findpos(event)\n",
       "\n",
       "    if (name === 'button_press')\n",
       "    {\n",
       "        this.canvas.focus();\n",
       "        this.canvas_div.focus();\n",
       "    }\n",
       "\n",
       "    var x = canvas_pos.x * mpl.ratio;\n",
       "    var y = canvas_pos.y * mpl.ratio;\n",
       "\n",
       "    this.send_message(name, {x: x, y: y, button: event.button,\n",
       "                             step: event.step,\n",
       "                             guiEvent: simpleKeys(event)});\n",
       "\n",
       "    /* This prevents the web browser from automatically changing to\n",
       "     * the text insertion cursor when the button is pressed.  We want\n",
       "     * to control all of the cursor setting manually through the\n",
       "     * 'cursor' event from matplotlib */\n",
       "    event.preventDefault();\n",
       "    return false;\n",
       "}\n",
       "\n",
       "mpl.figure.prototype._key_event_extra = function(event, name) {\n",
       "    // Handle any extra behaviour associated with a key event\n",
       "}\n",
       "\n",
       "mpl.figure.prototype.key_event = function(event, name) {\n",
       "\n",
       "    // Prevent repeat events\n",
       "    if (name == 'key_press')\n",
       "    {\n",
       "        if (event.which === this._key)\n",
       "            return;\n",
       "        else\n",
       "            this._key = event.which;\n",
       "    }\n",
       "    if (name == 'key_release')\n",
       "        this._key = null;\n",
       "\n",
       "    var value = '';\n",
       "    if (event.ctrlKey && event.which != 17)\n",
       "        value += \"ctrl+\";\n",
       "    if (event.altKey && event.which != 18)\n",
       "        value += \"alt+\";\n",
       "    if (event.shiftKey && event.which != 16)\n",
       "        value += \"shift+\";\n",
       "\n",
       "    value += 'k';\n",
       "    value += event.which.toString();\n",
       "\n",
       "    this._key_event_extra(event, name);\n",
       "\n",
       "    this.send_message(name, {key: value,\n",
       "                             guiEvent: simpleKeys(event)});\n",
       "    return false;\n",
       "}\n",
       "\n",
       "mpl.figure.prototype.toolbar_button_onclick = function(name) {\n",
       "    if (name == 'download') {\n",
       "        this.handle_save(this, null);\n",
       "    } else {\n",
       "        this.send_message(\"toolbar_button\", {name: name});\n",
       "    }\n",
       "};\n",
       "\n",
       "mpl.figure.prototype.toolbar_button_onmouseover = function(tooltip) {\n",
       "    this.message.textContent = tooltip;\n",
       "};\n",
       "mpl.toolbar_items = [[\"Home\", \"Reset original view\", \"fa fa-home icon-home\", \"home\"], [\"Back\", \"Back to previous view\", \"fa fa-arrow-left icon-arrow-left\", \"back\"], [\"Forward\", \"Forward to next view\", \"fa fa-arrow-right icon-arrow-right\", \"forward\"], [\"\", \"\", \"\", \"\"], [\"Pan\", \"Pan axes with left mouse, zoom with right\", \"fa fa-arrows icon-move\", \"pan\"], [\"Zoom\", \"Zoom to rectangle\", \"fa fa-square-o icon-check-empty\", \"zoom\"], [\"\", \"\", \"\", \"\"], [\"Download\", \"Download plot\", \"fa fa-floppy-o icon-save\", \"download\"]];\n",
       "\n",
       "mpl.extensions = [\"eps\", \"pdf\", \"png\", \"ps\", \"raw\", \"svg\"];\n",
       "\n",
       "mpl.default_extension = \"png\";var comm_websocket_adapter = function(comm) {\n",
       "    // Create a \"websocket\"-like object which calls the given IPython comm\n",
       "    // object with the appropriate methods. Currently this is a non binary\n",
       "    // socket, so there is still some room for performance tuning.\n",
       "    var ws = {};\n",
       "\n",
       "    ws.close = function() {\n",
       "        comm.close()\n",
       "    };\n",
       "    ws.send = function(m) {\n",
       "        //console.log('sending', m);\n",
       "        comm.send(m);\n",
       "    };\n",
       "    // Register the callback with on_msg.\n",
       "    comm.on_msg(function(msg) {\n",
       "        //console.log('receiving', msg['content']['data'], msg);\n",
       "        // Pass the mpl event to the overridden (by mpl) onmessage function.\n",
       "        ws.onmessage(msg['content']['data'])\n",
       "    });\n",
       "    return ws;\n",
       "}\n",
       "\n",
       "mpl.mpl_figure_comm = function(comm, msg) {\n",
       "    // This is the function which gets called when the mpl process\n",
       "    // starts-up an IPython Comm through the \"matplotlib\" channel.\n",
       "\n",
       "    var id = msg.content.data.id;\n",
       "    // Get hold of the div created by the display call when the Comm\n",
       "    // socket was opened in Python.\n",
       "    var element = $(\"#\" + id);\n",
       "    var ws_proxy = comm_websocket_adapter(comm)\n",
       "\n",
       "    function ondownload(figure, format) {\n",
       "        window.open(figure.imageObj.src);\n",
       "    }\n",
       "\n",
       "    var fig = new mpl.figure(id, ws_proxy,\n",
       "                           ondownload,\n",
       "                           element.get(0));\n",
       "\n",
       "    // Call onopen now - mpl needs it, as it is assuming we've passed it a real\n",
       "    // web socket which is closed, not our websocket->open comm proxy.\n",
       "    ws_proxy.onopen();\n",
       "\n",
       "    fig.parent_element = element.get(0);\n",
       "    fig.cell_info = mpl.find_output_cell(\"<div id='\" + id + \"'></div>\");\n",
       "    if (!fig.cell_info) {\n",
       "        console.error(\"Failed to find cell for figure\", id, fig);\n",
       "        return;\n",
       "    }\n",
       "\n",
       "    var output_index = fig.cell_info[2]\n",
       "    var cell = fig.cell_info[0];\n",
       "\n",
       "};\n",
       "\n",
       "mpl.figure.prototype.handle_close = function(fig, msg) {\n",
       "    var width = fig.canvas.width/mpl.ratio\n",
       "    fig.root.unbind('remove')\n",
       "\n",
       "    // Update the output cell to use the data from the current canvas.\n",
       "    fig.push_to_output();\n",
       "    var dataURL = fig.canvas.toDataURL();\n",
       "    // Re-enable the keyboard manager in IPython - without this line, in FF,\n",
       "    // the notebook keyboard shortcuts fail.\n",
       "    IPython.keyboard_manager.enable()\n",
       "    $(fig.parent_element).html('<img src=\"' + dataURL + '\" width=\"' + width + '\">');\n",
       "    fig.close_ws(fig, msg);\n",
       "}\n",
       "\n",
       "mpl.figure.prototype.close_ws = function(fig, msg){\n",
       "    fig.send_message('closing', msg);\n",
       "    // fig.ws.close()\n",
       "}\n",
       "\n",
       "mpl.figure.prototype.push_to_output = function(remove_interactive) {\n",
       "    // Turn the data on the canvas into data in the output cell.\n",
       "    var width = this.canvas.width/mpl.ratio\n",
       "    var dataURL = this.canvas.toDataURL();\n",
       "    this.cell_info[1]['text/html'] = '<img src=\"' + dataURL + '\" width=\"' + width + '\">';\n",
       "}\n",
       "\n",
       "mpl.figure.prototype.updated_canvas_event = function() {\n",
       "    // Tell IPython that the notebook contents must change.\n",
       "    IPython.notebook.set_dirty(true);\n",
       "    this.send_message(\"ack\", {});\n",
       "    var fig = this;\n",
       "    // Wait a second, then push the new image to the DOM so\n",
       "    // that it is saved nicely (might be nice to debounce this).\n",
       "    setTimeout(function () { fig.push_to_output() }, 1000);\n",
       "}\n",
       "\n",
       "mpl.figure.prototype._init_toolbar = function() {\n",
       "    var fig = this;\n",
       "\n",
       "    var nav_element = $('<div/>')\n",
       "    nav_element.attr('style', 'width: 100%');\n",
       "    this.root.append(nav_element);\n",
       "\n",
       "    // Define a callback function for later on.\n",
       "    function toolbar_event(event) {\n",
       "        return fig.toolbar_button_onclick(event['data']);\n",
       "    }\n",
       "    function toolbar_mouse_event(event) {\n",
       "        return fig.toolbar_button_onmouseover(event['data']);\n",
       "    }\n",
       "\n",
       "    for(var toolbar_ind in mpl.toolbar_items){\n",
       "        var name = mpl.toolbar_items[toolbar_ind][0];\n",
       "        var tooltip = mpl.toolbar_items[toolbar_ind][1];\n",
       "        var image = mpl.toolbar_items[toolbar_ind][2];\n",
       "        var method_name = mpl.toolbar_items[toolbar_ind][3];\n",
       "\n",
       "        if (!name) { continue; };\n",
       "\n",
       "        var button = $('<button class=\"btn btn-default\" href=\"#\" title=\"' + name + '\"><i class=\"fa ' + image + ' fa-lg\"></i></button>');\n",
       "        button.click(method_name, toolbar_event);\n",
       "        button.mouseover(tooltip, toolbar_mouse_event);\n",
       "        nav_element.append(button);\n",
       "    }\n",
       "\n",
       "    // Add the status bar.\n",
       "    var status_bar = $('<span class=\"mpl-message\" style=\"text-align:right; float: right;\"/>');\n",
       "    nav_element.append(status_bar);\n",
       "    this.message = status_bar[0];\n",
       "\n",
       "    // Add the close button to the window.\n",
       "    var buttongrp = $('<div class=\"btn-group inline pull-right\"></div>');\n",
       "    var button = $('<button class=\"btn btn-mini btn-primary\" href=\"#\" title=\"Stop Interaction\"><i class=\"fa fa-power-off icon-remove icon-large\"></i></button>');\n",
       "    button.click(function (evt) { fig.handle_close(fig, {}); } );\n",
       "    button.mouseover('Stop Interaction', toolbar_mouse_event);\n",
       "    buttongrp.append(button);\n",
       "    var titlebar = this.root.find($('.ui-dialog-titlebar'));\n",
       "    titlebar.prepend(buttongrp);\n",
       "}\n",
       "\n",
       "mpl.figure.prototype._root_extra_style = function(el){\n",
       "    var fig = this\n",
       "    el.on(\"remove\", function(){\n",
       "\tfig.close_ws(fig, {});\n",
       "    });\n",
       "}\n",
       "\n",
       "mpl.figure.prototype._canvas_extra_style = function(el){\n",
       "    // this is important to make the div 'focusable\n",
       "    el.attr('tabindex', 0)\n",
       "    // reach out to IPython and tell the keyboard manager to turn it's self\n",
       "    // off when our div gets focus\n",
       "\n",
       "    // location in version 3\n",
       "    if (IPython.notebook.keyboard_manager) {\n",
       "        IPython.notebook.keyboard_manager.register_events(el);\n",
       "    }\n",
       "    else {\n",
       "        // location in version 2\n",
       "        IPython.keyboard_manager.register_events(el);\n",
       "    }\n",
       "\n",
       "}\n",
       "\n",
       "mpl.figure.prototype._key_event_extra = function(event, name) {\n",
       "    var manager = IPython.notebook.keyboard_manager;\n",
       "    if (!manager)\n",
       "        manager = IPython.keyboard_manager;\n",
       "\n",
       "    // Check for shift+enter\n",
       "    if (event.shiftKey && event.which == 13) {\n",
       "        this.canvas_div.blur();\n",
       "        event.shiftKey = false;\n",
       "        // Send a \"J\" for go to next cell\n",
       "        event.which = 74;\n",
       "        event.keyCode = 74;\n",
       "        manager.command_mode();\n",
       "        manager.handle_keydown(event);\n",
       "    }\n",
       "}\n",
       "\n",
       "mpl.figure.prototype.handle_save = function(fig, msg) {\n",
       "    fig.ondownload(fig, null);\n",
       "}\n",
       "\n",
       "\n",
       "mpl.find_output_cell = function(html_output) {\n",
       "    // Return the cell and output element which can be found *uniquely* in the notebook.\n",
       "    // Note - this is a bit hacky, but it is done because the \"notebook_saving.Notebook\"\n",
       "    // IPython event is triggered only after the cells have been serialised, which for\n",
       "    // our purposes (turning an active figure into a static one), is too late.\n",
       "    var cells = IPython.notebook.get_cells();\n",
       "    var ncells = cells.length;\n",
       "    for (var i=0; i<ncells; i++) {\n",
       "        var cell = cells[i];\n",
       "        if (cell.cell_type === 'code'){\n",
       "            for (var j=0; j<cell.output_area.outputs.length; j++) {\n",
       "                var data = cell.output_area.outputs[j];\n",
       "                if (data.data) {\n",
       "                    // IPython >= 3 moved mimebundle to data attribute of output\n",
       "                    data = data.data;\n",
       "                }\n",
       "                if (data['text/html'] == html_output) {\n",
       "                    return [cell, data, j];\n",
       "                }\n",
       "            }\n",
       "        }\n",
       "    }\n",
       "}\n",
       "\n",
       "// Register the function which deals with the matplotlib target/channel.\n",
       "// The kernel may be null if the page has been refreshed.\n",
       "if (IPython.notebook.kernel != null) {\n",
       "    IPython.notebook.kernel.comm_manager.register_target('matplotlib', mpl.mpl_figure_comm);\n",
       "}\n"
      ],
      "text/plain": [
       "<IPython.core.display.Javascript object>"
      ]
     },
     "metadata": {},
     "output_type": "display_data"
    },
    {
     "data": {
      "text/html": [
       "<img src=\"data:image/png;base64,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\" width=\"800\">"
      ],
      "text/plain": [
       "<IPython.core.display.HTML object>"
      ]
     },
     "metadata": {},
     "output_type": "display_data"
    }
   ],
   "source": [
    "T, y0, v0, h = 10, .1, 0, .01\n",
    "t, y, v = msdg_euler(T, y0, v0, h)\n",
    "plot(t, y, v)"
   ]
  },
  {
   "cell_type": "markdown",
   "metadata": {},
   "source": [
    "## Considerations on the Lagrangian mechanics\n",
    "\n",
    "The Lagrangian mechanics does not constitute a new theory in classical mechanics; the results of a Lagrangian or Newtonian analysis must be the same for any mechanical system, only the method used to obtain the results is different. \n",
    "\n",
    "We are accustomed to think of mechanical systems in terms of vector quantities such as force, velocity, angular momentum, torque, etc., but in the Lagrangian formalism the equations of motion are obtained entirely in terms of the kinetic and potential energies (scalar operations) in the configuration space. Another important aspect of the force vs. energy analogy is that in situations where it is not possible to make explicit all the forces acting on the body, it is still possible to obtain expressions for the kinetic and potential energies. \n",
    "\n",
    "In fact, the concept of force does not enter into Lagrangian mechanics. This is an important property of the method. Since energy is a scalar quantity, the Lagrangian function for a system is invariant for coordinate transformations. Therefore, it is possible to move from a certain configuration space (in which the equations of motion can be somewhat complicated) to a space that can be chosen to allow maximum simplification of the problem. "
   ]
  },
  {
   "cell_type": "markdown",
   "metadata": {},
   "source": [
    "## Problems\n",
    "\n",
    "1. Derive the Lagrange's equation (the equation of motion) for a mass-spring system where the spring is attached to the ceiling and the mass in hanging in the vertical.  \n",
    "<figure><img src=\"./../images/springgravity.png\" width=\"200\" alt=\"mass-spring with gravity\"/></figure>\n",
    "2. Derive the Lagrange's equation for an inverted pendulum in the vertical.  \n",
    "<figure><img src=\"./../images/invpendulum2.png\" width=\"200\" alt=\"two masses and two springs\"/></figure>\n",
    "3. Derive the Lagrange's equation for the following system:  \n",
    "<figure><img src=\"./../images/massessprings_lagrange.png\" width=\"280\" alt=\"two masses and two springs\"/></figure>\n",
    "4. Derive the Lagrange's equation for a spring pendulum, a simple pendulum where a mass $m$ is attached to a massless spring with spring constant $k$ and length at rest $d_0$.  \n",
    "<figure><img src=\"./../images/pendulumspring.png\" width=\"200\" alt=\"mass-spring pendulum\"/></figure>\n",
    "5. Derive the Lagrange's equation for the system shown below.  \n",
    "<figure><img src=\"./../images/pendulumramp.png\" width=\"250\" alt=\"pendulum on a ramp\"/></figure>  \n",
    "6. Derive the Lagrange's equation for the following Atwood machine (consider that $m_1 > m_2$, i.e., the pulley will rotate counter-clockwise, and that moving down is in the positive direction):  \n",
    "<figure><img src=\"./../images/atwood_machine.png\" width=\"125\" alt=\"Atwood machine\"/></figure>   \n",
    "7. Write computer programs (in Python!) to solve numerically the equations of motion from the problems above.  "
   ]
  },
  {
   "cell_type": "markdown",
   "metadata": {},
   "source": [
    "## References\n",
    " \n",
    "- Marion JB (1970) [Classical Dynamics of particles and systems](https://books.google.com.br/books?id=Ss43BQAAQBAJ), 2nd ed., Academic Press.  \n",
    "- Synge JL (1949) [Principles of Mechanics](https://books.google.com.br/books?id=qsYfENCRG5QC), 2nd ed., McGraw-hill.  \n",
    "- Taylor J (2005) [Classical Mechanics](https://archive.org/details/JohnTaylorClassicalMechanics). University Science Books.  "
   ]
  }
 ],
 "metadata": {
  "anaconda-cloud": {},
  "hide_input": false,
  "kernelspec": {
   "display_name": "Python 3",
   "language": "python",
   "name": "python3"
  },
  "language_info": {
   "codemirror_mode": {
    "name": "ipython",
    "version": 3
   },
   "file_extension": ".py",
   "mimetype": "text/x-python",
   "name": "python",
   "nbconvert_exporter": "python",
   "pygments_lexer": "ipython3",
   "version": "3.7.2"
  },
  "latex_envs": {
   "LaTeX_envs_menu_present": true,
   "autocomplete": true,
   "bibliofile": "biblio.bib",
   "cite_by": "apalike",
   "current_citInitial": 1,
   "eqLabelWithNumbers": true,
   "eqNumInitial": 1,
   "hotkeys": {
    "equation": "Ctrl-E",
    "itemize": "Ctrl-I"
   },
   "labels_anchors": false,
   "latex_user_defs": false,
   "report_style_numbering": false,
   "user_envs_cfg": false
  },
  "toc-autonumbering": false,
  "toc-showcode": false,
  "toc-showmarkdowntxt": false,
  "varInspector": {
   "cols": {
    "lenName": 16,
    "lenType": 16,
    "lenVar": 40
   },
   "kernels_config": {
    "python": {
     "delete_cmd_postfix": "",
     "delete_cmd_prefix": "del ",
     "library": "var_list.py",
     "varRefreshCmd": "print(var_dic_list())"
    },
    "r": {
     "delete_cmd_postfix": ") ",
     "delete_cmd_prefix": "rm(",
     "library": "var_list.r",
     "varRefreshCmd": "cat(var_dic_list()) "
    }
   },
   "types_to_exclude": [
    "module",
    "function",
    "builtin_function_or_method",
    "instance",
    "_Feature"
   ],
   "window_display": false
  }
 },
 "nbformat": 4,
 "nbformat_minor": 2
}
