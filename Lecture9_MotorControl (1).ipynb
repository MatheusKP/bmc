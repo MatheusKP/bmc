{
 "cells": [
  {
   "cell_type": "markdown",
   "metadata": {},
   "source": [
    "# Lecture 9 - Motor Control\n",
    "### Introduction to modeling and simulation of human movement\n",
    "https://github.com/BMClab/bmc/blob/master/courses/ModSim2018.md"
   ]
  },
  {
   "cell_type": "markdown",
   "metadata": {},
   "source": [
    "* In class:"
   ]
  },
  {
   "cell_type": "code",
   "execution_count": 115,
   "metadata": {
    "collapsed": true
   },
   "outputs": [],
   "source": [
    "import numpy as np\n",
    "#import pandas as pd\n",
    "#import pylab as pl\n",
    "import matplotlib.pyplot as plt\n",
    "import math\n",
    "\n",
    "%matplotlib notebook"
   ]
  },
  {
   "cell_type": "markdown",
   "metadata": {},
   "source": [
    "### Muscle properties"
   ]
  },
  {
   "cell_type": "code",
   "execution_count": 116,
   "metadata": {
    "collapsed": false
   },
   "outputs": [],
   "source": [
    "Lslack = .223\n",
    "Lce_o = .093 #optmal l\n",
    "\n",
    "Fmax = 3000\n"
   ]
  },
  {
   "cell_type": "markdown",
   "metadata": {},
   "source": [
    "### Initial conditions"
   ]
  },
  {
   "cell_type": "code",
   "execution_count": 117,
   "metadata": {
    "collapsed": false
   },
   "outputs": [],
   "source": [
    "LceNorm = .087/Lce_o\n",
    "Lm = .31\n",
    "act = 0\n",
    "t0 = 0\n",
    "tf = 2.99\n",
    "h = 1e-3"
   ]
  },
  {
   "cell_type": "code",
   "execution_count": 118,
   "metadata": {
    "collapsed": false
   },
   "outputs": [],
   "source": [
    "t = np.arange(t0,tf,h)\n",
    "F = np.empty(t.shape)\n",
    "Fkpe = np.empty(t.shape)\n",
    "fiberLength = np.empty(t.shape)\n",
    "tendonLength = np.empty(t.shape)\n",
    "activation = np.zeros(t.shape)\n",
    "neural = np.zeros(t.shape)\n",
    "\n",
    "fiberLength[0] = LceNorm * Lce_o\n",
    "tendonLength[0] = Lm - fiberLength[0]"
   ]
  },
  {
   "cell_type": "code",
   "execution_count": 119,
   "metadata": {
    "collapsed": true
   },
   "outputs": [],
   "source": [
    "def computeTendonForce(LseeNorm, Lslack, Lce_o): \n",
    "    '''\n",
    "    Compute Tendon Force\n",
    "    \n",
    "    Imputs: \n",
    "    \n",
    "    LseeNorm - Normalized Tendon length\n",
    "    \n",
    "    Lslack - slack length of the tendon (not-normalized)\n",
    "    \n",
    "    Lce_o - Optimal length of the fiber \n",
    "    \n",
    "    Output:\n",
    "    \n",
    "    FTendonNorm - Normalized tendon force \n",
    "    '''\n",
    "    \n",
    "    Umax = .04\n",
    "    if LseeNorm<Lslack/Lce_o: \n",
    "        FTendonNorm = 0\n",
    "    else: \n",
    "        FTendonNorm = ((LseeNorm-Lslack/Lce_o)/(Umax*Lslack/Lce_o))**2\n",
    "        \n",
    "    return FTendonNorm"
   ]
  },
  {
   "cell_type": "code",
   "execution_count": 120,
   "metadata": {
    "collapsed": true
   },
   "outputs": [],
   "source": [
    "def computeParallelElementForce(LceNorm): \n",
    "    Umax = 1 \n",
    "    \n",
    "    if LceNorm<1: \n",
    "        FkpeNorm = 0\n",
    "    else: \n",
    "        FkpeNorm = ((LceNorm-1)/Umax)**2\n",
    "        \n",
    "    return FkpeNorm "
   ]
  },
  {
   "cell_type": "code",
   "execution_count": 121,
   "metadata": {
    "collapsed": false
   },
   "outputs": [],
   "source": [
    "def computeForceLengthCurve(LceNorm):\n",
    "\n",
    "    width = .63\n",
    "    F0 = max([0, (1-((LceNorm-1)/width)**2)])\n",
    "\n",
    "    return F0"
   ]
  },
  {
   "cell_type": "code",
   "execution_count": 122,
   "metadata": {
    "collapsed": false
   },
   "outputs": [],
   "source": [
    "def computeContractilElementDerivative (act, F0, FCE): \n",
    "    \n",
    "    A = 0.25\n",
    "    Fm_len = 1.4\n",
    "    v_max = 10\n",
    "    \n",
    "    if  FCE <= act*F0: \n",
    "        b = act*F0 + FCE/A\n",
    "        \n",
    "    else:\n",
    "        b = (2 + 2/A)*(act*F0*Fm_len + FCE)/(Fm_len - 1)\n",
    "       \n",
    "    LceNormdot = (0.25+0.75*act)*v_max*(FCE-act*F0)/b\n",
    "    \n",
    "    return LceNormdot    "
   ]
  },
  {
   "cell_type": "code",
   "execution_count": 123,
   "metadata": {
    "collapsed": true
   },
   "outputs": [],
   "source": [
    "def computeContractilElementForce (FTendonNorm, FkpeNorm):\n",
    "    FCE = FTendonNorm - FkpeNorm\n",
    "    return FCE"
   ]
  },
  {
   "cell_type": "code",
   "execution_count": 124,
   "metadata": {
    "collapsed": true
   },
   "outputs": [],
   "source": [
    "def computeTendonLength(Lm, Lce_o, LceNorm):\n",
    "    LseeNorm = Lm/Lce_o - LceNorm\n",
    "    return LseeNorm"
   ]
  },
  {
   "cell_type": "code",
   "execution_count": 125,
   "metadata": {
    "collapsed": false
   },
   "outputs": [],
   "source": [
    "\n",
    "def  computeActivation (act, n, dt):\n",
    "    \n",
    "    tau = 0.12\n",
    "    \n",
    "    dactdt = (n-act)/tau\n",
    "    act = act + dt*dactdt\n",
    "    \n",
    "    return act"
   ]
  },
  {
   "cell_type": "markdown",
   "metadata": {},
   "source": [
    "## Simulation - Parallel"
   ]
  },
  {
   "cell_type": "code",
   "execution_count": 126,
   "metadata": {
    "collapsed": false
   },
   "outputs": [
    {
     "ename": "TypeError",
     "evalue": "computeContractilElementForce() takes 2 positional arguments but 3 were given",
     "output_type": "error",
     "traceback": [
      "\u001b[1;31m---------------------------------------------------------------------------\u001b[0m",
      "\u001b[1;31mTypeError\u001b[0m                                 Traceback (most recent call last)",
      "\u001b[1;32m<ipython-input-126-8b186d5c87f6>\u001b[0m in \u001b[0;36m<module>\u001b[1;34m()\u001b[0m\n\u001b[0;32m     29\u001b[0m     \u001b[0mact\u001b[0m \u001b[1;33m=\u001b[0m \u001b[0mcomputeActivation\u001b[0m\u001b[1;33m(\u001b[0m\u001b[0mact\u001b[0m\u001b[1;33m,\u001b[0m \u001b[0mn\u001b[0m\u001b[1;33m,\u001b[0m \u001b[0mh\u001b[0m\u001b[1;33m)\u001b[0m\u001b[1;33m\u001b[0m\u001b[0m\n\u001b[0;32m     30\u001b[0m \u001b[1;33m\u001b[0m\u001b[0m\n\u001b[1;32m---> 31\u001b[1;33m     \u001b[0mLceNormdot\u001b[0m \u001b[1;33m=\u001b[0m \u001b[0mcomputeContractilElementForce\u001b[0m \u001b[1;33m(\u001b[0m\u001b[0mact\u001b[0m\u001b[1;33m,\u001b[0m \u001b[0mF0\u001b[0m\u001b[1;33m,\u001b[0m \u001b[0mFCE\u001b[0m\u001b[1;33m)\u001b[0m\u001b[1;33m\u001b[0m\u001b[0m\n\u001b[0m\u001b[0;32m     32\u001b[0m \u001b[1;33m\u001b[0m\u001b[0m\n\u001b[0;32m     33\u001b[0m \u001b[1;33m\u001b[0m\u001b[0m\n",
      "\u001b[1;31mTypeError\u001b[0m: computeContractilElementForce() takes 2 positional arguments but 3 were given"
     ]
    }
   ],
   "source": [
    "for i in range (len(t)):\n",
    "    #ramp\n",
    "    if t[i]<=1:\n",
    "        Lm = 0.31\n",
    "    elif t[i]>1 and t[i]<2:\n",
    "        Lm = .31 - .04*(t[i]-1)\n",
    "        #print(Lm)\n",
    "    \n",
    "    if t[i]<=1 and np.random.rand(1)< 0.3:\n",
    "        n = 0.5 \n",
    "    elif t[i]>1.5 and t[i]<2.5 and np.random.rand(1)< 0.5:\n",
    "        n = 0.5\n",
    "    elif t[i]>=2.5 and np.random.rand(1)< 0.01:\n",
    "        n = 0.5\n",
    "    else:\n",
    "        n = 0.5 \n",
    "        \n",
    "    ##################################################\n",
    "    LseeNorm = computeTendonLength(Lm, Lce_o, LceNorm)\n",
    "    \n",
    "    FTendonNorm = computeTendonForce(LseeNorm, Lslack, Lce_o)    \n",
    "    \n",
    "    FkpeNorm = computeParallelElementForce(LceNorm)      \n",
    "    \n",
    "    F0 = computeForceLengthCurve (LceNorm)\n",
    "    \n",
    "    FCE = computeContractilElementForce (FTendonNorm, FkpeNorm)\n",
    "    \n",
    "    act = computeActivation(act, n, h)\n",
    "          \n",
    "    LceNormdot = computeContractilElementForce (act, F0, FCE)\n",
    "    \n",
    "    \n",
    "    # --- Euler integration step\n",
    "    LceNorm = LceNorm + h*LceNormdot\n",
    "    \n",
    "    F[i] = FTendonNorm * Fmax\n",
    "    Fkpe[i] = FkpeNorm * Fmax\n",
    "    fiberLength[i] = LceNorm * Lce_o\n",
    "    tendonLength[i] = LseeNorm * Lce_o\n",
    "    neural[i] = n\n",
    "    "
   ]
  },
  {
   "cell_type": "markdown",
   "metadata": {},
   "source": [
    "## Plot "
   ]
  },
  {
   "cell_type": "code",
   "execution_count": null,
   "metadata": {
    "collapsed": false,
    "scrolled": false
   },
   "outputs": [],
   "source": [
    "fig, ax = plt.subplots(1, 1, figsize=(6,6), sharex=True)\n",
    "\n",
    "ax.plot(t,fiberLength, label = 'Fiber')\n",
    "ax.plot(t,tendonLength, label = 'Tendon')\n",
    "ax.plot(t,fiberLength+tendonLength, label = 'Fiber+Tendon')\n",
    "plt.grid()\n",
    "plt.legend(loc = 'best')\n",
    "plt.xlabel('time (s)')\n",
    "plt.ylabel('Length (m)')\n",
    "plt. tight_layout()\n"
   ]
  },
  {
   "cell_type": "code",
   "execution_count": null,
   "metadata": {
    "collapsed": true
   },
   "outputs": [],
   "source": []
  }
 ],
 "metadata": {
  "kernelspec": {
   "display_name": "Python 3",
   "language": "python",
   "name": "python3"
  },
  "language_info": {
   "codemirror_mode": {
    "name": "ipython",
    "version": 3
   },
   "file_extension": ".py",
   "mimetype": "text/x-python",
   "name": "python",
   "nbconvert_exporter": "python",
   "pygments_lexer": "ipython3",
   "version": "3.5.1"
  }
 },
 "nbformat": 4,
 "nbformat_minor": 2
}
