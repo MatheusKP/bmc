{
 "cells": [
  {
   "cell_type": "code",
   "execution_count": 1,
   "metadata": {},
   "outputs": [],
   "source": [
    "# import Python libraries\n",
    "import numpy as np\n",
    "%matplotlib inline\n",
    "import matplotlib\n",
    "import matplotlib.pyplot as plt\n",
    "import sympy as sym\n",
    "from sympy.plotting import plot\n",
    "import pandas as pd\n",
    "from IPython.display import display\n",
    "from IPython.core.display import Math"
   ]
  },
  {
   "cell_type": "markdown",
   "metadata": {},
   "source": [
    "1. Find the extrema in the function $f(x)=x^3-7.5x^2+18x-10$ analytically and determine if they are minimum or maximum."
   ]
  },
  {
   "cell_type": "code",
   "execution_count": 2,
   "metadata": {},
   "outputs": [
    {
     "data": {
      "text/latex": [
       "$$f(x) = x^{3} - 7.5 x^{2} + 18 x - 10$$"
      ],
      "text/plain": [
       "<IPython.core.display.Math object>"
      ]
     },
     "metadata": {},
     "output_type": "display_data"
    },
    {
     "data": {
      "text/latex": [
       "$$\\dot f(x) = 3 x^{2} - 15.0 x + 18$$"
      ],
      "text/plain": [
       "<IPython.core.display.Math object>"
      ]
     },
     "metadata": {},
     "output_type": "display_data"
    },
    {
     "data": {
      "text/latex": [
       "$$Roots:\\left [ 2.0, \\quad 3.0\\right ]$$"
      ],
      "text/plain": [
       "<IPython.core.display.Math object>"
      ]
     },
     "metadata": {},
     "output_type": "display_data"
    },
    {
     "data": {
      "text/latex": [
       "$$\\ddot f(x) = 6 x - 15.0$$"
      ],
      "text/plain": [
       "<IPython.core.display.Math object>"
      ]
     },
     "metadata": {},
     "output_type": "display_data"
    },
    {
     "data": {
      "text/latex": [
       "$$\\ddot f(2) = -3.0$$"
      ],
      "text/plain": [
       "<IPython.core.display.Math object>"
      ]
     },
     "metadata": {},
     "output_type": "display_data"
    },
    {
     "data": {
      "text/latex": [
       "$$\\ddot f(3) = 3.0$$"
      ],
      "text/plain": [
       "<IPython.core.display.Math object>"
      ]
     },
     "metadata": {},
     "output_type": "display_data"
    }
   ],
   "source": [
    "x = sym.symbols('x')\n",
    "f = x**3 - 7.5*x**2 + 18*x - 10\n",
    "display(Math(sym.latex('f(x) = ') + sym.latex(f)))\n",
    "\n",
    "fdiff = sym.expand(sym.diff(f, x))\n",
    "display(Math(sym.latex('\\dot f(x) = ') + sym.latex(fdiff)))\n",
    "\n",
    "roots = sym.solve(fdiff, x)\n",
    "display(Math(sym.latex('Roots:') + sym.latex(roots)))\n",
    "\n",
    "fdiff2 = sym.expand(sym.diff(fdiff, x))\n",
    "display(Math(sym.latex('\\ddot f(x) = ') + sym.latex(fdiff2)))\n",
    "\n",
    "f2 = fdiff2.subs(x,2)\n",
    "display(Math(sym.latex('\\ddot f(2) = ') + sym.latex(f2)))\n",
    "\n",
    "f3 = fdiff2.subs(x,3)\n",
    "display(Math(sym.latex('\\ddot f(3) = ') + sym.latex(f3)))"
   ]
  },
  {
   "cell_type": "markdown",
   "metadata": {},
   "source": [
    "f(2) is a maximum and f(3) is a minimum"
   ]
  },
  {
   "cell_type": "code",
   "execution_count": 6,
   "metadata": {},
   "outputs": [
    {
     "data": {
      "image/png": "[encoded data removed]",
      "text/plain": [
       "<Figure size 432x288 with 1 Axes>"
      ]
     },
     "metadata": {},
     "output_type": "display_data"
    },
    {
     "data": {
      "text/plain": [
       "<sympy.plotting.plot.Plot at 0x19e63e5d588>"
      ]
     },
     "execution_count": 6,
     "metadata": {},
     "output_type": "execute_result"
    }
   ],
   "source": [
    "plot(f,(x,1,4),xlabel= 'x',ylabel = 'f(x)')"
   ]
  },
  {
   "cell_type": "code",
   "execution_count": null,
   "metadata": {},
   "outputs": [],
   "source": []
  },
  {
   "cell_type": "markdown",
   "metadata": {},
   "source": [
    "2. Find the minimum in the $f(x)=x^3-7.5x^2+18x-10$ using the gradient descent algorithm.  "
   ]
  },
  {
   "cell_type": "code",
   "execution_count": 17,
   "metadata": {},
   "outputs": [
    {
     "name": "stdout",
     "output_type": "stream",
     "text": [
      "True local minimum at 3 with function value 3.5.\n",
      "Local minimum by gradient descent at 2.9996813387653187 with function value 3.500000152285125.\n"
     ]
    }
   ],
   "source": [
    "cur_x = 2.001             \n",
    "gamma = 0.01            # step size multiplier\n",
    "precision = 0.00001\n",
    "step_size = 1           # initial step size\n",
    "max_iters = 10000       # maximum number of iterations\n",
    "iters = 0               # iteration counter\n",
    "\n",
    "\n",
    "f  = lambda x: x**3 - 7.5*x**2 + 18*x - 10  # lambda function for f(x)\n",
    "df = lambda x: 3*x**2 - 15*x + 18   # lambda function for the gradient of f(x)\n",
    "\n",
    "while (step_size > precision) & (iters < max_iters):\n",
    "    prev_x = cur_x\n",
    "    cur_x -= gamma*df(prev_x)\n",
    "    step_size = abs(cur_x - prev_x)\n",
    "    iters+=1\n",
    "\n",
    "print('True local minimum at {} with function value {}.'.format(3, f(3)))\n",
    "print('Local minimum by gradient descent at {} with function value {}.'.format(cur_x, f(cur_x)))"
   ]
  },
  {
   "cell_type": "code",
   "execution_count": null,
   "metadata": {},
   "outputs": [],
   "source": []
  },
  {
   "cell_type": "markdown",
   "metadata": {},
   "source": [
    "3. Regarding the distribution problem for the elbow muscles presented in this text:  \n",
    "    a. Test different initial values for the optimization.  \n",
    "    b. Test other values for the elbow angle where the results are likely to change.   "
   ]
  },
  {
   "cell_type": "code",
   "execution_count": 41,
   "metadata": {},
   "outputs": [],
   "source": [
    "from scipy.optimize import minimize"
   ]
  },
  {
   "cell_type": "code",
   "execution_count": 48,
   "metadata": {},
   "outputs": [],
   "source": [
    "def cf_f1(x):\n",
    "    \"\"\"Cost function: sum of forces.\"\"\"  \n",
    "    return x[0] + x[1] + x[2]\n",
    "\n",
    "def cf_f2(x):\n",
    "    \"\"\"Cost function: sum of forces squared.\"\"\"\n",
    "    return x[0]**2 + x[1]**2 + x[2]**2\n",
    "\n",
    "def cf_fpcsa2(x, a):\n",
    "    \"\"\"Cost function: sum of squared muscle stresses.\"\"\"\n",
    "    return (x[0]/a[0])**2 + (x[1]/a[1])**2 + (x[2]/a[2])**2\n",
    "\n",
    "def cf_fmmax3(x, m):\n",
    "    \"\"\"Cost function: sum of cubic forces normalized by moments.\"\"\"\n",
    "    return (x[0]/m[0])**3 + (x[1]/m[1])**3 + (x[2]/m[2])**3\n",
    "def cf_f1d(x):\n",
    "    \"\"\"Derivative of cost function: sum of forces.\"\"\"\n",
    "    dfdx0 = 1\n",
    "    dfdx1 = 1\n",
    "    dfdx2 = 1\n",
    "    return np.array([dfdx0, dfdx1, dfdx2])\n",
    "\n",
    "def cf_f2d(x):\n",
    "    \"\"\"Derivative of cost function: sum of forces squared.\"\"\"\n",
    "    dfdx0 = 2*x[0]\n",
    "    dfdx1 = 2*x[1]\n",
    "    dfdx2 = 2*x[2]\n",
    "    return np.array([dfdx0, dfdx1, dfdx2])\n",
    "\n",
    "def cf_fpcsa2d(x, a):\n",
    "    \"\"\"Derivative of cost function: sum of squared muscle stresses.\"\"\"\n",
    "    dfdx0 = 2*x[0]/a[0]**2\n",
    "    dfdx1 = 2*x[1]/a[1]**2\n",
    "    dfdx2 = 2*x[2]/a[2]**2\n",
    "    return np.array([dfdx0, dfdx1, dfdx2])\n",
    "\n",
    "def cf_fmmax3d(x, m):\n",
    "    \"\"\"Derivative of cost function: sum of cubic forces normalized by moments.\"\"\"\n",
    "    dfdx0 = 3*x[0]**2/m[0]**3\n",
    "    dfdx1 = 3*x[1]**2/m[1]**3\n",
    "    dfdx2 = 3*x[2]**2/m[2]**3\n",
    "    return np.array([dfdx0, dfdx1, dfdx2])"
   ]
  },
  {
   "cell_type": "code",
   "execution_count": 49,
   "metadata": {},
   "outputs": [],
   "source": [
    "# time elbow_flexion BIClong BICshort BRA\n",
    "r_ef = np.loadtxt('./../../../data/r_elbowflexors.mot', skiprows=7)\n",
    "f_ef = np.loadtxt('./../../../data/f_elbowflexors.mot', skiprows=7)\n",
    "\n",
    "m_ef = r_ef*1\n",
    "m_ef[:, 2:] = r_ef[:, 2:]*f_ef[:, 2:]\n",
    "\n",
    "a_ef = np.array([624.3, 435.56, 987.26])/50  # 50 N/cm2"
   ]
  },
  {
   "cell_type": "code",
   "execution_count": 66,
   "metadata": {},
   "outputs": [
    {
     "name": "stdout",
     "output_type": "stream",
     "text": [
      "M = 20\n",
      "x0 = [6243.6530836 4331.0512698 9816.5091208]\n",
      "r * x0 = 489.76408068035386\n"
     ]
    }
   ],
   "source": [
    "M = 20  # desired torque at the elbow\n",
    "iang = 35  # which will give the closest value to 90 degrees\n",
    "\n",
    "\n",
    "r  = r_ef[iang, 2:]\n",
    "f0 = f_ef[iang, 2:]\n",
    "a  = a_ef\n",
    "m  = m_ef[iang, 2:]\n",
    "x0 = f_ef[iang, 2:]*10  # far from the correct answer for the sum of torques\n",
    "print('M =', M)\n",
    "print('x0 =', x0)\n",
    "print('r * x0 =', np.sum(r*x0))\n",
    "\n",
    "bnds = ((0, f0[0]), (0, f0[1]), (0, f0[2]))\n"
   ]
  },
  {
   "cell_type": "code",
   "execution_count": 67,
   "metadata": {},
   "outputs": [],
   "source": [
    "# use this in combination with the parameter bounds:\n",
    "cons = ({'type': 'eq',\n",
    "         'fun' : lambda x, r, f0, M: np.array([r[0]*x[0] + r[1]*x[1] + r[2]*x[2] - M]), \n",
    "         'jac' : lambda x, r, f0, M: np.array([r[0], r[1], r[2]]), 'args': (r, f0, M)})"
   ]
  },
  {
   "cell_type": "code",
   "execution_count": 68,
   "metadata": {},
   "outputs": [],
   "source": [
    "# to enter everything as constraints:\n",
    "cons = ({'type': 'eq',\n",
    "         'fun' : lambda x, r, f0, M: np.array([r[0]*x[0] + r[1]*x[1] + r[2]*x[2] - M]), \n",
    "         'jac' : lambda x, r, f0, M: np.array([r[0], r[1], r[2]]), 'args': (r, f0, M)},\n",
    "        {'type': 'ineq', 'fun' : lambda x, r, f0, M: f0[0]-x[0],\n",
    "         'jac' : lambda x, r, f0, M: np.array([-1, 0, 0]), 'args': (r, f0, M)},\n",
    "        {'type': 'ineq', 'fun' : lambda x, r, f0, M: f0[1]-x[1],\n",
    "         'jac' : lambda x, r, f0, M: np.array([0, -1, 0]), 'args': (r, f0, M)},\n",
    "        {'type': 'ineq', 'fun' : lambda x, r, f0, M: f0[2]-x[2],\n",
    "         'jac' : lambda x, r, f0, M: np.array([0, 0, -1]), 'args': (r, f0, M)},\n",
    "        {'type': 'ineq', 'fun' : lambda x, r, f0, M: x[0],\n",
    "         'jac' : lambda x, r, f0, M: np.array([1, 0, 0]), 'args': (r, f0, M)},\n",
    "        {'type': 'ineq', 'fun' : lambda x, r, f0, M: x[1],\n",
    "         'jac' : lambda x, r, f0, M: np.array([0, 1, 0]), 'args': (r, f0, M)},\n",
    "        {'type': 'ineq', 'fun' : lambda x, r, f0, M: x[2],\n",
    "         'jac' : lambda x, r, f0, M: np.array([0, 0, 1]), 'args': (r, f0, M)})"
   ]
  },
  {
   "cell_type": "code",
   "execution_count": 69,
   "metadata": {},
   "outputs": [
    {
     "name": "stdout",
     "output_type": "stream",
     "text": [
      "Optimization terminated successfully.    (Exit mode 0)\n",
      "            Current function value: 579.9580980275041\n",
      "            Iterations: 8\n",
      "            Function evaluations: 8\n",
      "            Gradient evaluations: 8\n"
     ]
    }
   ],
   "source": [
    "f1r = minimize(fun=cf_f1, x0=x0, args=(), jac=cf_f1d,\n",
    "               constraints=cons, method='SLSQP',\n",
    "               options={'disp': True})"
   ]
  },
  {
   "cell_type": "code",
   "execution_count": 70,
   "metadata": {},
   "outputs": [
    {
     "name": "stdout",
     "output_type": "stream",
     "text": [
      "Optimization terminated successfully.    (Exit mode 0)\n",
      "            Current function value: 157427.53751905984\n",
      "            Iterations: 5\n",
      "            Function evaluations: 6\n",
      "            Gradient evaluations: 5\n"
     ]
    }
   ],
   "source": [
    "f2r = minimize(fun=cf_f2, x0=x0, args=(), jac=cf_f2d,\n",
    "               constraints=cons, method='SLSQP',\n",
    "               options={'disp': True})"
   ]
  },
  {
   "cell_type": "code",
   "execution_count": 71,
   "metadata": {},
   "outputs": [
    {
     "name": "stdout",
     "output_type": "stream",
     "text": [
      "Optimization terminated successfully.    (Exit mode 0)\n",
      "            Current function value: 1180.0919972395043\n",
      "            Iterations: 10\n",
      "            Function evaluations: 10\n",
      "            Gradient evaluations: 10\n"
     ]
    }
   ],
   "source": [
    "fpcsa2r = minimize(fun=cf_fpcsa2, x0=x0, args=(a,), jac=cf_fpcsa2d,\n",
    "                   constraints=cons, method='SLSQP',\n",
    "                   options={'disp': True})"
   ]
  },
  {
   "cell_type": "code",
   "execution_count": 72,
   "metadata": {},
   "outputs": [
    {
     "name": "stdout",
     "output_type": "stream",
     "text": [
      "Optimization terminated successfully.    (Exit mode 0)\n",
      "            Current function value: 6947.006456362233\n",
      "            Iterations: 14\n",
      "            Function evaluations: 15\n",
      "            Gradient evaluations: 14\n"
     ]
    }
   ],
   "source": [
    "fmmax3r = minimize(fun=cf_fmmax3, x0=x0, args=(m,), jac=cf_fmmax3d,\n",
    "                   constraints=cons, method='SLSQP',\n",
    "                   options={'disp': True})"
   ]
  },
  {
   "cell_type": "code",
   "execution_count": 73,
   "metadata": {},
   "outputs": [
    {
     "name": "stdout",
     "output_type": "stream",
     "text": [
      "\n",
      "Comparison of different cost functions for solving the distribution problem\n"
     ]
    },
    {
     "data": {
      "text/html": [
       "<div>\n",
       "<style scoped>\n",
       "    .dataframe tbody tr th:only-of-type {\n",
       "        vertical-align: middle;\n",
       "    }\n",
       "\n",
       "    .dataframe tbody tr th {\n",
       "        vertical-align: top;\n",
       "    }\n",
       "\n",
       "    .dataframe thead th {\n",
       "        text-align: right;\n",
       "    }\n",
       "</style>\n",
       "<table border=\"1\" class=\"dataframe\">\n",
       "  <thead>\n",
       "    <tr style=\"text-align: right;\">\n",
       "      <th></th>\n",
       "      <th>Biceps long head</th>\n",
       "      <th>Biceps short head</th>\n",
       "      <th>Brachialis</th>\n",
       "      <th>Error in M</th>\n",
       "    </tr>\n",
       "  </thead>\n",
       "  <tbody>\n",
       "    <tr>\n",
       "      <th>$\\text{Moment arm}\\;[cm]$</th>\n",
       "      <td>3.4</td>\n",
       "      <td>3.4</td>\n",
       "      <td>1.3</td>\n",
       "      <td>-</td>\n",
       "    </tr>\n",
       "    <tr>\n",
       "      <th>$pcsa\\;[cm^2]$</th>\n",
       "      <td>12.5</td>\n",
       "      <td>8.7</td>\n",
       "      <td>19.7</td>\n",
       "      <td>-</td>\n",
       "    </tr>\n",
       "    <tr>\n",
       "      <th>$F_{max}\\;[N]$</th>\n",
       "      <td>624.0</td>\n",
       "      <td>433.0</td>\n",
       "      <td>982.0</td>\n",
       "      <td>-</td>\n",
       "    </tr>\n",
       "    <tr>\n",
       "      <th>$M_{max}\\;[Nm]$</th>\n",
       "      <td>21.5</td>\n",
       "      <td>14.9</td>\n",
       "      <td>12.5</td>\n",
       "      <td>-</td>\n",
       "    </tr>\n",
       "    <tr>\n",
       "      <th>$\\sum F_i$</th>\n",
       "      <td>363.7</td>\n",
       "      <td>216.3</td>\n",
       "      <td>0.0</td>\n",
       "      <td>-3.552713678800501e-15</td>\n",
       "    </tr>\n",
       "    <tr>\n",
       "      <th>$\\sum F_i^2$</th>\n",
       "      <td>271.4</td>\n",
       "      <td>271.4</td>\n",
       "      <td>100.3</td>\n",
       "      <td>0.0</td>\n",
       "    </tr>\n",
       "    <tr>\n",
       "      <th>$\\sum(F_i/pcsa_i)^2$</th>\n",
       "      <td>317.2</td>\n",
       "      <td>154.4</td>\n",
       "      <td>293.1</td>\n",
       "      <td>0.0</td>\n",
       "    </tr>\n",
       "    <tr>\n",
       "      <th>$\\sum(F_i/M_{max,i})^3$</th>\n",
       "      <td>345.8</td>\n",
       "      <td>199.8</td>\n",
       "      <td>93.1</td>\n",
       "      <td>-3.552713678800501e-15</td>\n",
       "    </tr>\n",
       "  </tbody>\n",
       "</table>\n",
       "</div>"
      ],
      "text/plain": [
       "                          Biceps long head Biceps short head Brachialis  \\\n",
       "$\\text{Moment arm}\\;[cm]$              3.4               3.4        1.3   \n",
       "$pcsa\\;[cm^2]$                        12.5               8.7       19.7   \n",
       "$F_{max}\\;[N]$                       624.0             433.0      982.0   \n",
       "$M_{max}\\;[Nm]$                       21.5              14.9       12.5   \n",
       "$\\sum F_i$                           363.7             216.3        0.0   \n",
       "$\\sum F_i^2$                         271.4             271.4      100.3   \n",
       "$\\sum(F_i/pcsa_i)^2$                 317.2             154.4      293.1   \n",
       "$\\sum(F_i/M_{max,i})^3$              345.8             199.8       93.1   \n",
       "\n",
       "                                       Error in M  \n",
       "$\\text{Moment arm}\\;[cm]$                       -  \n",
       "$pcsa\\;[cm^2]$                                  -  \n",
       "$F_{max}\\;[N]$                                  -  \n",
       "$M_{max}\\;[Nm]$                                 -  \n",
       "$\\sum F_i$                 -3.552713678800501e-15  \n",
       "$\\sum F_i^2$                                  0.0  \n",
       "$\\sum(F_i/pcsa_i)^2$                          0.0  \n",
       "$\\sum(F_i/M_{max,i})^3$    -3.552713678800501e-15  "
      ]
     },
     "execution_count": 73,
     "metadata": {},
     "output_type": "execute_result"
    }
   ],
   "source": [
    "dat = np.vstack((np.around(r*100,1), np.around(a,1), np.around(f0,0), np.around(m,1)))\n",
    "opt = np.around(np.vstack((f1r.x, f2r.x, fpcsa2r.x, fmmax3r.x)), 1)\n",
    "er = ['-', '-', '-', '-',\n",
    "      np.sum(r*f1r.x)-M, np.sum(r*f2r.x)-M, np.sum(r*fpcsa2r.x)-M, np.sum(r*fmmax3r.x)-M]\n",
    "data = np.vstack((np.vstack((dat, opt)).T, er)).T\n",
    "\n",
    "rows = ['$\\text{Moment arm}\\;[cm]$', '$pcsa\\;[cm^2]$', '$F_{max}\\;[N]$', '$M_{max}\\;[Nm]$',\n",
    "        '$\\sum F_i$', '$\\sum F_i^2$', '$\\sum(F_i/pcsa_i)^2$', '$\\sum(F_i/M_{max,i})^3$']\n",
    "cols = ['Biceps long head', 'Biceps short head', 'Brachialis', 'Error in M']\n",
    "df = pd.DataFrame(data, index=rows, columns=cols)\n",
    "print('\\nComparison of different cost functions for solving the distribution problem')\n",
    "df"
   ]
  },
  {
   "cell_type": "code",
   "execution_count": null,
   "metadata": {},
   "outputs": [],
   "source": []
  },
  {
   "cell_type": "code",
   "execution_count": null,
   "metadata": {},
   "outputs": [],
   "source": []
  },
  {
   "cell_type": "code",
   "execution_count": null,
   "metadata": {},
   "outputs": [],
   "source": []
  }
 ],
 "metadata": {
  "kernelspec": {
   "display_name": "Python 3",
   "language": "python",
   "name": "python3"
  },
  "language_info": {
   "codemirror_mode": {
    "name": "ipython",
    "version": 3
   },
   "file_extension": ".py",
   "mimetype": "text/x-python",
   "name": "python",
   "nbconvert_exporter": "python",
   "pygments_lexer": "ipython3",
   "version": "3.6.5"
  }
 },
 "nbformat": 4,
 "nbformat_minor": 2
}
